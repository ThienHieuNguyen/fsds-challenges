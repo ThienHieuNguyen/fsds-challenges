{
 "cells": [
  {
   "cell_type": "markdown",
   "metadata": {},
   "source": [
    "# 07-04\n",
    "\n",
    "## Challenge 02 - Launching Spark, Dataframe discovery\n",
    "---\n",
    "![](https://images.unsplash.com/photo-1430116267665-e7f6b3dafce3?ixlib=rb-1.2.1&ixid=eyJhcHBfaWQiOjEyMDd9&auto=format&fit=crop&w=1350&q=80)\n",
    "Picture by [Wil Stewart](https://unsplash.com/photos/2aCuwSh4RRk)\n",
    "\n",
    "➡️ Content with this syntax : ```__ABCD__``` must be replaced accordingly."
   ]
  },
  {
   "cell_type": "markdown",
   "metadata": {},
   "source": [
    "**Q1 - Launch a Spark Session**\n",
    "\n",
    "- Name the session \"dataframes\" or anythin you like\n",
    "- There is one missing function at the end of the line, this function should \"get or create\" the spark session.\n",
    "\n",
    "[🎁 The documentation](https://spark.apache.org/docs/latest/api/python/pyspark.sql.html#pyspark.sql.SparkSession)"
   ]
  },
  {
   "cell_type": "code",
   "execution_count": 3,
   "metadata": {},
   "outputs": [],
   "source": [
    "import findspark\n",
    "findspark.init('/Users/maelfabien/spark-2.3.4-bin-hadoop2.7')\n",
    "from pyspark.sql import SparkSession\n",
    "\n",
    "### STRIP_START\n",
    "\n",
    "### STRIP_END"
   ]
  },
  {
   "cell_type": "markdown",
   "metadata": {},
   "source": [
    "**Q2 - Retrieve the Spark Web UI adress, open it in a new tab and keep it for later**\n",
    "\n",
    "[🎁 The documentation](http://spark.apache.org/docs/latest/api/python/pyspark.html?highlight=subtr#pyspark.SparkContext.uiWebUrl)"
   ]
  },
  {
   "cell_type": "code",
   "execution_count": 4,
   "metadata": {
    "ExecuteTime": {
     "end_time": "2019-05-23T09:26:37.154880Z",
     "start_time": "2019-05-23T09:26:32.004235Z"
    }
   },
   "outputs": [
    {
     "name": "stdout",
     "output_type": "stream",
     "text": [
      "http://mbp-6324:4040\n"
     ]
    }
   ],
   "source": [
    "# This information is situated in the SparkContext variable.\n",
    "#print(spark1.sparkContext.__SparkContextAttribute__)\n",
    "\n",
    "### STRIP_START\n",
    "\n",
    "### STRIP_END"
   ]
  },
  {
   "cell_type": "markdown",
   "metadata": {},
   "source": [
    "**Q3 - Create a Dataframe from the [Uber CSV file](https://drive.google.com/open?id=1hLjLVuryuWd7OmeJ5rXp2YJ0BEIFyLaS), you will pass 3 parameters :**\n",
    "    - The file name\n",
    "    - A boolean parameter : header\n",
    "    - A boolean parameter : inferSchema\n",
    "    \n",
    "[🎁 The documentation](http://spark.apache.org/docs/latest/api/python/pyspark.sql.html#pyspark.sql.DataFrameReader.csv)"
   ]
  },
  {
   "cell_type": "code",
   "execution_count": 8,
   "metadata": {
    "ExecuteTime": {
     "end_time": "2019-05-23T09:26:44.265497Z",
     "start_time": "2019-05-23T09:26:39.396962Z"
    }
   },
   "outputs": [],
   "source": [
    "#df = spark1.read.csv(\"__filename__\", \\\n",
    "                     #__param1__=bool, \\\n",
    "                     #__param2__=bool)\n",
    "\n",
    "### STRIP_START\n",
    "\n",
    "### STRIP_END"
   ]
  },
  {
   "cell_type": "markdown",
   "metadata": {},
   "source": [
    "**Q4 - Check the python type of your Dataframe, do you recognize the Spark library used here ?**\n",
    "\n",
    "At this point, we already have done a lot, with not so many line of codes. "
   ]
  },
  {
   "cell_type": "code",
   "execution_count": 9,
   "metadata": {},
   "outputs": [
    {
     "name": "stdout",
     "output_type": "stream",
     "text": [
      "<class 'pyspark.sql.dataframe.DataFrame'>\n"
     ]
    }
   ],
   "source": [
    "#print(__pythonTypeOfDataframe__)\n",
    "\n",
    "### STRIP_START\n",
    "\n",
    "### STRIP_END"
   ]
  },
  {
   "cell_type": "markdown",
   "metadata": {},
   "source": [
    "**Let's have a closer look at our Dataframe. Just like Pandas Dataframes, you can call simple function to gain insights.**\n",
    "\n",
    "**Q5 - Have a look at the first lines of your Dataframe. **\n",
    "\n",
    "*Hint : \"Show me the lines\"*"
   ]
  },
  {
   "cell_type": "code",
   "execution_count": 10,
   "metadata": {
    "ExecuteTime": {
     "end_time": "2019-05-23T09:26:46.019053Z",
     "start_time": "2019-05-23T09:26:45.573841Z"
    }
   },
   "outputs": [
    {
     "name": "stdout",
     "output_type": "stream",
     "text": [
      "+-------------------+-----------+----------------+--------------------+-----+-----------+-----------------+---------------+----------------------+-------------------------+\n",
      "|Base License Number|Wave Number|       Base Name|                 DBA|Years|Week Number|Pickup Start Date|Pickup End Date|Total Dispatched Trips|Unique Dispatched Vehicle|\n",
      "+-------------------+-----------+----------------+--------------------+-----+-----------+-----------------+---------------+----------------------+-------------------------+\n",
      "|             B02865|          4|     VIER-NY,LLC|    UBER-VIER-NY LLC| 2016|         40|        9/25/2016|      10/1/2016|                  4585|                      101|\n",
      "|             B02883|          4|SECHZEHN-NY, LLC|UBER-SECHZEHN-NY,...| 2016|         39|        9/18/2016|      9/24/2016|                 21336|                      515|\n",
      "|             B02765|          1|        GRUN LLC|       UBER-GRUN LLC| 2016|          5|        1/24/2016|      1/30/2016|                 60767|                     1455|\n",
      "|             B02875|          4|   SECHS-NY, LLC|  UBER-SECHS-NY, LLC| 2016|         23|        5/29/2016|       6/4/2016|                 12094|                      279|\n",
      "|             B02865|          4|     VIER-NY,LLC|    UBER-VIER-NY LLC| 2016|         24|         6/5/2016|      6/11/2016|                  1141|                       26|\n",
      "+-------------------+-----------+----------------+--------------------+-----+-----------+-----------------+---------------+----------------------+-------------------------+\n",
      "only showing top 5 rows\n",
      "\n"
     ]
    }
   ],
   "source": [
    "#df.__showFunction__\n",
    "\n",
    "### STRIP_START\n",
    "\n",
    "### STRIP_END"
   ]
  },
  {
   "cell_type": "markdown",
   "metadata": {},
   "source": [
    "**Q6 - Find the function for retrieving the **Schema** of your Dataframe.**\n",
    "\n",
    "*Hint : \"Print the Schema\"*"
   ]
  },
  {
   "cell_type": "code",
   "execution_count": 11,
   "metadata": {
    "ExecuteTime": {
     "end_time": "2019-05-23T09:26:48.876398Z",
     "start_time": "2019-05-23T09:26:48.860402Z"
    }
   },
   "outputs": [
    {
     "name": "stdout",
     "output_type": "stream",
     "text": [
      "root\n",
      " |-- Base License Number: string (nullable = true)\n",
      " |-- Wave Number: integer (nullable = true)\n",
      " |-- Base Name: string (nullable = true)\n",
      " |-- DBA: string (nullable = true)\n",
      " |-- Years: integer (nullable = true)\n",
      " |-- Week Number: integer (nullable = true)\n",
      " |-- Pickup Start Date: string (nullable = true)\n",
      " |-- Pickup End Date: string (nullable = true)\n",
      " |-- Total Dispatched Trips: integer (nullable = true)\n",
      " |-- Unique Dispatched Vehicle: integer (nullable = true)\n",
      "\n"
     ]
    }
   ],
   "source": [
    "#df.__schemaFunction__\n",
    "\n",
    "### STRIP_START\n",
    "\n",
    "### STRIP_END"
   ]
  },
  {
   "cell_type": "markdown",
   "metadata": {},
   "source": [
    "**Q7 - Display the line count of your Dataframe. You should have 1474 lines.**"
   ]
  },
  {
   "cell_type": "code",
   "execution_count": 12,
   "metadata": {
    "ExecuteTime": {
     "end_time": "2019-05-23T09:26:52.204894Z",
     "start_time": "2019-05-23T09:26:51.812562Z"
    },
    "scrolled": true
   },
   "outputs": [
    {
     "data": {
      "text/plain": [
       "1474"
      ]
     },
     "execution_count": 12,
     "metadata": {},
     "output_type": "execute_result"
    }
   ],
   "source": [
    "#df.__dfCount__\n",
    "\n",
    "### STRIP_START\n",
    "\n",
    "### STRIP_END"
   ]
  },
  {
   "cell_type": "markdown",
   "metadata": {},
   "source": [
    "**Q8. Apply a function to describe your Dataframe.**\n",
    "\n",
    "*Hint : Very similar to Pandas describe, just add show at the end.*"
   ]
  },
  {
   "cell_type": "code",
   "execution_count": 13,
   "metadata": {},
   "outputs": [
    {
     "name": "stdout",
     "output_type": "stream",
     "text": [
      "+-------+-------------------+------------------+-------------+------------------+------+------------------+-----------------+---------------+----------------------+-------------------------+\n",
      "|summary|Base License Number|       Wave Number|    Base Name|               DBA| Years|       Week Number|Pickup Start Date|Pickup End Date|Total Dispatched Trips|Unique Dispatched Vehicle|\n",
      "+-------+-------------------+------------------+-------------+------------------+------+------------------+-----------------+---------------+----------------------+-------------------------+\n",
      "|  count|               1474|              1474|         1474|              1474|  1474|              1474|             1474|           1474|                  1474|                     1474|\n",
      "|   mean|               null|3.4294436906377204|         null|              null|2016.0| 27.09226594301221|             null|           null|     47535.91926729986|        1141.793080054274|\n",
      "| stddev|               null|1.1526886848698439|         null|              null|   0.0|15.305875497109861|             null|           null|      73047.8164003302|        1777.300796366993|\n",
      "|    min|             B02395|                 1|   ABATAR INC|   UBER-ABATAR LLC|  2016|                 1|         1/1/2016|      1/16/2016|                     1|                        1|\n",
      "|    max|             B02889|                 4|ZWOLF-NY, LLC|UBER-ZWOLF-NY, LLC|  2016|                53|         9/4/2016|       9/3/2016|                375202|                     8967|\n",
      "+-------+-------------------+------------------+-------------+------------------+------+------------------+-----------------+---------------+----------------------+-------------------------+\n",
      "\n"
     ]
    }
   ],
   "source": [
    "#df.__describeAndShow__\n",
    "\n",
    "### STRIP_START\n",
    "\n",
    "### STRIP_END"
   ]
  },
  {
   "cell_type": "markdown",
   "metadata": {},
   "source": [
    "**Q9. Apply the describe function on two integer columns.**\n",
    "\n",
    "*Hint : Use a .select()*"
   ]
  },
  {
   "cell_type": "code",
   "execution_count": 14,
   "metadata": {
    "ExecuteTime": {
     "end_time": "2019-05-23T09:29:48.977444Z",
     "start_time": "2019-05-23T09:29:48.682820Z"
    }
   },
   "outputs": [
    {
     "name": "stdout",
     "output_type": "stream",
     "text": [
      "+-------+----------------------+-------------------------+\n",
      "|summary|Total Dispatched Trips|Unique Dispatched Vehicle|\n",
      "+-------+----------------------+-------------------------+\n",
      "|  count|                  1474|                     1474|\n",
      "|   mean|     47535.91926729986|        1141.793080054274|\n",
      "| stddev|      73047.8164003302|        1777.300796366993|\n",
      "|    min|                     1|                        1|\n",
      "|    max|                375202|                     8967|\n",
      "+-------+----------------------+-------------------------+\n",
      "\n"
     ]
    }
   ],
   "source": [
    "#df.__chainedMethods__\n",
    "\n",
    "### STRIP_START\n",
    "\n",
    "### STRIP_END"
   ]
  },
  {
   "cell_type": "markdown",
   "metadata": {},
   "source": [
    "**Now that you have played around with your dataframe, you can go back to your WebUI.**\n",
    "\n",
    "**Q10. Navigate the jobs, and find the DAG of a job** \n",
    "\n",
    "*Hint : it's 2 clics*"
   ]
  },
  {
   "cell_type": "code",
   "execution_count": null,
   "metadata": {
    "collapsed": true
   },
   "outputs": [],
   "source": [
    "# Check the URL at Question 2 and navigate to find an example of a DAG."
   ]
  }
 ],
 "metadata": {
  "kernelspec": {
   "display_name": "Python 3",
   "language": "python",
   "name": "python3"
  },
  "language_info": {
   "codemirror_mode": {
    "name": "ipython",
    "version": 3
   },
   "file_extension": ".py",
   "mimetype": "text/x-python",
   "name": "python",
   "nbconvert_exporter": "python",
   "pygments_lexer": "ipython3",
   "version": "3.7.1"
  },
  "toc": {
   "base_numbering": 1,
   "nav_menu": {},
   "number_sections": false,
   "sideBar": true,
   "skip_h1_title": false,
   "title_cell": "Table of Contents",
   "title_sidebar": "Contents",
   "toc_cell": false,
   "toc_position": {},
   "toc_section_display": true,
   "toc_window_display": false
  },
  "varInspector": {
   "cols": {
    "lenName": 16,
    "lenType": 16,
    "lenVar": 40
   },
   "kernels_config": {
    "python": {
     "delete_cmd_postfix": "",
     "delete_cmd_prefix": "del ",
     "library": "var_list.py",
     "varRefreshCmd": "print(var_dic_list())"
    },
    "r": {
     "delete_cmd_postfix": ") ",
     "delete_cmd_prefix": "rm(",
     "library": "var_list.r",
     "varRefreshCmd": "cat(var_dic_list()) "
    }
   },
   "types_to_exclude": [
    "module",
    "function",
    "builtin_function_or_method",
    "instance",
    "_Feature"
   ],
   "window_display": false
  }
 },
 "nbformat": 4,
 "nbformat_minor": 2
}
