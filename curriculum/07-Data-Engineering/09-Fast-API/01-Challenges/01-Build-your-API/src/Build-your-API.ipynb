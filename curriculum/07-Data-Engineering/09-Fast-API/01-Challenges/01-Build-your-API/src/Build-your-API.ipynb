{
 "cells": [
  {
   "cell_type": "markdown",
   "metadata": {},
   "source": [
    "# Challenge - Create an  API with FastAPI\n",
    "\n",
    "![](https://camo.githubusercontent.com/86dafd728b94c0e3c8f19a7295e87df678ed6751/68747470733a2f2f666173746170692e7469616e676f6c6f2e636f6d2f696d672f6c6f676f2d6d617267696e2f6c6f676f2d7465616c2e706e67)"
   ]
  },
  {
   "cell_type": "markdown",
   "metadata": {},
   "source": [
    "The goal of this challenge is to create an API that will give you the predictions of your machine learning model. Here are specs for the API you're asked to create :\n",
    "\n",
    "- You'll be using the California Housing Dataset (https://scikit-learn.org/stable/modules/generated/sklearn.datasets.fetch_california_housing.html)\n",
    "- We can create different trained Ridge regression models.\n",
    "- For each created model we have to give it a `name` and a distinctive `ID`, `time of creation` and the `Relative Squared Error`.\n",
    "- We can do prediction for a new \"California House\"\n",
    "\n",
    "When needed, remember to create the related data model structure using `BaseModel`. Even if this challenge is like what we've seen in the course today, do your best to do all the questions by yourself and understand everything you're doing. For this, don't hesitate to read the official documentation for a deep dive https://fastapi.tiangolo.com/.\n",
    "\n",
    "Answering the questions means to write your code inside a `main.py` file. Use your text editor for this (Atom or VSCode)."
   ]
  },
  {
   "cell_type": "markdown",
   "metadata": {},
   "source": [
    "**Q0.** For each method and data structure created check them on http://127.0.0.1:8000/docs."
   ]
  },
  {
   "cell_type": "markdown",
   "metadata": {},
   "source": [
    "**Q1.** Install FastAPI."
   ]
  },
  {
   "cell_type": "markdown",
   "metadata": {},
   "source": [
    "**Q2.** Create a project folder (as a module containing an empty file called `__init__.py`) named `california_housing_api`, your api code will be contained inside `main.py`."
   ]
  },
  {
   "cell_type": "markdown",
   "metadata": {},
   "source": [
    "**Q3.** Create a `post` method for the URL `newcaliforniareg` for creating a new trained regression model. On the parameters sent, indicate the proportion of data to be used for the training and the alpha for Ridge to be used. Remember you have to save this model using pickle."
   ]
  },
  {
   "cell_type": "markdown",
   "metadata": {},
   "source": [
    "**Q4.** Create a `post` method to predict a data entry for a \"California Housing\" by specifying which trained model to use."
   ]
  },
  {
   "cell_type": "markdown",
   "metadata": {},
   "source": [
    "#### \\[Optional\\] - Going further\n",
    "\n",
    "You can refer to the last, optional part of today's lesson in order to complete the following questions.\n",
    "\n",
    "Let's add some functionnalities to our API :\n",
    "- We can update the name of a trained model.\n",
    "- We can delete a trained model.\n",
    "- We'll be using Pymongo to store our data.\n"
   ]
  },
  {
   "cell_type": "markdown",
   "metadata": {},
   "source": [
    "**Q5.** Create a `get` method to list all trained models created."
   ]
  },
  {
   "cell_type": "markdown",
   "metadata": {},
   "source": [
    "**Q6.** Create a `get` method to have information of one trained model using its ID."
   ]
  },
  {
   "cell_type": "markdown",
   "metadata": {},
   "source": [
    "**Q7.** Create a `patch` method to update the name of an existing trained model. This means we will update the MongoDB collection using our interface."
   ]
  },
  {
   "cell_type": "markdown",
   "metadata": {},
   "source": [
    "**Q8.** Create a `post` method to predict a data entry for a \"California Housing\" by specifying which trained model to use."
   ]
  }
 ],
 "metadata": {
  "kernelspec": {
   "display_name": "Python 3",
   "language": "python",
   "name": "python3"
  },
  "language_info": {
   "codemirror_mode": {
    "name": "ipython",
    "version": 3
   },
   "file_extension": ".py",
   "mimetype": "text/x-python",
   "name": "python",
   "nbconvert_exporter": "python",
   "pygments_lexer": "ipython3",
   "version": "3.7.6"
  },
  "toc": {
   "base_numbering": 1,
   "nav_menu": {},
   "number_sections": false,
   "sideBar": true,
   "skip_h1_title": false,
   "title_cell": "Table of Contents",
   "title_sidebar": "Contents",
   "toc_cell": false,
   "toc_position": {},
   "toc_section_display": true,
   "toc_window_display": false
  },
  "varInspector": {
   "cols": {
    "lenName": 16,
    "lenType": 16,
    "lenVar": 40
   },
   "kernels_config": {
    "python": {
     "delete_cmd_postfix": "",
     "delete_cmd_prefix": "del ",
     "library": "var_list.py",
     "varRefreshCmd": "print(var_dic_list())"
    },
    "r": {
     "delete_cmd_postfix": ") ",
     "delete_cmd_prefix": "rm(",
     "library": "var_list.r",
     "varRefreshCmd": "cat(var_dic_list()) "
    }
   },
   "types_to_exclude": [
    "module",
    "function",
    "builtin_function_or_method",
    "instance",
    "_Feature"
   ],
   "window_display": false
  }
 },
 "nbformat": 4,
 "nbformat_minor": 4
}
