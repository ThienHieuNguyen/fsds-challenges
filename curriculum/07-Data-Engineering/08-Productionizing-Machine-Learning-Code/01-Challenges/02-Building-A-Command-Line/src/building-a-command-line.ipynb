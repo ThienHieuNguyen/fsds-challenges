{
 "cells": [
  {
   "cell_type": "markdown",
   "metadata": {
    "collapsed": true
   },
   "source": [
    "# Challenge - Building a command line tool"
   ]
  },
  {
   "cell_type": "markdown",
   "metadata": {},
   "source": [
    "We already have a python package to train our model, that we can install via pip from GitHub.\n",
    "While this isn't mandatory, it's a very nice thing to have custom command line tool to interact with our code.\n",
    "What if we could just run a command like this to launch our training?\n",
    "\n",
    "```bash\n",
    "wqp jobs train --data-path http://archive.ics.uci.edu/ml/machine-learning-databases/wine-quality/winequality-red.csv\n",
    "```\n",
    "\n",
    "Let's build this! To help us in this task, we're going to use a really nice framework: [click](https://click.palletsprojects.com/en/7.x/).\n",
    "\n",
    "As we've started to work by teams since the beginning, I suggest we will continue this way, and do pair programming."
   ]
  },
  {
   "cell_type": "markdown",
   "metadata": {},
   "source": [
    "#### Q1. Discover the framework"
   ]
  },
  {
   "cell_type": "markdown",
   "metadata": {},
   "source": [
    "The only thing to do here is to take some time to read the documentation : https://click.palletsprojects.com/en/7.x/#documentation"
   ]
  },
  {
   "cell_type": "markdown",
   "metadata": {},
   "source": [
    "#### Q2. Create a new branch from master, named feature/command_line_tool\n",
    "(only one member of your team need to do that)"
   ]
  },
  {
   "cell_type": "markdown",
   "metadata": {},
   "source": [
    "#### Q3. Setup the command"
   ]
  },
  {
   "cell_type": "markdown",
   "metadata": {},
   "source": [
    "Follow the instructions in the [doc](https://click.palletsprojects.com/en/7.x/setuptools/#setuptools-integration) to setup your command line via setuptools. You will have to modify the setup.py file of our project.\n",
    "\n",
    "We want our command line to be named 'wqp'.\n",
    "\n",
    "We have provided the new contents of the `setup.py` file below. Using the click documentation, you can try to read and understand the code before copy-pasting it.\n",
    "\n",
    "```python\n",
    "import setuptools\n",
    "from distutils.util import convert_path\n",
    "\n",
    "main_ns = {}\n",
    "ver_path = convert_path('wqp/__init__.py')\n",
    "with open(ver_path) as ver_file:\n",
    "    exec(ver_file.read(), main_ns)\n",
    "\n",
    "\n",
    "setuptools.setup(\n",
    "    name='wqp',\n",
    "    version=main_ns['__version__'],\n",
    "    author='yourname@email.com',\n",
    "    description='Wine quality predictor - a packaged machine learning algorithm to predict wine quality',\n",
    "    packages=setuptools.find_packages(),\n",
    "    install_requires=[\n",
    "        \"scikit-learn==0.22.1\",\n",
    "        \"pandas==1.0.1\",\n",
    "        \"click==7.0\"\n",
    "    ],\n",
    "    entry_points='''\n",
    "    [console_scripts]\n",
    "    wqp=wqp.cli:wqp\n",
    "    '''\n",
    ")\n",
    "```"
   ]
  },
  {
   "cell_type": "markdown",
   "metadata": {},
   "source": [
    "#### Q4 - Implement a version check\n",
    "Any serious command line tool will implement a version check, callable via --version.\n",
    "We want to implement this in our command line tool, by invoking the command: \n",
    "\n",
    "```bash\n",
    "wqp --version\n",
    "```\n",
    "\n",
    "To do that:\n",
    "- modify the contents of your \\_\\_init_\\_\\.py file to include the version in it\n",
    "\n",
    "Here is how to do this: add the following line in the `__init__.py` file:\n",
    "\n",
    "```python\n",
    "__version__='1.0.0'\n",
    "```\n",
    "\n",
    "- create a file cli.py, that will host our command line code.\n",
    "\n",
    "\n",
    "- do some googling to check how to implement --version with the click framework."
   ]
  },
  {
   "cell_type": "markdown",
   "metadata": {},
   "source": [
    "#### Q5 - Test your command line"
   ]
  },
  {
   "cell_type": "markdown",
   "metadata": {},
   "source": [
    "You now have everything you need to test your command line.\n",
    "In a terminal, at the root of your project, and in your virtual env, execute the command: \n",
    "```\n",
    "wqp --version\n",
    "```\n",
    "\n",
    "If you get an error message, you might have to run the following command beforehand :\n",
    "\n",
    "```\n",
    "pip install -r requirements.txt\n",
    "```\n",
    "Your terminal should tell you\n",
    "```\n",
    "wqp, version 1.0.0\n",
    "```"
   ]
  },
  {
   "cell_type": "markdown",
   "metadata": {},
   "source": [
    "#### Q6. Implement the command"
   ]
  },
  {
   "cell_type": "markdown",
   "metadata": {},
   "source": [
    "We are trying to implement the below command:\n",
    "\n",
    "```bash\n",
    "wqp jobs train --data-path xxx\n",
    "```\n",
    "\n",
    "What does each word mean?\n",
    "- wqp: The base name of our command line. Like aws, gcloud, grep, etc... basically like any serious command line.\n",
    "- jobs: the subcommand. This just means that we could have several subcommands. For example, if we wanted to do some change in the configuration, we could have a \"config\" command, used like this:\n",
    "\n",
    "```bash\n",
    "wqp config --update\n",
    "```\n",
    "- train: the type of job we want to execute. By adding more commands, maybe we could add a job type \"evaluate\", to be used once our model has been trained and deployed to production, on new data.\n",
    "- --data-path: this is an argument of our command, specifying the location of the training data.\n",
    "\n",
    "By using the concept of nesting commands from the [doc](https://click.palletsprojects.com/en/7.x/quickstart/) (search for \"Nesting Commands\"), try to implement the specified command, which will just print the value of the provided --data-path. Update the cli.py file to implement the command."
   ]
  },
  {
   "cell_type": "markdown",
   "metadata": {},
   "source": [
    "#### Q7 - Implement the real command"
   ]
  },
  {
   "cell_type": "markdown",
   "metadata": {},
   "source": [
    "We've implemented a dummy command, outputing the data path. Now it's time to ask our command to do what we want: executing the training job!<br>\n",
    "Implement the real command by using the code we've done in our package."
   ]
  },
  {
   "cell_type": "markdown",
   "metadata": {},
   "source": [
    "And that's it! You now have a command line to run your ml model training code.\n",
    "\n",
    "```bash\n",
    "wqp jobs train --data-path http://archive.ics.uci.edu/ml/machine-learning-databases/wine-quality/winequality-red.csv\n",
    "```\n",
    "\n",
    "Output:\n",
    "\n",
    "``` bash\n",
    "INFO:wqp.main:Starting wine quality predictor training...\n",
    "INFO:wqp.main:Fetching data...\n",
    "INFO:wqp.main:Building train and test datasets...\n",
    "INFO:wqp.main:Fitting model...\n",
    "INFO:wqp.main:Evaluating model...\n",
    "INFO:wqp.main:Finished model evaluation. Metrics: {'rmse': 0.7705587344856909, 'mae': 0.6398897860126243, 'r2': 0.03250744444783604}\n",
    "\n",
    "```"
   ]
  }
 ],
 "metadata": {
  "kernelspec": {
   "display_name": "Python 3",
   "language": "python",
   "name": "python3"
  },
  "language_info": {
   "codemirror_mode": {
    "name": "ipython",
    "version": 3
   },
   "file_extension": ".py",
   "mimetype": "text/x-python",
   "name": "python",
   "nbconvert_exporter": "python",
   "pygments_lexer": "ipython3",
   "version": "3.7.6"
  },
  "pycharm": {
   "stem_cell": {
    "cell_type": "raw",
    "metadata": {
     "collapsed": false
    },
    "source": []
   }
  },
  "toc": {
   "base_numbering": 1,
   "nav_menu": {},
   "number_sections": false,
   "sideBar": true,
   "skip_h1_title": false,
   "title_cell": "Table of Contents",
   "title_sidebar": "Contents",
   "toc_cell": false,
   "toc_position": {},
   "toc_section_display": true,
   "toc_window_display": false
  },
  "varInspector": {
   "cols": {
    "lenName": 16,
    "lenType": 16,
    "lenVar": 40
   },
   "kernels_config": {
    "python": {
     "delete_cmd_postfix": "",
     "delete_cmd_prefix": "del ",
     "library": "var_list.py",
     "varRefreshCmd": "print(var_dic_list())"
    },
    "r": {
     "delete_cmd_postfix": ") ",
     "delete_cmd_prefix": "rm(",
     "library": "var_list.r",
     "varRefreshCmd": "cat(var_dic_list()) "
    }
   },
   "types_to_exclude": [
    "module",
    "function",
    "builtin_function_or_method",
    "instance",
    "_Feature"
   ],
   "window_display": false
  }
 },
 "nbformat": 4,
 "nbformat_minor": 1
}
