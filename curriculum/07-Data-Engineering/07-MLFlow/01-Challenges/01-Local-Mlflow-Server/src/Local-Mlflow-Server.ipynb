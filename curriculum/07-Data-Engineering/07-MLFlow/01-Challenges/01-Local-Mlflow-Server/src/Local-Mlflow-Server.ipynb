{
 "cells": [
  {
   "cell_type": "markdown",
   "metadata": {},
   "source": [
    "# <center> Import libraries </center>"
   ]
  },
  {
   "cell_type": "markdown",
   "metadata": {},
   "source": [
    "### Pre-requisites\n",
    "\n",
    "Before starting this challenge, please:\n",
    "- create a new directory on your computer (or if you want to commit your work on GitHub, create a new repo and clone it locally)\n",
    "- Go into your directory (cd my-directory-xx)\n",
    "\n",
    "- create a file requirements.txt\n",
    "- add the below dependencies in the requirements.txt:"
   ]
  },
  {
   "cell_type": "markdown",
   "metadata": {},
   "source": [
    "```bash\n",
    "scikit-learn==0.22.2\n",
    "mlflow==1.6.0\n",
    "jupyter==1.0.0\n",
    "```"
   ]
  },
  {
   "cell_type": "markdown",
   "metadata": {},
   "source": [
    "- create, activate and install the dependencies in the virtual environment:"
   ]
  },
  {
   "cell_type": "markdown",
   "metadata": {},
   "source": [
    "```bash\n",
    "virtualenv venv\n",
    "```\n",
    "\n",
    "Pour les Mac & Linux :\n",
    "```bash\n",
    "source venv/bin/activate\n",
    "```\n",
    "\n",
    "Pour les Windows :\n",
    "```bash\n",
    "venv/Scripts/activate\n",
    "```"
   ]
  },
  {
   "cell_type": "markdown",
   "metadata": {},
   "source": [
    "```bash\n",
    "pip install -r requirements.txt\n",
    "```"
   ]
  },
  {
   "cell_type": "markdown",
   "metadata": {},
   "source": [
    "Now you can start coding in a new notebook, by executing the command: "
   ]
  },
  {
   "cell_type": "markdown",
   "metadata": {},
   "source": [
    "```bash\n",
    "jupyter notebook\n",
    "```"
   ]
  },
  {
   "cell_type": "markdown",
   "metadata": {},
   "source": [
    "### Import statements"
   ]
  },
  {
   "cell_type": "code",
   "execution_count": 1,
   "metadata": {},
   "outputs": [],
   "source": [
    "import sys\n",
    "sys.path.append('../venv/lib/python3.7/site-packages')\n",
    "import warnings\n",
    "import logging\n",
    "import pandas as pd\n",
    "import numpy as np\n",
    "\n",
    "from sklearn.metrics import mean_squared_error, mean_absolute_error, r2_score\n",
    "from sklearn.model_selection import train_test_split\n",
    "from sklearn.linear_model import ElasticNet\n",
    "\n",
    "import mlflow.sklearn\n",
    "from mlflow import log_param\n",
    "from mlflow.tracking import MlflowClient"
   ]
  },
  {
   "cell_type": "markdown",
   "metadata": {},
   "source": [
    "# <center> Training and logging your model on a local mlflow server </center>"
   ]
  },
  {
   "cell_type": "markdown",
   "metadata": {},
   "source": [
    "The goal of this challenge is to train a ml model and log it on your local mlflow tracking server. Then, you will be able to see your model in the tracking ui. "
   ]
  },
  {
   "cell_type": "markdown",
   "metadata": {},
   "source": [
    "**Q1.** Launch your local server mlflow "
   ]
  },
  {
   "cell_type": "code",
   "execution_count": null,
   "metadata": {},
   "outputs": [],
   "source": [
    "#Run this command from a terminal or you will not be able to continue in this notebook\n",
    "!mlflow ui"
   ]
  },
  {
   "cell_type": "markdown",
   "metadata": {},
   "source": [
    "**Q2.** Read the wine-quality dataset and take a look at the data"
   ]
  },
  {
   "cell_type": "code",
   "execution_count": null,
   "metadata": {},
   "outputs": [],
   "source": [
    "logging.basicConfig(level=logging.WARN)\n",
    "logger = logging.getLogger(__name__)\n",
    "warnings.filterwarnings(\"ignore\")\n",
    "np.random.seed(40)\n",
    "\n",
    "# Read the wine-quality csv file from the URL\n",
    "csv_url = \\\n",
    "    'http://archive.ics.uci.edu/ml/machine-learning-databases/wine-quality/winequality-red.csv'\n",
    "try:\n",
    "    data = pd.read_csv(csv_url, sep=';')\n",
    "except Exception as e:\n",
    "    logger.exception(\n",
    "        \"Unable to download training & test CSV, check your internet connection. Error: %s\", e)\n",
    "\n",
    "# Split the data into training and test sets. (0.75, 0.25) split.\n",
    "train, test = train_test_split(data)\n",
    "\n",
    "# The predicted column is \"quality\" which is a scalar from [3, 9]\n",
    "train_x = train.drop([\"quality\"], axis=1)\n",
    "test_x = test.drop([\"quality\"], axis=1)\n",
    "train_y = train[[\"quality\"]]\n",
    "test_y = test[[\"quality\"]]\n",
    "\n",
    "alpha = 0.5\n",
    "l1_ratio = 0.6"
   ]
  },
  {
   "cell_type": "markdown",
   "metadata": {},
   "source": [
    "**Q3.** Initialize and fit a machine learning model of your choice with scikit-learn and log it to your mlflow server"
   ]
  },
  {
   "cell_type": "code",
   "execution_count": null,
   "metadata": {},
   "outputs": [],
   "source": [
    "def create_experiment(experiment_name) -> int:\n",
    "    \"\"\"\n",
    "    Creates an mlflow experiment\n",
    "    :param experiment_name: str. The name of the experiment to be set in MLFlow\n",
    "    :return: the id of the experiment created if it doesn't exist, or the id of the existing experiment if it is already\n",
    "    :return: the id of the experiment created if it doesn't exist, or the id of the existing experiment if it is already\n",
    "    created\n",
    "    \"\"\"\n",
    "    client = MlflowClient()\n",
    "    experiments = client.list_experiments()\n",
    "    experiment_names = set(map(lambda e: e.name, experiments))\n",
    "    if experiment_name in experiment_names:\n",
    "        print(f'Experiment {experiment_name} already created.')\n",
    "        return list(filter(lambda e: e.name == experiment_name, experiments))[0].experiment_id\n",
    "    else:\n",
    "        return mlflow.create_experiment(name=experiment_name)\n",
    "\n",
    "def eval_metrics(actual, pred):\n",
    "    rmse = np.sqrt(mean_squared_error(actual, pred))\n",
    "    mae = mean_absolute_error(actual, pred)\n",
    "    r2 = r2_score(actual, pred)\n",
    "    return rmse, mae, r2"
   ]
  },
  {
   "cell_type": "code",
   "execution_count": null,
   "metadata": {},
   "outputs": [],
   "source": [
    "experiment_id = create_experiment(experiment_name='vivadata')\n",
    "with mlflow.start_run(experiment_id=, nested= #complete):\n",
    "    mlflow.set_tracking_uri(\"#replace by your mlflow server adress\")\n",
    "    \n",
    "    #Train a machine learning model of your choice with scikit learn\n",
    "    your_model = \n",
    "    your_model.fit()\n",
    "    \n",
    "    #Make prediction\n",
    "    predicted_qualities = \"your_model\".predict()\n",
    "    \n",
    "    #Look at some metrics like the rmse\n",
    "    \n",
    "    #Now your can log the params and metrics of your model\n",
    "    mlflow.log_param()\n",
    "    mlflow.log_metric()\n",
    "    \n",
    "    #Log your scikit learn model\n",
    "    mlflow.sklearn.log_model()"
   ]
  },
  {
   "cell_type": "markdown",
   "metadata": {},
   "source": [
    "You can now go the your tracking UI to see your experiment."
   ]
  },
  {
   "cell_type": "markdown",
   "metadata": {},
   "source": [
    "# <center> Serving the model in local and request your model for a prediction </center>"
   ]
  },
  {
   "cell_type": "markdown",
   "metadata": {},
   "source": [
    "**Q4.** Serve your model"
   ]
  },
  {
   "cell_type": "code",
   "execution_count": null,
   "metadata": {},
   "outputs": [],
   "source": [
    "!mlflow models serve # Look in the mlflow documentation"
   ]
  },
  {
   "cell_type": "markdown",
   "metadata": {},
   "source": [
    "**Q5.** Make a prediction with your model "
   ]
  },
  {
   "cell_type": "code",
   "execution_count": null,
   "metadata": {},
   "outputs": [],
   "source": [
    "!curl http://127.0.0.1:5000/invocations -H 'Content-Type: application/json' -d '{\"columns\": , \"data\": }'"
   ]
  }
 ],
 "metadata": {
  "kernelspec": {
   "display_name": "Python 3",
   "language": "python",
   "name": "python3"
  },
  "language_info": {
   "codemirror_mode": {
    "name": "ipython",
    "version": 3
   },
   "file_extension": ".py",
   "mimetype": "text/x-python",
   "name": "python",
   "nbconvert_exporter": "python",
   "pygments_lexer": "ipython3",
   "version": "3.7.6"
  },
  "toc": {
   "base_numbering": 1,
   "nav_menu": {},
   "number_sections": true,
   "sideBar": true,
   "skip_h1_title": false,
   "title_cell": "Table of Contents",
   "title_sidebar": "Contents",
   "toc_cell": false,
   "toc_position": {},
   "toc_section_display": true,
   "toc_window_display": false
  },
  "varInspector": {
   "cols": {
    "lenName": 16,
    "lenType": 16,
    "lenVar": 40
   },
   "kernels_config": {
    "python": {
     "delete_cmd_postfix": "",
     "delete_cmd_prefix": "del ",
     "library": "var_list.py",
     "varRefreshCmd": "print(var_dic_list())"
    },
    "r": {
     "delete_cmd_postfix": ") ",
     "delete_cmd_prefix": "rm(",
     "library": "var_list.r",
     "varRefreshCmd": "cat(var_dic_list()) "
    }
   },
   "types_to_exclude": [
    "module",
    "function",
    "builtin_function_or_method",
    "instance",
    "_Feature"
   ],
   "window_display": false
  }
 },
 "nbformat": 4,
 "nbformat_minor": 2
}
