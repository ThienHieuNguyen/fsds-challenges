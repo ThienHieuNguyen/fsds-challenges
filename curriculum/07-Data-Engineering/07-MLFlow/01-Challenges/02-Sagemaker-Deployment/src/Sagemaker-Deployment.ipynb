{
 "cells": [
  {
   "cell_type": "markdown",
   "metadata": {},
   "source": [
    "# <center> Serve the model using AWS Sagemaker </center>"
   ]
  },
  {
   "cell_type": "code",
   "execution_count": null,
   "metadata": {},
   "outputs": [],
   "source": [
    "import sys\n",
    "sys.path.append('../venv/lib/python3.7/site-packages')\n",
    "import pandas as pd\n",
    "import boto3\n",
    "import json\n",
    "import mlflow.sagemaker as mfs"
   ]
  },
  {
   "cell_type": "markdown",
   "metadata": {},
   "source": [
    "Previously, we trained and log a machine learning model on our local tracking server. </br>\n",
    "The goal in this part is to take your model and deploy it on AWS Sagemaker. Sagemaker will provides you an endpoint that you will call to get a prediction."
   ]
  },
  {
   "cell_type": "markdown",
   "metadata": {},
   "source": [
    "## <center> AWS Configuration </center>"
   ]
  },
  {
   "cell_type": "markdown",
   "metadata": {},
   "source": [
    "You need to configure the aws command line. For this, connect to the aws console. Then go to My Security Credentials -> Access keys -> Create new Access Key -> Download keys file. It will download a csv with your access key id and secret access key."
   ]
  },
  {
   "cell_type": "markdown",
   "metadata": {},
   "source": [
    "![](Image/aws-configure.png)"
   ]
  },
  {
   "cell_type": "markdown",
   "metadata": {},
   "source": [
    "Now that you have your keys, you can configure your aws command line. Open a terminal and launch the command aws configure. It will ask you to fill information like the keys you donwloaded, the region (paris is eu-west-3) and the output format (json)"
   ]
  },
  {
   "cell_type": "markdown",
   "metadata": {},
   "source": [
    "![](Image/terminal.png)"
   ]
  },
  {
   "cell_type": "markdown",
   "metadata": {},
   "source": [
    "Now let's create a role for deploy your model on sagemaker:\n",
    "\n",
    "My Security Credentials -> Roles -> Create Role -> Select Sagemaker and click Next -> Click Next: Tags -> Next: Review -> Give a name to your role and click create role.\n",
    "\n",
    "You will see that your role has been created."
   ]
  },
  {
   "cell_type": "markdown",
   "metadata": {},
   "source": [
    "![](Image/aws-configure2.png)"
   ]
  },
  {
   "cell_type": "markdown",
   "metadata": {},
   "source": [
    "**Q1.** Deploy your model as an endpoint in AWS Sagemaker."
   ]
  },
  {
   "cell_type": "code",
   "execution_count": null,
   "metadata": {},
   "outputs": [],
   "source": [
    "run_id = \"your_run_id\" # the model you want to deploy - this run_id is available in the mlflow UI\n",
    "region = \"eu-west-3\" # region of your account\n",
    "aws_id = \"your_id\" # from the aws-cli output\n",
    "arn = \"arn:aws:iam::your_id:role/sagemaker\" #arn of the role you created\n",
    "app_name = \"red-wine\"\n",
    "model_uri = \"your_model_uri\" % (run_id) # edit this path based on your working directory\n",
    "image_url = aws_id + \".dkr.ecr.\" + region + \".amazonaws.com/mlflow-pyfunc:1.6.0\" # change to your mlflow version\n",
    "\n",
    "# Push an image to ecr with mlflow. Look at mlflow documentation and find which functions you need.\n",
    "mfs.()\n",
    "\n",
    "#Deploy your model. Same here\n",
    "mfs.()"
   ]
  },
  {
   "cell_type": "markdown",
   "metadata": {},
   "source": [
    "Your model should be deploy by now so you can now make an API call to get predictions."
   ]
  },
  {
   "cell_type": "markdown",
   "metadata": {},
   "source": [
    "**Q2.** Call your model for a prediction"
   ]
  },
  {
   "cell_type": "code",
   "execution_count": null,
   "metadata": {},
   "outputs": [],
   "source": [
    "# Read the wine-quality csv file from the URL\n",
    "csv_url = \\\n",
    "    'http://archive.ics.uci.edu/ml/machine-learning-databases/wine-quality/winequality-red.csv'\n",
    "try:\n",
    "    data = pd.read_csv(csv_url, sep=';')\n",
    "except Exception as e:\n",
    "    logger.exception(\n",
    "        \"Unable to download training & test CSV, check your internet connection. Error: %s\", e)\n",
    "\n",
    "# Split the data into training and test sets. (0.75, 0.25) split.\n",
    "train, test = train_test_split(data)\n",
    "\n",
    "# The predicted column is \"quality\" which is a scalar from [3, 9]\n",
    "train_x = train.drop([\"quality\"], axis=1)"
   ]
  },
  {
   "cell_type": "code",
   "execution_count": null,
   "metadata": {},
   "outputs": [],
   "source": [
    "def check_status(app_name):\n",
    "    sage_client = boto3.client('sagemaker', region_name=\"eu-west-3\")\n",
    "    endpoint_description = sage_client.describe_endpoint(EndpointName=app_name)\n",
    "    endpoint_status = endpoint_description[\"EndpointStatus\"]\n",
    "    return endpoint_status\n",
    "\n",
    "def query_endpoint(app_name, input_json):\n",
    "    client = boto3.session.Session().client(\"sagemaker-runtime\", region)\n",
    "\n",
    "    response = client.invoke_endpoint(\n",
    "        EndpointName=app_name,\n",
    "        Body=input_json,\n",
    "        ContentType='application/json; format=pandas-split',\n",
    "    )\n",
    "    preds = response['Body'].read().decode(\"ascii\")\n",
    "    preds = json.loads(preds)\n",
    "    print(\"Received response: {}\".format(preds))\n",
    "    return preds\n",
    "\n",
    "## check endpoint status\n",
    "print(\"Application status is: {}\".format(check_status(app_name)))\n",
    "\n",
    "## create test data and make inference from enpoint\n",
    "query_input = \"a_line_of_your_dataset\".to_json(orient=\"split\")\n",
    "prediction1 = query_endpoint(app_name=app_name, input_json=query_input)"
   ]
  }
 ],
 "metadata": {
  "kernelspec": {
   "display_name": "Python 3",
   "language": "python",
   "name": "python3"
  },
  "language_info": {
   "codemirror_mode": {
    "name": "ipython",
    "version": 3
   },
   "file_extension": ".py",
   "mimetype": "text/x-python",
   "name": "python",
   "nbconvert_exporter": "python",
   "pygments_lexer": "ipython3",
   "version": "3.7.3"
  }
 },
 "nbformat": 4,
 "nbformat_minor": 2
}
