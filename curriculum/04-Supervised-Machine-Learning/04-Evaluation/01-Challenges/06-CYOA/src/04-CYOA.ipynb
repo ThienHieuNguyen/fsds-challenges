{
 "cells": [
  {
   "cell_type": "markdown",
   "metadata": {},
   "source": [
    "# 04-04\n",
    "\n",
    "## Challenge 04 - Choose Your Own Algorithm 🚪"
   ]
  },
  {
   "cell_type": "markdown",
   "metadata": {},
   "source": [
    "---"
   ]
  },
  {
   "cell_type": "markdown",
   "metadata": {},
   "source": [
    "<img src=\"https://www.ucebt.com/media/k2/items/cache/938a195f8810cb9b31c6503221891897_XL.jpg\" />\n",
    "\n",
    "Photo by [Javier Allegue Baros](https://unsplash.com/@soymeraki)"
   ]
  },
  {
   "cell_type": "markdown",
   "metadata": {},
   "source": [
    "---"
   ]
  },
  {
   "cell_type": "markdown",
   "metadata": {},
   "source": [
    "In this challenge, you will implement an algorithm of your choice for solving **Wisconsin Breast Cancer** classification problem.\n",
    "\n",
    "In order to obtain **reproducible** results, you will:\n",
    "> - set the Numpy random seed to 0 (`np.random.seed(0)`)\n",
    "> - split randomly the dataset with 80% for training and 20% for test (and specify the `random_state` to 0)"
   ]
  },
  {
   "cell_type": "markdown",
   "metadata": {},
   "source": [
    "**Q1**. In this challenge, be sure to synchronize with your paired student 🦞 First, choose an algorithm of your choice (different from your paired student), you can pick between :\n",
    "- k-Nearest Neighbbors\n",
    "- Decision Tree classifier\n",
    "- Adaboost"
   ]
  },
  {
   "cell_type": "markdown",
   "metadata": {},
   "source": [
    "**Q2**. Do some research, explore scikit-learn documentation. Explain the model to your paired."
   ]
  },
  {
   "cell_type": "markdown",
   "metadata": {},
   "source": [
    "**Q3**. Prepare your data, train your model and retrieve predictions.\n",
    "\n",
    "What accuracy do you obtain? Compare with your binom and discuss."
   ]
  }
 ],
 "metadata": {
  "kernelspec": {
   "display_name": "Python 3",
   "language": "python",
   "name": "python3"
  },
  "language_info": {
   "codemirror_mode": {
    "name": "ipython",
    "version": 3
   },
   "file_extension": ".py",
   "mimetype": "text/x-python",
   "name": "python",
   "nbconvert_exporter": "python",
   "pygments_lexer": "ipython3",
   "version": "3.6.8"
  }
 },
 "nbformat": 4,
 "nbformat_minor": 2
}
