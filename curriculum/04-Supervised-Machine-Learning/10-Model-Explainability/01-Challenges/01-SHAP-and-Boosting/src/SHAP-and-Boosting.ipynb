{
 "cells": [
  {
   "cell_type": "markdown",
   "metadata": {},
   "source": [
    "# Boosting Explainability using SHAP\n",
    "\n",
    "![](https://images.unsplash.com/photo-1494216928456-ae75fd96603d?ixlib=rb-1.2.1&ixid=eyJhcHBfaWQiOjEyMDd9&auto=format&fit=crop&w=1050&q=80)\n"
   ]
  },
  {
   "cell_type": "markdown",
   "metadata": {},
   "source": [
    "In this challenge, you will apply some of what you've learned about the SHAP method on a dataset. Let's work again on the cover types dataset, located in the `input` folder.\n",
    "\n",
    "For information, the classes names are the following :\n",
    "```python\n",
    "y_names = {\n",
    "    1: \"Spruce/Fir\",\n",
    "    2: \"Lodgepole Pine\",\n",
    "    3: \"Ponderosa Pine\",\n",
    "    4: \"Cottonwood/Willow\",\n",
    "    5: \"Aspen\",\n",
    "    6: \"Douglas-fir\",\n",
    "    7: \"Krummholz\"\n",
    "}\n",
    "```"
   ]
  },
  {
   "cell_type": "markdown",
   "metadata": {
    "ExecuteTime": {
     "end_time": "2019-04-24T21:20:21.287151Z",
     "start_time": "2019-04-24T21:20:21.279611Z"
    }
   },
   "source": [
    "**Q1.** Load the data and train a boosting algorithm of your choice on it."
   ]
  },
  {
   "cell_type": "code",
   "execution_count": 2,
   "metadata": {
    "ExecuteTime": {
     "end_time": "2020-05-05T08:16:03.111018Z",
     "start_time": "2020-05-05T08:16:03.107756Z"
    },
    "code_folding": [
     0
    ]
   },
   "outputs": [],
   "source": [
    "# TODO : Load data"
   ]
  },
  {
   "cell_type": "code",
   "execution_count": 2,
   "metadata": {
    "ExecuteTime": {
     "end_time": "2020-05-05T08:11:39.103030Z",
     "start_time": "2020-05-05T08:11:38.974110Z"
    }
   },
   "outputs": [],
   "source": [
    "# TODO : boost"
   ]
  },
  {
   "cell_type": "code",
   "execution_count": 3,
   "metadata": {
    "ExecuteTime": {
     "end_time": "2020-05-05T08:18:16.001679Z",
     "start_time": "2020-05-05T08:18:15.997003Z"
    }
   },
   "outputs": [],
   "source": [
    "# TODO : evaluate model"
   ]
  },
  {
   "cell_type": "markdown",
   "metadata": {
    "ExecuteTime": {
     "end_time": "2019-04-24T21:20:21.287151Z",
     "start_time": "2019-04-24T21:20:21.279611Z"
    }
   },
   "source": [
    "**Q2.** Define the SHAP explainer"
   ]
  },
  {
   "cell_type": "code",
   "execution_count": 5,
   "metadata": {
    "ExecuteTime": {
     "end_time": "2020-05-05T08:18:38.886696Z",
     "start_time": "2020-05-05T08:18:38.879425Z"
    }
   },
   "outputs": [],
   "source": [
    "# TODO : Defining the model explainer"
   ]
  },
  {
   "cell_type": "markdown",
   "metadata": {},
   "source": [
    "**Q3.** Get the SHAP values object on the test dataset"
   ]
  },
  {
   "cell_type": "code",
   "execution_count": 6,
   "metadata": {
    "ExecuteTime": {
     "end_time": "2020-05-05T08:18:39.546883Z",
     "start_time": "2020-05-05T08:18:39.541815Z"
    }
   },
   "outputs": [],
   "source": [
    "# TODO : Getting the SHAP values"
   ]
  },
  {
   "cell_type": "markdown",
   "metadata": {},
   "source": [
    "**Q4.** Let's analyze the feature importances, using the `feature_importances_` attribute of your model first, then using SHAP. What are the three most important features for all classes ?"
   ]
  },
  {
   "cell_type": "code",
   "execution_count": 11,
   "metadata": {
    "ExecuteTime": {
     "end_time": "2020-05-05T08:20:40.605219Z",
     "start_time": "2020-05-05T08:20:40.601179Z"
    }
   },
   "outputs": [],
   "source": [
    "# TODO : plot feature importances"
   ]
  },
  {
   "cell_type": "code",
   "execution_count": 12,
   "metadata": {
    "ExecuteTime": {
     "end_time": "2020-05-05T08:20:40.963067Z",
     "start_time": "2020-05-05T08:20:40.957077Z"
    }
   },
   "outputs": [],
   "source": [
    "# TODO : plot the SHAP values"
   ]
  },
  {
   "cell_type": "markdown",
   "metadata": {},
   "source": [
    "**Q5.** For each class, plot the features importance (using the SHAP values) specific to it."
   ]
  },
  {
   "cell_type": "code",
   "execution_count": 13,
   "metadata": {
    "ExecuteTime": {
     "end_time": "2020-05-05T08:21:20.982792Z",
     "start_time": "2020-05-05T08:21:20.976640Z"
    }
   },
   "outputs": [],
   "source": [
    "# TODO : plot SHAP values per class"
   ]
  },
  {
   "cell_type": "markdown",
   "metadata": {},
   "source": [
    "**Q6.** Show the features value variation impact for Krummholz and Aspen classes. How does the most important feature variation contribute to the prediction for each class?"
   ]
  },
  {
   "cell_type": "code",
   "execution_count": 15,
   "metadata": {
    "ExecuteTime": {
     "end_time": "2020-05-05T08:22:52.278970Z",
     "start_time": "2020-05-05T08:22:52.274339Z"
    }
   },
   "outputs": [],
   "source": [
    "# TODO : features value variation for Krummholz"
   ]
  },
  {
   "cell_type": "code",
   "execution_count": 16,
   "metadata": {
    "ExecuteTime": {
     "end_time": "2020-05-05T08:22:52.449926Z",
     "start_time": "2020-05-05T08:22:52.445351Z"
    }
   },
   "outputs": [],
   "source": [
    "# TODO : features value variation for Aspen"
   ]
  },
  {
   "cell_type": "markdown",
   "metadata": {},
   "source": [
    "**Q7.** Plot more precise variation impact for the 3 most important features for Aspen. Comment each graph."
   ]
  },
  {
   "cell_type": "code",
   "execution_count": 17,
   "metadata": {
    "ExecuteTime": {
     "end_time": "2020-05-05T08:23:28.481146Z",
     "start_time": "2020-05-05T08:23:28.477586Z"
    }
   },
   "outputs": [],
   "source": [
    "# Variation impact for the three most important features for Aspen"
   ]
  },
  {
   "cell_type": "markdown",
   "metadata": {},
   "source": [
    "**Q8.** Consider a misclassified entry and plot its force plot."
   ]
  },
  {
   "cell_type": "code",
   "execution_count": 18,
   "metadata": {
    "ExecuteTime": {
     "end_time": "2020-05-05T08:23:44.172688Z",
     "start_time": "2020-05-05T08:23:44.167255Z"
    }
   },
   "outputs": [],
   "source": [
    "# TODO : select a missclassified entry"
   ]
  },
  {
   "cell_type": "code",
   "execution_count": 19,
   "metadata": {
    "ExecuteTime": {
     "end_time": "2020-05-05T08:23:54.925496Z",
     "start_time": "2020-05-05T08:23:54.922133Z"
    }
   },
   "outputs": [],
   "source": [
    "# TODO : force plot"
   ]
  }
 ],
 "metadata": {
  "kernelspec": {
   "display_name": "Python 3",
   "language": "python",
   "name": "python3"
  },
  "language_info": {
   "codemirror_mode": {
    "name": "ipython",
    "version": 3
   },
   "file_extension": ".py",
   "mimetype": "text/x-python",
   "name": "python",
   "nbconvert_exporter": "python",
   "pygments_lexer": "ipython3",
   "version": "3.7.1"
  },
  "latex_envs": {
   "LaTeX_envs_menu_present": true,
   "autoclose": false,
   "autocomplete": true,
   "bibliofile": "biblio.bib",
   "cite_by": "apalike",
   "current_citInitial": 1,
   "eqLabelWithNumbers": true,
   "eqNumInitial": 1,
   "hotkeys": {
    "equation": "Ctrl-E",
    "itemize": "Ctrl-I"
   },
   "labels_anchors": false,
   "latex_user_defs": false,
   "report_style_numbering": false,
   "user_envs_cfg": false
  },
  "toc": {
   "base_numbering": 1,
   "nav_menu": {},
   "number_sections": true,
   "sideBar": true,
   "skip_h1_title": false,
   "title_cell": "Table of Contents",
   "title_sidebar": "Contents",
   "toc_cell": false,
   "toc_position": {},
   "toc_section_display": true,
   "toc_window_display": false
  },
  "varInspector": {
   "cols": {
    "lenName": 16,
    "lenType": 16,
    "lenVar": 40
   },
   "kernels_config": {
    "python": {
     "delete_cmd_postfix": "",
     "delete_cmd_prefix": "del ",
     "library": "var_list.py",
     "varRefreshCmd": "print(var_dic_list())"
    },
    "r": {
     "delete_cmd_postfix": ") ",
     "delete_cmd_prefix": "rm(",
     "library": "var_list.r",
     "varRefreshCmd": "cat(var_dic_list()) "
    }
   },
   "types_to_exclude": [
    "module",
    "function",
    "builtin_function_or_method",
    "instance",
    "_Feature"
   ],
   "window_display": false
  }
 },
 "nbformat": 4,
 "nbformat_minor": 4
}
