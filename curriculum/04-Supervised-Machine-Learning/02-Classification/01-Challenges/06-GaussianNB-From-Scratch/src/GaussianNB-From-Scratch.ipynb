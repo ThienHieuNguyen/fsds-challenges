{
 "cells": [
  {
   "cell_type": "markdown",
   "metadata": {},
   "source": [
    "# Challenge - Recoding a GaussianNB from scratch\n",
    "\n",
    "![](https://images.unsplash.com/photo-1530639834082-05bafb67fbbe?ixlib=rb-1.2.1&ixid=eyJhcHBfaWQiOjEyMDd9&auto=format&fit=crop&w=1050&q=80)\n",
    "\n",
    "## Objectives\n",
    "\n",
    "In this challenge, you will recode the Gaussian Naive Bayes algorithm **from scratch**. <br>\n",
    "This is not an easy exercise, but coding ML algorithms yourself is the best way of making sure you have a good understanding of them :)\n",
    "\n",
    "## Guidelines\n",
    "\n",
    "A quick reminder on **Naive Bayes classification** :\n",
    "1. The NB classifier is based on the **Bayes Theorem** :"
   ]
  },
  {
   "cell_type": "markdown",
   "metadata": {},
   "source": [
    "$$ Pr(Y=y_k | X=x) = \\frac{Pr(X=x | Y-y_k)Pr(Y=y_k)}{Pr(X=x)}$$"
   ]
  },
  {
   "cell_type": "markdown",
   "metadata": {},
   "source": [
    "In the above formula :\n",
    "- $Pr(Y=y_k|X=x)$ is **the probability of each class given the known features**\n",
    "- $Pr(X=x|Y=y_k)$ is **the probability of the features given the class**\n",
    "- $Pr(Y=y_k)$ is **the probability of apparition of the class on the given dataset**\n",
    "- $Pr(X=x)$ **does not actually need to be computed**\n",
    "\n",
    "Using the Bayes formula, **the algorithm computes the probability of each class for a given set of features, and returns the class with the higest computed probability**."
   ]
  },
  {
   "cell_type": "markdown",
   "metadata": {},
   "source": [
    "2. $Pr(Y=y_k)$, the probability of apparition of the class on the given dataset, is very easy to compute : it is just **the percentage of apparition on each class on the training set**.\n",
    "\n",
    "3. $Pr(X=x|Y=y_k)$, the probability of the features given the class, is a little bit harder to compute, but no stress, let's go step by step :\n",
    "- The probability of all features given the class is equal to the product of **the probability of each single feature given the class**.\n",
    "- And **the probability of each single feature given the class can be computed using the following (gaussian) formula** :"
   ]
  },
  {
   "cell_type": "markdown",
   "metadata": {},
   "source": [
    "$$ P(x_i \\mid Y) = \\frac{1}{\\sqrt{2\\pi\\sigma^2_Y}} \\exp\\left(-\\frac{(x_i - \\mu_Y)^2}{2\\sigma^2_Y}\\right) $$"
   ]
  },
  {
   "cell_type": "markdown",
   "metadata": {},
   "source": [
    "In the above formula :\n",
    "- $\\mu_k$ is the mean of the feature $x$ for a given class $y_k$\n",
    "- $\\sigma_k$ is the standard deviation of the feature $x$ for a given class $y_k$\n",
    "\n",
    "⚠️ **The values of $\\mu$, $\\sigma$, and the probability of apparition on each class over the training dataset is what the algorithm learns during the fitting stage.**"
   ]
  },
  {
   "cell_type": "markdown",
   "metadata": {},
   "source": [
    "## Some hints on how to proceed :\n",
    "\n",
    "Create a class `GaussianNaiveBayes`, that will implement the following methods :\n",
    "- `_get_target_proba` : Returns the probability of apparition of a given target on a given dataset, e.g. the percentage of representation of the given target over the dataset.\n",
    "- `_get_mu` : Returns the mean of each feature of a dataset for all observations corresponding to a given target.\n",
    "- `_get_sigma` : Returns the standard deviation of each feature of a dataset for all observations corresponding to a given target.\n",
    "- `fit` :  Fits the algorithm, e.g. storing as attributes :\n",
    "    - self.target_probas -- the probability of apparition of each target\n",
    "    - self.mus -- the mean of each feature for each target\n",
    "    - self.sigma -- the standard deviation of each feature for each target\n",
    "- `_get_single_feature_probability` : Returns the probability of apparition of a single feature, given the target. Uses the Gaussian probabilistic law.\n",
    "- `_predict_single_x` : Returns the probabilities of belonging to each of the target class for a given data point.\n",
    "- `predict_proba` : Returns the probabilities of belonging to each of the target class for all points of the dataset.\n",
    "- `predict` : Returns the predicted class for all points of the dataset.\n",
    "- `score` : Returns the accuracy score for the model on the dataset X, y.\n",
    "\n",
    "The architecture of the class, including the methods to complete and their docstrings, is provided below. **It is not mandatory for you to follow exactly this architecture**, if you have another idea on how to code the algorithm, feel free to follow it.\n",
    "\n",
    "⚠️ One piece of advice : test your code on a simple dataset, such as the iris dataset from scikit-learn."
   ]
  },
  {
   "cell_type": "markdown",
   "metadata": {},
   "source": [
    "### 1. From scratch implementation"
   ]
  },
  {
   "cell_type": "markdown",
   "metadata": {},
   "source": [
    "#### 1.1. Creating the `GaussianNaiveBayes` class"
   ]
  },
  {
   "cell_type": "code",
   "execution_count": null,
   "metadata": {
    "ExecuteTime": {
     "end_time": "2020-07-07T12:21:26.405489Z",
     "start_time": "2020-07-07T12:21:26.390379Z"
    }
   },
   "outputs": [],
   "source": [
    "class GaussianNaiveBayes():\n",
    "    \n",
    "    def _get_target_proba(self, y, target):\n",
    "        \"\"\"\n",
    "        Returns the probability of apparition of a given target on a given dataset,\n",
    "        e.g. the percentage of representation of the given target over the dataset.\n",
    "        \n",
    "        Parameters\n",
    "            y {np.ndarray} -- the target array (1-dimensional)\n",
    "            target {int} -- the given target\n",
    "            \n",
    "        Returns\n",
    "            float : the proportion of representation of the given target over the dataset.\n",
    "        \"\"\"\n",
    "        pass\n",
    "    \n",
    "    \n",
    "    def _get_mu(self, X, y, target):\n",
    "        \"\"\"\n",
    "        Returns the mean of each feature of a dataset for all observations corresponding to a given target.\n",
    "        \n",
    "        Parameters\n",
    "            X {np.ndarray} -- the features array (n-dimensional)\n",
    "            y {np.ndarray} -- the target array (1-dimensional)\n",
    "            target {int} -- the given target\n",
    "            \n",
    "        Returns\n",
    "            np.ndarray (1-dim) : the mean value of each feature in the dataset for the given target.\n",
    "        \"\"\"\n",
    "        pass\n",
    "    \n",
    "    \n",
    "    def _get_sigma(self, X, y, target):\n",
    "        \"\"\"\n",
    "        Returns the standard deviation of each feature of a dataset for all observations corresponding to a given target.\n",
    "        \n",
    "        Parameters\n",
    "            X {np.ndarray} -- the features array (n-dimensional)\n",
    "            y {np.ndarray} -- the target array (1-dimensional)\n",
    "            target {int} -- the given target\n",
    "            \n",
    "        Returns\n",
    "            np.ndarray (1-dim) : the standard deviation of each feature in the dataset for the given target.\n",
    "        \"\"\"\n",
    "        pass   \n",
    "    \n",
    "    \n",
    "    def fit(self, X, y):\n",
    "        \"\"\"\n",
    "        Fits the algorithm, e.g. storing as attributes :\n",
    "            > self.target_probas -- the probability of apparition of each target\n",
    "            > self.mus -- the mean of each feature for each target\n",
    "            > self.sigma -- the standard deviation of each feature for each target\n",
    "        \"\"\"\n",
    "        pass\n",
    "        \n",
    "        \n",
    "    def _get_single_feature_probability(self, x, mu, sigma):\n",
    "        \"\"\"\n",
    "        Returns the probability of apparition of a single feature, given the target.\n",
    "        Uses the Gaussian probabilistic law.\n",
    "        \n",
    "        Parameters\n",
    "            x {float} -- a single point from a single feature\n",
    "            mu {float} -- the mean of the feature from which x comes\n",
    "            sigma {float} -- the standard deviation of the feature from which x comes\n",
    "            \n",
    "        Returns\n",
    "            float : the probability of a single feature point, for a given target.\n",
    "        \"\"\"\n",
    "        pass\n",
    "    \n",
    "    \n",
    "    def _predict_single_x(self, x):\n",
    "        \"\"\"\n",
    "        Returns the probabilities of belonging to each of the target class for a given data point.\n",
    "        \n",
    "        Parameters\n",
    "            x {np.ndarray} -- a single observation from the dataset (1-dimensional)\n",
    "            \n",
    "        Returns\n",
    "            np.ndarray (1-dimensional) : the array of probabilities of each class for a single point.\n",
    "        \"\"\"\n",
    "        pass\n",
    "    \n",
    "    \n",
    "    def predict_proba(self, X):\n",
    "        \"\"\"\n",
    "        Returns the probabilities of belonging to each of the target class for all points of the dataset.\n",
    "        \n",
    "        Parameters\n",
    "            X {np.ndarray} -- the dataset (2-dimensional)\n",
    "            \n",
    "        Returns \n",
    "            np.ndarray (2-dimensional) : the array of probabilities of each class for each point in the dataset.\n",
    "        \"\"\"\n",
    "        pass\n",
    "\n",
    "    \n",
    "    def predict(self, X):\n",
    "        \"\"\"\n",
    "        Returns the predicted class for all points of the dataset.\n",
    "        \n",
    "        Parameters\n",
    "            X {np.ndarray} -- the dataset (2-dimensional)\n",
    "            \n",
    "        Returns \n",
    "            np.ndarray (1-dimensional) : the predicted class for each point in the dataset.\n",
    "        \"\"\"\n",
    "        pass\n",
    "    \n",
    "    \n",
    "    def score(self, X, y):\n",
    "        \"\"\"\n",
    "        Returns the accuracy score for the model on the dataset X, y.\n",
    "        \n",
    "        Parameters\n",
    "            X {np.ndarray} -- the dataset (2-dimensional)\n",
    "            y {np.ndarray} -- the target (1-dimensional)\n",
    "        \n",
    "        Returns\n",
    "            float : accuracy score of the model.\n",
    "        \"\"\"\n",
    "        pass"
   ]
  },
  {
   "cell_type": "markdown",
   "metadata": {},
   "source": [
    "#### 1.2. Testing your model on the iris dataset"
   ]
  },
  {
   "cell_type": "code",
   "execution_count": null,
   "metadata": {
    "ExecuteTime": {
     "end_time": "2020-07-07T12:17:39.584732Z",
     "start_time": "2020-07-07T12:17:38.537098Z"
    }
   },
   "outputs": [],
   "source": [
    "# TODO : load data"
   ]
  },
  {
   "cell_type": "code",
   "execution_count": null,
   "metadata": {
    "ExecuteTime": {
     "end_time": "2020-07-07T12:18:45.827154Z",
     "start_time": "2020-07-07T12:18:45.818959Z"
    }
   },
   "outputs": [],
   "source": [
    "# TODO : split data"
   ]
  },
  {
   "cell_type": "code",
   "execution_count": null,
   "metadata": {
    "ExecuteTime": {
     "end_time": "2020-07-07T12:18:46.014469Z",
     "start_time": "2020-07-07T12:18:46.009188Z"
    }
   },
   "outputs": [],
   "source": [
    "# TODO : fit model"
   ]
  },
  {
   "cell_type": "code",
   "execution_count": null,
   "metadata": {
    "ExecuteTime": {
     "end_time": "2020-07-07T12:21:55.797655Z",
     "start_time": "2020-07-07T12:21:55.792549Z"
    }
   },
   "outputs": [],
   "source": [
    "# TODO : test model"
   ]
  },
  {
   "cell_type": "markdown",
   "metadata": {},
   "source": [
    "### 2. Testing the sklearn version of the GaussianNB on the iris dataset"
   ]
  },
  {
   "cell_type": "code",
   "execution_count": null,
   "metadata": {
    "ExecuteTime": {
     "end_time": "2020-07-07T12:22:05.203458Z",
     "start_time": "2020-07-07T12:22:05.197918Z"
    }
   },
   "outputs": [],
   "source": [
    "# TODO : test that you have the same results using the sklearn version of the GaussianNB"
   ]
  }
 ],
 "metadata": {
  "kernelspec": {
   "display_name": "Python 3",
   "language": "python",
   "name": "python3"
  },
  "language_info": {
   "codemirror_mode": {
    "name": "ipython",
    "version": 3
   },
   "file_extension": ".py",
   "mimetype": "text/x-python",
   "name": "python",
   "nbconvert_exporter": "python",
   "pygments_lexer": "ipython3",
   "version": "3.7.6"
  },
  "toc": {
   "base_numbering": 1,
   "nav_menu": {},
   "number_sections": false,
   "sideBar": true,
   "skip_h1_title": false,
   "title_cell": "Table of Contents",
   "title_sidebar": "Contents",
   "toc_cell": false,
   "toc_position": {},
   "toc_section_display": true,
   "toc_window_display": false
  }
 },
 "nbformat": 4,
 "nbformat_minor": 4
}
