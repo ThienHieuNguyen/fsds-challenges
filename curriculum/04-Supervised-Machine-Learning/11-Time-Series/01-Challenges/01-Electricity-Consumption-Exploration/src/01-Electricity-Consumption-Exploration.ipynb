{
 "cells": [
  {
   "cell_type": "markdown",
   "metadata": {},
   "source": [
    "# 04-09\n",
    "\n",
    "## Challenge 01 - Electricity Consumption Exploration\n",
    "\n",
    "---\n",
    "\n",
    "![](https://images.unsplash.com/photo-1487875961445-47a00398c267?ixlib=rb-1.2.1&ixid=eyJhcHBfaWQiOjEyMDd9&auto=format&fit=crop&w=1650&q=80)\n",
    "Photo by [Jason Blackeye](https://unsplash.com/photos/nyL-rzwP-Mk)"
   ]
  },
  {
   "cell_type": "markdown",
   "metadata": {},
   "source": [
    "In this exercise, you will be asked to explore time series data in several ways.\n",
    "\n",
    "You will be working with time series of Open Power System Data ([OPSD](https://open-power-system-data.org/)) for Germany. \n",
    "\n",
    "The data set includes daily electricity consumption, wind power production, and solar power production between 2006 and 2017. \n",
    "```\n",
    "- Date — The date (yyyy-mm-dd format)\n",
    "- Consumption — Electricity consumption in GWh\n",
    "- Wind — Wind power production in GWh\n",
    "- Solar — Solar power production in GWh\n",
    "- Wind+Solar — Sum of wind and solar power production in GWh\n",
    "```"
   ]
  },
  {
   "cell_type": "markdown",
   "metadata": {
    "ExecuteTime": {
     "end_time": "2019-07-18T20:57:06.345488Z",
     "start_time": "2019-07-18T20:57:06.342229Z"
    }
   },
   "source": [
    "# Data Exploration"
   ]
  },
  {
   "cell_type": "code",
   "execution_count": 2,
   "metadata": {
    "ExecuteTime": {
     "end_time": "2019-07-18T20:56:53.861837Z",
     "start_time": "2019-07-18T20:56:51.988989Z"
    }
   },
   "outputs": [],
   "source": [
    "# Imports"
   ]
  },
  {
   "cell_type": "code",
   "execution_count": 3,
   "metadata": {
    "ExecuteTime": {
     "end_time": "2019-07-18T21:04:37.138590Z",
     "start_time": "2019-07-18T21:04:37.089882Z"
    }
   },
   "outputs": [],
   "source": [
    "# Load file"
   ]
  },
  {
   "cell_type": "code",
   "execution_count": 1,
   "metadata": {
    "ExecuteTime": {
     "end_time": "2019-07-18T21:04:38.092659Z",
     "start_time": "2019-07-18T21:04:38.065822Z"
    }
   },
   "outputs": [],
   "source": [
    "# Description"
   ]
  },
  {
   "cell_type": "markdown",
   "metadata": {
    "ExecuteTime": {
     "end_time": "2019-07-04T07:37:08.056884Z",
     "start_time": "2019-07-04T07:37:08.050245Z"
    }
   },
   "source": [
    "Then, make sure to transform the dates into datetime format in pandas :"
   ]
  },
  {
   "cell_type": "code",
   "execution_count": 4,
   "metadata": {
    "ExecuteTime": {
     "end_time": "2019-07-18T21:05:12.324154Z",
     "start_time": "2019-07-18T21:05:12.317718Z"
    }
   },
   "outputs": [],
   "source": [
    "# Transform the dates into datetime format"
   ]
  },
  {
   "cell_type": "markdown",
   "metadata": {
    "ExecuteTime": {
     "end_time": "2019-07-04T07:37:50.645587Z",
     "start_time": "2019-07-04T07:37:50.640681Z"
    }
   },
   "source": [
    "### 1. Plotting and understanding a time series"
   ]
  },
  {
   "cell_type": "markdown",
   "metadata": {},
   "source": [
    "Q1 - Plot the different time series. What do you understand, what do you notice ?"
   ]
  },
  {
   "cell_type": "code",
   "execution_count": null,
   "metadata": {
    "ExecuteTime": {
     "end_time": "2019-07-18T21:05:15.388636Z",
     "start_time": "2019-07-18T21:05:14.826413Z"
    }
   },
   "outputs": [],
   "source": []
  },
  {
   "cell_type": "markdown",
   "metadata": {},
   "source": [
    "We can also avoid plotting lines and simply plot dots for the consumption :"
   ]
  },
  {
   "cell_type": "code",
   "execution_count": null,
   "metadata": {
    "ExecuteTime": {
     "end_time": "2019-07-18T21:05:19.358295Z",
     "start_time": "2019-07-18T21:05:18.914523Z"
    },
    "scrolled": false
   },
   "outputs": [],
   "source": []
  },
  {
   "cell_type": "markdown",
   "metadata": {},
   "source": [
    "And plot the production over time :"
   ]
  },
  {
   "cell_type": "code",
   "execution_count": null,
   "metadata": {
    "ExecuteTime": {
     "end_time": "2019-07-18T21:05:23.677147Z",
     "start_time": "2019-07-18T21:05:23.255489Z"
    }
   },
   "outputs": [],
   "source": []
  },
  {
   "cell_type": "markdown",
   "metadata": {
    "ExecuteTime": {
     "end_time": "2019-07-04T07:50:23.797772Z",
     "start_time": "2019-07-04T07:50:23.791889Z"
    }
   },
   "source": [
    "What can we notice ?"
   ]
  },
  {
   "cell_type": "markdown",
   "metadata": {},
   "source": [
    "How do consumption and production compare ?"
   ]
  },
  {
   "cell_type": "code",
   "execution_count": null,
   "metadata": {
    "ExecuteTime": {
     "end_time": "2019-07-18T21:05:35.375679Z",
     "start_time": "2019-07-18T21:05:34.720400Z"
    }
   },
   "outputs": [],
   "source": []
  },
  {
   "cell_type": "markdown",
   "metadata": {
    "ExecuteTime": {
     "end_time": "2019-07-04T07:37:50.645587Z",
     "start_time": "2019-07-04T07:37:50.640681Z"
    }
   },
   "source": [
    "### 2. Change the scale"
   ]
  },
  {
   "cell_type": "markdown",
   "metadata": {},
   "source": [
    "Q2 - Try to change the scale to understand the recurrent patterns !"
   ]
  },
  {
   "cell_type": "code",
   "execution_count": 7,
   "metadata": {
    "ExecuteTime": {
     "end_time": "2019-07-18T21:48:23.072839Z",
     "start_time": "2019-07-18T21:48:22.575215Z"
    }
   },
   "outputs": [],
   "source": [
    "# Plot over the year"
   ]
  },
  {
   "cell_type": "markdown",
   "metadata": {},
   "source": [
    "It confirms the trend : more consumption in winter time, and less in summer. We can then zoom on a given month :"
   ]
  },
  {
   "cell_type": "code",
   "execution_count": 8,
   "metadata": {
    "ExecuteTime": {
     "end_time": "2019-07-18T21:48:34.939281Z",
     "start_time": "2019-07-18T21:48:34.477880Z"
    }
   },
   "outputs": [],
   "source": [
    "# Plot over a month"
   ]
  },
  {
   "cell_type": "markdown",
   "metadata": {},
   "source": [
    "When zooming on a month, we oberve another seasonality. There seems to be days of the week in which people consume less. For example, here's what happens when we highlight Sundays :"
   ]
  },
  {
   "cell_type": "code",
   "execution_count": 10,
   "metadata": {
    "ExecuteTime": {
     "end_time": "2019-07-15T05:55:05.030343Z",
     "start_time": "2019-07-15T05:55:04.516882Z"
    }
   },
   "outputs": [],
   "source": [
    "# Plot on Sundays"
   ]
  },
  {
   "cell_type": "markdown",
   "metadata": {
    "ExecuteTime": {
     "end_time": "2019-07-04T07:37:50.645587Z",
     "start_time": "2019-07-04T07:37:50.640681Z"
    }
   },
   "source": [
    "### 3. Further exploration"
   ]
  },
  {
   "cell_type": "markdown",
   "metadata": {},
   "source": [
    "Q3 - To further explore the dataset, we might need to group the data. Create new columns for the consumption (by year and month), and create box-plots with seaborn. Comment on your results."
   ]
  },
  {
   "cell_type": "code",
   "execution_count": 12,
   "metadata": {
    "ExecuteTime": {
     "end_time": "2019-07-19T17:00:21.299993Z",
     "start_time": "2019-07-19T17:00:21.198448Z"
    }
   },
   "outputs": [],
   "source": [
    "# new columns 'year' and 'month'"
   ]
  },
  {
   "cell_type": "code",
   "execution_count": 13,
   "metadata": {
    "ExecuteTime": {
     "end_time": "2019-07-19T17:04:00.955362Z",
     "start_time": "2019-07-19T17:04:00.422204Z"
    }
   },
   "outputs": [],
   "source": [
    "# Boxplot year"
   ]
  },
  {
   "cell_type": "code",
   "execution_count": 14,
   "metadata": {
    "ExecuteTime": {
     "end_time": "2019-07-19T17:04:18.468913Z",
     "start_time": "2019-07-19T17:04:17.909036Z"
    }
   },
   "outputs": [],
   "source": [
    "# Boxplot month"
   ]
  },
  {
   "cell_type": "markdown",
   "metadata": {
    "ExecuteTime": {
     "end_time": "2019-07-04T07:37:50.645587Z",
     "start_time": "2019-07-04T07:37:50.640681Z"
    }
   },
   "source": [
    "### 4. Fill missing values"
   ]
  },
  {
   "cell_type": "markdown",
   "metadata": {},
   "source": [
    "Q4 - Do you face missing values in production ? If yes, which method can you apply ? What happens if you plot the modified data ? It is a good idea to keep the data this way ?"
   ]
  },
  {
   "cell_type": "code",
   "execution_count": 15,
   "metadata": {
    "ExecuteTime": {
     "end_time": "2019-07-18T21:50:27.885261Z",
     "start_time": "2019-07-18T21:50:27.467492Z"
    }
   },
   "outputs": [],
   "source": [
    "# Plot Solar"
   ]
  },
  {
   "cell_type": "markdown",
   "metadata": {
    "ExecuteTime": {
     "end_time": "2019-07-04T07:37:50.645587Z",
     "start_time": "2019-07-04T07:37:50.640681Z"
    }
   },
   "source": [
    "### 5. Series correlation"
   ]
  },
  {
   "cell_type": "markdown",
   "metadata": {},
   "source": [
    "Q5 - A good way to explore time series, when you have several series, is to plot one series vs another. This is a good way to estimate the correlation between 2 series. Plot the relevant graphs (and compute the correlation) for wind + solar vs consumption, wind vs consumption, solar vs consumption and wind vs solar."
   ]
  },
  {
   "cell_type": "code",
   "execution_count": 16,
   "metadata": {
    "ExecuteTime": {
     "end_time": "2019-07-19T17:16:04.978467Z",
     "start_time": "2019-07-19T17:16:04.966340Z"
    }
   },
   "outputs": [],
   "source": [
    "# Correlation between consumption and overall production"
   ]
  },
  {
   "cell_type": "code",
   "execution_count": 17,
   "metadata": {
    "ExecuteTime": {
     "end_time": "2019-07-19T17:11:32.000554Z",
     "start_time": "2019-07-19T17:11:31.591983Z"
    }
   },
   "outputs": [],
   "source": [
    "# Plot"
   ]
  },
  {
   "cell_type": "code",
   "execution_count": 18,
   "metadata": {
    "ExecuteTime": {
     "end_time": "2019-07-19T17:17:17.365261Z",
     "start_time": "2019-07-19T17:17:17.355059Z"
    }
   },
   "outputs": [],
   "source": [
    "# Correlation between solar production and wind production"
   ]
  },
  {
   "cell_type": "code",
   "execution_count": 19,
   "metadata": {
    "ExecuteTime": {
     "end_time": "2019-07-19T17:17:46.687295Z",
     "start_time": "2019-07-19T17:17:46.272890Z"
    }
   },
   "outputs": [],
   "source": [
    "# Plot"
   ]
  },
  {
   "cell_type": "code",
   "execution_count": 20,
   "metadata": {
    "ExecuteTime": {
     "end_time": "2019-07-19T17:17:58.130461Z",
     "start_time": "2019-07-19T17:17:58.120561Z"
    }
   },
   "outputs": [],
   "source": [
    "# Correlation between consumption and wind production"
   ]
  },
  {
   "cell_type": "code",
   "execution_count": 23,
   "metadata": {
    "ExecuteTime": {
     "end_time": "2019-07-19T17:18:13.696881Z",
     "start_time": "2019-07-19T17:18:13.259109Z"
    }
   },
   "outputs": [],
   "source": [
    "# Plot"
   ]
  },
  {
   "cell_type": "code",
   "execution_count": 24,
   "metadata": {
    "ExecuteTime": {
     "end_time": "2019-07-19T17:17:58.130461Z",
     "start_time": "2019-07-19T17:17:58.120561Z"
    }
   },
   "outputs": [],
   "source": [
    "# Correlation between consumption and solar production"
   ]
  },
  {
   "cell_type": "code",
   "execution_count": 25,
   "metadata": {
    "ExecuteTime": {
     "end_time": "2019-07-19T17:18:35.020300Z",
     "start_time": "2019-07-19T17:18:34.576899Z"
    }
   },
   "outputs": [],
   "source": [
    "# Plot"
   ]
  }
 ],
 "metadata": {
  "kernelspec": {
   "display_name": "Python 3",
   "language": "python",
   "name": "python3"
  },
  "language_info": {
   "codemirror_mode": {
    "name": "ipython",
    "version": 3
   },
   "file_extension": ".py",
   "mimetype": "text/x-python",
   "name": "python",
   "nbconvert_exporter": "python",
   "pygments_lexer": "ipython3",
   "version": "3.7.3"
  },
  "latex_envs": {
   "LaTeX_envs_menu_present": true,
   "autoclose": false,
   "autocomplete": true,
   "bibliofile": "biblio.bib",
   "cite_by": "apalike",
   "current_citInitial": 1,
   "eqLabelWithNumbers": true,
   "eqNumInitial": 1,
   "hotkeys": {
    "equation": "Ctrl-E",
    "itemize": "Ctrl-I"
   },
   "labels_anchors": false,
   "latex_user_defs": false,
   "report_style_numbering": false,
   "user_envs_cfg": false
  },
  "toc": {
   "base_numbering": 1,
   "nav_menu": {},
   "number_sections": false,
   "sideBar": true,
   "skip_h1_title": true,
   "title_cell": "Table of Contents",
   "title_sidebar": "Contents",
   "toc_cell": true,
   "toc_position": {},
   "toc_section_display": true,
   "toc_window_display": false
  }
 },
 "nbformat": 4,
 "nbformat_minor": 2
}
