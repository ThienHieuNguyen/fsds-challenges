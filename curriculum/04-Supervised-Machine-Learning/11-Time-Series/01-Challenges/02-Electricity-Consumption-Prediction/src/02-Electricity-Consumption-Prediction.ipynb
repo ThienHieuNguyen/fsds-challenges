{
 "cells": [
  {
   "cell_type": "markdown",
   "metadata": {},
   "source": [
    "# 04-09\n",
    "\n",
    "## Challenge 02 - Electricity Consumption Prediction\n",
    "\n",
    "---\n",
    "\n",
    "![](https://images.unsplash.com/photo-1521618755572-156ae0cdd74d?ixlib=rb-1.2.1&ixid=eyJhcHBfaWQiOjEyMDd9&auto=format&fit=crop&w=1656&q=80)\n",
    "Photo by [Zbynek Burival](https://unsplash.com/photos/V4ZYJZJ3W4M)"
   ]
  },
  {
   "cell_type": "markdown",
   "metadata": {
    "toc": true
   },
   "source": [
    "<h1>Table of Contents<span class=\"tocSkip\"></span></h1>\n",
    "<div class=\"toc\"><ul class=\"toc-item\"><li><span><a href=\"#I.-Key-concepts-in-time-series\" data-toc-modified-id=\"I.-Key-concepts-in-time-series-1\">I. Key concepts in time series</a></span></li><li><span><a href=\"#III.-Decomposition-and-forecasting\" data-toc-modified-id=\"III.-Decomposition-and-forecasting-2\">III. Decomposition and forecasting</a></span><ul class=\"toc-item\"><li><span><a href=\"#1.-Trends\" data-toc-modified-id=\"1.-Trends-2.1\">1. Trends</a></span></li><li><span><a href=\"#2.-Seasonality\" data-toc-modified-id=\"2.-Seasonality-2.2\">2. Seasonality</a></span></li><li><span><a href=\"#3.-Automatic-Decomposition\" data-toc-modified-id=\"3.-Automatic-Decomposition-2.3\">3. Automatic Decomposition</a></span></li><li><span><a href=\"#4.-Model-the-stationary-series\" data-toc-modified-id=\"4.-Model-the-stationary-series-2.4\">4. Model the stationary series</a></span><ul class=\"toc-item\"><li><span><a href=\"#Moving-Average-(MA)-processes\" data-toc-modified-id=\"Moving-Average-(MA)-processes-2.4.1\">Moving Average (MA) processes</a></span></li><li><span><a href=\"#Auto-Regressive-(AR)-processes\" data-toc-modified-id=\"Auto-Regressive-(AR)-processes-2.4.2\">Auto Regressive (AR) processes</a></span></li><li><span><a href=\"#Auto-Regressive-Moving-Average-(ARMA)-processes\" data-toc-modified-id=\"Auto-Regressive-Moving-Average-(ARMA)-processes-2.4.3\">Auto Regressive Moving Average (ARMA) processes</a></span></li><li><span><a href=\"#Auto-Regressive-Integrated-Moving-Average-(ARIMA)-processes\" data-toc-modified-id=\"Auto-Regressive-Integrated-Moving-Average-(ARIMA)-processes-2.4.4\">Auto Regressive Integrated Moving Average (ARIMA) processes</a></span></li><li><span><a href=\"#Seasonal-Autoregressive-Integrated-Moving-Average-(SARIMA)-process\" data-toc-modified-id=\"Seasonal-Autoregressive-Integrated-Moving-Average-(SARIMA)-process-2.4.5\">Seasonal Autoregressive Integrated Moving-Average (SARIMA) process</a></span></li><li><span><a href=\"#Time-series-recomposition\" data-toc-modified-id=\"Time-series-recomposition-2.4.6\">Time series recomposition</a></span></li></ul></li><li><span><a href=\"#5.-Using-Prophet\" data-toc-modified-id=\"5.-Using-Prophet-2.5\">5. Using Prophet</a></span></li></ul></li></ul></div>"
   ]
  },
  {
   "cell_type": "markdown",
   "metadata": {},
   "source": [
    "In this exercise, you will be asked to use insights from the previous exploration, and build forecasts for the electricity consumption.\n",
    "\n",
    "You will be working with time series of Open Power System Data ([OPSD](https://open-power-system-data.org/)) for Germany. \n",
    "\n",
    "The data set includes daily electricity consumption, wind power production, and solar power production between 2006 and 2017. \n",
    "```\n",
    "- Date — The date (yyyy-mm-dd format)\n",
    "- Consumption — Electricity consumption in GWh\n",
    "- Wind — Wind power production in GWh\n",
    "- Solar — Solar power production in GWh\n",
    "- Wind+Solar — Sum of wind and solar power production in GWh\n",
    "```"
   ]
  },
  {
   "cell_type": "code",
   "execution_count": 97,
   "metadata": {
    "ExecuteTime": {
     "end_time": "2019-07-19T18:40:31.154653Z",
     "start_time": "2019-07-19T18:40:31.150394Z"
    }
   },
   "outputs": [],
   "source": [
    "# Imports"
   ]
  },
  {
   "cell_type": "code",
   "execution_count": 1,
   "metadata": {
    "ExecuteTime": {
     "end_time": "2019-07-19T18:40:31.979070Z",
     "start_time": "2019-07-19T18:40:31.960304Z"
    }
   },
   "outputs": [],
   "source": [
    "# Load file"
   ]
  },
  {
   "cell_type": "markdown",
   "metadata": {},
   "source": [
    "## I. Key concepts in time series"
   ]
  },
  {
   "cell_type": "markdown",
   "metadata": {},
   "source": [
    "For what comes next, we will only focus on the consumption (and the prediction of the consumption). "
   ]
  },
  {
   "cell_type": "markdown",
   "metadata": {},
   "source": [
    "Q1 - Plot the autocorrelation and partial autocorrelation of the consumption. What do you notice ?"
   ]
  },
  {
   "cell_type": "code",
   "execution_count": null,
   "metadata": {
    "ExecuteTime": {
     "end_time": "2019-07-19T18:18:55.515077Z",
     "start_time": "2019-07-19T18:18:53.225601Z"
    }
   },
   "outputs": [],
   "source": []
  },
  {
   "cell_type": "markdown",
   "metadata": {},
   "source": [
    "Q2 - Is the series stationary ? "
   ]
  },
  {
   "cell_type": "code",
   "execution_count": 2,
   "metadata": {
    "ExecuteTime": {
     "end_time": "2019-07-19T18:18:55.763166Z",
     "start_time": "2019-07-19T18:18:55.518980Z"
    }
   },
   "outputs": [],
   "source": [
    "# ADFuller "
   ]
  },
  {
   "cell_type": "markdown",
   "metadata": {},
   "source": [
    "Q3 - Can you thing of any technique that could help our future model be more precise ?"
   ]
  },
  {
   "cell_type": "markdown",
   "metadata": {},
   "source": []
  },
  {
   "cell_type": "markdown",
   "metadata": {},
   "source": [
    "## III. Decomposition and forecasting"
   ]
  },
  {
   "cell_type": "markdown",
   "metadata": {
    "ExecuteTime": {
     "end_time": "2019-07-04T08:40:46.430892Z",
     "start_time": "2019-07-04T08:40:46.412502Z"
    }
   },
   "source": [
    "### 1. Trends"
   ]
  },
  {
   "cell_type": "markdown",
   "metadata": {},
   "source": [
    "Q4 - Try to apply de-trending. Is it interesting ? "
   ]
  },
  {
   "cell_type": "code",
   "execution_count": 28,
   "metadata": {
    "ExecuteTime": {
     "end_time": "2019-07-19T18:18:57.434164Z",
     "start_time": "2019-07-19T18:18:57.422188Z"
    }
   },
   "outputs": [],
   "source": [
    "# LinearRegression                      "
   ]
  },
  {
   "cell_type": "code",
   "execution_count": 29,
   "metadata": {
    "ExecuteTime": {
     "end_time": "2019-07-19T18:18:57.880174Z",
     "start_time": "2019-07-19T18:18:57.871364Z"
    }
   },
   "outputs": [],
   "source": [
    "# polyfit & log trend + exp trend"
   ]
  },
  {
   "cell_type": "code",
   "execution_count": 4,
   "metadata": {
    "ExecuteTime": {
     "end_time": "2019-07-19T18:18:59.061693Z",
     "start_time": "2019-07-19T18:18:58.750945Z"
    }
   },
   "outputs": [],
   "source": [
    "# Plot"
   ]
  },
  {
   "cell_type": "markdown",
   "metadata": {},
   "source": [
    "We will apply a log transform for what comes next :"
   ]
  },
  {
   "cell_type": "code",
   "execution_count": null,
   "metadata": {
    "ExecuteTime": {
     "end_time": "2019-07-19T18:19:00.254388Z",
     "start_time": "2019-07-19T18:18:59.899915Z"
    }
   },
   "outputs": [],
   "source": []
  },
  {
   "cell_type": "markdown",
   "metadata": {
    "ExecuteTime": {
     "end_time": "2019-07-04T08:40:46.430892Z",
     "start_time": "2019-07-04T08:40:46.412502Z"
    }
   },
   "source": [
    "### 2. Seasonality"
   ]
  },
  {
   "cell_type": "markdown",
   "metadata": {},
   "source": [
    "Q5 - Try to remove the seasonality. Is it interesting ? "
   ]
  },
  {
   "cell_type": "markdown",
   "metadata": {},
   "source": [
    "If we observe some seasonality over a year, the easiest option to remove the trend is to compute the first difference. For example, if there is a yearly seasonality, we can take $ y_t $ - $ y_{t-365} $"
   ]
  },
  {
   "cell_type": "code",
   "execution_count": 35,
   "metadata": {
    "ExecuteTime": {
     "end_time": "2019-07-19T18:19:02.163544Z",
     "start_time": "2019-07-19T18:19:02.160417Z"
    }
   },
   "outputs": [],
   "source": [
    "from scipy.ndimage.interpolation import shift"
   ]
  },
  {
   "cell_type": "code",
   "execution_count": 6,
   "metadata": {
    "ExecuteTime": {
     "end_time": "2019-07-19T18:40:59.679350Z",
     "start_time": "2019-07-19T18:40:59.673171Z"
    }
   },
   "outputs": [],
   "source": [
    "# series"
   ]
  },
  {
   "cell_type": "code",
   "execution_count": 7,
   "metadata": {
    "ExecuteTime": {
     "end_time": "2019-07-19T18:19:04.567657Z",
     "start_time": "2019-07-19T18:19:04.103507Z"
    }
   },
   "outputs": [],
   "source": [
    "# plot"
   ]
  },
  {
   "cell_type": "markdown",
   "metadata": {},
   "source": [
    "Q6 - How does the ADFuller test compare now ? Did you improve anything ?"
   ]
  },
  {
   "cell_type": "code",
   "execution_count": 8,
   "metadata": {
    "ExecuteTime": {
     "end_time": "2019-07-19T18:19:05.476877Z",
     "start_time": "2019-07-19T18:19:05.274323Z"
    }
   },
   "outputs": [],
   "source": [
    "# ADFuller"
   ]
  },
  {
   "cell_type": "markdown",
   "metadata": {
    "ExecuteTime": {
     "end_time": "2019-07-04T08:40:46.430892Z",
     "start_time": "2019-07-04T08:40:46.412502Z"
    }
   },
   "source": [
    "### 3. Automatic Decomposition"
   ]
  },
  {
   "cell_type": "markdown",
   "metadata": {},
   "source": [
    "Q7 - Does the automatic decomposition of `statsmodels` identify anything else ?"
   ]
  },
  {
   "cell_type": "code",
   "execution_count": 40,
   "metadata": {
    "ExecuteTime": {
     "end_time": "2019-07-19T18:19:07.117207Z",
     "start_time": "2019-07-19T18:19:07.087411Z"
    }
   },
   "outputs": [],
   "source": [
    "from statsmodels.tsa.seasonal import seasonal_decompose\n",
    "# decomposition"
   ]
  },
  {
   "cell_type": "markdown",
   "metadata": {
    "ExecuteTime": {
     "end_time": "2019-07-04T13:12:49.730723Z",
     "start_time": "2019-07-04T13:12:49.725442Z"
    }
   },
   "source": [
    "We set the frequency to 365 in this case since we observe a recurrent pattern over 365 days."
   ]
  },
  {
   "cell_type": "code",
   "execution_count": 10,
   "metadata": {
    "ExecuteTime": {
     "end_time": "2019-07-19T18:19:08.945841Z",
     "start_time": "2019-07-19T18:19:08.244093Z"
    }
   },
   "outputs": [],
   "source": [
    "# plot"
   ]
  },
  {
   "cell_type": "markdown",
   "metadata": {},
   "source": [
    "### 4. Model the stationary series"
   ]
  },
  {
   "cell_type": "markdown",
   "metadata": {},
   "source": [
    "Q8 - Taking years of training data is not always the best idea. Based on the decomposition above, what time frame seems the most relevant ?"
   ]
  },
  {
   "cell_type": "code",
   "execution_count": null,
   "metadata": {
    "ExecuteTime": {
     "end_time": "2019-07-19T18:42:11.714623Z",
     "start_time": "2019-07-19T18:42:11.711501Z"
    }
   },
   "outputs": [],
   "source": []
  },
  {
   "cell_type": "markdown",
   "metadata": {},
   "source": [
    "#### Moving Average (MA) processes"
   ]
  },
  {
   "cell_type": "markdown",
   "metadata": {},
   "source": [
    "Q9 - Apply a Moving Average process on 20 % of test data. Comment your results."
   ]
  },
  {
   "cell_type": "code",
   "execution_count": 11,
   "metadata": {
    "ExecuteTime": {
     "end_time": "2019-07-19T18:19:15.771582Z",
     "start_time": "2019-07-19T18:19:15.764730Z"
    }
   },
   "outputs": [],
   "source": [
    "from sklearn.metrics import mean_squared_error\n",
    "from statsmodels.tsa.arima_model import ARMA\n",
    "\n",
    "# train, test & history"
   ]
  },
  {
   "cell_type": "code",
   "execution_count": 12,
   "metadata": {
    "ExecuteTime": {
     "end_time": "2019-07-19T18:19:24.004350Z",
     "start_time": "2019-07-19T18:19:16.445822Z"
    }
   },
   "outputs": [],
   "source": [
    "# walk forward over time steps in test"
   ]
  },
  {
   "cell_type": "code",
   "execution_count": 13,
   "metadata": {
    "ExecuteTime": {
     "end_time": "2019-07-19T18:19:31.317968Z",
     "start_time": "2019-07-19T18:19:30.943301Z"
    }
   },
   "outputs": [],
   "source": [
    "# Plot"
   ]
  },
  {
   "cell_type": "markdown",
   "metadata": {},
   "source": [
    "Zoom on the prediction :"
   ]
  },
  {
   "cell_type": "code",
   "execution_count": 18,
   "metadata": {
    "ExecuteTime": {
     "end_time": "2019-07-19T18:19:43.541316Z",
     "start_time": "2019-07-19T18:19:43.186193Z"
    }
   },
   "outputs": [],
   "source": [
    "# Zoom"
   ]
  },
  {
   "cell_type": "code",
   "execution_count": 15,
   "metadata": {
    "ExecuteTime": {
     "end_time": "2019-07-19T18:20:14.856510Z",
     "start_time": "2019-07-19T18:20:14.849038Z"
    }
   },
   "outputs": [],
   "source": [
    "# MSE"
   ]
  },
  {
   "cell_type": "markdown",
   "metadata": {},
   "source": [
    "#### Auto Regressive (AR) processes"
   ]
  },
  {
   "cell_type": "markdown",
   "metadata": {},
   "source": [
    "Q10 - Apply an Auto Regressive process on 20 % of test data. Comment your results."
   ]
  },
  {
   "cell_type": "code",
   "execution_count": null,
   "metadata": {
    "ExecuteTime": {
     "end_time": "2019-07-19T18:23:12.083848Z",
     "start_time": "2019-07-19T18:23:08.653039Z"
    }
   },
   "outputs": [],
   "source": []
  },
  {
   "cell_type": "code",
   "execution_count": 16,
   "metadata": {
    "ExecuteTime": {
     "end_time": "2019-07-19T18:23:15.442380Z",
     "start_time": "2019-07-19T18:23:15.077216Z"
    }
   },
   "outputs": [],
   "source": [
    "# Plot"
   ]
  },
  {
   "cell_type": "code",
   "execution_count": 17,
   "metadata": {
    "ExecuteTime": {
     "end_time": "2019-07-19T18:23:38.040329Z",
     "start_time": "2019-07-19T18:23:37.720777Z"
    }
   },
   "outputs": [],
   "source": [
    "# Zoom"
   ]
  },
  {
   "cell_type": "markdown",
   "metadata": {},
   "source": [
    "The AR model is not performing well."
   ]
  },
  {
   "cell_type": "code",
   "execution_count": 19,
   "metadata": {
    "ExecuteTime": {
     "end_time": "2019-07-19T18:23:23.382748Z",
     "start_time": "2019-07-19T18:23:23.374094Z"
    }
   },
   "outputs": [],
   "source": [
    "# MSE"
   ]
  },
  {
   "cell_type": "markdown",
   "metadata": {},
   "source": [
    "#### Auto Regressive Moving Average (ARMA) processes"
   ]
  },
  {
   "cell_type": "markdown",
   "metadata": {},
   "source": [
    "Q11 - Apply an Auto Regressive Moving Average process on 20 % of test data. Comment your results."
   ]
  },
  {
   "cell_type": "code",
   "execution_count": null,
   "metadata": {
    "ExecuteTime": {
     "end_time": "2019-07-19T18:23:12.083848Z",
     "start_time": "2019-07-19T18:23:08.653039Z"
    }
   },
   "outputs": [],
   "source": []
  },
  {
   "cell_type": "code",
   "execution_count": 16,
   "metadata": {
    "ExecuteTime": {
     "end_time": "2019-07-19T18:23:15.442380Z",
     "start_time": "2019-07-19T18:23:15.077216Z"
    }
   },
   "outputs": [],
   "source": [
    "# Plot"
   ]
  },
  {
   "cell_type": "markdown",
   "metadata": {
    "ExecuteTime": {
     "end_time": "2019-07-19T18:05:18.781038Z",
     "start_time": "2019-07-19T18:05:18.775999Z"
    }
   },
   "source": [
    "Zoom on the prediction :"
   ]
  },
  {
   "cell_type": "code",
   "execution_count": 17,
   "metadata": {
    "ExecuteTime": {
     "end_time": "2019-07-19T18:23:38.040329Z",
     "start_time": "2019-07-19T18:23:37.720777Z"
    }
   },
   "outputs": [],
   "source": [
    "# Zoom"
   ]
  },
  {
   "cell_type": "code",
   "execution_count": 20,
   "metadata": {
    "ExecuteTime": {
     "end_time": "2019-07-19T18:24:25.193461Z",
     "start_time": "2019-07-19T18:24:25.186511Z"
    }
   },
   "outputs": [],
   "source": [
    "# MSE"
   ]
  },
  {
   "cell_type": "markdown",
   "metadata": {},
   "source": [
    "#### Auto Regressive Integrated Moving Average (ARIMA) processes"
   ]
  },
  {
   "cell_type": "markdown",
   "metadata": {},
   "source": [
    "Q12 - Apply an Auto Regressive Integrated Moving Average process on 5 % of test data. Comment your results."
   ]
  },
  {
   "cell_type": "code",
   "execution_count": null,
   "metadata": {
    "ExecuteTime": {
     "end_time": "2019-07-19T18:23:12.083848Z",
     "start_time": "2019-07-19T18:23:08.653039Z"
    }
   },
   "outputs": [],
   "source": []
  },
  {
   "cell_type": "code",
   "execution_count": 16,
   "metadata": {
    "ExecuteTime": {
     "end_time": "2019-07-19T18:23:15.442380Z",
     "start_time": "2019-07-19T18:23:15.077216Z"
    }
   },
   "outputs": [],
   "source": [
    "# Plot"
   ]
  },
  {
   "cell_type": "markdown",
   "metadata": {
    "ExecuteTime": {
     "end_time": "2019-07-19T18:05:18.781038Z",
     "start_time": "2019-07-19T18:05:18.775999Z"
    }
   },
   "source": [
    "Zoom on the prediction :"
   ]
  },
  {
   "cell_type": "code",
   "execution_count": 17,
   "metadata": {
    "ExecuteTime": {
     "end_time": "2019-07-19T18:23:38.040329Z",
     "start_time": "2019-07-19T18:23:37.720777Z"
    }
   },
   "outputs": [],
   "source": [
    "# Zoom"
   ]
  },
  {
   "cell_type": "code",
   "execution_count": 20,
   "metadata": {
    "ExecuteTime": {
     "end_time": "2019-07-19T18:24:25.193461Z",
     "start_time": "2019-07-19T18:24:25.186511Z"
    }
   },
   "outputs": [],
   "source": [
    "# MSE"
   ]
  },
  {
   "cell_type": "markdown",
   "metadata": {},
   "source": [
    "#### Seasonal Autoregressive Integrated Moving-Average (SARIMA) process"
   ]
  },
  {
   "cell_type": "markdown",
   "metadata": {},
   "source": [
    "Q13 - There is a seasonal pattern over time that we cannot remove. SARIMA might help ! Fit and predict with a SARIMA model on 80% of the data."
   ]
  },
  {
   "cell_type": "code",
   "execution_count": null,
   "metadata": {
    "ExecuteTime": {
     "end_time": "2019-07-19T18:23:12.083848Z",
     "start_time": "2019-07-19T18:23:08.653039Z"
    }
   },
   "outputs": [],
   "source": []
  },
  {
   "cell_type": "code",
   "execution_count": 16,
   "metadata": {
    "ExecuteTime": {
     "end_time": "2019-07-19T18:23:15.442380Z",
     "start_time": "2019-07-19T18:23:15.077216Z"
    }
   },
   "outputs": [],
   "source": [
    "# Plot"
   ]
  },
  {
   "cell_type": "markdown",
   "metadata": {
    "ExecuteTime": {
     "end_time": "2019-07-19T18:05:18.781038Z",
     "start_time": "2019-07-19T18:05:18.775999Z"
    }
   },
   "source": [
    "Zoom on the prediction :"
   ]
  },
  {
   "cell_type": "code",
   "execution_count": 17,
   "metadata": {
    "ExecuteTime": {
     "end_time": "2019-07-19T18:23:38.040329Z",
     "start_time": "2019-07-19T18:23:37.720777Z"
    }
   },
   "outputs": [],
   "source": [
    "# Zoom"
   ]
  },
  {
   "cell_type": "code",
   "execution_count": 20,
   "metadata": {
    "ExecuteTime": {
     "end_time": "2019-07-19T18:24:25.193461Z",
     "start_time": "2019-07-19T18:24:25.186511Z"
    }
   },
   "outputs": [],
   "source": [
    "# MSE"
   ]
  },
  {
   "cell_type": "markdown",
   "metadata": {},
   "source": [
    "#### Time series recomposition"
   ]
  },
  {
   "cell_type": "markdown",
   "metadata": {},
   "source": [
    "Q14 - Now that you identified the best model, build the prediction by recomposing the time series !"
   ]
  },
  {
   "cell_type": "code",
   "execution_count": null,
   "metadata": {},
   "outputs": [],
   "source": []
  },
  {
   "cell_type": "code",
   "execution_count": 21,
   "metadata": {
    "ExecuteTime": {
     "end_time": "2019-07-19T18:54:02.712379Z",
     "start_time": "2019-07-19T18:54:02.311761Z"
    }
   },
   "outputs": [],
   "source": [
    "# Plot"
   ]
  },
  {
   "cell_type": "markdown",
   "metadata": {},
   "source": [
    "### 5. Using Prophet"
   ]
  },
  {
   "cell_type": "markdown",
   "metadata": {},
   "source": [
    "Q15 - Apply a model with Prophet. Comment your results."
   ]
  },
  {
   "cell_type": "code",
   "execution_count": null,
   "metadata": {},
   "outputs": [],
   "source": []
  },
  {
   "cell_type": "code",
   "execution_count": 22,
   "metadata": {},
   "outputs": [],
   "source": [
    "# Plot"
   ]
  }
 ],
 "metadata": {
  "kernelspec": {
   "display_name": "Python 3",
   "language": "python",
   "name": "python3"
  },
  "language_info": {
   "codemirror_mode": {
    "name": "ipython",
    "version": 3
   },
   "file_extension": ".py",
   "mimetype": "text/x-python",
   "name": "python",
   "nbconvert_exporter": "python",
   "pygments_lexer": "ipython3",
   "version": "3.7.3"
  },
  "latex_envs": {
   "LaTeX_envs_menu_present": true,
   "autoclose": false,
   "autocomplete": true,
   "bibliofile": "biblio.bib",
   "cite_by": "apalike",
   "current_citInitial": 1,
   "eqLabelWithNumbers": true,
   "eqNumInitial": 1,
   "hotkeys": {
    "equation": "Ctrl-E",
    "itemize": "Ctrl-I"
   },
   "labels_anchors": false,
   "latex_user_defs": false,
   "report_style_numbering": false,
   "user_envs_cfg": false
  },
  "toc": {
   "base_numbering": 1,
   "nav_menu": {},
   "number_sections": false,
   "sideBar": true,
   "skip_h1_title": true,
   "title_cell": "Table of Contents",
   "title_sidebar": "Contents",
   "toc_cell": true,
   "toc_position": {},
   "toc_section_display": true,
   "toc_window_display": false
  }
 },
 "nbformat": 4,
 "nbformat_minor": 2
}
