{
 "cells": [
  {
   "cell_type": "markdown",
   "metadata": {},
   "source": [
    "# Songs Data\n",
    "\n",
    "![](https://images.unsplash.com/photo-1511367734837-f2956f0d8020?ixlib=rb-1.2.1&ixid=eyJhcHBfaWQiOjEyMDd9&auto=format&fit=crop&w=994&q=80)"
   ]
  },
  {
   "cell_type": "markdown",
   "metadata": {},
   "source": [
    "### Import the required libraries"
   ]
  },
  {
   "cell_type": "code",
   "execution_count": 1,
   "metadata": {
    "ExecuteTime": {
     "end_time": "2019-10-21T05:21:32.902432Z",
     "start_time": "2019-10-21T05:21:32.895709Z"
    }
   },
   "outputs": [],
   "source": [
    "# TODO - Import libraries"
   ]
  },
  {
   "cell_type": "markdown",
   "metadata": {},
   "source": [
    "### Explore the data"
   ]
  },
  {
   "cell_type": "code",
   "execution_count": 2,
   "metadata": {
    "ExecuteTime": {
     "end_time": "2019-10-21T05:21:35.238268Z",
     "start_time": "2019-10-21T05:21:35.234126Z"
    }
   },
   "outputs": [],
   "source": [
    "# TODO - Load the data from train.csv"
   ]
  },
  {
   "cell_type": "code",
   "execution_count": 3,
   "metadata": {
    "ExecuteTime": {
     "end_time": "2019-10-21T05:21:38.610555Z",
     "start_time": "2019-10-21T05:21:38.606311Z"
    }
   },
   "outputs": [],
   "source": [
    "# TODO - display a pairplot of the data"
   ]
  },
  {
   "cell_type": "markdown",
   "metadata": {},
   "source": [
    "### Identify columns which may be used as a target for linear regression"
   ]
  },
  {
   "cell_type": "markdown",
   "metadata": {},
   "source": [
    "Which column would you use as a target for a regression? Why?"
   ]
  },
  {
   "cell_type": "code",
   "execution_count": 4,
   "metadata": {
    "ExecuteTime": {
     "end_time": "2019-10-21T05:21:42.794952Z",
     "start_time": "2019-10-21T05:21:42.791147Z"
    }
   },
   "outputs": [],
   "source": [
    "# TODO - Create an array X containing all the columns without the target and the target y "
   ]
  },
  {
   "cell_type": "code",
   "execution_count": 5,
   "metadata": {
    "ExecuteTime": {
     "end_time": "2019-10-21T05:21:47.013710Z",
     "start_time": "2019-10-21T05:21:47.010060Z"
    }
   },
   "outputs": [],
   "source": [
    "# TODO - Load the file test.csv in a new dataframe and create arrays X_test and y_test with the same columns as the X and y"
   ]
  },
  {
   "cell_type": "code",
   "execution_count": 6,
   "metadata": {
    "ExecuteTime": {
     "end_time": "2019-10-21T05:21:50.217428Z",
     "start_time": "2019-10-21T05:21:50.210636Z"
    }
   },
   "outputs": [],
   "source": [
    "# TODO - Run the model and score on the test set"
   ]
  },
  {
   "cell_type": "markdown",
   "metadata": {},
   "source": [
    "### Single dimension"
   ]
  },
  {
   "cell_type": "markdown",
   "metadata": {},
   "source": [
    "Would it have been possible to predict the previous target with less features? which one would have we kept?"
   ]
  },
  {
   "cell_type": "code",
   "execution_count": 7,
   "metadata": {
    "ExecuteTime": {
     "end_time": "2019-10-21T05:21:54.292007Z",
     "start_time": "2019-10-21T05:21:54.288186Z"
    }
   },
   "outputs": [],
   "source": [
    "# TODO - Select a single column and a target and create X and y"
   ]
  },
  {
   "cell_type": "code",
   "execution_count": 8,
   "metadata": {
    "ExecuteTime": {
     "end_time": "2019-10-21T05:21:57.260856Z",
     "start_time": "2019-10-21T05:21:57.256817Z"
    }
   },
   "outputs": [],
   "source": [
    "# TODO - Run the model and score it"
   ]
  },
  {
   "cell_type": "code",
   "execution_count": 9,
   "metadata": {
    "ExecuteTime": {
     "end_time": "2019-10-21T05:21:59.987212Z",
     "start_time": "2019-10-21T05:21:59.982749Z"
    }
   },
   "outputs": [],
   "source": [
    "#TODO - Plot the results"
   ]
  }
 ],
 "metadata": {
  "kernelspec": {
   "display_name": "Python 3",
   "language": "python",
   "name": "python3"
  },
  "language_info": {
   "codemirror_mode": {
    "name": "ipython",
    "version": 3
   },
   "file_extension": ".py",
   "mimetype": "text/x-python",
   "name": "python",
   "nbconvert_exporter": "python",
   "pygments_lexer": "ipython3",
   "version": "3.7.1"
  },
  "toc": {
   "base_numbering": 1,
   "nav_menu": {},
   "number_sections": true,
   "sideBar": true,
   "skip_h1_title": false,
   "title_cell": "Table of Contents",
   "title_sidebar": "Contents",
   "toc_cell": false,
   "toc_position": {},
   "toc_section_display": true,
   "toc_window_display": false
  },
  "varInspector": {
   "cols": {
    "lenName": 16,
    "lenType": 16,
    "lenVar": 40
   },
   "kernels_config": {
    "python": {
     "delete_cmd_postfix": "",
     "delete_cmd_prefix": "del ",
     "library": "var_list.py",
     "varRefreshCmd": "print(var_dic_list())"
    },
    "r": {
     "delete_cmd_postfix": ") ",
     "delete_cmd_prefix": "rm(",
     "library": "var_list.r",
     "varRefreshCmd": "cat(var_dic_list()) "
    }
   },
   "types_to_exclude": [
    "module",
    "function",
    "builtin_function_or_method",
    "instance",
    "_Feature"
   ],
   "window_display": false
  }
 },
 "nbformat": 4,
 "nbformat_minor": 2
}
