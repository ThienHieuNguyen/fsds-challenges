{
 "cells": [
  {
   "cell_type": "markdown",
   "metadata": {},
   "source": [
    "# Investment Data\n",
    "\n",
    "![](https://images.unsplash.com/photo-1559526324-593bc073d938?ixlib=rb-1.2.1&ixid=eyJhcHBfaWQiOjEyMDd9&auto=format&fit=crop&w=1050&q=80)"
   ]
  },
  {
   "cell_type": "markdown",
   "metadata": {},
   "source": [
    "### Import required libraries"
   ]
  },
  {
   "cell_type": "code",
   "execution_count": null,
   "metadata": {
    "ExecuteTime": {
     "end_time": "2019-10-21T05:06:34.448612Z",
     "start_time": "2019-10-21T05:06:30.772186Z"
    }
   },
   "outputs": [],
   "source": [
    "# TODO : import libraries"
   ]
  },
  {
   "cell_type": "markdown",
   "metadata": {},
   "source": [
    "### Load the data and show a sample"
   ]
  },
  {
   "cell_type": "markdown",
   "metadata": {},
   "source": [
    "Load the file invest.txt from the folder src and show the first 5 lines"
   ]
  },
  {
   "cell_type": "code",
   "execution_count": 1,
   "metadata": {
    "ExecuteTime": {
     "end_time": "2019-10-21T05:18:16.081691Z",
     "start_time": "2019-10-21T05:18:16.077362Z"
    }
   },
   "outputs": [],
   "source": [
    "# TODO - Load csv file and show data "
   ]
  },
  {
   "cell_type": "markdown",
   "metadata": {},
   "source": [
    "Make a scatter plot with the columns gnp and invest as coordinates"
   ]
  },
  {
   "cell_type": "code",
   "execution_count": 2,
   "metadata": {
    "ExecuteTime": {
     "end_time": "2019-10-21T05:18:19.531672Z",
     "start_time": "2019-10-21T05:18:19.527595Z"
    }
   },
   "outputs": [],
   "source": [
    "# TODO - Plot data"
   ]
  },
  {
   "cell_type": "code",
   "execution_count": 3,
   "metadata": {
    "ExecuteTime": {
     "end_time": "2019-10-21T05:18:22.996351Z",
     "start_time": "2019-10-21T05:18:22.992530Z"
    }
   },
   "outputs": [],
   "source": [
    "# TODO - cast your data into numpy arrays : store the gnp in X and invest in y"
   ]
  },
  {
   "cell_type": "markdown",
   "metadata": {},
   "source": [
    "### Instantiate a Linear Regression model from scikit learn and train it"
   ]
  },
  {
   "cell_type": "markdown",
   "metadata": {},
   "source": [
    "You will use the usual instantiate, fit and predict routine"
   ]
  },
  {
   "cell_type": "code",
   "execution_count": 4,
   "metadata": {
    "ExecuteTime": {
     "end_time": "2019-10-21T05:18:31.000988Z",
     "start_time": "2019-10-21T05:18:30.996837Z"
    }
   },
   "outputs": [],
   "source": [
    "# TODO - run the model"
   ]
  },
  {
   "cell_type": "markdown",
   "metadata": {},
   "source": [
    "Predict the investment data for a GNP of 1000, and plot the data points, the regression line and the predicted point in a different color"
   ]
  },
  {
   "cell_type": "code",
   "execution_count": 5,
   "metadata": {
    "ExecuteTime": {
     "end_time": "2019-10-21T05:18:39.539741Z",
     "start_time": "2019-10-21T05:18:39.535649Z"
    }
   },
   "outputs": [],
   "source": [
    "# TODO - predict investment for a single point of GNP = 1000"
   ]
  },
  {
   "cell_type": "code",
   "execution_count": 6,
   "metadata": {
    "ExecuteTime": {
     "end_time": "2019-10-21T05:18:43.045612Z",
     "start_time": "2019-10-21T05:18:43.041531Z"
    }
   },
   "outputs": [],
   "source": [
    "# TODO - plot the data points, the regression line and the predicted single point"
   ]
  },
  {
   "cell_type": "markdown",
   "metadata": {},
   "source": [
    "### Working with 2 features"
   ]
  },
  {
   "cell_type": "markdown",
   "metadata": {},
   "source": [
    "Create a feature matrix X containing the columns 'gnp' and 'interest' "
   ]
  },
  {
   "cell_type": "code",
   "execution_count": 7,
   "metadata": {
    "ExecuteTime": {
     "end_time": "2019-10-21T05:18:46.551070Z",
     "start_time": "2019-10-21T05:18:46.547338Z"
    }
   },
   "outputs": [],
   "source": [
    "# TODO - Create a new array X containing the columns gnp and invest"
   ]
  },
  {
   "cell_type": "markdown",
   "metadata": {},
   "source": [
    "Instantiate a new model, train it and get predictions on X"
   ]
  },
  {
   "cell_type": "code",
   "execution_count": 8,
   "metadata": {
    "ExecuteTime": {
     "end_time": "2019-10-21T05:18:49.004724Z",
     "start_time": "2019-10-21T05:18:49.001537Z"
    }
   },
   "outputs": [],
   "source": [
    "# TODO - run the model"
   ]
  },
  {
   "cell_type": "markdown",
   "metadata": {},
   "source": [
    "Predict investment for gnp = 1000 and interest = 10"
   ]
  },
  {
   "cell_type": "code",
   "execution_count": 9,
   "metadata": {
    "ExecuteTime": {
     "end_time": "2019-10-21T05:18:51.832072Z",
     "start_time": "2019-10-21T05:18:51.827646Z"
    }
   },
   "outputs": [],
   "source": [
    "# TODO - predict the investment for a single data point with gnp = 1000 and interest = 10"
   ]
  },
  {
   "cell_type": "markdown",
   "metadata": {},
   "source": [
    "### Plot the results"
   ]
  },
  {
   "cell_type": "markdown",
   "metadata": {},
   "source": [
    "Use the %matplotlib notebook command : this will make your 3D graph interactive.<br>\n",
    "To plot the 3D graph, you need to create a subplot with projection = '3d'.<br>\n",
    "You will then need to plot the scatter plots using the 3 coordinates gnp, interest and the investment.<br>\n",
    "To plot the surface you will need to do a prediction on all the points of the surface : you will need to use the numpy meshgrid function.<br>\n",
    "Once you have done the prediction for all the points of the surface, you can plot it using the plot_wireframe method from the subplot.<br>\n",
    "You should have a 3D plot that you can turn around to have the best visualisation of your data and predictions"
   ]
  },
  {
   "cell_type": "code",
   "execution_count": 10,
   "metadata": {
    "ExecuteTime": {
     "end_time": "2019-10-21T05:19:06.756920Z",
     "start_time": "2019-10-21T05:19:06.752904Z"
    }
   },
   "outputs": [],
   "source": [
    "# TODO - Make the 3D plot"
   ]
  }
 ],
 "metadata": {
  "kernelspec": {
   "display_name": "Python 3",
   "language": "python",
   "name": "python3"
  },
  "language_info": {
   "codemirror_mode": {
    "name": "ipython",
    "version": 3
   },
   "file_extension": ".py",
   "mimetype": "text/x-python",
   "name": "python",
   "nbconvert_exporter": "python",
   "pygments_lexer": "ipython3",
   "version": "3.7.1"
  },
  "toc": {
   "base_numbering": 1,
   "nav_menu": {},
   "number_sections": true,
   "sideBar": true,
   "skip_h1_title": false,
   "title_cell": "Table of Contents",
   "title_sidebar": "Contents",
   "toc_cell": false,
   "toc_position": {},
   "toc_section_display": true,
   "toc_window_display": false
  },
  "varInspector": {
   "cols": {
    "lenName": 16,
    "lenType": 16,
    "lenVar": 40
   },
   "kernels_config": {
    "python": {
     "delete_cmd_postfix": "",
     "delete_cmd_prefix": "del ",
     "library": "var_list.py",
     "varRefreshCmd": "print(var_dic_list())"
    },
    "r": {
     "delete_cmd_postfix": ") ",
     "delete_cmd_prefix": "rm(",
     "library": "var_list.r",
     "varRefreshCmd": "cat(var_dic_list()) "
    }
   },
   "types_to_exclude": [
    "module",
    "function",
    "builtin_function_or_method",
    "instance",
    "_Feature"
   ],
   "window_display": false
  }
 },
 "nbformat": 4,
 "nbformat_minor": 2
}
