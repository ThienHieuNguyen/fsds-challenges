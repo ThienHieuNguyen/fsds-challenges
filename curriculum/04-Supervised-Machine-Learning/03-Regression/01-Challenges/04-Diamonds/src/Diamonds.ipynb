{
 "cells": [
  {
   "cell_type": "markdown",
   "metadata": {},
   "source": [
    "# Challenge - Diamond\n",
    "\n",
    "![](https://images.unsplash.com/photo-1600119612651-0db31b3a7baa?ixid=MXwxMjA3fDB8MHxwaG90by1wYWdlfHx8fGVufDB8fHw%3D&ixlib=rb-1.2.1&auto=format&fit=crop&w=1350&q=80)\n",
    "\n",
    "## Guidelines\n",
    "\n",
    "This classic dataset contains the prices and other attributes of almost 54,000 diamonds. It's a great dataset for beginners learning to work with data analysis and visualization and uses supervised machine learning models.\n",
    "\n",
    "> You can download the dataset here : https://www.kaggle.com/shivam2503/diamonds\n",
    "\n",
    "### Contents\n",
    "\n",
    "- price price in US dollars (\\\\$326--\\\\$18,823)\n",
    "\n",
    "- carat weight of the diamond (0.2--5.01)\n",
    "\n",
    "- cut quality of the cut (Fair, Good, Very Good, Premium, Ideal)\n",
    "\n",
    "- color diamond colour, from J (worst) to D (best)\n",
    "\n",
    "- clarity a measurement of how clear the diamond is (I1 (worst), SI2, SI1, VS2, VS1, VVS2, VVS1, IF (best))\n",
    "\n",
    "- x length in mm (0--10.74)\n",
    "\n",
    "- y width in mm (0--58.9)\n",
    "\n",
    "- z depth in mm (0--31.8)\n",
    "\n",
    "- depth total depth percentage = z / mean(x, y) = 2 * z / (x + y) (43--79)\n",
    "\n",
    "- table width of top of diamond relative to widest point (43--95)"
   ]
  },
  {
   "cell_type": "markdown",
   "metadata": {},
   "source": [
    "### Q1. Load the dataset and display some lines."
   ]
  },
  {
   "cell_type": "code",
   "execution_count": null,
   "metadata": {},
   "outputs": [],
   "source": []
  },
  {
   "cell_type": "markdown",
   "metadata": {},
   "source": [
    "### Q2. Quickly explore the data. You can use the very useful functions info, value_counts et describe, contained in Pandas library."
   ]
  },
  {
   "cell_type": "code",
   "execution_count": null,
   "metadata": {},
   "outputs": [],
   "source": []
  },
  {
   "cell_type": "markdown",
   "metadata": {},
   "source": [
    "### Q3. Time for the clean-up duty :\n",
    "\n",
    "   1. Are there any missing values ? if so, remove them\n",
    "   2. Are there any duplicated rows ? if yes remove them\n",
    "   3. Some values of x,y and z are 0; does this seem normal according to you ?"
   ]
  },
  {
   "cell_type": "code",
   "execution_count": null,
   "metadata": {},
   "outputs": [],
   "source": []
  },
  {
   "cell_type": "markdown",
   "metadata": {},
   "source": [
    "### Q4. Let's do a quick EDA : visualize some data (for instance, the repartition of diamond prices, the carat vs price etc..) : what can you see ?"
   ]
  },
  {
   "cell_type": "code",
   "execution_count": null,
   "metadata": {},
   "outputs": [],
   "source": []
  },
  {
   "cell_type": "markdown",
   "metadata": {},
   "source": [
    "### Q5. Prepare the data in order to train a regression machine learning algorithm:\n",
    "\n",
    "1) What is the target variable (what do you want to predict?)\n",
    "\n",
    "2) Think about important features ; you can create new one(s).\n",
    "\n",
    "3) You can transform the qualitatives features (cut,color,clarity) in quantitative features : check out the `pd.get_dummies` function : we will explore what it does more thoroughly in the next lesson."
   ]
  },
  {
   "cell_type": "code",
   "execution_count": null,
   "metadata": {},
   "outputs": [],
   "source": []
  },
  {
   "cell_type": "markdown",
   "metadata": {},
   "source": [
    "### Q6. Split data\n",
    "\n",
    "The following snippet of code is provided to help you split your data into a train set and a test set. You can try reading the sklearn dox and playing with some of the parameters to understand what that function does."
   ]
  },
  {
   "cell_type": "code",
   "execution_count": null,
   "metadata": {},
   "outputs": [],
   "source": [
    "from sklearn.model_selection import train_test_split\n",
    "\n",
    "X_train, X_test, y_train, y_test = train_test_split(X, y, test_size=0.2, random_state=0)"
   ]
  },
  {
   "cell_type": "markdown",
   "metadata": {},
   "source": [
    "### Q7. Train a linear regression. Test it on the newly created test set. What is the \"root mean squared\" erreur (RMSE)? Explain. What are the most important features taken into account by the model?"
   ]
  },
  {
   "cell_type": "code",
   "execution_count": null,
   "metadata": {},
   "outputs": [],
   "source": []
  },
  {
   "cell_type": "markdown",
   "metadata": {},
   "source": [
    "### Q8. Test the KNN regressor algorithm. How does K impact the \"root mean squared\" erreur (RMSE) ? You can try to make K vary between 2 and 20 and see how it affects the RMSE."
   ]
  },
  {
   "cell_type": "code",
   "execution_count": null,
   "metadata": {},
   "outputs": [],
   "source": []
  },
  {
   "cell_type": "markdown",
   "metadata": {},
   "source": [
    "### Q9. Does the Support Vector Machine Regressor give a better RMSE ?"
   ]
  },
  {
   "cell_type": "code",
   "execution_count": null,
   "metadata": {},
   "outputs": [],
   "source": []
  },
  {
   "cell_type": "markdown",
   "metadata": {},
   "source": [
    "### Q9. [BONUS] Choose a new algorithm from [scikit-learn Regression models](https://scikit-learn.org/stable/supervised_learning.html#supervised-learning) :\n",
    "\n",
    "- Understand how this algorithm works\n",
    "- Train it on your data\n",
    "- Does it perform better than the previous models ?"
   ]
  }
 ],
 "metadata": {
  "kernelspec": {
   "display_name": "Python 3",
   "language": "python",
   "name": "python3"
  },
  "language_info": {
   "codemirror_mode": {
    "name": "ipython",
    "version": 3
   },
   "file_extension": ".py",
   "mimetype": "text/x-python",
   "name": "python",
   "nbconvert_exporter": "python",
   "pygments_lexer": "ipython3",
   "version": "3.7.6"
  },
  "toc": {
   "base_numbering": 1,
   "nav_menu": {},
   "number_sections": true,
   "sideBar": true,
   "skip_h1_title": false,
   "title_cell": "Table of Contents",
   "title_sidebar": "Contents",
   "toc_cell": false,
   "toc_position": {},
   "toc_section_display": true,
   "toc_window_display": false
  }
 },
 "nbformat": 4,
 "nbformat_minor": 4
}
