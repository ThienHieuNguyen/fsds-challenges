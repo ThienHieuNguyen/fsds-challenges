{
 "cells": [
  {
   "cell_type": "markdown",
   "metadata": {},
   "source": [
    "# Introduction to boosting techniques\n",
    "\n",
    "![](https://images.unsplash.com/photo-1494825514961-674db1ac2700?ixlib=rb-1.2.1&ixid=eyJhcHBfaWQiOjEyMDd9&auto=format&fit=crop&w=1050&q=80)\n",
    "\n",
    "---\n"
   ]
  },
  {
   "cell_type": "markdown",
   "metadata": {
    "ExecuteTime": {
     "end_time": "2019-04-24T21:20:21.287151Z",
     "start_time": "2019-04-24T21:20:21.279611Z"
    }
   },
   "source": [
    "**Q1.** Install XGBoost, LGBM and Catboost on your local machine"
   ]
  },
  {
   "cell_type": "markdown",
   "metadata": {},
   "source": [
    "```\n",
    "pip install catboost\n",
    "pip install lightgbm\n",
    "pip install xgboost\n",
    "```"
   ]
  },
  {
   "cell_type": "code",
   "execution_count": 2,
   "metadata": {
    "ExecuteTime": {
     "end_time": "2019-11-05T14:37:28.928685Z",
     "start_time": "2019-11-05T14:37:28.923711Z"
    }
   },
   "outputs": [],
   "source": [
    "# Import useful libraries"
   ]
  },
  {
   "cell_type": "markdown",
   "metadata": {},
   "source": [
    "Here is the support documentation you might find useful :\n",
    "\n",
    "CatBoost :\n",
    "- https://catboost.ai/docs/concepts/python-reference_parameters-list.html\n",
    "- https://catboost.ai/docs/concepts/python-reference_train.html#python-reference_train\n",
    "\n",
    "LGBM :\n",
    "- https://lightgbm.readthedocs.io/en/latest/Python-Intro.html\n",
    "\n",
    "XGBoost :\n",
    "- https://xgboost.readthedocs.io/en/latest/parameter.html"
   ]
  },
  {
   "cell_type": "markdown",
   "metadata": {
    "ExecuteTime": {
     "end_time": "2019-04-24T21:20:21.287151Z",
     "start_time": "2019-04-24T21:20:21.279611Z"
    }
   },
   "source": [
    "**Q2.** Import the data (`X.csv`)\n",
    "\n",
    "In this exercise, we'll apply Boosting algorithms to the Covertype challenge. Some information about the data can be found here : https://archive.ics.uci.edu/ml/datasets/Covertype\n",
    "\n"
   ]
  },
  {
   "cell_type": "code",
   "execution_count": null,
   "metadata": {
    "ExecuteTime": {
     "end_time": "2019-11-05T14:29:48.953467Z",
     "start_time": "2019-11-05T14:29:48.950468Z"
    }
   },
   "outputs": [],
   "source": [
    "# TODO : load data"
   ]
  },
  {
   "cell_type": "markdown",
   "metadata": {
    "ExecuteTime": {
     "end_time": "2019-05-02T16:17:28.002387Z",
     "start_time": "2019-05-02T16:17:27.994795Z"
    }
   },
   "source": [
    "**Q3**. Explore the data"
   ]
  },
  {
   "cell_type": "code",
   "execution_count": null,
   "metadata": {
    "ExecuteTime": {
     "end_time": "2019-11-05T14:29:48.953467Z",
     "start_time": "2019-11-05T14:29:48.950468Z"
    }
   },
   "outputs": [],
   "source": [
    "# TODO : explore data"
   ]
  },
  {
   "cell_type": "code",
   "execution_count": null,
   "metadata": {
    "ExecuteTime": {
     "end_time": "2019-11-05T14:29:48.953467Z",
     "start_time": "2019-11-05T14:29:48.950468Z"
    }
   },
   "outputs": [],
   "source": [
    "# TODO : explore data"
   ]
  },
  {
   "cell_type": "code",
   "execution_count": null,
   "metadata": {
    "ExecuteTime": {
     "end_time": "2019-11-05T14:29:48.953467Z",
     "start_time": "2019-11-05T14:29:48.950468Z"
    }
   },
   "outputs": [],
   "source": [
    "# TODO : explore data"
   ]
  },
  {
   "cell_type": "markdown",
   "metadata": {},
   "source": [
    "**Q4**. Prepare and split the data into X_train, X_test, y_train, y_test"
   ]
  },
  {
   "cell_type": "code",
   "execution_count": null,
   "metadata": {
    "ExecuteTime": {
     "end_time": "2019-11-05T14:30:18.258450Z",
     "start_time": "2019-11-05T14:30:18.255242Z"
    }
   },
   "outputs": [],
   "source": [
    "# TODO : split data"
   ]
  },
  {
   "cell_type": "markdown",
   "metadata": {
    "ExecuteTime": {
     "end_time": "2019-05-02T16:17:28.002387Z",
     "start_time": "2019-05-02T16:17:27.994795Z"
    }
   },
   "source": [
    "**Q5**. We will be using the F1-Score performance metric. Can you guess why ? How do you prevent overfitting when tuning the hyperparameters ? "
   ]
  },
  {
   "cell_type": "markdown",
   "metadata": {},
   "source": [
    "**Your answer :**"
   ]
  },
  {
   "cell_type": "markdown",
   "metadata": {
    "ExecuteTime": {
     "end_time": "2019-05-02T17:37:20.698793Z",
     "start_time": "2019-05-02T17:37:20.689924Z"
    }
   },
   "source": [
    "⚠️ For all the upcoming questions, keep an eye on the execution times of the different algorithms. \n",
    "\n",
    "> 🔦 Hint : use the command `%%time` at the beginning of each cell (BEFORE even the comments) for an overview of the execution time."
   ]
  },
  {
   "cell_type": "markdown",
   "metadata": {
    "ExecuteTime": {
     "end_time": "2019-05-02T16:17:28.002387Z",
     "start_time": "2019-05-02T16:17:27.994795Z"
    }
   },
   "source": [
    "**Q6**. Compute the F1-Score of a Random Forest Classifier"
   ]
  },
  {
   "cell_type": "code",
   "execution_count": null,
   "metadata": {
    "ExecuteTime": {
     "end_time": "2019-11-05T14:31:44.493983Z",
     "start_time": "2019-11-05T14:31:44.488693Z"
    }
   },
   "outputs": [],
   "source": [
    "# TODO : Compute the F1-Score of a Random Forest Classifier"
   ]
  },
  {
   "cell_type": "markdown",
   "metadata": {},
   "source": [
    "## Adaboost"
   ]
  },
  {
   "cell_type": "markdown",
   "metadata": {
    "ExecuteTime": {
     "end_time": "2019-05-02T16:50:38.710579Z",
     "start_time": "2019-05-02T16:50:38.704715Z"
    }
   },
   "source": [
    "**Q7**. Compute the F1-Score of an AdaBoost"
   ]
  },
  {
   "cell_type": "code",
   "execution_count": null,
   "metadata": {
    "ExecuteTime": {
     "end_time": "2019-11-05T14:31:44.493983Z",
     "start_time": "2019-11-05T14:31:44.488693Z"
    }
   },
   "outputs": [],
   "source": [
    "# TODO : Compute the F1-Score of an Adaboost"
   ]
  },
  {
   "cell_type": "markdown",
   "metadata": {
    "ExecuteTime": {
     "end_time": "2019-05-02T16:50:38.710579Z",
     "start_time": "2019-05-02T16:50:38.704715Z"
    }
   },
   "source": [
    "**Q8**. How does the accuracy in prediction change when you modify the learning rate in AdaBoost ? Try different values, between 0.1 and 1.5 for example"
   ]
  },
  {
   "cell_type": "code",
   "execution_count": null,
   "metadata": {
    "ExecuteTime": {
     "end_time": "2019-11-05T14:32:18.700647Z",
     "start_time": "2019-11-05T14:32:18.697230Z"
    }
   },
   "outputs": [],
   "source": [
    "# TODO : change learning rate in Adaboost"
   ]
  },
  {
   "cell_type": "markdown",
   "metadata": {
    "ExecuteTime": {
     "end_time": "2019-05-02T16:50:38.710579Z",
     "start_time": "2019-05-02T16:50:38.704715Z"
    }
   },
   "source": [
    "**Q9**. How does the algorithm perform overall ? Compare to Random Forest and conclude about its performances"
   ]
  },
  {
   "cell_type": "markdown",
   "metadata": {},
   "source": [
    "**Your answer :**"
   ]
  },
  {
   "cell_type": "markdown",
   "metadata": {},
   "source": [
    "## Gradient Boost"
   ]
  },
  {
   "cell_type": "markdown",
   "metadata": {
    "ExecuteTime": {
     "end_time": "2019-05-02T16:50:38.710579Z",
     "start_time": "2019-05-02T16:50:38.704715Z"
    }
   },
   "source": [
    "**Q10**. Compute the F1-Score of a Gradient Boosting"
   ]
  },
  {
   "cell_type": "code",
   "execution_count": null,
   "metadata": {
    "ExecuteTime": {
     "end_time": "2019-11-05T14:32:42.022652Z",
     "start_time": "2019-11-05T14:32:42.018081Z"
    }
   },
   "outputs": [],
   "source": [
    "# TODO : Gradient Boosting"
   ]
  },
  {
   "cell_type": "markdown",
   "metadata": {
    "ExecuteTime": {
     "end_time": "2019-05-02T16:50:38.710579Z",
     "start_time": "2019-05-02T16:50:38.704715Z"
    }
   },
   "source": [
    "**Q11**. How does the performance in prediction change when you modify the max depth ? Try for example some values from 2 to 20."
   ]
  },
  {
   "cell_type": "code",
   "execution_count": null,
   "metadata": {
    "ExecuteTime": {
     "end_time": "2019-11-05T14:32:18.700647Z",
     "start_time": "2019-11-05T14:32:18.697230Z"
    }
   },
   "outputs": [],
   "source": [
    "# TODO : change max depth in Gradient Boosting"
   ]
  },
  {
   "cell_type": "markdown",
   "metadata": {
    "ExecuteTime": {
     "end_time": "2019-05-02T16:50:38.710579Z",
     "start_time": "2019-05-02T16:50:38.704715Z"
    }
   },
   "source": [
    "**Q12**. What do you notice ? "
   ]
  },
  {
   "cell_type": "markdown",
   "metadata": {},
   "source": [
    "**Your answer :**"
   ]
  },
  {
   "cell_type": "markdown",
   "metadata": {
    "ExecuteTime": {
     "end_time": "2019-05-02T16:50:38.710579Z",
     "start_time": "2019-05-02T16:50:38.704715Z"
    }
   },
   "source": [
    "**Q13**. (Optional) Try to modify other parameters if you want."
   ]
  },
  {
   "cell_type": "markdown",
   "metadata": {},
   "source": [
    "## XGBoost"
   ]
  },
  {
   "cell_type": "markdown",
   "metadata": {
    "ExecuteTime": {
     "end_time": "2019-05-02T16:50:38.710579Z",
     "start_time": "2019-05-02T16:50:38.704715Z"
    }
   },
   "source": [
    "**Q14**. Compute the F1-Score of a XGBoost"
   ]
  },
  {
   "cell_type": "code",
   "execution_count": null,
   "metadata": {
    "ExecuteTime": {
     "end_time": "2019-11-05T14:33:42.789450Z",
     "start_time": "2019-11-05T14:33:42.785047Z"
    }
   },
   "outputs": [],
   "source": [
    "# TODO : XGBoost"
   ]
  },
  {
   "cell_type": "markdown",
   "metadata": {
    "ExecuteTime": {
     "end_time": "2019-05-02T16:50:38.710579Z",
     "start_time": "2019-05-02T16:50:38.704715Z"
    }
   },
   "source": [
    "**Q15**. How does the performance in prediction change when you modify the max depth ? And the number of estimators ?"
   ]
  },
  {
   "cell_type": "code",
   "execution_count": null,
   "metadata": {
    "ExecuteTime": {
     "end_time": "2019-11-05T14:32:18.700647Z",
     "start_time": "2019-11-05T14:32:18.697230Z"
    }
   },
   "outputs": [],
   "source": [
    "# TODO : change max depth in XGBoost"
   ]
  },
  {
   "cell_type": "code",
   "execution_count": null,
   "metadata": {
    "ExecuteTime": {
     "end_time": "2019-11-05T14:32:18.700647Z",
     "start_time": "2019-11-05T14:32:18.697230Z"
    }
   },
   "outputs": [],
   "source": [
    "# TODO : change n_estimators in XGBoost"
   ]
  },
  {
   "cell_type": "markdown",
   "metadata": {
    "ExecuteTime": {
     "end_time": "2019-05-02T16:50:38.710579Z",
     "start_time": "2019-05-02T16:50:38.704715Z"
    }
   },
   "source": [
    "**Q16**. What do you notice ? Is the algorithm faster ? More accurate ?"
   ]
  },
  {
   "cell_type": "markdown",
   "metadata": {},
   "source": [
    "**Your answer :**"
   ]
  },
  {
   "cell_type": "markdown",
   "metadata": {},
   "source": [
    "## LGBM"
   ]
  },
  {
   "cell_type": "markdown",
   "metadata": {
    "ExecuteTime": {
     "end_time": "2019-05-02T16:50:38.710579Z",
     "start_time": "2019-05-02T16:50:38.704715Z"
    }
   },
   "source": [
    "**Q17**. Compute the F1-Score of an LGBM"
   ]
  },
  {
   "cell_type": "code",
   "execution_count": null,
   "metadata": {
    "ExecuteTime": {
     "end_time": "2019-11-05T14:35:01.092050Z",
     "start_time": "2019-11-05T14:35:01.088610Z"
    }
   },
   "outputs": [],
   "source": [
    "# TODO : LightGBM"
   ]
  },
  {
   "cell_type": "markdown",
   "metadata": {
    "ExecuteTime": {
     "end_time": "2019-05-02T16:50:38.710579Z",
     "start_time": "2019-05-02T16:50:38.704715Z"
    }
   },
   "source": [
    "**Q18**. How does the performance in prediction change when you modify the max depth ?"
   ]
  },
  {
   "cell_type": "code",
   "execution_count": null,
   "metadata": {
    "ExecuteTime": {
     "end_time": "2019-11-05T14:32:18.700647Z",
     "start_time": "2019-11-05T14:32:18.697230Z"
    }
   },
   "outputs": [],
   "source": [
    "# TODO : change max depth in LightGBM"
   ]
  },
  {
   "cell_type": "markdown",
   "metadata": {
    "ExecuteTime": {
     "end_time": "2019-05-02T16:50:38.710579Z",
     "start_time": "2019-05-02T16:50:38.704715Z"
    }
   },
   "source": [
    "**Q19**. What do you notice ? Is the algorithm faster ? More accurate ?"
   ]
  },
  {
   "cell_type": "markdown",
   "metadata": {},
   "source": [
    "**Your answer :**"
   ]
  }
 ],
 "metadata": {
  "kernelspec": {
   "display_name": "Python 3",
   "language": "python",
   "name": "python3"
  },
  "language_info": {
   "codemirror_mode": {
    "name": "ipython",
    "version": 3
   },
   "file_extension": ".py",
   "mimetype": "text/x-python",
   "name": "python",
   "nbconvert_exporter": "python",
   "pygments_lexer": "ipython3",
   "version": "3.7.6"
  },
  "latex_envs": {
   "LaTeX_envs_menu_present": true,
   "autoclose": false,
   "autocomplete": true,
   "bibliofile": "biblio.bib",
   "cite_by": "apalike",
   "current_citInitial": 1,
   "eqLabelWithNumbers": true,
   "eqNumInitial": 1,
   "hotkeys": {
    "equation": "Ctrl-E",
    "itemize": "Ctrl-I"
   },
   "labels_anchors": false,
   "latex_user_defs": false,
   "report_style_numbering": false,
   "user_envs_cfg": false
  },
  "toc": {
   "base_numbering": 1,
   "nav_menu": {},
   "number_sections": true,
   "sideBar": true,
   "skip_h1_title": false,
   "title_cell": "Table of Contents",
   "title_sidebar": "Contents",
   "toc_cell": false,
   "toc_position": {},
   "toc_section_display": true,
   "toc_window_display": false
  },
  "varInspector": {
   "cols": {
    "lenName": 16,
    "lenType": 16,
    "lenVar": 40
   },
   "kernels_config": {
    "python": {
     "delete_cmd_postfix": "",
     "delete_cmd_prefix": "del ",
     "library": "var_list.py",
     "varRefreshCmd": "print(var_dic_list())"
    },
    "r": {
     "delete_cmd_postfix": ") ",
     "delete_cmd_prefix": "rm(",
     "library": "var_list.r",
     "varRefreshCmd": "cat(var_dic_list()) "
    }
   },
   "types_to_exclude": [
    "module",
    "function",
    "builtin_function_or_method",
    "instance",
    "_Feature"
   ],
   "window_display": false
  }
 },
 "nbformat": 4,
 "nbformat_minor": 2
}
