{
 "cells": [
  {
   "cell_type": "markdown",
   "metadata": {},
   "source": [
    "# AdaBoost from Scratch  \n",
    "\n",
    "---\n",
    "\n",
    "![](https://images.unsplash.com/32/6Icr9fARMmTjTHqTzK8z_DSC_0123.jpg?ixlib=rb-1.2.1&ixid=eyJhcHBfaWQiOjEyMDd9&auto=format&fit=crop&w=1052&q=80)"
   ]
  },
  {
   "cell_type": "markdown",
   "metadata": {},
   "source": [
    "## I. Fit function"
   ]
  },
  {
   "cell_type": "markdown",
   "metadata": {},
   "source": [
    "So far, we have used packages to implement the classifiers. The packages are great, and usually well optimized. XGBoost or Catboost would take weeks to re-implement. However, Adaboost is surprisingly simple to implement. In this notebook, you will be asked to implement it from scratch."
   ]
  },
  {
   "cell_type": "markdown",
   "metadata": {},
   "source": [
    "We will break down the problem into several steps. Our aim is to create a class that contains 2 functions (+ the init function) : \n",
    "- a fit function\n",
    "- and a predict function\n",
    "\n",
    "Start off by importing the necessary packages :"
   ]
  },
  {
   "cell_type": "code",
   "execution_count": 1,
   "metadata": {
    "ExecuteTime": {
     "end_time": "2019-11-05T14:53:03.243586Z",
     "start_time": "2019-11-05T14:53:03.240906Z"
    }
   },
   "outputs": [],
   "source": [
    "# Imports"
   ]
  },
  {
   "cell_type": "markdown",
   "metadata": {
    "slideshow": {
     "slide_type": "fragment"
    }
   },
   "source": [
    "I'll leave the **pseudo-code** right here as a reference :\n",
    "\n",
    "***Step 1*** : Let $ w_{t}(i) = \\frac {1} {N} $ where $ N $ denotes the number of training samples, and let $ T $ be the chosen number of iterations.\n",
    "\n",
    "***Step 2*** : For $ t $ in $ T $ :\n",
    "\n",
    "  a. Pick $ h^t $ the weak classifier that minimizes $ \\epsilon_{t} $ , here we implement a weighted error metric :\n",
    "  \n",
    "  $$ \\epsilon_{t} = \\sum _{i=1}^{m} w_{t}(i)[y_{i}\\neq h(x_{i})] $$\n",
    "\n",
    "  b. Compute the weight of the stump :\n",
    "  \n",
    "  $$ \\alpha_t = \\frac {1} {2} ln \\frac {1-\\epsilon_{t}} {\\epsilon_{t}} $$\n",
    " \n",
    " c. Update the weights of the training examples $ w_{t+1}^{i} $ :\n",
    " \n",
    " $$ w_{t+1}(i) = \\frac { w_{t}(i) } { Z } e ^{- \\alpha^t h^t(x) y(x)} $$\n",
    " \n",
    " And go back to step a).\n",
    "\n",
    "***Step 3*** : $$ H(x) = sign(\\alpha^1 h^1(x) + \\alpha^2 h^2(x) + ... + \\alpha^T h^T(x)) $$\n",
    "\n",
    "And we're done ! This algorithm is called **AdaBoost**. This is the most important algorithm one needs to understand in order to fully understand Gradient Boosting we have introduced."
   ]
  },
  {
   "cell_type": "code",
   "execution_count": 1,
   "metadata": {
    "ExecuteTime": {
     "end_time": "2019-05-02T11:56:51.845346Z",
     "start_time": "2019-05-02T11:56:51.775574Z"
    }
   },
   "outputs": [],
   "source": [
    "def fit(X, y, n_clf):\n",
    "    \n",
    "    # Define the square weight matrix w\n",
    "    # Define the number of features and the number of samples\n",
    "    \n",
    "        \n",
    "    # For each classifier\n",
    "  \n",
    "        # Initialize the minimum error to infinity\n",
    "\n",
    "        \n",
    "        # Find the best threshold among all features for predicting Y\n",
    "\n",
    "            # Find all unique values within each column\n",
    "                \n",
    "\n",
    "            # Try every unique feature value as threshold\n",
    "\n",
    "                # Initialize all predictions and label the samples whose values are below threshold as '-1'\n",
    "                # Also define a polarity variable that states if we need to switch the order \n",
    "                    \n",
    "                    \n",
    "                # Compute the error (sum of weights of misclassified samples)\n",
    "                # If the error is over 50% we flip the predictions so that samples that\n",
    "                # were classified as 0 are classified as 1\n",
    "        \n",
    "                    \n",
    "                # If threshold imporves the error, save the polarity, threshold, feature index and min_error\n",
    "                \n",
    "    \n",
    "        # Compute the alpha of the stump (shift the min_error denominator by a tiny number to avoid dividing by 0)\n",
    "            \n",
    "            \n",
    "        # Compute the predictions according to the threshold selected\n",
    "            \n",
    "\n",
    "        # Compute the new weights and normalize them to 1\n",
    "            \n",
    "            \n",
    "        # Save the classifier\n",
    "        \n",
    "    \n",
    "    return clfs"
   ]
  },
  {
   "cell_type": "markdown",
   "metadata": {},
   "source": [
    "## II. Predict function"
   ]
  },
  {
   "cell_type": "markdown",
   "metadata": {},
   "source": [
    "Now, create the predict function :"
   ]
  },
  {
   "cell_type": "code",
   "execution_count": 2,
   "metadata": {
    "ExecuteTime": {
     "end_time": "2019-05-02T11:56:52.025291Z",
     "start_time": "2019-05-02T11:56:52.009360Z"
    }
   },
   "outputs": [],
   "source": [
    "def predict(X):\n",
    "    \n",
    "    # For each classifier, make the prediction\n",
    "    \n",
    "    \n",
    "    # Return sign of prediction\n",
    "    \n",
    "\n",
    "    return y_pred"
   ]
  },
  {
   "cell_type": "markdown",
   "metadata": {},
   "source": [
    "## III. Debug and implement"
   ]
  },
  {
   "cell_type": "markdown",
   "metadata": {},
   "source": [
    "Once this is done, try your classifier on the Breast Cancer Dataset. Use the accuracy metric with 10 classifiers."
   ]
  },
  {
   "cell_type": "code",
   "execution_count": 5,
   "metadata": {
    "ExecuteTime": {
     "end_time": "2019-05-02T12:00:50.110294Z",
     "start_time": "2019-05-02T12:00:46.075923Z"
    }
   },
   "outputs": [
    {
     "name": "stdout",
     "output_type": "stream",
     "text": [
      "Accuracy: 0.9532163742690059\n"
     ]
    }
   ],
   "source": [
    "data = datasets.load_breast_cancer()\n",
    "\n",
    "X = data.data\n",
    "y = data.target\n",
    "y[y == 0] = -1"
   ]
  },
  {
   "cell_type": "markdown",
   "metadata": {},
   "source": [
    "## IV. Create a class and try it"
   ]
  },
  {
   "cell_type": "markdown",
   "metadata": {},
   "source": [
    "*Additional exercise* : Package all these functions under a class called Adaboost"
   ]
  }
 ],
 "metadata": {
  "kernelspec": {
   "display_name": "Python 3",
   "language": "python",
   "name": "python3"
  },
  "language_info": {
   "codemirror_mode": {
    "name": "ipython",
    "version": 3
   },
   "file_extension": ".py",
   "mimetype": "text/x-python",
   "name": "python",
   "nbconvert_exporter": "python",
   "pygments_lexer": "ipython3",
   "version": "3.7.1"
  },
  "latex_envs": {
   "LaTeX_envs_menu_present": true,
   "autoclose": false,
   "autocomplete": true,
   "bibliofile": "biblio.bib",
   "cite_by": "apalike",
   "current_citInitial": 1,
   "eqLabelWithNumbers": true,
   "eqNumInitial": 1,
   "hotkeys": {
    "equation": "Ctrl-E",
    "itemize": "Ctrl-I"
   },
   "labels_anchors": false,
   "latex_user_defs": false,
   "report_style_numbering": false,
   "user_envs_cfg": false
  },
  "toc": {
   "base_numbering": 1,
   "nav_menu": {},
   "number_sections": true,
   "sideBar": true,
   "skip_h1_title": false,
   "title_cell": "Table of Contents",
   "title_sidebar": "Contents",
   "toc_cell": false,
   "toc_position": {},
   "toc_section_display": true,
   "toc_window_display": false
  },
  "varInspector": {
   "cols": {
    "lenName": 16,
    "lenType": 16,
    "lenVar": 40
   },
   "kernels_config": {
    "python": {
     "delete_cmd_postfix": "",
     "delete_cmd_prefix": "del ",
     "library": "var_list.py",
     "varRefreshCmd": "print(var_dic_list())"
    },
    "r": {
     "delete_cmd_postfix": ") ",
     "delete_cmd_prefix": "rm(",
     "library": "var_list.r",
     "varRefreshCmd": "cat(var_dic_list()) "
    }
   },
   "types_to_exclude": [
    "module",
    "function",
    "builtin_function_or_method",
    "instance",
    "_Feature"
   ],
   "window_display": false
  }
 },
 "nbformat": 4,
 "nbformat_minor": 2
}
