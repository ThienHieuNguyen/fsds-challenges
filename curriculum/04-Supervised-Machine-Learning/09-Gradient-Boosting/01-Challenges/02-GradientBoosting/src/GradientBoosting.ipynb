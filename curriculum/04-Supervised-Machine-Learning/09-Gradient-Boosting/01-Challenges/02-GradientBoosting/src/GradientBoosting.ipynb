{
 "cells": [
  {
   "cell_type": "markdown",
   "metadata": {},
   "source": [
    "# Gradient Boosting\n",
    "\n",
    "---\n"
   ]
  },
  {
   "cell_type": "code",
   "execution_count": 1,
   "metadata": {
    "ExecuteTime": {
     "end_time": "2019-11-05T14:42:18.969514Z",
     "start_time": "2019-11-05T14:42:18.964131Z"
    }
   },
   "outputs": [],
   "source": [
    "# Imports"
   ]
  },
  {
   "cell_type": "markdown",
   "metadata": {},
   "source": [
    "### Pseudo-Code :\n",
    "\n",
    "The algorithm can be then described as the following, on a dataset $(x,y)$ with $x$ the features and $y$ the targets, with a differentiable loss function $\\cal{L}$:\n",
    "\n",
    "$$ \\cal{L} = \\frac {1} {2} (Obs - Pred)^2 $$, called the Squared Residuals. "
   ]
  },
  {
   "cell_type": "markdown",
   "metadata": {
    "ExecuteTime": {
     "end_time": "2019-04-24T18:39:53.658544Z",
     "start_time": "2019-04-24T18:39:53.650531Z"
    }
   },
   "source": [
    "**Step 1** : Initialize the model with a constant value : $ \\gamma = \\frac{ \\sum_i y_i }{n} = \\bar{y} $\n",
    "\n",
    "This is simply the average of the observations. \n",
    "\n",
    "---"
   ]
  },
  {
   "cell_type": "markdown",
   "metadata": {},
   "source": [
    "**Step 2** : For each tree m = 1 to M (the maximum number of trees specified, e.g 100) \n",
    "\n",
    "- a) Compute the pseudo-residuals for every sample, i.e the true value - the predicted value :\n",
    "    \n",
    "    $ r_{im}  = (Obs - Pred) $\n",
    "\n",
    "---"
   ]
  },
  {
   "cell_type": "markdown",
   "metadata": {},
   "source": [
    "- b) Fit a regression tree on the residuals, and predict the residuals $ r_t $\n",
    "\n",
    "---"
   ]
  },
  {
   "cell_type": "markdown",
   "metadata": {},
   "source": [
    "- c) Update the prediction : \n",
    "\n",
    "$ Pred_t(x) = Pred_{t-1}(x) + lr \\times r_t $\n",
    "\n",
    "---"
   ]
  },
  {
   "cell_type": "markdown",
   "metadata": {},
   "source": [
    "We start by generating random data :"
   ]
  },
  {
   "cell_type": "code",
   "execution_count": 2,
   "metadata": {
    "ExecuteTime": {
     "end_time": "2019-05-03T21:51:10.649217Z",
     "start_time": "2019-05-03T21:51:10.625311Z"
    }
   },
   "outputs": [],
   "source": [
    "x = np.arange(0,50)\n",
    "x = pd.DataFrame({'x':x})\n",
    "\n",
    "y1 = np.random.uniform(10,15,10)\n",
    "y2 = np.random.uniform(20,25,10)\n",
    "y3 = np.random.uniform(0,5,10)\n",
    "y4 = np.random.uniform(30,32,10)\n",
    "y5 = np.random.uniform(13,17,10)\n",
    "\n",
    "y = np.concatenate((y1,y2,y3,y4,y5))\n",
    "y = y[:,None]"
   ]
  },
  {
   "cell_type": "markdown",
   "metadata": {},
   "source": [
    "**Q1**. Plot the data. What do you notice ? How do you expect a linear regression to work ? And a simple stump / decision tree ?"
   ]
  },
  {
   "cell_type": "code",
   "execution_count": 2,
   "metadata": {
    "ExecuteTime": {
     "end_time": "2019-11-05T14:42:33.206851Z",
     "start_time": "2019-11-05T14:42:33.202627Z"
    }
   },
   "outputs": [],
   "source": [
    "# TODO : Plot data"
   ]
  },
  {
   "cell_type": "markdown",
   "metadata": {},
   "source": [
    "**Q2**. Fit a stump on the data"
   ]
  },
  {
   "cell_type": "code",
   "execution_count": 3,
   "metadata": {
    "ExecuteTime": {
     "end_time": "2019-11-05T14:42:45.137286Z",
     "start_time": "2019-11-05T14:42:45.131472Z"
    }
   },
   "outputs": [],
   "source": [
    "# TODO : fit a stump on the data"
   ]
  },
  {
   "cell_type": "markdown",
   "metadata": {},
   "source": [
    "**Q3**. Identify the threshold of this decision tree (check Sklearn documentation). Print it."
   ]
  },
  {
   "cell_type": "code",
   "execution_count": 4,
   "metadata": {
    "ExecuteTime": {
     "end_time": "2019-11-05T14:43:09.431907Z",
     "start_time": "2019-11-05T14:43:09.426961Z"
    }
   },
   "outputs": [],
   "source": [
    "# TODO : find threshold"
   ]
  },
  {
   "cell_type": "markdown",
   "metadata": {},
   "source": [
    "**Q4**. Predict and plot the prediction of the decision tree and the threshold"
   ]
  },
  {
   "cell_type": "code",
   "execution_count": 7,
   "metadata": {
    "ExecuteTime": {
     "end_time": "2019-05-03T21:51:56.056766Z",
     "start_time": "2019-05-03T21:51:56.050030Z"
    }
   },
   "outputs": [],
   "source": [
    "# TODO : prediction"
   ]
  },
  {
   "cell_type": "code",
   "execution_count": 5,
   "metadata": {
    "ExecuteTime": {
     "end_time": "2019-11-05T14:43:29.469129Z",
     "start_time": "2019-11-05T14:43:29.464371Z"
    }
   },
   "outputs": [],
   "source": [
    "# TODO : plot"
   ]
  },
  {
   "cell_type": "markdown",
   "metadata": {},
   "source": [
    "**Q5**. What do you notice ? What metric would you use to assess the performance of our model ? Compute this metric."
   ]
  },
  {
   "cell_type": "code",
   "execution_count": 6,
   "metadata": {
    "ExecuteTime": {
     "end_time": "2019-11-05T14:43:48.158792Z",
     "start_time": "2019-11-05T14:43:48.154350Z"
    }
   },
   "outputs": [],
   "source": [
    "# TODO : metric"
   ]
  },
  {
   "cell_type": "markdown",
   "metadata": {},
   "source": [
    "This is the starting point for our estimation. Now, we need to go further and make our model more complex by implementing gradient boosting."
   ]
  },
  {
   "cell_type": "markdown",
   "metadata": {},
   "source": [
    "**Q6**. Implement a simple gradient boosting version. Try to :\n",
    "- use the Decision Tree Stump implemented in Sklearn\n",
    "- plot the prediction depending on the number of iterations"
   ]
  },
  {
   "cell_type": "code",
   "execution_count": null,
   "metadata": {},
   "outputs": [],
   "source": [
    "# Step 1\n",
    "# Save of copy of the input data x and y\n",
    "# Initialize the error, and the prediction\n",
    "# Define the learning rate (0.3)"
   ]
  },
  {
   "cell_type": "code",
   "execution_count": null,
   "metadata": {},
   "outputs": [],
   "source": [
    "# Step 2\n",
    "# Iterate according to the number of iterations chosen\n",
    "\n",
    "    # Step 2.a)\n",
    "    # Fit the decision tree / stump (max_depth = 1) on xi, yi\n",
    "\n",
    "    # Step 2.b)\n",
    "    # Use the fitted model to predict yi\n",
    "    \n",
    "    # Step 2.c)\n",
    "    # Compute the new prediction (learning rate !)\n",
    "    # Compute the new residuals, \n",
    "    # Set the new yi equal to the residuals\n",
    "    \n",
    "    # Every 10 iterations, plot the prediction vs the actual data"
   ]
  },
  {
   "cell_type": "markdown",
   "metadata": {},
   "source": [
    "**Q7**. Play around with the learning rate. What do you notice ? "
   ]
  },
  {
   "cell_type": "code",
   "execution_count": 11,
   "metadata": {
    "ExecuteTime": {
     "end_time": "2019-05-02T15:37:27.261266Z",
     "start_time": "2019-05-02T15:37:27.258512Z"
    }
   },
   "outputs": [],
   "source": []
  },
  {
   "cell_type": "markdown",
   "metadata": {},
   "source": [
    "**Q8**. Want to go further ? Build your own class and your own decision tree regressor."
   ]
  },
  {
   "cell_type": "code",
   "execution_count": null,
   "metadata": {},
   "outputs": [],
   "source": []
  }
 ],
 "metadata": {
  "kernelspec": {
   "display_name": "Python 3",
   "language": "python",
   "name": "python3"
  },
  "language_info": {
   "codemirror_mode": {
    "name": "ipython",
    "version": 3
   },
   "file_extension": ".py",
   "mimetype": "text/x-python",
   "name": "python",
   "nbconvert_exporter": "python",
   "pygments_lexer": "ipython3",
   "version": "3.7.1"
  },
  "latex_envs": {
   "LaTeX_envs_menu_present": true,
   "autoclose": false,
   "autocomplete": true,
   "bibliofile": "biblio.bib",
   "cite_by": "apalike",
   "current_citInitial": 1,
   "eqLabelWithNumbers": true,
   "eqNumInitial": 1,
   "hotkeys": {
    "equation": "Ctrl-E",
    "itemize": "Ctrl-I"
   },
   "labels_anchors": false,
   "latex_user_defs": false,
   "report_style_numbering": false,
   "user_envs_cfg": false
  },
  "toc": {
   "base_numbering": 1,
   "nav_menu": {},
   "number_sections": true,
   "sideBar": true,
   "skip_h1_title": false,
   "title_cell": "Table of Contents",
   "title_sidebar": "Contents",
   "toc_cell": false,
   "toc_position": {},
   "toc_section_display": true,
   "toc_window_display": false
  },
  "varInspector": {
   "cols": {
    "lenName": 16,
    "lenType": 16,
    "lenVar": 40
   },
   "kernels_config": {
    "python": {
     "delete_cmd_postfix": "",
     "delete_cmd_prefix": "del ",
     "library": "var_list.py",
     "varRefreshCmd": "print(var_dic_list())"
    },
    "r": {
     "delete_cmd_postfix": ") ",
     "delete_cmd_prefix": "rm(",
     "library": "var_list.r",
     "varRefreshCmd": "cat(var_dic_list()) "
    }
   },
   "types_to_exclude": [
    "module",
    "function",
    "builtin_function_or_method",
    "instance",
    "_Feature"
   ],
   "window_display": false
  }
 },
 "nbformat": 4,
 "nbformat_minor": 2
}
