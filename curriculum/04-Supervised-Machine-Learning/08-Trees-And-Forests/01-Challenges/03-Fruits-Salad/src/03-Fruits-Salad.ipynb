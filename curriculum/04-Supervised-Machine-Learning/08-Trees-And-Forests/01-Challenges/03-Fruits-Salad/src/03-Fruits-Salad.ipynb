{
 "cells": [
  {
   "cell_type": "markdown",
   "metadata": {},
   "source": [
    "# 04-07\n",
    "\n",
    "## Challenge 03 - Fruits Salad\n",
    "\n",
    "---\n",
    "\n",
    "![](https://encrypted-tbn0.gstatic.com/images?q=tbn:ANd9GcQH_IiB9VyZe_l_WQ75SdKcfUS_6U2h-h_O4R4wQBgQoaHD3yAl)"
   ]
  },
  {
   "cell_type": "markdown",
   "metadata": {},
   "source": [
    "## Instructions\n",
    "\n",
    "In this exercise, we will implement **Decision Tree** algorithm from scratch.\n",
    "\n",
    "In order to play with some data, you can use this toy dataset we created for you:\n",
    "\n",
    "```python\n",
    "# size, shape, color, diameter, origin, price_category\n",
    "fruits_features = [\n",
    "  ['medium', 'Round', 'Orange', 'medium', 'Spain', 'medium'],\n",
    "  ['medium', 'Round', 'Orange', 'medium', 'France', 'expensive'],\n",
    "  ['small', 'Round', 'Red', 'small', 'Italia', 'expensive'],\n",
    "  ['small', 'Oval', 'Red', 'small', 'Spain', 'medium'],\n",
    "  ['small', 'Round', 'Red', 'small', 'Italia', 'expensive'],\n",
    "  ['big', 'Round', 'Yellow', 'big', 'Mexico', 'expensive'],\n",
    "  ['medium', 'Round', 'Orange', 'medium', 'France', 'medium'],\n",
    "  ['small', 'Oval', 'Red', 'small', 'France', 'expensive'],\n",
    "  ['small', 'Round', 'Red', 'small', 'Mexico', 'cheap'],\n",
    "  ['small', 'Round', 'Green', 'small', 'Mexico', 'cheap']\n",
    "]\n",
    "\n",
    "fruits_columns = ['size', 'shape', 'color', 'diameter', 'origin', 'price_category']\n",
    "\n",
    "fruits_labels = ['Peach', 'Peach', 'Strawberry', 'Strawberry', 'Strawberry', 'Pineapple', 'Peach', 'Strawberry', 'Strawberry', 'Kiwi']\n",
    "```"
   ]
  },
  {
   "cell_type": "markdown",
   "metadata": {},
   "source": [
    "Q1. Write a function `gini` that takes in input a list of labels `labels` and that returns the **Gini impurity** associated of this `labels` dataset.\n",
    "\n",
    "> 🔦 **Hint**: Remember, to compute **[Gini impurity](https://en.wikipedia.org/wiki/Decision_tree_learning#Gini_impurity)**, you start at 1 and substract the square of the proportion of each label\n",
    "\n",
    "  For example,\n",
    "  ``` python\n",
    "  labels = [\"tomato\", \"tomato\", \"tomato\", \"orange\"]\n",
    "  gini_impurity = gini(labels)\n",
    "  print(gini_impurity)\n",
    "  # This will return 0.375 as gini_impurity is equal to:\n",
    "  # 1 - P(tomato)**2 - P(orange) ** 2 = 1 - 0.75**2 - 0.25**2\n",
    "  ```\n",
    "\n",
    "  > 🔦 **Hint**: To count the number of occurrences of an element in a list, you can code it in a for loop...or you can have a look at `Counter` function from `collections` library 😉"
   ]
  },
  {
   "cell_type": "code",
   "execution_count": null,
   "metadata": {},
   "outputs": [],
   "source": [
    "### TODO: implement the gini function and test it"
   ]
  },
  {
   "cell_type": "markdown",
   "metadata": {},
   "source": [
    "Test your function on the `fruits_labels`, what gini impurity do you get? Check by hand this is the correct result."
   ]
  },
  {
   "cell_type": "code",
   "execution_count": null,
   "metadata": {},
   "outputs": [],
   "source": [
    "### TODO: check the gini value"
   ]
  },
  {
   "cell_type": "markdown",
   "metadata": {},
   "source": [
    "Q2. Write a function `weighted_information_gain` that takes in input two arguments:\n",
    "  - a list of `parent_labels` containing labels\n",
    "  - another list `children_labels` containing lists of labels (the `children_labels` splitted into 2 or more lists)\n",
    "\n",
    "  The function should return the **weighted Information Gain** (Gini impurity of the parent split minus the weighted sum of the Gini impurity of the children splits) of the split.\n",
    "\n",
    "  For example,\n",
    "  ``` python\n",
    "  parent_labels = [\"tomato\", \"tomato\", \"tomato\", \"orange\"]\n",
    "  children_labels = [[\"tomato\", \"tomato\", \"tomato\"], [\"orange\"]]\n",
    "  info_gain = weighted_information_gain(parent_labels, children_labels)\n",
    "  print(info_gain)\n",
    "  # will return 0.375 as gini_impurity of parent split is equal to 0.375 and gini_impurity of the children splits are both equal to 0\n",
    "  ```"
   ]
  },
  {
   "cell_type": "code",
   "execution_count": null,
   "metadata": {},
   "outputs": [],
   "source": [
    "### TODO: implement the weighted_information function"
   ]
  },
  {
   "cell_type": "markdown",
   "metadata": {},
   "source": [
    "Check your function on some examples and validate the results by hand."
   ]
  },
  {
   "cell_type": "code",
   "execution_count": null,
   "metadata": {},
   "outputs": [],
   "source": [
    "### TODO: test and check your function"
   ]
  },
  {
   "cell_type": "markdown",
   "metadata": {},
   "source": [
    "Q3. We wrote for you a function `split` that splits a given dataset (list of list of values) and a given list of labels on a specified column index"
   ]
  },
  {
   "cell_type": "code",
   "execution_count": null,
   "metadata": {},
   "outputs": [],
   "source": [
    "def split(dataset, labels, column_idx):\n",
    "    data_subsets = []\n",
    "    label_subsets = []\n",
    "    counts = list(set([data[column_idx] for data in dataset]))\n",
    "    counts.sort()\n",
    "    for k in counts:\n",
    "        new_data_subset = []\n",
    "        new_label_subset = []\n",
    "        for i in range(len(dataset)):\n",
    "            if dataset[i][column_idx] == k:\n",
    "                new_data_subset.append(dataset[i])\n",
    "                new_label_subset.append(labels[i])\n",
    "        data_subsets.append(new_data_subset)\n",
    "        label_subsets.append(new_label_subset)\n",
    "    return data_subsets, label_subsets\n"
   ]
  },
  {
   "cell_type": "markdown",
   "metadata": {},
   "source": [
    "What does this function return? Feel free to test it and see the result on the toy dataset.\n",
    "\n",
    "By calling this function and the previous functions you coded, find **the best split**  which produces **the larger weighted information gain** on our toy dataset."
   ]
  },
  {
   "cell_type": "code",
   "execution_count": null,
   "metadata": {},
   "outputs": [],
   "source": [
    "### TODO: use the function split and check the weighted information gain"
   ]
  },
  {
   "cell_type": "markdown",
   "metadata": {},
   "source": [
    "Q4. Based on your last answer, create a function `find_best_split` that returns (for a given `dataset` and a list of `labels`) both the **best feature** and the **best associated information gain**"
   ]
  },
  {
   "cell_type": "code",
   "execution_count": null,
   "metadata": {},
   "outputs": [],
   "source": [
    "### TODO: implement find_best_split function"
   ]
  },
  {
   "cell_type": "markdown",
   "metadata": {},
   "source": [
    "Q5. Almost done, now let's create a function `build_tree` that will **recursively** build a tree based on given `features` and `labels` variables.\n",
    "\n",
    "The decision tree we will build will take the form of a dictionary with keys representing nodes and values representing subtrees.\n",
    "\n",
    "Write this function and use it to build your tree."
   ]
  },
  {
   "cell_type": "code",
   "execution_count": null,
   "metadata": {
    "scrolled": false
   },
   "outputs": [],
   "source": [
    "### TODO: implement the function build_tree"
   ]
  },
  {
   "cell_type": "markdown",
   "metadata": {},
   "source": [
    "Q6. Finally, build a function `classify` that returns the **predicted label** for a given data point (here a list of fruit features)."
   ]
  },
  {
   "cell_type": "code",
   "execution_count": null,
   "metadata": {},
   "outputs": [],
   "source": [
    "### TODO: implement and test the function classify"
   ]
  }
 ],
 "metadata": {
  "kernelspec": {
   "display_name": "Python 3",
   "language": "python",
   "name": "python3"
  },
  "language_info": {
   "codemirror_mode": {
    "name": "ipython",
    "version": 3
   },
   "file_extension": ".py",
   "mimetype": "text/x-python",
   "name": "python",
   "nbconvert_exporter": "python",
   "pygments_lexer": "ipython3",
   "version": "3.6.7"
  }
 },
 "nbformat": 4,
 "nbformat_minor": 2
}
