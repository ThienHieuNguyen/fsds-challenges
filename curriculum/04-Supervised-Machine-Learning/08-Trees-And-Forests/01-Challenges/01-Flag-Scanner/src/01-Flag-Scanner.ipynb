{
 "cells": [
  {
   "cell_type": "markdown",
   "metadata": {},
   "source": [
    "# 04-07\n",
    "\n",
    "## Challenge 01 - Flag Scanner 🇧🇯🇨🇳🇧🇧🇪🇨🇨🇺🇬🇦🇫🇮\n",
    "\n",
    "---\n",
    "\n",
    "![](https://www.probuilder.com/sites/probuilder/files/styles/con/public/oleh-aleinyk-711501-unsplash.jpg?itok=2wp-5ulq)\n",
    "\n",
    "## Instructions\n",
    "\n",
    "In this exercise, we will train a **Decision Tree** model that predicts the continent of a country based on its flag.\n",
    "\n",
    "The data comes from this open dataset: http://archive.ics.uci.edu/ml/datasets/Flags\n",
    "\n",
    "You will make sure to create **reproducible results** by stating a `random_state` anytime it is required.\n",
    "\n",
    "Follow the steps below:"
   ]
  },
  {
   "cell_type": "markdown",
   "metadata": {},
   "source": [
    "Q1. Load the dataset in a DataFrame variable named `flags`. Make sure to include row 0 as header as it contains the column names.\n",
    "\n",
    "  What is the shape of the data, what features (and how many) does the dataset contain?"
   ]
  },
  {
   "cell_type": "code",
   "execution_count": null,
   "metadata": {
    "scrolled": true
   },
   "outputs": [],
   "source": [
    "### TODO: load the dataset"
   ]
  },
  {
   "cell_type": "markdown",
   "metadata": {},
   "source": [
    "Q2. Create a DataFrame variable `y` corresponding to our target variable column."
   ]
  },
  {
   "cell_type": "code",
   "execution_count": null,
   "metadata": {},
   "outputs": [],
   "source": [
    "### TODO: create y"
   ]
  },
  {
   "cell_type": "markdown",
   "metadata": {},
   "source": [
    "Q3. Create a DataFrame variable `X` containing only the following features columns:\n",
    "  - \"Red\"\n",
    "  - \"Green\"\n",
    "  - \"Blue\"\n",
    "  - \"Gold\"\n",
    "  - \"White\"\n",
    "  - \"Black\"\n",
    "  - \"Orange\""
   ]
  },
  {
   "cell_type": "code",
   "execution_count": null,
   "metadata": {},
   "outputs": [],
   "source": [
    "### TODO: create X"
   ]
  },
  {
   "cell_type": "markdown",
   "metadata": {},
   "source": [
    "Q4. Split your data into a training set of 70% and a testing set with the remaining lines."
   ]
  },
  {
   "cell_type": "code",
   "execution_count": null,
   "metadata": {},
   "outputs": [],
   "source": [
    "### TODO: split your data"
   ]
  },
  {
   "cell_type": "markdown",
   "metadata": {},
   "source": [
    "Q5. Fit a **`DecisionTree`** classifier on your data and **evaluate your model**. What would be the score of *random guessing* the continent? Compare with your model performance."
   ]
  },
  {
   "cell_type": "code",
   "execution_count": null,
   "metadata": {},
   "outputs": [],
   "source": [
    "### TODO: fit your model and evaluate it"
   ]
  },
  {
   "cell_type": "markdown",
   "metadata": {},
   "source": [
    "Q6. We have a first performance benchmark. Using `GridSearchCV`, train your tree with `max_depth` value varying from 1 to 20 and observe the impact on your accuracy.\n",
    "\n",
    "  Plot these results in a chart with x-axis for depth of the tree and the y-axis corresponding the tree's accuracy.\n"
   ]
  },
  {
   "cell_type": "code",
   "execution_count": null,
   "metadata": {},
   "outputs": [],
   "source": [
    "### TODO: compute a grid search"
   ]
  },
  {
   "cell_type": "code",
   "execution_count": null,
   "metadata": {},
   "outputs": [],
   "source": [
    "### TODO: plot the results of the grid search"
   ]
  },
  {
   "cell_type": "markdown",
   "metadata": {},
   "source": [
    "Q7. \n",
    "> 🔦 **Hint**: Our graph does not really look like what we expected. The depth of the tree does not have a clear impact on the tree score. This might be a good indication that we are not using enough features.\n",
    "\n",
    "  Add all the features associated to the the shapes of the flag, and redo the analysis. What does your graph look like after making this change?"
   ]
  },
  {
   "cell_type": "code",
   "execution_count": null,
   "metadata": {},
   "outputs": [],
   "source": [
    "### TODO: add features and redo the analysis"
   ]
  },
  {
   "cell_type": "markdown",
   "metadata": {},
   "source": [
    "Q8. Explore on your own and try improving the score of your decision tree. Here are some suggestions on improvements:\n",
    "  - Tune other hyper-parameters. Think about whether you are overfitting or underfitting the data based on the hyper-parameter selected and the value chosen\n",
    "  - Select a subset of features that work better on this data  \n"
   ]
  },
  {
   "cell_type": "code",
   "execution_count": null,
   "metadata": {},
   "outputs": [],
   "source": [
    "### TODO: improve your score!"
   ]
  }
 ],
 "metadata": {
  "kernelspec": {
   "display_name": "Python 3",
   "language": "python",
   "name": "python3"
  },
  "language_info": {
   "codemirror_mode": {
    "name": "ipython",
    "version": 3
   },
   "file_extension": ".py",
   "mimetype": "text/x-python",
   "name": "python",
   "nbconvert_exporter": "python",
   "pygments_lexer": "ipython3",
   "version": "3.6.7"
  }
 },
 "nbformat": 4,
 "nbformat_minor": 2
}
