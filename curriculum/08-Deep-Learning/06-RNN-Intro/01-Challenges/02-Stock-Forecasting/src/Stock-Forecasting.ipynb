{
 "cells": [
  {
   "cell_type": "markdown",
   "metadata": {},
   "source": [
    "# Stock-Forecasting\n",
    "\n",
    "![](https://images.unsplash.com/photo-1468254095679-bbcba94a7066?ixlib=rb-1.2.1&ixid=eyJhcHBfaWQiOjEyMDd9&auto=format&fit=crop&w=1049&q=80)"
   ]
  },
  {
   "cell_type": "markdown",
   "metadata": {},
   "source": [
    "In this exercise, you will use a RNN to predict the stock market evolution.\n",
    "\n",
    "Stock market can be seen as a sequence of values (each day is a step), and thus you can predict the closing value of the next day, knowing the past."
   ]
  },
  {
   "cell_type": "markdown",
   "metadata": {},
   "source": [
    "First, load the dataset `all_stocks_5yr.csv`, which contains all the stock market values over 5 years for many companies. Then explore it."
   ]
  },
  {
   "cell_type": "code",
   "execution_count": null,
   "metadata": {
    "ExecuteTime": {
     "end_time": "2019-12-01T21:44:09.158497Z",
     "start_time": "2019-12-01T21:44:09.155573Z"
    }
   },
   "outputs": [],
   "source": [
    "# TODO: Load the dataset and explore it"
   ]
  },
  {
   "cell_type": "code",
   "execution_count": null,
   "metadata": {
    "ExecuteTime": {
     "end_time": "2019-12-01T21:44:11.752394Z",
     "start_time": "2019-12-01T21:44:11.747167Z"
    },
    "scrolled": true
   },
   "outputs": [],
   "source": [
    "# TODO: Load the dataset and explore it"
   ]
  },
  {
   "cell_type": "markdown",
   "metadata": {},
   "source": [
    "The column name represent the name of the stock, for example `'AAL'` stands for American Airlines.\n",
    "\n",
    "Select a name for which you have many information (i.e. the more lines), and plot the `close` value of this stock as a function of time. This represents the stock market evolution."
   ]
  },
  {
   "cell_type": "code",
   "execution_count": null,
   "metadata": {
    "ExecuteTime": {
     "end_time": "2019-12-01T21:44:15.021055Z",
     "start_time": "2019-12-01T21:44:15.017008Z"
    },
    "scrolled": true
   },
   "outputs": [],
   "source": [
    "# TODO: Plot the stock market evolution of a given name"
   ]
  },
  {
   "cell_type": "code",
   "execution_count": null,
   "metadata": {
    "ExecuteTime": {
     "end_time": "2019-12-01T21:44:18.177627Z",
     "start_time": "2019-12-01T21:44:18.172816Z"
    }
   },
   "outputs": [],
   "source": [
    "# TODO: Plot the stock market evolution of a given name"
   ]
  },
  {
   "cell_type": "markdown",
   "metadata": {},
   "source": [
    "We will now try to make a prediction of this close value of a day, based on all the features (`open`, `high`, `low`, `close`, `volume`) of the 30 past days.\n",
    "\n",
    "Before doing so, we need to create the (X, y) dataset!\n",
    "\n",
    "Let's consider your action `Name` has 100 lines.\n",
    "\n",
    "The `X` values should contain, in each line, a table of 30 days and 5 features (`open`, `high`, `low`, `close`, `volume`). So that the final `X` array will have the shape `(70, 30, 5)`.\n",
    "\n",
    "This `y` values should be the `close` values of the days 31 to last (indeed, `y` can not contain the 30 first days, since we need 30 days of X to predict before). So the final `y` array will have the shape `(70, 1)` (or equivalently `(70,)`)."
   ]
  },
  {
   "cell_type": "code",
   "execution_count": null,
   "metadata": {
    "ExecuteTime": {
     "end_time": "2019-12-01T21:44:22.870934Z",
     "start_time": "2019-12-01T21:44:22.865857Z"
    }
   },
   "outputs": [],
   "source": [
    "# TODO: compute X and y"
   ]
  },
  {
   "cell_type": "markdown",
   "metadata": {},
   "source": [
    "You already know the next step: prepare and split the data. Be careful, we want to keep the order in sequence..."
   ]
  },
  {
   "cell_type": "code",
   "execution_count": null,
   "metadata": {
    "ExecuteTime": {
     "end_time": "2019-12-01T21:44:26.899992Z",
     "start_time": "2019-12-01T21:44:26.895485Z"
    }
   },
   "outputs": [],
   "source": [
    "# TODO: Prepare and split the data"
   ]
  },
  {
   "cell_type": "markdown",
   "metadata": {},
   "source": [
    "Now that the data is ready, build a RNN model (for example begin with 2 layers of 16 units), compile it and train it."
   ]
  },
  {
   "cell_type": "code",
   "execution_count": null,
   "metadata": {
    "ExecuteTime": {
     "end_time": "2019-12-01T21:44:30.926201Z",
     "start_time": "2019-12-01T21:44:30.921988Z"
    },
    "scrolled": true
   },
   "outputs": [],
   "source": [
    "# TODO: Train your RNN model"
   ]
  },
  {
   "cell_type": "markdown",
   "metadata": {},
   "source": [
    "Finally, plot the results: display on the same plot `y_train`, `y_test` and the prediction of `y_test`."
   ]
  },
  {
   "cell_type": "code",
   "execution_count": null,
   "metadata": {
    "ExecuteTime": {
     "end_time": "2019-12-01T21:44:34.072035Z",
     "start_time": "2019-12-01T21:44:34.067397Z"
    }
   },
   "outputs": [],
   "source": [
    "# TODO: Plot the results"
   ]
  },
  {
   "cell_type": "markdown",
   "metadata": {},
   "source": [
    "You can try to improve your model by adding as features the information of other actions. As you know, in stock market, most of the information that impacts it is out of the stock market information itself."
   ]
  }
 ],
 "metadata": {
  "kernelspec": {
   "display_name": "Python 3",
   "language": "python",
   "name": "python3"
  },
  "language_info": {
   "codemirror_mode": {
    "name": "ipython",
    "version": 3
   },
   "file_extension": ".py",
   "mimetype": "text/x-python",
   "name": "python",
   "nbconvert_exporter": "python",
   "pygments_lexer": "ipython3",
   "version": "3.7.6"
  },
  "toc": {
   "base_numbering": 1,
   "nav_menu": {},
   "number_sections": true,
   "sideBar": true,
   "skip_h1_title": false,
   "title_cell": "Table of Contents",
   "title_sidebar": "Contents",
   "toc_cell": false,
   "toc_position": {},
   "toc_section_display": true,
   "toc_window_display": false
  },
  "varInspector": {
   "cols": {
    "lenName": 16,
    "lenType": 16,
    "lenVar": 40
   },
   "kernels_config": {
    "python": {
     "delete_cmd_postfix": "",
     "delete_cmd_prefix": "del ",
     "library": "var_list.py",
     "varRefreshCmd": "print(var_dic_list())"
    },
    "r": {
     "delete_cmd_postfix": ") ",
     "delete_cmd_prefix": "rm(",
     "library": "var_list.r",
     "varRefreshCmd": "cat(var_dic_list()) "
    }
   },
   "types_to_exclude": [
    "module",
    "function",
    "builtin_function_or_method",
    "instance",
    "_Feature"
   ],
   "window_display": false
  }
 },
 "nbformat": 4,
 "nbformat_minor": 2
}
