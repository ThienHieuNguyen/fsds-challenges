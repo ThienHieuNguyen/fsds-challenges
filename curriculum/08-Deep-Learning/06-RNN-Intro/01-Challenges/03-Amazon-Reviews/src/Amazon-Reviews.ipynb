{
 "cells": [
  {
   "cell_type": "markdown",
   "metadata": {},
   "source": [
    "# Challenge - Amazon Reviews\n",
    "\n",
    "![](https://images.unsplash.com/photo-1437149853762-a9c0fe22c9d0?ixlib=rb-1.2.1&ixid=eyJhcHBfaWQiOjEyMDd9&auto=format&fit=crop&w=1189&q=80)\n",
    "\n",
    "Photo by [蔡 嘉宇](https://unsplash.com/photos/QiVVtHrrC6I)\n",
    "\n",
    "## Guidelines\n",
    "\n",
    "In this mini project, you will predict amazon reviews. The dataset `amazon_reviews.txt` contains 10000 unprocessed reviews.\n",
    "\n",
    "To help you, here are the steps to follow:\n",
    "* Data loading and preprocessing: create your X (e.g. BOW output) and y (labels)\n",
    "* Model building: design your RNN model\n",
    "* Training and performance estimation\n",
    "* Iterations: try to improve your performances\n",
    "\n",
    "If you have time, compare results with traditional NLP!\n"
   ]
  }
 ],
 "metadata": {
  "kernelspec": {
   "display_name": "Python 3",
   "language": "python",
   "name": "python3"
  },
  "language_info": {
   "codemirror_mode": {
    "name": "ipython",
    "version": 3
   },
   "file_extension": ".py",
   "mimetype": "text/x-python",
   "name": "python",
   "nbconvert_exporter": "python",
   "pygments_lexer": "ipython3",
   "version": "3.7.1"
  },
  "toc": {
   "base_numbering": 1,
   "nav_menu": {},
   "number_sections": true,
   "sideBar": true,
   "skip_h1_title": false,
   "title_cell": "Table of Contents",
   "title_sidebar": "Contents",
   "toc_cell": false,
   "toc_position": {},
   "toc_section_display": true,
   "toc_window_display": false
  },
  "varInspector": {
   "cols": {
    "lenName": 16,
    "lenType": 16,
    "lenVar": 40
   },
   "kernels_config": {
    "python": {
     "delete_cmd_postfix": "",
     "delete_cmd_prefix": "del ",
     "library": "var_list.py",
     "varRefreshCmd": "print(var_dic_list())"
    },
    "r": {
     "delete_cmd_postfix": ") ",
     "delete_cmd_prefix": "rm(",
     "library": "var_list.r",
     "varRefreshCmd": "cat(var_dic_list()) "
    }
   },
   "types_to_exclude": [
    "module",
    "function",
    "builtin_function_or_method",
    "instance",
    "_Feature"
   ],
   "window_display": false
  }
 },
 "nbformat": 4,
 "nbformat_minor": 2
}
