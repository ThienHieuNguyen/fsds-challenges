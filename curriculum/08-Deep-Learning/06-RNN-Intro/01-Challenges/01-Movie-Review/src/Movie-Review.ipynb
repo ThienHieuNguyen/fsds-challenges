{
 "cells": [
  {
   "cell_type": "markdown",
   "metadata": {},
   "source": [
    "# Movie-Review\n",
    "\n",
    "![](https://images.unsplash.com/photo-1524985069026-dd778a71c7b4?ixlib=rb-1.2.1&ixid=eyJhcHBfaWQiOjEyMDd9&auto=format&fit=crop&w=1051&q=80)"
   ]
  },
  {
   "cell_type": "markdown",
   "metadata": {},
   "source": [
    "In this exercise, you will compare the classical NLP approach to the sequential approach on the movie dataset."
   ]
  },
  {
   "cell_type": "markdown",
   "metadata": {},
   "source": [
    "First download the dataset, located in `tensorflow.keras.datasets.imdb` with 10000 words (if you are experiencing memory issue, you can go down to 5000 words)."
   ]
  },
  {
   "cell_type": "code",
   "execution_count": null,
   "metadata": {
    "ExecuteTime": {
     "end_time": "2019-12-01T21:41:56.884130Z",
     "start_time": "2019-12-01T21:41:56.880626Z"
    },
    "scrolled": true
   },
   "outputs": [],
   "source": [
    "# TODO: Load the dataset"
   ]
  },
  {
   "cell_type": "markdown",
   "metadata": {},
   "source": [
    "Explore the dataset: you can make use of the function `imdb.get_word_index()` to get back to words and display some reviews. Be careful, the word indices `0`, `1`, `2` and `3` are reserved and mean no word. "
   ]
  },
  {
   "cell_type": "code",
   "execution_count": null,
   "metadata": {
    "ExecuteTime": {
     "end_time": "2019-12-01T21:42:09.579547Z",
     "start_time": "2019-12-01T21:42:09.574398Z"
    },
    "scrolled": false
   },
   "outputs": [],
   "source": [
    "# TODO: Explore the data, display some sentences"
   ]
  },
  {
   "cell_type": "markdown",
   "metadata": {},
   "source": [
    "## Classical NLP"
   ]
  },
  {
   "cell_type": "markdown",
   "metadata": {},
   "source": [
    "Make a prediction using classical NLP tools: BOW and TF-IDF. Followed by a classification model. Choose a random forest or gradient boosting, and perform a grid search for hyperparameter optimization.\n",
    "\n",
    "*Warning, you are used to manipulate words, here they are already encoded into integers.*"
   ]
  },
  {
   "cell_type": "code",
   "execution_count": null,
   "metadata": {
    "ExecuteTime": {
     "end_time": "2019-12-01T21:42:13.032180Z",
     "start_time": "2019-12-01T21:42:13.027983Z"
    }
   },
   "outputs": [],
   "source": [
    "### TODO: Perform classification using NLP tools"
   ]
  },
  {
   "cell_type": "code",
   "execution_count": null,
   "metadata": {
    "ExecuteTime": {
     "end_time": "2019-12-01T21:42:16.986287Z",
     "start_time": "2019-12-01T21:42:16.980992Z"
    }
   },
   "outputs": [],
   "source": [
    "### TODO: Perform classification using NLP tools"
   ]
  },
  {
   "cell_type": "code",
   "execution_count": null,
   "metadata": {
    "ExecuteTime": {
     "end_time": "2019-12-01T21:42:20.029761Z",
     "start_time": "2019-12-01T21:42:20.025724Z"
    }
   },
   "outputs": [],
   "source": [
    "### TODO: Perform classification using NLP tools"
   ]
  },
  {
   "cell_type": "markdown",
   "metadata": {},
   "source": [
    "What accuracy did you reach? Let's see if you can do better with RNN."
   ]
  },
  {
   "cell_type": "markdown",
   "metadata": {},
   "source": [
    "## RNN"
   ]
  },
  {
   "cell_type": "markdown",
   "metadata": {},
   "source": [
    "Since you will use sequences, you will have to choose a sequence length.\n",
    "\n",
    "First, you can check the min, max and average length of the sequences."
   ]
  },
  {
   "cell_type": "code",
   "execution_count": null,
   "metadata": {
    "ExecuteTime": {
     "end_time": "2019-12-01T21:42:36.888514Z",
     "start_time": "2019-12-01T21:42:36.884318Z"
    },
    "scrolled": true
   },
   "outputs": [],
   "source": [
    "# TODO: compute basic descriptive statistics of the length of sequences"
   ]
  },
  {
   "cell_type": "markdown",
   "metadata": {},
   "source": [
    "Make now the padding of sequences: you choose a value related to the mean or median length."
   ]
  },
  {
   "cell_type": "code",
   "execution_count": null,
   "metadata": {
    "ExecuteTime": {
     "end_time": "2019-12-01T21:42:41.901660Z",
     "start_time": "2019-12-01T21:42:41.896673Z"
    }
   },
   "outputs": [],
   "source": [
    "# TODO: Make the padding"
   ]
  },
  {
   "cell_type": "markdown",
   "metadata": {},
   "source": [
    "Now build a RNN, with for example two layers of 32 units. Do not forget the first layer of embedding, and the last layer of sigmoid for binary classification. Warning, the training might take several minutes! You can choose to have less layers and/or units!"
   ]
  },
  {
   "cell_type": "code",
   "execution_count": null,
   "metadata": {
    "ExecuteTime": {
     "end_time": "2019-12-01T21:42:45.307809Z",
     "start_time": "2019-12-01T21:42:45.303643Z"
    }
   },
   "outputs": [],
   "source": [
    "# TODO: Build your model"
   ]
  },
  {
   "cell_type": "markdown",
   "metadata": {},
   "source": [
    "Finally compile and train the model on the training data."
   ]
  },
  {
   "cell_type": "code",
   "execution_count": null,
   "metadata": {
    "ExecuteTime": {
     "end_time": "2019-12-01T21:42:49.519999Z",
     "start_time": "2019-12-01T21:42:49.516319Z"
    },
    "scrolled": true
   },
   "outputs": [],
   "source": [
    "# TODO: Compile and fit your model"
   ]
  },
  {
   "cell_type": "markdown",
   "metadata": {},
   "source": [
    "You can have a look at the tensorboard as usual."
   ]
  },
  {
   "cell_type": "markdown",
   "metadata": {},
   "source": [
    "As usual, compute the accuracy."
   ]
  },
  {
   "cell_type": "code",
   "execution_count": null,
   "metadata": {
    "ExecuteTime": {
     "end_time": "2019-12-01T21:42:52.827923Z",
     "start_time": "2019-12-01T21:42:52.822254Z"
    }
   },
   "outputs": [],
   "source": [
    "# TODO: Compute the accuracy of your model"
   ]
  },
  {
   "cell_type": "markdown",
   "metadata": {},
   "source": [
    "You might want to improve your results by playing with the hyperparameters: play with the layers and number of units, you can add dropout, play with the optimizer, mini-batch size, data preprocessing..."
   ]
  }
 ],
 "metadata": {
  "kernelspec": {
   "display_name": "Python 3",
   "language": "python",
   "name": "python3"
  },
  "language_info": {
   "codemirror_mode": {
    "name": "ipython",
    "version": 3
   },
   "file_extension": ".py",
   "mimetype": "text/x-python",
   "name": "python",
   "nbconvert_exporter": "python",
   "pygments_lexer": "ipython3",
   "version": "3.7.1"
  },
  "toc": {
   "base_numbering": 1,
   "nav_menu": {},
   "number_sections": true,
   "sideBar": true,
   "skip_h1_title": false,
   "title_cell": "Table of Contents",
   "title_sidebar": "Contents",
   "toc_cell": false,
   "toc_position": {},
   "toc_section_display": true,
   "toc_window_display": false
  },
  "varInspector": {
   "cols": {
    "lenName": 16,
    "lenType": 16,
    "lenVar": 40
   },
   "kernels_config": {
    "python": {
     "delete_cmd_postfix": "",
     "delete_cmd_prefix": "del ",
     "library": "var_list.py",
     "varRefreshCmd": "print(var_dic_list())"
    },
    "r": {
     "delete_cmd_postfix": ") ",
     "delete_cmd_prefix": "rm(",
     "library": "var_list.r",
     "varRefreshCmd": "cat(var_dic_list()) "
    }
   },
   "types_to_exclude": [
    "module",
    "function",
    "builtin_function_or_method",
    "instance",
    "_Feature"
   ],
   "window_display": false
  }
 },
 "nbformat": 4,
 "nbformat_minor": 2
}
