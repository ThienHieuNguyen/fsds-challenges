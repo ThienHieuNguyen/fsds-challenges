{
 "cells": [
  {
   "cell_type": "markdown",
   "metadata": {},
   "source": [
    "# 01 Face Detection"
   ]
  },
  {
   "cell_type": "markdown",
   "metadata": {},
   "source": [
    "![](https://images.unsplash.com/photo-1551034976-ed4608d88b04?ixlib=rb-1.2.1&ixid=eyJhcHBfaWQiOjEyMDd9&auto=format&fit=crop&w=1050&q=80)\n",
    "\n",
    "Photo by [Bill Mackie](https://unsplash.com/photos/ahrAuNeoc6w)"
   ]
  },
  {
   "cell_type": "markdown",
   "metadata": {},
   "source": [
    "In this first exercise, you will apply a basic face detection algorithm, that will later reuse."
   ]
  },
  {
   "cell_type": "markdown",
   "metadata": {},
   "source": [
    "First, load and display the image `Trump-baseball.jpg` as a numpy array."
   ]
  },
  {
   "cell_type": "code",
   "execution_count": null,
   "metadata": {
    "scrolled": false
   },
   "outputs": [],
   "source": [
    "# TODO: load the image"
   ]
  },
  {
   "cell_type": "markdown",
   "metadata": {},
   "source": [
    "You will now use openCV to get the faces on this image.\n",
    "First install openCV, using the command `pip install opencv-python`.\n",
    "\n",
    "Then find the cascade classifier xml files. They should be located somewhere like:\n",
    "\n",
    "`/usr/local/lib/python3.6/dist-packages/cv2/data/haarcascade_frontalface_default.xml`\n",
    "\n",
    "Or, if you're using pyenv :\n",
    "\n",
    "`~/.pyenv/versions/3.7.6/envs/vivadata/lib/python3.7/site-packages/cv2/data`\n",
    "\n",
    "You can use the command `find` in your terminal to find this file."
   ]
  },
  {
   "cell_type": "markdown",
   "metadata": {},
   "source": [
    "Then import the library openCV (called `cv2`) and instantiate a `CascadeClassifier` object"
   ]
  },
  {
   "cell_type": "code",
   "execution_count": null,
   "metadata": {
    "scrolled": true
   },
   "outputs": [],
   "source": [
    "# TODO: import openCV and instantiate a CascadeClassifier"
   ]
  },
  {
   "cell_type": "markdown",
   "metadata": {},
   "source": [
    "Apply the classifier to the input image using the method `detectMultiScale`"
   ]
  },
  {
   "cell_type": "code",
   "execution_count": null,
   "metadata": {
    "scrolled": true
   },
   "outputs": [],
   "source": [
    "# TODO: Apply the classifier to your image"
   ]
  },
  {
   "cell_type": "markdown",
   "metadata": {},
   "source": [
    "Play around with the output of your classifier. What type of data is outputed? How much faces does it detect?"
   ]
  },
  {
   "cell_type": "code",
   "execution_count": null,
   "metadata": {
    "scrolled": false
   },
   "outputs": [],
   "source": [
    "# TODO: Explore the output"
   ]
  },
  {
   "cell_type": "markdown",
   "metadata": {},
   "source": [
    "Using the `rectangle` object of openCV, display the image with the bounding boxes around the faces.\n",
    "\n",
    "NB: One can use the `matplotlib.patches.Rectangle` as well."
   ]
  },
  {
   "cell_type": "code",
   "execution_count": null,
   "metadata": {
    "scrolled": false
   },
   "outputs": [],
   "source": [
    "# TODO: display the image with bounding boxes around faces"
   ]
  },
  {
   "cell_type": "markdown",
   "metadata": {},
   "source": [
    "How do you feel? Is it working well?\n",
    "\n",
    "If not, you have some hyperparameters in the method `detectMultiScale`, specifically:\n",
    "- scaleFactor: bigger scale factor will make your algorithm go faster, with less accuracy. A value between 1 and 1.3 is usual.\n",
    "- minNeighbors: how many neighbors each candidate box should have to retain it. High values mean better accuracy, but less detections. A value around 5 might be a good option.\n",
    "- minSize: the minimun size of a box, e.g. (30,30) for a square of 30 pixels side\n",
    "- maxSize: maximum size of a box\n",
    "\n",
    "Play with those hyperparameters to get a better result."
   ]
  },
  {
   "cell_type": "code",
   "execution_count": null,
   "metadata": {
    "scrolled": false
   },
   "outputs": [],
   "source": [
    "# TODO: Play with hyperparameters to get a better result"
   ]
  },
  {
   "cell_type": "markdown",
   "metadata": {},
   "source": [
    "**Optional**: Detect your face on your webcam!\n",
    "\n",
    "To do so, you can use the `VideoCapture` of openCV. More specifically, you have to do the following:\n",
    "```Python\n",
    "video_capture = cv2.VideoCapture(0)\n",
    "```\n",
    "\n",
    "This will instantiate an object that will allow you to get your camera input.\n",
    "\n",
    "Then, in a `while` loop, you can just do:\n",
    "```Python\n",
    "ret, frame = video_capture.read()\n",
    "```\n",
    "\n",
    "The variable `frame` will contain then an image as a numpy array (just like using `plt.imread`). You can then do the face detection and display the result.\n",
    "\n",
    "Do not forget to put a break into your `while` loop.\n",
    "For example, if you use the following code, your video will stop when you press the `Q` keyboard.\n",
    "```Python\n",
    "if cv2.waitKey(1) & 0xFF == ord('q'):\n",
    "    break\n",
    "```\n",
    "\n"
   ]
  },
  {
   "cell_type": "code",
   "execution_count": null,
   "metadata": {},
   "outputs": [],
   "source": [
    "# TODO: use face detection on your webcam"
   ]
  },
  {
   "cell_type": "markdown",
   "metadata": {},
   "source": [
    "If you want even more, be aware that you can detect the eyes and the mouth using the same method. All you have to do is use the right XML file when instantiating your `CascadeClassifier`."
   ]
  }
 ],
 "metadata": {
  "kernelspec": {
   "display_name": "Python 3",
   "language": "python",
   "name": "python3"
  },
  "language_info": {
   "codemirror_mode": {
    "name": "ipython",
    "version": 3
   },
   "file_extension": ".py",
   "mimetype": "text/x-python",
   "name": "python",
   "nbconvert_exporter": "python",
   "pygments_lexer": "ipython3",
   "version": "3.7.6"
  },
  "toc": {
   "base_numbering": 1,
   "nav_menu": {},
   "number_sections": true,
   "sideBar": true,
   "skip_h1_title": false,
   "title_cell": "Table of Contents",
   "title_sidebar": "Contents",
   "toc_cell": false,
   "toc_position": {},
   "toc_section_display": true,
   "toc_window_display": false
  }
 },
 "nbformat": 4,
 "nbformat_minor": 2
}
