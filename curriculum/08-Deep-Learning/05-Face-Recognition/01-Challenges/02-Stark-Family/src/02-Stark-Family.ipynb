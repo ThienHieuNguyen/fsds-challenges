{
 "cells": [
  {
   "cell_type": "markdown",
   "metadata": {},
   "source": [
    "# 02 Stark Family"
   ]
  },
  {
   "cell_type": "markdown",
   "metadata": {},
   "source": [
    "![](https://images.unsplash.com/photo-1515255384510-23e8b6a6ca3c?ixlib=rb-1.2.1&ixid=eyJhcHBfaWQiOjEyMDd9&auto=format&fit=crop&w=1189&q=80)\n",
    "\n",
    "Photo by [mauRÍCIO santos](https://unsplash.com/photos/N1gFsYf9AI0)"
   ]
  },
  {
   "cell_type": "markdown",
   "metadata": {},
   "source": [
    "In this exercise, you will make your own face recognition system and apply to some examples."
   ]
  },
  {
   "cell_type": "markdown",
   "metadata": {},
   "source": [
    "First, you have to install some dependencies:\n",
    "- `pip install cmake`\n",
    "- `pip install dlib`\n",
    "\n",
    "It might take a couple of minutes, especially dlib.\n",
    "\n",
    "Then you can install the face recognition library:\n",
    "`pip install face_recognition`"
   ]
  },
  {
   "cell_type": "markdown",
   "metadata": {},
   "source": [
    "## I. Warm up"
   ]
  },
  {
   "cell_type": "markdown",
   "metadata": {},
   "source": [
    "Once all is installed, you can import the `face_recognition` library."
   ]
  },
  {
   "cell_type": "code",
   "execution_count": null,
   "metadata": {},
   "outputs": [],
   "source": [
    "# TODO: import face_recognition library"
   ]
  },
  {
   "cell_type": "markdown",
   "metadata": {},
   "source": [
    "First, we will play with the face recognition library and the distance.\n",
    "\n",
    "Begin by loading and displaying the pictures of Mark Zuckerberg: `Mark1.jpg`, `Mark2.jpg` and `Mark3.jpg`"
   ]
  },
  {
   "cell_type": "code",
   "execution_count": null,
   "metadata": {},
   "outputs": [],
   "source": [
    "# TODO: load and display the images of Mark Zuckerberg"
   ]
  },
  {
   "cell_type": "markdown",
   "metadata": {},
   "source": [
    "Now, using `face_recognition`'s function `face_encodings`, compute the encoding of those three images and save them into variables."
   ]
  },
  {
   "cell_type": "code",
   "execution_count": null,
   "metadata": {},
   "outputs": [],
   "source": [
    "# TODO: compute the embeddings of the images"
   ]
  },
  {
   "cell_type": "markdown",
   "metadata": {},
   "source": [
    "What is the output of the `face_encodings` function?\n",
    "\n",
    "In what dimension is encoded a face (meaning how many numbers are computed for a face)?"
   ]
  },
  {
   "cell_type": "code",
   "execution_count": null,
   "metadata": {},
   "outputs": [],
   "source": [
    "# TODO: Play with the output and understand it"
   ]
  },
  {
   "cell_type": "markdown",
   "metadata": {},
   "source": [
    "Now compute and print the distance between those encodings, using euclidean distance.\n",
    "\n",
    "Reminder: you can compute it easily using numpy!"
   ]
  },
  {
   "cell_type": "code",
   "execution_count": null,
   "metadata": {
    "scrolled": true
   },
   "outputs": [],
   "source": [
    "# TODO: Compute the distance between encodings"
   ]
  },
  {
   "cell_type": "markdown",
   "metadata": {},
   "source": [
    "Now, using the same method, compute the distances between a picture of Mark Zuckerberg and Jesse Eisenberg, the actor playing his role in The Social Network (picture `Jesse.jpg`).\n",
    "\n",
    "Compute also the distance between a picture of Mark Zuckerberg and Donald Trump (`Donald.jpg`)"
   ]
  },
  {
   "cell_type": "code",
   "execution_count": null,
   "metadata": {},
   "outputs": [],
   "source": [
    "# TODO: Compute the distance between an image of Mark Zuckerberg and Jesse Eisenberg"
   ]
  },
  {
   "cell_type": "markdown",
   "metadata": {},
   "source": [
    "Based on those results, what could be a good threshold value, to make face recognition?\n",
    "\n",
    "In other words, below what distance would you say this is the same person?"
   ]
  },
  {
   "cell_type": "markdown",
   "metadata": {},
   "source": [
    "## II. Application to the Stark Family"
   ]
  },
  {
   "cell_type": "markdown",
   "metadata": {},
   "source": [
    "Now that you master the basics, we will use a small database to recognize the Stark family in pictures. So you have the following folders:\n",
    "- `train/arya`\n",
    "- `train/jon`\n",
    "- `train/robb`\n",
    "- `train/sansa`\n",
    "\n",
    "Within each folder, 4 pictures of the associated member of the family (sorry for the rest of the Stark family, feel free to add pictures of them if you want!)."
   ]
  },
  {
   "cell_type": "markdown",
   "metadata": {},
   "source": [
    "### II.1. Encodings"
   ]
  },
  {
   "cell_type": "markdown",
   "metadata": {},
   "source": [
    "Usually, when you want to make a face recognition, you already know who you want to recognize. This is our case here. So, instead of computing the encodings of all the people you want to recognize each time, you do it once at the beginning.\n",
    "\n",
    "This is your first step: compute the encodings of each picture. \n",
    "\n",
    "Store the encodings of each member of the family into a dictionary of 4 members (with their names as keys), containing each a list of 4 encodings (one for each picture of the member)."
   ]
  },
  {
   "cell_type": "code",
   "execution_count": null,
   "metadata": {},
   "outputs": [],
   "source": [
    "# TODO: Compute the encodings of each member"
   ]
  },
  {
   "cell_type": "markdown",
   "metadata": {},
   "source": [
    "### II.2. Threshold definition"
   ]
  },
  {
   "cell_type": "markdown",
   "metadata": {},
   "source": [
    "Just to make sure you did the things right, we will compute all the distances of between all the possible images combinations in our dataset. This will allow us to define the threshold the best way.\n",
    "\n",
    "To do so, you can begin by storing all the distances of a member with himself in a first array (e.g. distance between `robb01.jpg` and `robb02.jpg` etc...). This array should contain only distances below your defined threshold.\n",
    "\n",
    "Then, do the same for pictures of a different member (e.g. distance between `robb01.jpg` and `sansa02.jpg`). This array should contain only distances above your defined threshold."
   ]
  },
  {
   "cell_type": "code",
   "execution_count": null,
   "metadata": {},
   "outputs": [],
   "source": [
    "# TODO: Compute the distances and check the thhreshold"
   ]
  },
  {
   "cell_type": "markdown",
   "metadata": {},
   "source": [
    "Now, plot the histogram of your values for a same member, and your values for a different member of the family. On this histogram, you should be able to decide more easily what threshold to choose, and what it will cost."
   ]
  },
  {
   "cell_type": "code",
   "execution_count": null,
   "metadata": {},
   "outputs": [],
   "source": [
    "# TODO: Plot the histogram of the arrays computed in the previous question"
   ]
  },
  {
   "cell_type": "markdown",
   "metadata": {},
   "source": [
    "### II.3. Testing on new pictures"
   ]
  },
  {
   "cell_type": "markdown",
   "metadata": {},
   "source": [
    "Now we will go to the real world, and test our algorithm in real pictures!\n",
    "\n",
    "Real pictures may contain more than one member of the family, and even people that we don't know...\n",
    "\n",
    "So now, have a look at the pictures in the folder `test`. And use your knowledge to make face recognition of those pictures!"
   ]
  },
  {
   "cell_type": "markdown",
   "metadata": {},
   "source": [
    "To help you out you need to:\n",
    "- use the encodings you computed\n",
    "- compute the distances of **all** faces in the `test` images with at least one of each member in the `train` folder\n",
    "- display the results in the image using `cv2.rectangle` for the box and `cv2.putText` for the name\n"
   ]
  },
  {
   "cell_type": "code",
   "execution_count": null,
   "metadata": {},
   "outputs": [],
   "source": [
    "# TODO: Perform image recognition on the test images"
   ]
  },
  {
   "cell_type": "code",
   "execution_count": null,
   "metadata": {},
   "outputs": [],
   "source": [
    "# TODO: Perform image recognition on the test images"
   ]
  },
  {
   "cell_type": "markdown",
   "metadata": {},
   "source": [
    "So, how does that work? You can now do your own face recognition system based on just some pictures of people!"
   ]
  }
 ],
 "metadata": {
  "kernelspec": {
   "display_name": "Python 3",
   "language": "python",
   "name": "python3"
  },
  "language_info": {
   "codemirror_mode": {
    "name": "ipython",
    "version": 3
   },
   "file_extension": ".py",
   "mimetype": "text/x-python",
   "name": "python",
   "nbconvert_exporter": "python",
   "pygments_lexer": "ipython3",
   "version": "3.6.8"
  }
 },
 "nbformat": 4,
 "nbformat_minor": 2
}
