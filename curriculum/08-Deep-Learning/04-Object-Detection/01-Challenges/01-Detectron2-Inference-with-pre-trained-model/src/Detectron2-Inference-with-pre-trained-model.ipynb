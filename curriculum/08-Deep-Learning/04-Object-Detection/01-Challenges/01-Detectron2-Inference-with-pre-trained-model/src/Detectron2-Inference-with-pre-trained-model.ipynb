{
 "cells": [
  {
   "cell_type": "markdown",
   "metadata": {
    "id": "UCeeFHmrxydt"
   },
   "source": [
    "# Challenge 1 : Installation and using Detectron2"
   ]
  },
  {
   "cell_type": "markdown",
   "metadata": {
    "id": "jiDtbnf82Lkw"
   },
   "source": [
    "![](https://cdn.ps.emap.com/wp-content/uploads/sites/3/2017/12/Oxford_Street.jpg)"
   ]
  },
  {
   "cell_type": "markdown",
   "metadata": {
    "id": "NTsmnt9JCcKW"
   },
   "source": [
    "## 1) Install detectron2 (only Google Colab)\n",
    "\n",
    "> ⚠️⚠️ **Important**: Run this notebook on Google Colab, with GPU enabled."
   ]
  },
  {
   "cell_type": "code",
   "execution_count": null,
   "metadata": {
    "colab": {
     "base_uri": "https://localhost:8080/"
    },
    "id": "Z7njRzPjCcpX",
    "outputId": "8008ef11-2800-45a1-80d2-465ec32752f6"
   },
   "outputs": [],
   "source": [
    "!pip install pyyaml==5.1\n",
    "\n",
    "# install detectron from source\n",
    "!git clone https://github.com/facebookresearch/detectron2 detectron2_repo\n",
    "!pip install -e detectron2_repo\n",
    "\n",
    "# torch\n",
    "import torch\n",
    "print(torch.__version__, torch.cuda.is_available())\n",
    "\n",
    "# exit(0)  # After installation, you need to \"restart runtime\" in Colab. This line can also restart runtime"
   ]
  },
  {
   "cell_type": "markdown",
   "metadata": {
    "id": "plyYKN3MDgRw"
   },
   "source": [
    "## 2) Inference with pre-trained model"
   ]
  },
  {
   "cell_type": "markdown",
   "metadata": {
    "id": "I9Dftg4fxydu"
   },
   "source": [
    "#### Import packages"
   ]
  },
  {
   "cell_type": "code",
   "execution_count": null,
   "metadata": {
    "id": "5aXuGLfhC2Ms"
   },
   "outputs": [],
   "source": [
    "# import some common detectron2 utilities\n",
    "from detectron2 import model_zoo\n",
    "from detectron2.engine import DefaultPredictor\n",
    "from detectron2.config import get_cfg\n",
    "from detectron2.utils.visualizer import Visualizer\n",
    "from detectron2.data import MetadataCatalog\n",
    "import matplotlib.pyplot as plt\n",
    "import cv2"
   ]
  },
  {
   "cell_type": "markdown",
   "metadata": {
    "id": "-e87712yFo9N"
   },
   "source": [
    "We first need to download a image to make predictions on."
   ]
  },
  {
   "cell_type": "code",
   "execution_count": null,
   "metadata": {
    "colab": {
     "base_uri": "https://localhost:8080/"
    },
    "id": "0I0o13zFC34w",
    "outputId": "9aae31ea-34b9-47e7-e8dc-bd6604e21ed1"
   },
   "outputs": [],
   "source": [
    "!wget https://cdn.ps.emap.com/wp-content/uploads/sites/3/2017/12/Oxford_Street.jpg -O input.jpg\n",
    "im = cv2.imread(\"./input.jpg\")"
   ]
  },
  {
   "cell_type": "markdown",
   "metadata": {
    "id": "Des5RbsUxydu"
   },
   "source": [
    "#### Import the model and the config\n",
    "\n",
    "Your turn to work now ! "
   ]
  },
  {
   "cell_type": "markdown",
   "metadata": {
    "id": "f8sdMLsuxydu"
   },
   "source": [
    "- for example, you can choose Faster_rcnn pretrained (its signature is `\"COCO-Detection/faster_rcnn_R_101_FPN_3x.yaml\"` in the detectron model zoo)"
   ]
  },
  {
   "cell_type": "code",
   "execution_count": null,
   "metadata": {
    "id": "uMXE-CBpC4TT"
   },
   "outputs": [],
   "source": [
    "# Create config"
   ]
  },
  {
   "cell_type": "code",
   "execution_count": null,
   "metadata": {
    "id": "qV6aXionFJGU"
   },
   "outputs": [],
   "source": [
    "# Generate model and Create predictor"
   ]
  },
  {
   "cell_type": "code",
   "execution_count": null,
   "metadata": {
    "id": "qV6aXionFJGU"
   },
   "outputs": [],
   "source": [
    "# Make prediction"
   ]
  },
  {
   "cell_type": "code",
   "execution_count": 1,
   "metadata": {
    "ExecuteTime": {
     "end_time": "2020-11-24T15:26:43.468276Z",
     "start_time": "2020-11-24T15:26:43.463808Z"
    },
    "colab": {
     "base_uri": "https://localhost:8080/",
     "height": 588
    },
    "id": "1VwcjRQIDIvB",
    "outputId": "826c6487-7d8c-4700-aeed-8d3b64b7aba1"
   },
   "outputs": [],
   "source": [
    "# Visualize the bounding boxes on the image"
   ]
  },
  {
   "cell_type": "markdown",
   "metadata": {},
   "source": [
    "**\\[BONUS\\]** Feel free to :\n",
    "- Test the faster-RNN we just used on other images of your choosing\n",
    "- Test some of the other algorithms available in the [model zoo](https://github.com/facebookresearch/detectron2/blob/master/MODEL_ZOO.md) and see how they perform"
   ]
  }
 ],
 "metadata": {
  "accelerator": "GPU",
  "colab": {
   "collapsed_sections": [],
   "name": "Copie de Exo_1__Detectron2_inference_with_pre_trained_model.ipynb",
   "provenance": [],
   "toc_visible": true
  },
  "kernelspec": {
   "display_name": "Python 3",
   "language": "python",
   "name": "python3"
  },
  "language_info": {
   "codemirror_mode": {
    "name": "ipython",
    "version": 3
   },
   "file_extension": ".py",
   "mimetype": "text/x-python",
   "name": "python",
   "nbconvert_exporter": "python",
   "pygments_lexer": "ipython3",
   "version": "3.7.6"
  },
  "toc": {
   "base_numbering": 1,
   "nav_menu": {},
   "number_sections": false,
   "sideBar": true,
   "skip_h1_title": false,
   "title_cell": "Table of Contents",
   "title_sidebar": "Contents",
   "toc_cell": false,
   "toc_position": {},
   "toc_section_display": true,
   "toc_window_display": false
  }
 },
 "nbformat": 4,
 "nbformat_minor": 4
}
