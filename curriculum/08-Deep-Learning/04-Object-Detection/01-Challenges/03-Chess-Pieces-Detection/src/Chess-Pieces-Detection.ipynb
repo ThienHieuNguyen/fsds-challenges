{
 "cells": [
  {
   "cell_type": "markdown",
   "metadata": {
    "id": "00u2xlA1OXWj"
   },
   "source": [
    "# Detectron2 Detect Chess Detection"
   ]
  },
  {
   "cell_type": "markdown",
   "metadata": {
    "id": "3j3DKdCk8Uo6"
   },
   "source": [
    "<img src=\"chest.JPG\" />"
   ]
  },
  {
   "cell_type": "markdown",
   "metadata": {
    "id": "usRYU3Su8Uo6"
   },
   "source": [
    "In this exercise, we will see how to finetune a model to adapt it to a specific task. \n",
    "\n",
    "We are going to use a pretrain model for a new task: Chess detection.\n",
    "\n",
    "> ⚠️⚠️ **Important**: Run this notebook on Google Colab, with GPU enabled.\n",
    "\n",
    "> ⚠️ In this exercise, we gave you some pieces of code that you need to complete : look for the `# TODO`"
   ]
  },
  {
   "cell_type": "markdown",
   "metadata": {
    "id": "65dM4Nfr8Uo6"
   },
   "source": [
    "## Introduction to fine-tuning a model "
   ]
  },
  {
   "cell_type": "markdown",
   "metadata": {
    "id": "vlFj66gDOfg5"
   },
   "source": [
    "## Get data"
   ]
  },
  {
   "cell_type": "code",
   "execution_count": null,
   "metadata": {},
   "outputs": [],
   "source": [
    "!pip install pyyaml==5.1\n",
    "\n",
    "# install detectron from source\n",
    "!git clone https://github.com/facebookresearch/detectron2 detectron2_repo\n",
    "!pip install -e detectron2_repo\n",
    "\n",
    "# torch\n",
    "import torch\n",
    "print(torch.__version__, torch.cuda.is_available())\n",
    "\n",
    "# exit(0)  # After installation, you need to \"restart runtime\" in Colab. This line can also restart runtime"
   ]
  },
  {
   "cell_type": "code",
   "execution_count": null,
   "metadata": {
    "id": "nVyE5k7wRdj_"
   },
   "outputs": [],
   "source": [
    "import detectron2\n",
    "from detectron2.utils.logger import setup_logger\n",
    "setup_logger()\n",
    "\n",
    "# import some common libraries\n",
    "import numpy as np\n",
    "import cv2\n",
    "import matplotlib.pyplot as plt\n",
    "\n",
    "# import some common libraries\n",
    "import numpy as np\n",
    "import cv2\n",
    "import matplotlib.pyplot as plt\n",
    "\n",
    "# import some common detectron2 utilities\n",
    "from detectron2 import model_zoo\n",
    "from detectron2.engine import DefaultPredictor\n",
    "from detectron2.config import get_cfg\n",
    "from detectron2.utils.visualizer import Visualizer\n",
    "from detectron2.data import MetadataCatalog"
   ]
  },
  {
   "cell_type": "markdown",
   "metadata": {
    "id": "jFSJdjqOes79"
   },
   "source": [
    "Before we can start training our model we need to download our data-set. In this case we will use my microcontroller detection data-set, which is [available on Kaggle](https://www.kaggle.com/tannergi/microcontroller-detection)."
   ]
  },
  {
   "cell_type": "code",
   "execution_count": 2,
   "metadata": {
    "id": "21s9Z4nwJsGz"
   },
   "outputs": [],
   "source": [
    "# Install Kaggle API\n",
    "!pip install -q kaggle\n",
    "!pip install -q kaggle-cli"
   ]
  },
  {
   "cell_type": "markdown",
   "metadata": {
    "id": "gRGkuYdXHsN0"
   },
   "source": [
    "In order to use the Kaggle’s public API, you must first authenticate using an API token. From the site header, click on your user profile picture, then on “My Account” from the dropdown menu. This will take you to your account settings at https://www.kaggle.com/account. Scroll down to the section of the page labelled API:\n",
    "\n",
    "To create a new token, click on the “Create New API Token” button. This will download a fresh authentication token onto your machine. Copy your username and the key generated in the kaggle.json file and use it to complete the code snippet given below."
   ]
  },
  {
   "cell_type": "code",
   "execution_count": 3,
   "metadata": {
    "id": "Psyte2QJHsN2"
   },
   "outputs": [],
   "source": [
    "import os\n",
    "os.environ['KAGGLE_USERNAME'] = \"<username>\" \n",
    "os.environ['KAGGLE_KEY'] = \"<password>\""
   ]
  },
  {
   "cell_type": "code",
   "execution_count": null,
   "metadata": {
    "id": "2Slh6ZibOgl1"
   },
   "outputs": [],
   "source": [
    "!kaggle datasets download -d tannergi/chess-piece-detection"
   ]
  },
  {
   "cell_type": "code",
   "execution_count": null,
   "metadata": {
    "id": "dztX9-WBOo3h"
   },
   "outputs": [],
   "source": [
    "!unzip chess-piece-detection.zip"
   ]
  },
  {
   "cell_type": "markdown",
   "metadata": {
    "id": "reIabVdhKYQE"
   },
   "source": [
    "## Register data-set\n",
    "\n",
    "In order to use a dataset with Detectron2 we need to register it. For more information check out the [official documentation](https://detectron2.readthedocs.io/tutorials/datasets.html#register-a-dataset)."
   ]
  },
  {
   "cell_type": "code",
   "execution_count": 6,
   "metadata": {
    "id": "qsLF99cOKZso"
   },
   "outputs": [],
   "source": [
    "import os\n",
    "import numpy as np\n",
    "import json\n",
    "from detectron2.structures import BoxMode\n",
    "import itertools\n",
    "import cv2\n",
    "import xml.etree.ElementTree as ET\n",
    "\n",
    "\n",
    "# we give you a function that loads the dataset into detectron2's standard format\n",
    "def get_dataset_dicts(annotation_path, image_path):\n",
    "    classes = ['white-rook', 'white-knight', 'white-bishop', 'white-king', 'white-queen', 'white-pawn', 'black-rook', 'black-knight', 'black-bishop', 'black-king', 'black-queen', 'black-pawn']\n",
    "\n",
    "    dataset_dicts = []\n",
    "    for filename in os.listdir(annotation_path):\n",
    "        record = {}\n",
    "        root = ET.parse(os.path.join(annotation_path, filename)).getroot()\n",
    "        record[\"file_name\"] = os.path.join(image_path, root.find('filename').text)\n",
    "        record[\"height\"] = 2248\n",
    "        record[\"width\"] = 4000\n",
    "\n",
    "        objs = []\n",
    "        for member in root.findall('object'):\n",
    "          obj = {\n",
    "              'bbox': [int(member[4][0].text), int(member[4][1].text), int(member[4][2].text), int(member[4][3].text)],\n",
    "              'bbox_mode': BoxMode.XYXY_ABS,\n",
    "              'category_id': classes.index(member[0].text),\n",
    "              \"iscrowd\": 0\n",
    "          }\n",
    "          objs.append(obj)\n",
    "        record[\"annotations\"] = objs\n",
    "        dataset_dicts.append(record)\n",
    "    return dataset_dicts"
   ]
  },
  {
   "cell_type": "code",
   "execution_count": 7,
   "metadata": {
    "id": "1JrXNw5LQEJv"
   },
   "outputs": [],
   "source": [
    "from detectron2.data import DatasetCatalog, MetadataCatalog\n",
    "\n",
    "classes = ['white-rook', 'white-knight', 'white-bishop', 'white-king', 'white-queen', 'white-pawn', 'black-rook', 'black-knight', 'black-bishop', 'black-king', 'black-queen', 'black-pawn']\n",
    "\n",
    "DatasetCatalog.register('chess_piece_dataset', lambda: get_dataset_dicts('Chess Detection/annotations', 'Chess Detection/images'))\n",
    "MetadataCatalog.get('chess_piece_dataset').set(thing_classes=classes)\n",
    "chess_metadata = MetadataCatalog.get('chess_piece_dataset')"
   ]
  },
  {
   "cell_type": "markdown",
   "metadata": {
    "id": "OLqjTUbfixik"
   },
   "source": [
    "We can check if our code works correctly by plotting a few images with visualizer"
   ]
  },
  {
   "cell_type": "markdown",
   "metadata": {
    "id": "2DQhuMbi8Uo7"
   },
   "source": [
    "# Q1 . Display few images "
   ]
  },
  {
   "cell_type": "markdown",
   "metadata": {
    "id": "WXl67PiZ8Uo7"
   },
   "source": [
    "We can use :  \n",
    "    - dataset_dicts = DatasetCatalog.get('chess_piece_dataset')  \n",
    "in order to get the dataset"
   ]
  },
  {
   "cell_type": "code",
   "execution_count": null,
   "metadata": {
    "id": "KNQmJq_n-T5_"
   },
   "outputs": [],
   "source": [
    "import random\n",
    "from detectron2.utils.visualizer import Visualizer\n",
    "\n",
    "dataset_dicts = DatasetCatalog.get('chess_piece_dataset')\n",
    "for d in random.sample(dataset_dicts, 10):\n",
    "    # TODO : write code to display images"
   ]
  },
  {
   "cell_type": "markdown",
   "metadata": {
    "id": "GfIIB5JV8Uo7"
   },
   "source": [
    "# Q2 . Train model"
   ]
  },
  {
   "cell_type": "markdown",
   "metadata": {
    "id": "Lzf8TcmpQ1Hs"
   },
   "source": [
    "### load configuration"
   ]
  },
  {
   "cell_type": "markdown",
   "metadata": {
    "id": "AAgnSMmF8Uo7"
   },
   "source": [
    "In order to fine tune modal you have to : \n",
    "- select a pretraining model \n",
    "- define dataset.train and dataset.test\n",
    "- define number of classes"
   ]
  },
  {
   "cell_type": "code",
   "execution_count": null,
   "metadata": {
    "id": "DXSw2UtQQ2aB"
   },
   "outputs": [],
   "source": [
    "from detectron2.engine import DefaultTrainer\n",
    "from detectron2.config import get_cfg\n",
    "\n",
    "cfg = get_cfg()\n",
    "cfg.merge_from_file(# TODO )\n",
    "cfg.DATASETS.TRAIN = ('chess_piece_dataset',)\n",
    "cfg.DATASETS.TEST = ()   # no metrics implemented for this dataset\n",
    "cfg.DATALOADER.NUM_WORKERS = 2\n",
    "cfg.MODEL.WEIGHTS = # TODO\n",
    "cfg.SOLVER.IMS_PER_BATCH = 2\n",
    "cfg.SOLVER.MAX_ITER = 1000\n",
    "cfg.MODEL.ROI_HEADS.NUM_CLASSES = # TODO"
   ]
  },
  {
   "cell_type": "markdown",
   "metadata": {
    "id": "At7PJPIL8Uo7"
   },
   "source": [
    "### Then load the model (same a DefaultPredictor but you have to use DefaultTrainer)"
   ]
  },
  {
   "cell_type": "code",
   "execution_count": null,
   "metadata": {
    "id": "4-381SfL8Uo7"
   },
   "outputs": [],
   "source": [
    "os.makedirs(cfg.OUTPUT_DIR, exist_ok=True)\n",
    "trainer = # TODO"
   ]
  },
  {
   "cell_type": "code",
   "execution_count": null,
   "metadata": {
    "id": "kExgVnxc8Uo7"
   },
   "outputs": [],
   "source": [
    "### TODO : finally, run the training. "
   ]
  },
  {
   "cell_type": "markdown",
   "metadata": {
    "id": "hQOixgErV_dS"
   },
   "source": [
    "# Q3. Use model for inference\n",
    "\n",
    "Now, we can perform inference on our validation set by creating a predictor object."
   ]
  },
  {
   "cell_type": "markdown",
   "metadata": {
    "id": "Ynxzt1ZX8Uo7"
   },
   "source": [
    "The model is saved if the cfg.OUTPUT_DIR path"
   ]
  },
  {
   "cell_type": "markdown",
   "metadata": {
    "id": "J1ar-Hun8Uo7"
   },
   "source": [
    "### Q3.1 : print cfg.OUTPUT_DIR"
   ]
  },
  {
   "cell_type": "code",
   "execution_count": null,
   "metadata": {
    "id": "LrKw4kqX8Uo7"
   },
   "outputs": [],
   "source": [
    "# TODO : print cfg.OUTPUT_DIR"
   ]
  },
  {
   "cell_type": "markdown",
   "metadata": {
    "id": "Q36FRz4M8Uo7"
   },
   "source": [
    "### Q3.2 : change cfg.MODEL.WEIGHTS with the path of the model save"
   ]
  },
  {
   "cell_type": "code",
   "execution_count": null,
   "metadata": {
    "id": "zlUI_bPCYFs7"
   },
   "outputs": [],
   "source": [
    "cfg.MODEL.WEIGHTS = # TODO : path to model\n",
    "cfg.MODEL.ROI_HEADS.SCORE_THRESH_TEST = 0.7   # set the testing threshold for this model\n",
    "cfg.DATASETS.TEST = (\"chess_piece_dataset\", )\n",
    "predictor = DefaultPredictor(cfg)"
   ]
  },
  {
   "cell_type": "markdown",
   "metadata": {
    "id": "oQqc-Pnf8Uo7"
   },
   "source": [
    "### Q3.3 : display prediction"
   ]
  },
  {
   "cell_type": "code",
   "execution_count": null,
   "metadata": {
    "id": "NTh3v5UruVK9"
   },
   "outputs": [],
   "source": [
    "from detectron2.utils.visualizer import ColorMode\n",
    "import random\n",
    "\n",
    "dataset_dicts = DatasetCatalog.get('chess_piece_dataset')\n",
    "for d in random.sample(dataset_dicts, 5):    \n",
    "    # TODO : get image, predict and display prediction"
   ]
  }
 ],
 "metadata": {
  "accelerator": "GPU",
  "colab": {
   "collapsed_sections": [],
   "name": "Exo_3__Detectron2_Detect_Chess_Detection.ipynb",
   "provenance": []
  },
  "kernelspec": {
   "display_name": "Python 3",
   "language": "python",
   "name": "python3"
  },
  "language_info": {
   "codemirror_mode": {
    "name": "ipython",
    "version": 3
   },
   "file_extension": ".py",
   "mimetype": "text/x-python",
   "name": "python",
   "nbconvert_exporter": "python",
   "pygments_lexer": "ipython3",
   "version": "3.7.6"
  },
  "toc": {
   "base_numbering": 1,
   "nav_menu": {},
   "number_sections": false,
   "sideBar": true,
   "skip_h1_title": false,
   "title_cell": "Table of Contents",
   "title_sidebar": "Contents",
   "toc_cell": false,
   "toc_position": {},
   "toc_section_display": true,
   "toc_window_display": true
  }
 },
 "nbformat": 4,
 "nbformat_minor": 4
}
