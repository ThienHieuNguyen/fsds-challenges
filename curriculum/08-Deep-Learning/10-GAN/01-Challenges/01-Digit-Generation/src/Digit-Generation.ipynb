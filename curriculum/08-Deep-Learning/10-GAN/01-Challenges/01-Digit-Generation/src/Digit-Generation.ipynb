{
 "cells": [
  {
   "cell_type": "markdown",
   "metadata": {},
   "source": [
    "# Digit Generation 🔢\n",
    "\n",
    "![](https://images.unsplash.com/photo-1502570149819-b2260483d302?ixlib=rb-1.2.1&ixid=eyJhcHBfaWQiOjEyMDd9&auto=format&fit=crop&w=1050&q=80)\n",
    "\n",
    "Photo by [Nick Hillier](https://unsplash.com/photos/yD5rv8_WzxA)"
   ]
  },
  {
   "cell_type": "markdown",
   "metadata": {},
   "source": [
    "---"
   ]
  },
  {
   "cell_type": "markdown",
   "metadata": {},
   "source": [
    "# A GAN to generate digits"
   ]
  },
  {
   "cell_type": "markdown",
   "metadata": {},
   "source": [
    "In this exercise, you will be asked to :\n",
    "- complete the code to create your first GAN\n",
    "- train a GAN to generate digits based on the MNIST dataset\n",
    "\n",
    "You should be able to generate new digits by the end of the exercise. This exercise can be run locally, but you can also go for a notebook in Google Colab for example."
   ]
  },
  {
   "cell_type": "code",
   "execution_count": 7,
   "metadata": {
    "ExecuteTime": {
     "end_time": "2019-05-30T12:24:28.715849Z",
     "start_time": "2019-05-30T12:24:28.706796Z"
    }
   },
   "outputs": [
    {
     "name": "stderr",
     "output_type": "stream",
     "text": [
      "Using TensorFlow backend.\n"
     ]
    }
   ],
   "source": [
    "import matplotlib.pyplot as plt\n",
    "import numpy as np\n",
    "import pandas as pd\n",
    "import matplotlib.image as mpimg\n",
    "from keras.datasets import mnist"
   ]
  },
  {
   "cell_type": "markdown",
   "metadata": {
    "ExecuteTime": {
     "end_time": "2019-05-29T16:33:17.276747Z",
     "start_time": "2019-05-29T16:33:17.272840Z"
    }
   },
   "source": [
    "## I. Input data"
   ]
  },
  {
   "cell_type": "markdown",
   "metadata": {},
   "source": [
    "In this GAN example, we're going to use the MNIST dataset. MNIST is a set of handwritten digits. We'll try to generate new digit samples using GANs.\n",
    "\n",
    "We kindly remind you how to load the data 🙂"
   ]
  },
  {
   "cell_type": "code",
   "execution_count": 32,
   "metadata": {
    "ExecuteTime": {
     "end_time": "2019-05-30T12:24:30.426759Z",
     "start_time": "2019-05-30T12:24:29.727444Z"
    }
   },
   "outputs": [],
   "source": [
    "(X_train, _), (_, _) = mnist.load_data()\n",
    "\n",
    "# Some useful variables\n",
    "img_rows = 28\n",
    "img_cols = 28\n",
    "channels = 1\n",
    "img_shape = (img_rows, img_cols, channels)"
   ]
  },
  {
   "cell_type": "markdown",
   "metadata": {},
   "source": [
    "**Q1**. Rescale the data from -1 to 1 and format the X_train dataset in order to have the proper dimensions\n",
    "\n",
    "> 🔦 **Hint**: Remember, the MNIST dataset is grayscale so contains only one channel but Keras expects input images to have 3 dimensions even if there is only one channel."
   ]
  },
  {
   "cell_type": "code",
   "execution_count": 1,
   "metadata": {
    "ExecuteTime": {
     "end_time": "2019-12-03T09:23:37.863536Z",
     "start_time": "2019-12-03T09:23:37.860180Z"
    }
   },
   "outputs": [],
   "source": [
    "# TODO: Rescale -1 to 1 and format the X_train dataset"
   ]
  },
  {
   "cell_type": "markdown",
   "metadata": {},
   "source": [
    "**Q2**.Visualize one of the image"
   ]
  },
  {
   "cell_type": "code",
   "execution_count": 2,
   "metadata": {
    "ExecuteTime": {
     "end_time": "2019-12-03T09:23:51.734889Z",
     "start_time": "2019-12-03T09:23:51.730345Z"
    },
    "scrolled": true
   },
   "outputs": [],
   "source": [
    "# TODO : Visualize one image"
   ]
  },
  {
   "cell_type": "markdown",
   "metadata": {
    "ExecuteTime": {
     "end_time": "2019-05-29T16:33:17.276747Z",
     "start_time": "2019-05-29T16:33:17.272840Z"
    }
   },
   "source": [
    "## II. Build the GAN"
   ]
  },
  {
   "cell_type": "code",
   "execution_count": 35,
   "metadata": {
    "ExecuteTime": {
     "end_time": "2019-05-30T12:24:31.385068Z",
     "start_time": "2019-05-30T12:24:31.374005Z"
    }
   },
   "outputs": [],
   "source": [
    "from keras.layers import Input, Dense, Reshape, Flatten, Dropout\n",
    "from keras.layers import BatchNormalization, Activation, ZeroPadding2D\n",
    "from keras.layers.advanced_activations import LeakyReLU\n",
    "from keras.layers.convolutional import UpSampling2D, Conv2D\n",
    "from keras.models import Sequential, Model\n",
    "from keras.optimizers import Adam"
   ]
  },
  {
   "cell_type": "markdown",
   "metadata": {},
   "source": [
    "### a. The Generator"
   ]
  },
  {
   "cell_type": "markdown",
   "metadata": {},
   "source": [
    "**Q1**. The first step is to build a generator. For the generator, we start with an **input noise shape of size 100**. We then create a sequential model to increase the size of the data up to 1024, before reshaping the data back to the input image shape.\n",
    "\n",
    "Each layer will be made of:\n",
    "- A **Dense layer** (sizes 256, 512, 1024 in order)\n",
    "- A **LeakyRelu activation** with alpha = 0.2\n",
    "- A **Batch normalization** (momentum = 0.8)"
   ]
  },
  {
   "cell_type": "code",
   "execution_count": 39,
   "metadata": {
    "ExecuteTime": {
     "end_time": "2019-05-30T12:24:32.487781Z",
     "start_time": "2019-05-30T12:24:32.468680Z"
    }
   },
   "outputs": [],
   "source": [
    "def build_generator():\n",
    "    # Input Data\n",
    "    noise_shape = (100,)\n",
    "    noise = Input(shape=noise_shape)\n",
    "    \n",
    "    # Create the sequential model\n",
    "\n",
    "\n",
    "    # Build the first layer\n",
    "\n",
    "    \n",
    "    # Second layer\n",
    "\n",
    "    \n",
    "    # Third layer\n",
    "\n",
    "    \n",
    "    # Flatten and reshape\n",
    "\n",
    "\n",
    "    # Get model summary\n",
    "\n",
    "    \n",
    "    return Model(noise, img)"
   ]
  },
  {
   "cell_type": "markdown",
   "metadata": {},
   "source": [
    "**Q2**. Compile the Generator and add an Adam optimizer as advised."
   ]
  },
  {
   "cell_type": "code",
   "execution_count": 3,
   "metadata": {
    "ExecuteTime": {
     "end_time": "2019-12-03T09:25:18.312334Z",
     "start_time": "2019-12-03T09:25:18.307706Z"
    }
   },
   "outputs": [],
   "source": [
    "# TODO : Compile the generator"
   ]
  },
  {
   "cell_type": "markdown",
   "metadata": {},
   "source": [
    "### b. The Discriminator"
   ]
  },
  {
   "cell_type": "markdown",
   "metadata": {},
   "source": [
    "**Q3**. Build the discriminator. It takes an input that has the shape of the image. The steps are the following :\n",
    "- Declare the **Sequential** model\n",
    "- **Flatten** the images (with input shape = image shape)\n",
    "- Add a **Dense layer** of 512 and a **Leaky Relu** (0.2)\n",
    "- Add a **Dense layer** of 256 and a **Leaky Relu** (0.2)\n",
    "- Add a **Dense layer** of size 1. What activation function would you use ?"
   ]
  },
  {
   "cell_type": "code",
   "execution_count": 41,
   "metadata": {
    "ExecuteTime": {
     "end_time": "2019-05-30T12:24:34.899788Z",
     "start_time": "2019-05-30T12:24:34.885304Z"
    }
   },
   "outputs": [],
   "source": [
    "def build_discriminator():\n",
    "    \n",
    "    img = Input(shape=img_shape)\n",
    "\n",
    "    # Create the sequential model\n",
    "    model = Sequential()\n",
    "    \n",
    "    # Flatten the images taken as inputs\n",
    "\n",
    "    \n",
    "    # First layer\n",
    "\n",
    "    \n",
    "    # Second layer\n",
    "\n",
    "    \n",
    "    # Last layer, return either 0 or 1\n",
    "\n",
    "    \n",
    "    # Get model summary\n",
    "\n",
    "    \n",
    "    return Model(img, validity)"
   ]
  },
  {
   "cell_type": "markdown",
   "metadata": {},
   "source": [
    "**Q4**. Now compile the discriminator. (Observe the metric we are using)"
   ]
  },
  {
   "cell_type": "code",
   "execution_count": 4,
   "metadata": {
    "ExecuteTime": {
     "end_time": "2019-12-03T09:25:49.184553Z",
     "start_time": "2019-12-03T09:25:49.180943Z"
    },
    "scrolled": true
   },
   "outputs": [],
   "source": [
    "# TODO: Compile the discriminator"
   ]
  },
  {
   "cell_type": "markdown",
   "metadata": {},
   "source": [
    "### c. Build the GAN model"
   ]
  },
  {
   "cell_type": "markdown",
   "metadata": {},
   "source": [
    "**Q5**. Now it is time to build **the GAN model**. This is done in 4 major steps :\n",
    "- Declare the input\n",
    "- Set the image as the result of the generator of the input\n",
    "- Set the output as the result of the discriminator of the generated image\n",
    "- Define and compile the model"
   ]
  },
  {
   "cell_type": "code",
   "execution_count": 5,
   "metadata": {
    "ExecuteTime": {
     "end_time": "2019-12-03T09:26:11.801129Z",
     "start_time": "2019-12-03T09:26:11.795990Z"
    }
   },
   "outputs": [],
   "source": [
    "# 1. Declare input of size (100, )\n",
    "\n",
    "\n",
    "# 2. Define the generated image from the input\n",
    "# Hint : Use the generator model compiled above\n",
    "\n",
    "\n",
    "# 3. Define the output from the image\n",
    "# Hint : Use the discriminator model compiled above\n",
    "\n",
    "\n",
    "# For the combined model, only train the generator\n",
    "\n",
    "# 4.Combined model\n",
    "# Create the model by defining the input and the output\n",
    "\n",
    "# Once created, we compile the model"
   ]
  },
  {
   "cell_type": "markdown",
   "metadata": {},
   "source": [
    "**Q6**. Print the summary of the new model created. Comment on the shapes at each layer."
   ]
  },
  {
   "cell_type": "code",
   "execution_count": 6,
   "metadata": {
    "ExecuteTime": {
     "end_time": "2019-12-03T09:26:20.574554Z",
     "start_time": "2019-12-03T09:26:20.569620Z"
    }
   },
   "outputs": [],
   "source": [
    "# TODO: Print model summary"
   ]
  },
  {
   "cell_type": "markdown",
   "metadata": {},
   "source": [
    "We then define a function that is used to save generated images once in a while."
   ]
  },
  {
   "cell_type": "code",
   "execution_count": 45,
   "metadata": {
    "ExecuteTime": {
     "end_time": "2019-05-30T12:24:41.361699Z",
     "start_time": "2019-05-30T12:24:41.349843Z"
    }
   },
   "outputs": [],
   "source": [
    "def save_imgs(epoch):\n",
    "    \n",
    "    # Predict from input noise\n",
    "    r, c = 5, 5\n",
    "    noise = np.random.normal(0, 1, (r * c, 100))\n",
    "    gen_imgs = generator.predict(noise)\n",
    "\n",
    "    # Rescale images 0 - 1\n",
    "    gen_imgs = 0.5 * gen_imgs + 0.5\n",
    "    \n",
    "    # Subplots\n",
    "    fig, axs = plt.subplots(r, c)\n",
    "    cnt = 0\n",
    "    \n",
    "    for i in range(r):\n",
    "        for j in range(c):\n",
    "            axs[i,j].imshow(gen_imgs[cnt, :,:,0], cmap='gray')\n",
    "            axs[i,j].axis('off')\n",
    "            cnt += 1\n",
    " \n",
    "    fig.savefig(\"images_gan/mnist_%d.png\" % epoch)\n",
    "    plt.close()"
   ]
  },
  {
   "cell_type": "markdown",
   "metadata": {},
   "source": [
    "## III. Train the model"
   ]
  },
  {
   "cell_type": "markdown",
   "metadata": {},
   "source": [
    "First of all, we set :\n",
    "- the number of epochs the model will train to 15'000\n",
    "- the batch size to 64\n",
    "- the interval at which we save the images to 1000"
   ]
  },
  {
   "cell_type": "code",
   "execution_count": 46,
   "metadata": {
    "ExecuteTime": {
     "end_time": "2019-05-30T12:28:50.729562Z",
     "start_time": "2019-05-30T12:28:50.722302Z"
    }
   },
   "outputs": [],
   "source": [
    "epochs = 15000\n",
    "batch_size = 64\n",
    "save_interval = 1000\n",
    "half_batch = int(batch_size / 2)"
   ]
  },
  {
   "cell_type": "markdown",
   "metadata": {},
   "source": [
    "The following code is complete. Try to understand the different steps, debug potential errors from your previous code and compile it. "
   ]
  },
  {
   "cell_type": "code",
   "execution_count": 48,
   "metadata": {},
   "outputs": [],
   "source": [
    "# If the directory to save the images does not exist create it \n",
    "!mkdir images_gan"
   ]
  },
  {
   "cell_type": "code",
   "execution_count": null,
   "metadata": {
    "ExecuteTime": {
     "end_time": "2019-05-30T12:51:49.635827Z",
     "start_time": "2019-05-30T12:33:29.842168Z"
    },
    "code_folding": []
   },
   "outputs": [],
   "source": [
    "d_loss_hist = []\n",
    "g_loss_hist = []\n",
    "d_acc = []\n",
    "\n",
    "for epoch in range(epochs):\n",
    "\n",
    "    # ---------------------\n",
    "    #  Train Discriminator\n",
    "    # ---------------------\n",
    "    \n",
    "    # Pick 50% of sample images\n",
    "    idx = np.random.randint(0, X_train.shape[0], half_batch)\n",
    "    imgs = X_train[idx]\n",
    "\n",
    "    # Generate 50% of new images\n",
    "    noise = np.random.normal(0, 1, (half_batch, 100))\n",
    "    gen_imgs = generator.predict(noise)\n",
    "    \n",
    "    \n",
    "    # Train discriminator on real images with label 1\n",
    "    d_loss_real = discriminator.train_on_batch(imgs, np.ones((half_batch, 1)))\n",
    "    \n",
    "    # Train discriminator on fake images with label 0\n",
    "    d_loss_fake = discriminator.train_on_batch(gen_imgs, np.zeros((half_batch, 1)))\n",
    "    \n",
    "    # Loss of discriminator = Mean of Real and Fake loss\n",
    "    d_loss = 0.5 * np.add(d_loss_real, d_loss_fake)\n",
    "    \n",
    "    d_loss_hist.append(d_loss[0])\n",
    "    d_acc.append(d_loss[1])\n",
    "    \n",
    "    # ---------------------\n",
    "    #  Train Generator\n",
    "    # ---------------------\n",
    "\n",
    "    # The generator wants the discriminator to label the generated samples as valid (ones)\n",
    "    noise = np.random.normal(0, 1, (batch_size, 100))\n",
    "    valid_y = np.array([1] * batch_size)\n",
    "\n",
    "    # Train the generator\n",
    "    g_loss = combined.train_on_batch(noise, valid_y)\n",
    "    g_loss_hist.append(g_loss)\n",
    "    \n",
    "    # Print the progress\n",
    "    print (\"%d [D loss: %f, acc.: %.2f%%] [G loss: %f]\" % (epoch, d_loss[0], 100*d_loss[1], g_loss))\n",
    "        \n",
    "    if epoch % save_interval == 0:\n",
    "        save_imgs(epoch)"
   ]
  },
  {
   "cell_type": "markdown",
   "metadata": {},
   "source": [
    "## IV. Create new samples"
   ]
  },
  {
   "cell_type": "markdown",
   "metadata": {},
   "source": [
    "**Q7**. We now have all the elements required to generate new samples. What are according to you :\n",
    "- the steps to generate new samples ?\n",
    "- the part of the network we re-use ?"
   ]
  },
  {
   "cell_type": "markdown",
   "metadata": {},
   "source": [
    "**Q8**. You are now asked to generate and visualize new samples from the steps you defined above. Pay attention when plotting generated images to :\n",
    "- rescale the images between 0 and 1 (as done previously)\n",
    "- reshape the generated image to 28*28"
   ]
  },
  {
   "cell_type": "code",
   "execution_count": 7,
   "metadata": {
    "ExecuteTime": {
     "end_time": "2019-12-03T09:26:43.879292Z",
     "start_time": "2019-12-03T09:26:43.875424Z"
    }
   },
   "outputs": [],
   "source": [
    "# TODO: Visualize a generated image"
   ]
  }
 ],
 "metadata": {
  "kernelspec": {
   "display_name": "Python 3",
   "language": "python",
   "name": "python3"
  },
  "language_info": {
   "codemirror_mode": {
    "name": "ipython",
    "version": 3
   },
   "file_extension": ".py",
   "mimetype": "text/x-python",
   "name": "python",
   "nbconvert_exporter": "python",
   "pygments_lexer": "ipython3",
   "version": "3.7.1"
  },
  "latex_envs": {
   "LaTeX_envs_menu_present": true,
   "autoclose": false,
   "autocomplete": true,
   "bibliofile": "biblio.bib",
   "cite_by": "apalike",
   "current_citInitial": 1,
   "eqLabelWithNumbers": true,
   "eqNumInitial": 1,
   "hotkeys": {
    "equation": "Ctrl-E",
    "itemize": "Ctrl-I"
   },
   "labels_anchors": false,
   "latex_user_defs": false,
   "report_style_numbering": false,
   "user_envs_cfg": false
  },
  "toc": {
   "base_numbering": 1,
   "nav_menu": {},
   "number_sections": true,
   "sideBar": true,
   "skip_h1_title": false,
   "title_cell": "Table of Contents",
   "title_sidebar": "Contents",
   "toc_cell": false,
   "toc_position": {},
   "toc_section_display": true,
   "toc_window_display": false
  },
  "varInspector": {
   "cols": {
    "lenName": 16,
    "lenType": 16,
    "lenVar": 40
   },
   "kernels_config": {
    "python": {
     "delete_cmd_postfix": "",
     "delete_cmd_prefix": "del ",
     "library": "var_list.py",
     "varRefreshCmd": "print(var_dic_list())"
    },
    "r": {
     "delete_cmd_postfix": ") ",
     "delete_cmd_prefix": "rm(",
     "library": "var_list.r",
     "varRefreshCmd": "cat(var_dic_list()) "
    }
   },
   "types_to_exclude": [
    "module",
    "function",
    "builtin_function_or_method",
    "instance",
    "_Feature"
   ],
   "window_display": false
  }
 },
 "nbformat": 4,
 "nbformat_minor": 2
}
