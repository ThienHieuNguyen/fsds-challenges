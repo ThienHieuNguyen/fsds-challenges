{
 "cells": [
  {
   "cell_type": "markdown",
   "metadata": {
    "colab_type": "text",
    "id": "JVBTYotcgrPG"
   },
   "source": [
    "# Transfer Learning"
   ]
  },
  {
   "cell_type": "markdown",
   "metadata": {},
   "source": [
    "For computational reasons, it is recommended to do this challenge on [google colab](https://colab.research.google.com/), with setting the GPU on (see `Edit` -> `Notebook settings` -> `Hardware Accelerator` -> `GPU`)"
   ]
  },
  {
   "cell_type": "markdown",
   "metadata": {
    "colab_type": "text",
    "id": "eZ7jxUs_grPU"
   },
   "source": [
    "In this exercise, we will work again on the CIFAR-10 dataset, but this time you will use a well known architecture: the VGG-16."
   ]
  },
  {
   "cell_type": "markdown",
   "metadata": {
    "colab_type": "text",
    "id": "_T87eDJ2grPe"
   },
   "source": [
    "**Q1.** First, load the data using `tensorflow.keras.datasets.cifar10` :"
   ]
  },
  {
   "cell_type": "code",
   "execution_count": 1,
   "metadata": {
    "ExecuteTime": {
     "end_time": "2019-11-27T14:49:27.397560Z",
     "start_time": "2019-11-27T14:49:27.394870Z"
    },
    "colab": {
     "base_uri": "https://localhost:8080/",
     "height": 34
    },
    "colab_type": "code",
    "id": "E7_LXmKxgrPy",
    "outputId": "3ab45ab8-4b84-479b-8024-33c3e336810c",
    "scrolled": true
   },
   "outputs": [],
   "source": [
    "# TODO: Load the CIFAR dataset"
   ]
  },
  {
   "cell_type": "markdown",
   "metadata": {
    "colab_type": "text",
    "id": "fXGIOnBSgrQO"
   },
   "source": [
    "**Q2.** You can have a look at some images and labels if needed, even if you already know them."
   ]
  },
  {
   "cell_type": "code",
   "execution_count": 2,
   "metadata": {
    "ExecuteTime": {
     "end_time": "2019-11-27T14:49:30.528581Z",
     "start_time": "2019-11-27T14:49:30.524718Z"
    },
    "colab": {
     "base_uri": "https://localhost:8080/",
     "height": 281
    },
    "colab_type": "code",
    "id": "zM-SH0KigrQn",
    "outputId": "bf1b986f-2232-466e-870d-111aee735af0",
    "scrolled": true
   },
   "outputs": [],
   "source": [
    "# TODO: Explore the data, display some input images"
   ]
  },
  {
   "cell_type": "markdown",
   "metadata": {
    "colab_type": "text",
    "id": "KdIkWn1GgrQ4"
   },
   "source": [
    "**Q3.** Take care of the data preparation and preprocessing: scale the data, transform the labels into the correct shape."
   ]
  },
  {
   "cell_type": "code",
   "execution_count": 3,
   "metadata": {
    "ExecuteTime": {
     "end_time": "2019-11-27T14:49:33.788832Z",
     "start_time": "2019-11-27T14:49:33.784532Z"
    },
    "colab": {},
    "colab_type": "code",
    "id": "4sINmHCJgrQ-"
   },
   "outputs": [],
   "source": [
    "# TODO: Make the data preparation"
   ]
  },
  {
   "cell_type": "markdown",
   "metadata": {
    "colab_type": "text",
    "id": "UPh4ri7WgrRP"
   },
   "source": [
    "**Q4.** Now we will try to build a VGG model, and train it from scratch to see the performances we reach.\n",
    "\n",
    "For complexity reasons, the VGG model has to be simplified for such a dataset, so we will only keep the first layers :"
   ]
  },
  {
   "cell_type": "code",
   "execution_count": 3,
   "metadata": {
    "ExecuteTime": {
     "end_time": "2019-11-21T13:53:04.128963Z",
     "start_time": "2019-11-21T13:53:03.670455Z"
    },
    "colab": {},
    "colab_type": "code",
    "id": "iCpgpE3OgrRV"
   },
   "outputs": [
    {
     "name": "stdout",
     "output_type": "stream",
     "text": [
      "WARNING:tensorflow:From /Users/gaelle/anaconda3/lib/python3.7/site-packages/tensorflow/python/ops/resource_variable_ops.py:435: colocate_with (from tensorflow.python.framework.ops) is deprecated and will be removed in a future version.\n",
      "Instructions for updating:\n",
      "Colocations handled automatically by placer.\n"
     ]
    }
   ],
   "source": [
    "from tensorflow.keras.applications.vgg16 import VGG16\n",
    "from tensorflow.keras.models import Model\n",
    "from tensorflow.keras.layers import Dense\n",
    "from tensorflow.keras.layers import Flatten\n",
    "\n",
    "# create the base model\n",
    "base_model = VGG16(weights=None, include_top=False, \n",
    "             input_shape=X_train.shape[1:])\n",
    "\n",
    "# add a flattening layer\n",
    "# let's add a fully-connected layer to classify\n",
    "x = base_model.get_layer('block3_pool').output\n",
    "x = Flatten(name='Flatten')(x)\n",
    "x = Dense(512, activation='relu')(x)\n",
    "predictions = Dense(10, activation='softmax')(x)\n",
    "\n",
    "# this is the model we will train\n",
    "model = Model(inputs=base_model.input, outputs=predictions)"
   ]
  },
  {
   "cell_type": "markdown",
   "metadata": {
    "colab_type": "text",
    "id": "3fCFmomhgrRj"
   },
   "source": [
    "☝️ Have a look at this code and try to understand it, feel free to ask questions."
   ]
  },
  {
   "cell_type": "markdown",
   "metadata": {
    "colab_type": "text",
    "id": "XqRibey6grRn"
   },
   "source": [
    "**Q5.** Now compile and fit your model on your training data for 10 epochs. Feel free to have a look at the architecture of your model using `.summary()`."
   ]
  },
  {
   "cell_type": "code",
   "execution_count": 4,
   "metadata": {
    "ExecuteTime": {
     "end_time": "2019-11-27T14:50:09.785762Z",
     "start_time": "2019-11-27T14:50:09.781267Z"
    },
    "colab": {
     "base_uri": "https://localhost:8080/",
     "height": 399
    },
    "colab_type": "code",
    "id": "N5JLKRamgrRr",
    "outputId": "44bf6fa1-7e20-4fdf-c0b7-b25a91a88b4f",
    "scrolled": true
   },
   "outputs": [],
   "source": [
    "# TODO: Compile and fit your model"
   ]
  },
  {
   "cell_type": "markdown",
   "metadata": {
    "colab_type": "text",
    "id": "Cq2DDHxRgrR9"
   },
   "source": [
    "**Q6.** Now compute then the accuracy of your model."
   ]
  },
  {
   "cell_type": "code",
   "execution_count": 5,
   "metadata": {
    "ExecuteTime": {
     "end_time": "2019-11-27T14:50:12.562300Z",
     "start_time": "2019-11-27T14:50:12.556736Z"
    },
    "colab": {
     "base_uri": "https://localhost:8080/",
     "height": 52
    },
    "colab_type": "code",
    "id": "jIJ_Zzp0grSB",
    "outputId": "16628047-b25a-4f0f-8626-326355082da3"
   },
   "outputs": [],
   "source": [
    "# TODO: Compute the accuracy of your model"
   ]
  },
  {
   "cell_type": "markdown",
   "metadata": {
    "colab_type": "text",
    "id": "G6ZTvUPwh0Oz"
   },
   "source": [
    "Did you improve your results compared to what you had a couple of days ago on this dataset? Why?"
   ]
  },
  {
   "cell_type": "markdown",
   "metadata": {
    "colab_type": "text",
    "id": "kDUiRpGLgrSN"
   },
   "source": [
    "**Q7.** Now, try to redo the same, but this time you will **reuse the pretrained weights from image net**, using the parameter `weights = 'imagenet'`, and going up to the `'block4_pool'` layer, with the following code:\n",
    "```python\n",
    "x = base_model.get_layer('block4_pool').output\n",
    "```\n",
    "\n",
    "Do you see any improvement in the accuracy?"
   ]
  },
  {
   "cell_type": "code",
   "execution_count": 6,
   "metadata": {
    "ExecuteTime": {
     "end_time": "2019-11-27T14:50:26.554099Z",
     "start_time": "2019-11-27T14:50:26.550820Z"
    },
    "colab": {
     "base_uri": "https://localhost:8080/",
     "height": 399
    },
    "colab_type": "code",
    "id": "l6v845wBgrSQ",
    "outputId": "534db269-cea3-4ada-a6ee-161916f050aa"
   },
   "outputs": [],
   "source": [
    "# TODO: Retrain a VGG model with pretrained weights from image net and check the accuracy"
   ]
  }
 ],
 "metadata": {
  "accelerator": "GPU",
  "colab": {
   "collapsed_sections": [],
   "name": "Transfer-Learning.ipynb",
   "provenance": []
  },
  "kernelspec": {
   "display_name": "Python 3",
   "language": "python",
   "name": "python3"
  },
  "language_info": {
   "codemirror_mode": {
    "name": "ipython",
    "version": 3
   },
   "file_extension": ".py",
   "mimetype": "text/x-python",
   "name": "python",
   "nbconvert_exporter": "python",
   "pygments_lexer": "ipython3",
   "version": "3.7.6"
  },
  "toc": {
   "base_numbering": 1,
   "nav_menu": {},
   "number_sections": true,
   "sideBar": true,
   "skip_h1_title": false,
   "title_cell": "Table of Contents",
   "title_sidebar": "Contents",
   "toc_cell": false,
   "toc_position": {},
   "toc_section_display": true,
   "toc_window_display": false
  },
  "varInspector": {
   "cols": {
    "lenName": 16,
    "lenType": 16,
    "lenVar": 40
   },
   "kernels_config": {
    "python": {
     "delete_cmd_postfix": "",
     "delete_cmd_prefix": "del ",
     "library": "var_list.py",
     "varRefreshCmd": "print(var_dic_list())"
    },
    "r": {
     "delete_cmd_postfix": ") ",
     "delete_cmd_prefix": "rm(",
     "library": "var_list.r",
     "varRefreshCmd": "cat(var_dic_list()) "
    }
   },
   "types_to_exclude": [
    "module",
    "function",
    "builtin_function_or_method",
    "instance",
    "_Feature"
   ],
   "window_display": false
  }
 },
 "nbformat": 4,
 "nbformat_minor": 1
}
