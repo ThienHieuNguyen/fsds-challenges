{
 "cells": [
  {
   "cell_type": "markdown",
   "metadata": {},
   "source": [
    "# Anomaly\n",
    "\n",
    "![](https://images.unsplash.com/photo-1536303100418-985cb308bb38?ixlib=rb-1.2.1&ixid=eyJhcHBfaWQiOjEyMDd9&auto=format&fit=crop&w=1050&q=80)\n",
    "\n",
    "Picture by [Will Myers](https://unsplash.com/photos/ku_ttDpqIVc)"
   ]
  },
  {
   "cell_type": "markdown",
   "metadata": {},
   "source": [
    "In this challenge, you will play again with the [Kaggle credit card fraud detection](https://www.kaggle.com/mlg-ulb/creditcardfraud). But this time, you will use AutoEncoder to perform the anomaly detection.\n",
    "\n",
    "The idea of using an Autoencoder for anomaly detection is the following.\n",
    "\n",
    "If you train an AutoEncoder on pure data (only normal class), then the AutoEncoder now knows the normal data. If you make predictions on new data, the following behavior is expected:\n",
    "- The AutoEncoder sould be able to encode properly any normal data: the reconstruction error should be small\n",
    "- The AutoEncoder has never seen anomaly data: the reconstruction error should be large\n",
    "\n",
    "So basically, you will train an AutoEncoder on normal data only, and on the test dataset, you will use the reconstruction error as a way to discriminate."
   ]
  },
  {
   "cell_type": "markdown",
   "metadata": {},
   "source": [
    "Since you know well this dataset, the first part will be done easily: load the dataset, make a quick data exploration."
   ]
  },
  {
   "cell_type": "code",
   "execution_count": 1,
   "metadata": {
    "ExecuteTime": {
     "end_time": "2019-12-02T18:33:16.585548Z",
     "start_time": "2019-12-02T18:33:16.582759Z"
    }
   },
   "outputs": [],
   "source": [
    "### TODO: Data exploration"
   ]
  },
  {
   "cell_type": "markdown",
   "metadata": {},
   "source": [
    "You will want to use an AutoEncoder with input and output values only in the range (0, 1): so that you can use sigmoid functions. Thus, scale your data so that all your features are between 0 and 1"
   ]
  },
  {
   "cell_type": "code",
   "execution_count": 2,
   "metadata": {
    "ExecuteTime": {
     "end_time": "2019-12-02T18:33:23.691294Z",
     "start_time": "2019-12-02T18:33:23.686493Z"
    }
   },
   "outputs": [],
   "source": [
    "### TODO: use a scaler to scale your data between 0 and 1"
   ]
  },
  {
   "cell_type": "markdown",
   "metadata": {},
   "source": [
    "As usual, create an `X` and `y` variables, and split the dataset into train and test datasets. "
   ]
  },
  {
   "cell_type": "code",
   "execution_count": 3,
   "metadata": {
    "ExecuteTime": {
     "end_time": "2019-12-02T18:33:27.376955Z",
     "start_time": "2019-12-02T18:33:27.372138Z"
    },
    "scrolled": true
   },
   "outputs": [],
   "source": [
    "### TODO: Create your train and test dataset"
   ]
  },
  {
   "cell_type": "markdown",
   "metadata": {},
   "source": [
    "Now build an AutoEncoder, and fit it on the train dataset (with removed anomalous data)"
   ]
  },
  {
   "cell_type": "code",
   "execution_count": 4,
   "metadata": {
    "ExecuteTime": {
     "end_time": "2019-12-02T18:33:36.116190Z",
     "start_time": "2019-12-02T18:33:36.111082Z"
    }
   },
   "outputs": [],
   "source": [
    "### TODO: Build and fit your AutoEncoder"
   ]
  },
  {
   "cell_type": "markdown",
   "metadata": {},
   "source": [
    "Once the AutoEncoder is trained, compute the mean squared error between the features `X_train` and the predicted features from the AutoEncoder."
   ]
  },
  {
   "cell_type": "code",
   "execution_count": 5,
   "metadata": {
    "ExecuteTime": {
     "end_time": "2019-12-02T18:33:40.546648Z",
     "start_time": "2019-12-02T18:33:40.541321Z"
    }
   },
   "outputs": [],
   "source": [
    "### TODO: Compute the MSE"
   ]
  },
  {
   "cell_type": "markdown",
   "metadata": {},
   "source": [
    "Display the mean squared error on a scatter plot (or an histogram) with different colors for the classes."
   ]
  },
  {
   "cell_type": "code",
   "execution_count": 6,
   "metadata": {
    "ExecuteTime": {
     "end_time": "2019-12-02T18:33:45.157571Z",
     "start_time": "2019-12-02T18:33:45.152231Z"
    },
    "scrolled": true
   },
   "outputs": [],
   "source": [
    "### TODO: Display the errors"
   ]
  },
  {
   "cell_type": "markdown",
   "metadata": {},
   "source": [
    "Is there a difference in the error between normal and abnormal data?\n",
    "\n",
    "Now, using the mean squared error on the test dataset, compute the AUPRC (Area Under Precision Recall Curve) and the Precision Recall Curve."
   ]
  },
  {
   "cell_type": "code",
   "execution_count": 7,
   "metadata": {
    "ExecuteTime": {
     "end_time": "2019-12-02T18:33:51.250457Z",
     "start_time": "2019-12-02T18:33:51.245435Z"
    }
   },
   "outputs": [],
   "source": [
    "### TODO: Compute and display the AUPRC"
   ]
  },
  {
   "cell_type": "markdown",
   "metadata": {},
   "source": [
    "If you are curious, you can also have a look at the latent distributions, as a function of the class."
   ]
  }
 ],
 "metadata": {
  "kernelspec": {
   "display_name": "Python 3",
   "language": "python",
   "name": "python3"
  },
  "language_info": {
   "codemirror_mode": {
    "name": "ipython",
    "version": 3
   },
   "file_extension": ".py",
   "mimetype": "text/x-python",
   "name": "python",
   "nbconvert_exporter": "python",
   "pygments_lexer": "ipython3",
   "version": "3.7.1"
  },
  "toc": {
   "base_numbering": 1,
   "nav_menu": {},
   "number_sections": true,
   "sideBar": true,
   "skip_h1_title": false,
   "title_cell": "Table of Contents",
   "title_sidebar": "Contents",
   "toc_cell": false,
   "toc_position": {},
   "toc_section_display": true,
   "toc_window_display": false
  },
  "varInspector": {
   "cols": {
    "lenName": 16,
    "lenType": 16,
    "lenVar": 40
   },
   "kernels_config": {
    "python": {
     "delete_cmd_postfix": "",
     "delete_cmd_prefix": "del ",
     "library": "var_list.py",
     "varRefreshCmd": "print(var_dic_list())"
    },
    "r": {
     "delete_cmd_postfix": ") ",
     "delete_cmd_prefix": "rm(",
     "library": "var_list.r",
     "varRefreshCmd": "cat(var_dic_list()) "
    }
   },
   "types_to_exclude": [
    "module",
    "function",
    "builtin_function_or_method",
    "instance",
    "_Feature"
   ],
   "window_display": false
  }
 },
 "nbformat": 4,
 "nbformat_minor": 2
}
