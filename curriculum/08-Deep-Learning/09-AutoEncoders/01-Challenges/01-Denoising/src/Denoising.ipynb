{
 "cells": [
  {
   "cell_type": "markdown",
   "metadata": {},
   "source": [
    "# Denoising\n",
    "\n",
    "![](https://images.unsplash.com/photo-1548069124-75c4a08968cc?ixlib=rb-1.2.1&ixid=eyJhcHBfaWQiOjEyMDd9&auto=format&fit=crop&w=1050&q=80)\n",
    "\n",
    "Picture by [Anton Scherbakov](https://unsplash.com/photos/ZLBUaIsaY6k)"
   ]
  },
  {
   "cell_type": "markdown",
   "metadata": {},
   "source": [
    "We will here use AutoEncoders for denoising images.\n",
    "\n",
    "The idea is simple: train an autoencoder on noiseless images. Once the autoencoder is trained, input a noisy image, it should output the denoised image.\n",
    "\n",
    "Let's work again with the MNIST fashion dataset. Load it."
   ]
  },
  {
   "cell_type": "markdown",
   "metadata": {},
   "source": [
    "First download the dataset. As a reminder, the labels are the following:\n",
    "* 0:\tT-shirt/top\n",
    "* 1:\tTrouser\n",
    "* 2:\tPullover\n",
    "* 3:\tDress\n",
    "* 4:\tCoat\n",
    "* 5:\tSandal\n",
    "* 6:\tShirt\n",
    "* 7:\tSneaker\n",
    "* 8:\tBag\n",
    "* 9:\tAnkle boot"
   ]
  },
  {
   "cell_type": "code",
   "execution_count": 1,
   "metadata": {
    "ExecuteTime": {
     "end_time": "2019-12-02T18:32:19.573949Z",
     "start_time": "2019-12-02T18:32:19.570906Z"
    }
   },
   "outputs": [],
   "source": [
    "### TODO: Import the dataset and display an image"
   ]
  },
  {
   "cell_type": "markdown",
   "metadata": {},
   "source": [
    "Build an autoencoder for those images. You can reuse the architecture of the lectures.\n",
    "\n",
    "> Since this is for denoising (not any generation), a regular autoencoder is good enough!"
   ]
  },
  {
   "cell_type": "code",
   "execution_count": 2,
   "metadata": {
    "ExecuteTime": {
     "end_time": "2019-12-02T18:32:24.672120Z",
     "start_time": "2019-12-02T18:32:24.668010Z"
    }
   },
   "outputs": [],
   "source": [
    "### TODO: Build an autoencoder"
   ]
  },
  {
   "cell_type": "markdown",
   "metadata": {},
   "source": [
    "Now compile and train your AutoEncoder using the fashion data."
   ]
  },
  {
   "cell_type": "code",
   "execution_count": 3,
   "metadata": {
    "ExecuteTime": {
     "end_time": "2019-12-02T18:32:27.553007Z",
     "start_time": "2019-12-02T18:32:27.547761Z"
    }
   },
   "outputs": [],
   "source": [
    "### TODO: Train the autoencoder"
   ]
  },
  {
   "cell_type": "markdown",
   "metadata": {},
   "source": [
    "Check out how your model worked: display some pairs of input and output images."
   ]
  },
  {
   "cell_type": "code",
   "execution_count": 4,
   "metadata": {
    "ExecuteTime": {
     "end_time": "2019-12-02T18:32:31.225415Z",
     "start_time": "2019-12-02T18:32:31.220169Z"
    }
   },
   "outputs": [],
   "source": [
    "### TODO: Display some reconstructed images"
   ]
  },
  {
   "cell_type": "markdown",
   "metadata": {},
   "source": [
    "We have defined below a function to add noise."
   ]
  },
  {
   "cell_type": "code",
   "execution_count": 22,
   "metadata": {},
   "outputs": [],
   "source": [
    "def add_noise(X_train, noise_factor=0.35):\n",
    "\n",
    "    X_train_noisy = X_train + noise_factor * np.random.normal(loc=0.0, scale=1.0*X_train.max(), size=X_train.shape) \n",
    "    X_train_noisy = np.clip(X_train_noisy, 0., 1.)\n",
    "\n",
    "    return X_train_noisy"
   ]
  },
  {
   "cell_type": "markdown",
   "metadata": {},
   "source": [
    "Use this function to create a noisy dataset of the test images. Display some noisy images."
   ]
  },
  {
   "cell_type": "code",
   "execution_count": 5,
   "metadata": {
    "ExecuteTime": {
     "end_time": "2019-12-02T18:32:36.078771Z",
     "start_time": "2019-12-02T18:32:36.073929Z"
    }
   },
   "outputs": [],
   "source": [
    "### TODO: Create a noisy dataset"
   ]
  },
  {
   "cell_type": "markdown",
   "metadata": {},
   "source": [
    "If you used the default `noise_factor` parameter, you should barely distinguish some images by eye, but you can tune it differently if you wish to."
   ]
  },
  {
   "cell_type": "markdown",
   "metadata": {},
   "source": [
    "Now try using your trained autoencoder: use the autoencoder with the noisy images as input, and try to predict the denoised images."
   ]
  },
  {
   "cell_type": "code",
   "execution_count": 6,
   "metadata": {
    "ExecuteTime": {
     "end_time": "2019-12-02T18:32:39.415042Z",
     "start_time": "2019-12-02T18:32:39.409808Z"
    }
   },
   "outputs": [],
   "source": [
    "### TODO: Use the autoencoder to denoise images"
   ]
  },
  {
   "cell_type": "markdown",
   "metadata": {},
   "source": [
    "Now display side by side a noisy image and the denoised image."
   ]
  },
  {
   "cell_type": "code",
   "execution_count": 7,
   "metadata": {
    "ExecuteTime": {
     "end_time": "2019-12-02T18:32:42.754570Z",
     "start_time": "2019-12-02T18:32:42.749794Z"
    }
   },
   "outputs": [],
   "source": [
    "### TODO: Display side by side the noisy and denoised images"
   ]
  },
  {
   "cell_type": "markdown",
   "metadata": {},
   "source": [
    "How did that work?"
   ]
  },
  {
   "cell_type": "markdown",
   "metadata": {},
   "source": [
    "## Optional\n",
    "\n",
    "You can get better results using CNN autoencoder instead of regular autoencoder.\n",
    "\n",
    "If you have time, you can have a try. You might need to use the `UpSampling2D` layer, which is the opposite of the `MaxPooling2D` layer."
   ]
  },
  {
   "cell_type": "code",
   "execution_count": 8,
   "metadata": {
    "ExecuteTime": {
     "end_time": "2019-12-02T18:32:47.638733Z",
     "start_time": "2019-12-02T18:32:47.634410Z"
    }
   },
   "outputs": [],
   "source": [
    "### TODO: Redo the exercise with a CNN autoencoder"
   ]
  }
 ],
 "metadata": {
  "kernelspec": {
   "display_name": "Python 3",
   "language": "python",
   "name": "python3"
  },
  "language_info": {
   "codemirror_mode": {
    "name": "ipython",
    "version": 3
   },
   "file_extension": ".py",
   "mimetype": "text/x-python",
   "name": "python",
   "nbconvert_exporter": "python",
   "pygments_lexer": "ipython3",
   "version": "3.7.1"
  },
  "toc": {
   "base_numbering": 1,
   "nav_menu": {},
   "number_sections": true,
   "sideBar": true,
   "skip_h1_title": false,
   "title_cell": "Table of Contents",
   "title_sidebar": "Contents",
   "toc_cell": false,
   "toc_position": {},
   "toc_section_display": true,
   "toc_window_display": false
  },
  "varInspector": {
   "cols": {
    "lenName": 16,
    "lenType": 16,
    "lenVar": 40
   },
   "kernels_config": {
    "python": {
     "delete_cmd_postfix": "",
     "delete_cmd_prefix": "del ",
     "library": "var_list.py",
     "varRefreshCmd": "print(var_dic_list())"
    },
    "r": {
     "delete_cmd_postfix": ") ",
     "delete_cmd_prefix": "rm(",
     "library": "var_list.r",
     "varRefreshCmd": "cat(var_dic_list()) "
    }
   },
   "types_to_exclude": [
    "module",
    "function",
    "builtin_function_or_method",
    "instance",
    "_Feature"
   ],
   "window_display": false
  }
 },
 "nbformat": 4,
 "nbformat_minor": 2
}
