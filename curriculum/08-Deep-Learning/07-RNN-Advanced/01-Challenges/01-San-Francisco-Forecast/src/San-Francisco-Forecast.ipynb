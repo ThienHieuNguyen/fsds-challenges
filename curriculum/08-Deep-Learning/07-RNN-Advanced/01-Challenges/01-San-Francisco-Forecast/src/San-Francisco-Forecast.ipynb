{
 "cells": [
  {
   "cell_type": "markdown",
   "metadata": {},
   "source": [
    "# San Francisco Forecast\n",
    "\n",
    "![](https://images.unsplash.com/photo-1449034446853-66c86144b0ad?ixlib=rb-1.2.1&ixid=eyJhcHBfaWQiOjEyMDd9&auto=format&fit=crop&w=1050&q=80)"
   ]
  },
  {
   "cell_type": "markdown",
   "metadata": {},
   "source": [
    "In this exercise, you will predict the weather of the city of San Francisco! In the first step, we would predict the temperature, knowing the information of the past days."
   ]
  },
  {
   "cell_type": "markdown",
   "metadata": {},
   "source": [
    "First load the dataset contained in `San_Francisco.csv`."
   ]
  },
  {
   "cell_type": "code",
   "execution_count": 1,
   "metadata": {
    "ExecuteTime": {
     "end_time": "2019-12-01T21:46:20.130982Z",
     "start_time": "2019-12-01T21:46:20.128176Z"
    },
    "scrolled": true
   },
   "outputs": [],
   "source": [
    "# TODO: Load the dataset"
   ]
  },
  {
   "cell_type": "markdown",
   "metadata": {},
   "source": [
    "Explore the dataset, make the data preparation."
   ]
  },
  {
   "cell_type": "code",
   "execution_count": 2,
   "metadata": {
    "ExecuteTime": {
     "end_time": "2019-12-01T21:46:22.910163Z",
     "start_time": "2019-12-01T21:46:22.905679Z"
    },
    "scrolled": true
   },
   "outputs": [],
   "source": [
    "# TODO: Make an EDA and data preparation"
   ]
  },
  {
   "cell_type": "markdown",
   "metadata": {},
   "source": [
    "As you did for the stock forecast, you will need to compute the `X` and `y` data.\n",
    "\n",
    "`X` will be all the features, of the past half day for example (the number of past days can be modified). `y` will be the temperature of the current day."
   ]
  },
  {
   "cell_type": "code",
   "execution_count": 3,
   "metadata": {
    "ExecuteTime": {
     "end_time": "2019-12-01T21:46:38.018662Z",
     "start_time": "2019-12-01T21:46:38.013979Z"
    }
   },
   "outputs": [],
   "source": [
    "# TODO: Compute X and y"
   ]
  },
  {
   "cell_type": "markdown",
   "metadata": {},
   "source": [
    "Now build a RNN model that will allow to predict the temperature, knowing the information of the past half day (or more if you chose more!).\n",
    "\n",
    "Then compile it, fit it on a train dataset."
   ]
  },
  {
   "cell_type": "code",
   "execution_count": 4,
   "metadata": {
    "ExecuteTime": {
     "end_time": "2019-12-01T21:46:43.611695Z",
     "start_time": "2019-12-01T21:46:43.606986Z"
    },
    "scrolled": true
   },
   "outputs": [],
   "source": [
    "# TODO: Build and fit a RNN model"
   ]
  },
  {
   "cell_type": "markdown",
   "metadata": {},
   "source": [
    "Finally, plot the results and compare it to the test data."
   ]
  },
  {
   "cell_type": "code",
   "execution_count": 5,
   "metadata": {
    "ExecuteTime": {
     "end_time": "2019-12-01T21:46:48.301769Z",
     "start_time": "2019-12-01T21:46:48.297533Z"
    }
   },
   "outputs": [],
   "source": [
    "# TODO: Plot the results"
   ]
  },
  {
   "cell_type": "markdown",
   "metadata": {},
   "source": [
    "To go further, you can of course tune hyperparameters and the number of previous time steps you use.\n",
    "\n",
    "You can also try to add information from other cities (coming from [that dataset](https://www.kaggle.com/selfishgene/historical-hourly-weather-data)). \n",
    "\n",
    "Finally, you can also try to handle carefully the missing data, if you did not already!"
   ]
  }
 ],
 "metadata": {
  "kernelspec": {
   "display_name": "Python 3",
   "language": "python",
   "name": "python3"
  },
  "language_info": {
   "codemirror_mode": {
    "name": "ipython",
    "version": 3
   },
   "file_extension": ".py",
   "mimetype": "text/x-python",
   "name": "python",
   "nbconvert_exporter": "python",
   "pygments_lexer": "ipython3",
   "version": "3.7.1"
  },
  "toc": {
   "base_numbering": 1,
   "nav_menu": {},
   "number_sections": true,
   "sideBar": true,
   "skip_h1_title": false,
   "title_cell": "Table of Contents",
   "title_sidebar": "Contents",
   "toc_cell": false,
   "toc_position": {},
   "toc_section_display": true,
   "toc_window_display": false
  },
  "varInspector": {
   "cols": {
    "lenName": 16,
    "lenType": 16,
    "lenVar": 40
   },
   "kernels_config": {
    "python": {
     "delete_cmd_postfix": "",
     "delete_cmd_prefix": "del ",
     "library": "var_list.py",
     "varRefreshCmd": "print(var_dic_list())"
    },
    "r": {
     "delete_cmd_postfix": ") ",
     "delete_cmd_prefix": "rm(",
     "library": "var_list.r",
     "varRefreshCmd": "cat(var_dic_list()) "
    }
   },
   "types_to_exclude": [
    "module",
    "function",
    "builtin_function_or_method",
    "instance",
    "_Feature"
   ],
   "window_display": false
  }
 },
 "nbformat": 4,
 "nbformat_minor": 2
}
