{
 "cells": [
  {
   "cell_type": "markdown",
   "metadata": {},
   "source": [
    "# Vivabot 2.0\n",
    "\n",
    "![](https://images.unsplash.com/photo-1507146153580-69a1fe6d8aa1?ixlib=rb-1.2.1&ixid=eyJhcHBfaWQiOjEyMDd9&auto=format&fit=crop&w=1050&q=80)"
   ]
  },
  {
   "cell_type": "markdown",
   "metadata": {},
   "source": [
    "In this challenge, you will see how to build an AI based chatbot, using RNNs only. This is far from being easy, so we will help you out along the way.\n",
    "\n",
    "The used corpus of conversations, in `chatbot_data`, is from [here](https://github.com/gunthercox/chatterbot-corpus/tree/master/chatterbot_corpus/data/english).\n",
    "\n",
    "First, you can read the data with the following code. Run it and have a look at the conversations."
   ]
  },
  {
   "cell_type": "code",
   "execution_count": 1,
   "metadata": {},
   "outputs": [],
   "source": [
    "import os\n",
    "import yaml\n",
    "import numpy as np\n",
    "\n",
    "def read_conversations():\n",
    "    dir_path = '../input/chatbot_data/'\n",
    "    files_list = os.listdir(dir_path + os.sep)\n",
    "\n",
    "    questions = list()\n",
    "    answers = list()\n",
    "    for filepath in files_list:\n",
    "        stream = open( dir_path + os.sep + filepath , 'rb')\n",
    "        docs = yaml.safe_load(stream)\n",
    "        conversations = docs['conversations']\n",
    "        for con in conversations:\n",
    "            if len( con ) > 2 :\n",
    "                questions.append(con[0])\n",
    "                replies = con[ 1 : ]\n",
    "                ans = ''\n",
    "                for rep in replies:\n",
    "                    ans += ' ' + rep\n",
    "                answers.append( ans )\n",
    "            elif len( con )> 1:\n",
    "                questions.append(con[0])\n",
    "                answers.append(con[1])\n",
    "    return questions, answers"
   ]
  },
  {
   "cell_type": "code",
   "execution_count": 1,
   "metadata": {
    "ExecuteTime": {
     "end_time": "2019-12-01T21:48:38.210716Z",
     "start_time": "2019-12-01T21:48:38.207677Z"
    }
   },
   "outputs": [],
   "source": [
    "### TODO: explore the conversations"
   ]
  },
  {
   "cell_type": "markdown",
   "metadata": {},
   "source": [
    "The next step is to transform those conversations into useful data for the RNN. Now we have data like:\n",
    "```Python\n",
    "question = \"how are you\"\n",
    "answer = \"I am good\"\n",
    "```\n",
    "\n",
    "As you remember, the model we will use is like the following:\n",
    "\n",
    "![](Chatbot_encoder-decoder.png)\n",
    "\n",
    "So that we want to transform our data into to something like:\n",
    "```Python\n",
    "encoder_input = [\"how\", \"are\", \"you\"]\n",
    "decoder_input = [\"<START>\", \"I\", \"am\", \"good\"]\n",
    "decoder_target = [\"I\", \"am\", \"good\", \"<END>\"]\n",
    "```\n",
    "\n",
    "More specifically, you have to transform this into sequence of one-hot-encoded information."
   ]
  },
  {
   "cell_type": "markdown",
   "metadata": {},
   "source": [
    "You already did so, you can try out. Know that you can use the following functions and classes:\n",
    "```Python\n",
    "tensorflow.keras.preprocessing.text.Tokenizer\n",
    "tensorflow.keras.preprocessing.text.one_hot\n",
    "tensorflow.keras.preprocessing.sequence.pad_sequences\n",
    "tensorflow.keras.utils.to_categorical\n",
    "```\n",
    "\n",
    "We gave you some helper functions in case you need some help in the file `utils.py`."
   ]
  },
  {
   "cell_type": "code",
   "execution_count": 2,
   "metadata": {
    "ExecuteTime": {
     "end_time": "2019-12-01T21:48:44.571823Z",
     "start_time": "2019-12-01T21:48:44.566412Z"
    }
   },
   "outputs": [],
   "source": [
    "# TODO: Prepare the data"
   ]
  },
  {
   "cell_type": "markdown",
   "metadata": {},
   "source": [
    "We have built a model for you here, there is an encoder part, followed by a decoder part. This is inspired by [this post](https://blog.keras.io/a-ten-minute-introduction-to-sequence-to-sequence-learning-in-keras.html) if you want more details. If you have time, you can play with some hyperparamters (number of neurons, activation function...).\n",
    "\n",
    "Try to understand it, and fill the needed information according to your input data: we ask you to define the variables `num_encoder_tokens` and `num_decoder_tokens`."
   ]
  },
  {
   "cell_type": "code",
   "execution_count": 4,
   "metadata": {},
   "outputs": [],
   "source": [
    "### TODO: Fill the variables num_encoder_tokens and num_decoder_tokens\n",
    "### STRIP_START ###\n",
    "\n",
    "from tensorflow.keras.models import Model\n",
    "from tensorflow.keras.layers import Input, LSTM, Dense, Embedding\n",
    "\n",
    "\n",
    "num_encoder_tokens = vocab_size+1\n",
    "num_decoder_tokens = vocab_size+1\n",
    "latent_dim = 256\n",
    "\n",
    "# Define an input sequence and process it.\n",
    "encoder_inputs = Input(shape=(None, num_encoder_tokens))\n",
    "#encoder_embed = Embedding(input_dim=num_encoder_tokens, output_dim=latent_dim, input_length=max_len)(encoder_inputs)\n",
    "encoder = LSTM(latent_dim, activation='relu', return_state=True)\n",
    "encoder_outputs, state_h, state_c = encoder(encoder_inputs)\n",
    "# We discard `encoder_outputs` and only keep the states.\n",
    "encoder_states = [state_h, state_c]\n",
    "\n",
    "# Set up the decoder, using `encoder_states` as initial state.\n",
    "decoder_inputs = Input(shape=(None, num_decoder_tokens))\n",
    "#decoder_embed = Embedding(input_dim=num_encoder_tokens, output_dim=latent_dim, input_length=max_len)(decoder_inputs)\n",
    "\n",
    "# We set up our decoder to return full output sequences,\n",
    "# and to return internal states as well. We don't use the \n",
    "# return states in the training model, but we will use them in inference.\n",
    "decoder_lstm = LSTM(latent_dim, activation='relu', return_sequences=True, return_state=True)\n",
    "decoder_outputs, _, _ = decoder_lstm(decoder_inputs,\n",
    "                                     initial_state=encoder_states)\n",
    "decoder_dense = Dense(num_decoder_tokens, activation='softmax')\n",
    "decoder_outputs = decoder_dense(decoder_outputs)\n",
    "\n",
    "# Define the model that will turn\n",
    "# `encoder_input_data` & `decoder_input_data` into `decoder_target_data`\n",
    "model = Model([encoder_inputs, decoder_inputs], decoder_outputs)\n",
    "### STRIP_END ###"
   ]
  },
  {
   "cell_type": "markdown",
   "metadata": {},
   "source": [
    "Now train this model with your input data. You have to fill the variables `encoder_input_data` `decoder_input_data` and `decoder_target_data`."
   ]
  },
  {
   "cell_type": "code",
   "execution_count": null,
   "metadata": {
    "scrolled": true
   },
   "outputs": [],
   "source": [
    "### TODO: Fill the variables num_encoder_tokens and num_decoder_tokens\n",
    "from tensorflow.keras import optimizers\n",
    "\n",
    "\n",
    "encoder_input_data = ### TODO: Fill this variable\n",
    "decoder_input_data = ### TODO: Fill this variable\n",
    "decoder_target_data = ### TODO: Fill this variable\n",
    "\n",
    "model.compile(optimizer='adam', loss='categorical_crossentropy')\n",
    "model.fit([encoder_input_data, decoder_input_data], decoder_target_data,\n",
    "          batch_size=64,\n",
    "          epochs=10)# much more epochs are needed to make it right\n"
   ]
  },
  {
   "cell_type": "markdown",
   "metadata": {},
   "source": [
    "Here we help you out building the inference setup, that will allow to build answers from questions. Try to understand the code."
   ]
  },
  {
   "cell_type": "code",
   "execution_count": 11,
   "metadata": {},
   "outputs": [],
   "source": [
    "# Here we define the inference setup\n",
    "encoder_model = Model(encoder_inputs, encoder_states)\n",
    "\n",
    "decoder_state_input_h = Input(shape=(latent_dim,))\n",
    "decoder_state_input_c = Input(shape=(latent_dim,))\n",
    "decoder_states_inputs = [decoder_state_input_h, decoder_state_input_c]\n",
    "decoder_outputs, state_h, state_c = decoder_lstm(\n",
    "    decoder_inputs, initial_state=decoder_states_inputs)\n",
    "decoder_states = [state_h, state_c]\n",
    "decoder_outputs = decoder_dense(decoder_outputs)\n",
    "decoder_model = Model(\n",
    "    [decoder_inputs] + decoder_states_inputs,\n",
    "    [decoder_outputs] + decoder_states)"
   ]
  },
  {
   "cell_type": "markdown",
   "metadata": {},
   "source": [
    "Below is a method that takes as input a sequence (same shape as the model takes as input), and returns a sentence. Have a look at it, it should look a bit familiar."
   ]
  },
  {
   "cell_type": "code",
   "execution_count": 7,
   "metadata": {},
   "outputs": [],
   "source": [
    "# Here is a method to decode a sequence and output a sentence\n",
    "def decode_sequence(input_seq, word_to_idx, idx_to_word, randomness=True):\n",
    "    # Encode the input as state vectors.\n",
    "    states_value = encoder_model.predict(input_seq)\n",
    "\n",
    "    # Generate empty target sequence of length 1.\n",
    "    target_seq = np.zeros((1, 1, num_decoder_tokens))\n",
    "    # Populate the first character of target sequence with the start character.\n",
    "    target_seq[0, 0, 0] = 1.\n",
    "\n",
    "    # Sampling loop for a batch of sequences\n",
    "    # (to simplify, here we assume a batch of size 1).\n",
    "    stop_condition = False\n",
    "    decoded_sentence = ''\n",
    "    while not stop_condition:\n",
    "        output_tokens, h, c = decoder_model.predict(\n",
    "            [target_seq] + states_value)\n",
    "        \n",
    "        # Sample a token\n",
    "        sampled_token_index = np.argmax(output_tokens[0, -1, :])\n",
    "        random_choice = np.random.choice(list(word_to_idx.keys()), replace=False, p=(output_tokens[0, -1, :]).reshape(len(word_to_idx)))\n",
    "        sampled_word = idx_to_word[sampled_token_index]\n",
    "\n",
    "        if randomness==True:\n",
    "            sampled_word = random_choice\n",
    "        \n",
    "        # Exit condition: either hit max length\n",
    "        # or find stop word.\n",
    "        if (sampled_word == '<END>' or\n",
    "           len(decoded_sentence) > max_len):\n",
    "            stop_condition = True\n",
    "        else:\n",
    "            decoded_sentence += sampled_word + ' '\n",
    "\n",
    "        # Update the target sequence (of length 1).\n",
    "        target_seq = np.zeros((1, 1, num_decoder_tokens))\n",
    "        target_seq[0, 0, sampled_token_index] = 1.\n",
    "\n",
    "        # Update states\n",
    "        states_value = [h, c]\n",
    "\n",
    "    return decoded_sentence"
   ]
  },
  {
   "cell_type": "markdown",
   "metadata": {},
   "source": [
    "A couple of steps more before using your bot. First you have to define the `word_to_idx` and `idx_to_word` dict needed for the `decode_sequence` function.\n",
    "- `word_to_idx` is the dictionary that gives the token index for a given word\n",
    "- `idx_to_word` is the dictionary that gives the word corresponding to a given index\n",
    "\n",
    "Do not forget to add the `'<START>'` (`vocab_size` index) and `'<END>'` (`0` index) words.\n",
    "\n",
    "To do so, you might want to use the outputed `Tokenizer` object (returned by the function `get_tokens` in case you used it)."
   ]
  },
  {
   "cell_type": "code",
   "execution_count": 3,
   "metadata": {
    "ExecuteTime": {
     "end_time": "2019-12-01T21:50:30.979823Z",
     "start_time": "2019-12-01T21:50:30.974843Z"
    }
   },
   "outputs": [],
   "source": [
    "# TODO: Compute char_to_idx"
   ]
  },
  {
   "cell_type": "markdown",
   "metadata": {},
   "source": [
    "Finally, using the function `decode_sequence`, try to get an answer from your bot!\n",
    "Be careful, you have to process a given sentence (a string) into the right format, so that the RNN understands it!\n",
    "\n",
    "You can put that into a interactive way, so that it looks more user friendly."
   ]
  },
  {
   "cell_type": "code",
   "execution_count": 4,
   "metadata": {
    "ExecuteTime": {
     "end_time": "2019-12-01T21:50:38.511143Z",
     "start_time": "2019-12-01T21:50:38.505983Z"
    }
   },
   "outputs": [],
   "source": [
    "# TODO: Test your bot"
   ]
  },
  {
   "cell_type": "markdown",
   "metadata": {},
   "source": [
    "How does it work? Not really good? It takes quite some time (and experience) to train correctly such a model. This is normal. But you get the global idea, and you can also all more conversational inputs yourself, so that your bot will behave the way you want!"
   ]
  },
  {
   "cell_type": "markdown",
   "metadata": {},
   "source": [
    "---"
   ]
  },
  {
   "cell_type": "markdown",
   "metadata": {},
   "source": [
    "You can also directly use precoded chatbots. An easy to use example is Chatterbot. You can find it [here](https://github.com/gunthercox/ChatterBot).\n",
    "\n",
    "This is quite convenient to install using the commands:\n",
    "```\n",
    "pip install chatterbot\n",
    "pip install chatterbot-corpus --ignore-installed\n",
    "```"
   ]
  },
  {
   "cell_type": "markdown",
   "metadata": {},
   "source": [
    "And this is really easy to use, with the following lines of code:\n",
    "```Python3\n",
    "from chatterbot import ChatBot\n",
    "from chatterbot.trainers import ChatterBotCorpusTrainer\n",
    "\n",
    "chatbot = ChatBot('Ron Obvious')\n",
    "\n",
    "# Create a new trainer for the chatbot\n",
    "trainer = ChatterBotCorpusTrainer(chatbot)\n",
    "\n",
    "# Train the chatbot based on the english corpus\n",
    "trainer.train(\"chatterbot.corpus.english\")\n",
    "\n",
    "# Get a response to an input statement\n",
    "chatbot.get_response(\"Hello, how are you today?\")\n",
    "```\n",
    "\n",
    "You can also add data to the conversations, create a new corpus and train on it:\n",
    "```Python\n",
    "from chatterbot.trainers import ChatterBotCorpusTrainer\n",
    "\n",
    "# Create a new trainer for the chatbot\n",
    "trainer = ChatterBotCorpusTrainer(chatbot)\n",
    "\n",
    "# Train based on the english corpus\n",
    "trainer.train(\"chatterbot.corpus.english\")\n",
    "\n",
    "# Train based on english greetings corpus\n",
    "trainer.train(\"chatterbot.corpus.english.greetings\")\n",
    "\n",
    "# Train based on the english conversations corpus\n",
    "trainer.train(\"chatterbot.corpus.english.conversations\")\n",
    "```"
   ]
  },
  {
   "cell_type": "markdown",
   "metadata": {},
   "source": [
    "Give it a try!"
   ]
  },
  {
   "cell_type": "code",
   "execution_count": 5,
   "metadata": {
    "ExecuteTime": {
     "end_time": "2019-12-01T21:50:52.975767Z",
     "start_time": "2019-12-01T21:50:52.971128Z"
    }
   },
   "outputs": [],
   "source": [
    "# TODO: Try to use chatterbot"
   ]
  }
 ],
 "metadata": {
  "kernelspec": {
   "display_name": "Python 3",
   "language": "python",
   "name": "python3"
  },
  "language_info": {
   "codemirror_mode": {
    "name": "ipython",
    "version": 3
   },
   "file_extension": ".py",
   "mimetype": "text/x-python",
   "name": "python",
   "nbconvert_exporter": "python",
   "pygments_lexer": "ipython3",
   "version": "3.7.1"
  },
  "toc": {
   "base_numbering": 1,
   "nav_menu": {},
   "number_sections": true,
   "sideBar": true,
   "skip_h1_title": false,
   "title_cell": "Table of Contents",
   "title_sidebar": "Contents",
   "toc_cell": false,
   "toc_position": {},
   "toc_section_display": true,
   "toc_window_display": false
  },
  "varInspector": {
   "cols": {
    "lenName": 16,
    "lenType": 16,
    "lenVar": 40
   },
   "kernels_config": {
    "python": {
     "delete_cmd_postfix": "",
     "delete_cmd_prefix": "del ",
     "library": "var_list.py",
     "varRefreshCmd": "print(var_dic_list())"
    },
    "r": {
     "delete_cmd_postfix": ") ",
     "delete_cmd_prefix": "rm(",
     "library": "var_list.r",
     "varRefreshCmd": "cat(var_dic_list()) "
    }
   },
   "types_to_exclude": [
    "module",
    "function",
    "builtin_function_or_method",
    "instance",
    "_Feature"
   ],
   "window_display": false
  }
 },
 "nbformat": 4,
 "nbformat_minor": 2
}
