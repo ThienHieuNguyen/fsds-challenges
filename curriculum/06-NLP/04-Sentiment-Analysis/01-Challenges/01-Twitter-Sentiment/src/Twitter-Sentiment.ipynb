{
 "cells": [
  {
   "cell_type": "markdown",
   "metadata": {},
   "source": [
    "# Challenge - Tweets analysis\n",
    "\n",
    "![](https://images.unsplash.com/photo-1569285645462-a3f9c6332d56?ixlib=rb-1.2.1&ixid=eyJhcHBfaWQiOjEyMDd9&auto=format&fit=crop&w=1050&q=80)\n",
    "\n",
    "This data originally came from Crowdflower's [Data for Everyone library](http://www.crowdflower.com/data-for-everyone).\n",
    "\n",
    "As the original source says,\n",
    "\n",
    "> We looked through tens of thousands of tweets about the early August GOP debate in Ohio and asked contributors to do both sentiment analysis and data categorization. Contributors were asked which candidate was mentioned, and what the sentiment was for a given tweet. \n",
    "\n",
    "In this exercise, you will use your NLP and ML tools to **predict the sentiment of a tweet**. This is a project where you are free to explore and use the techniques that you know on the given dataset.\n",
    "\n",
    "Some potential guidelines :\n",
    "- Be careful to thourougly explore the data and gain insights about it.\n",
    "- Practice some topic modelling on the text of the tweets.\n",
    "- Use the NLP tools that you know on the text of each tweet to make predictions about the sentiment of the tweet.\n",
    "- Try some feature engineering to improve the performance of your model.\n",
    "\n",
    "The dataset is located in the `input` folder."
   ]
  }
 ],
 "metadata": {
  "kernelspec": {
   "display_name": "Python 3",
   "language": "python",
   "name": "python3"
  },
  "language_info": {
   "codemirror_mode": {
    "name": "ipython",
    "version": 3
   },
   "file_extension": ".py",
   "mimetype": "text/x-python",
   "name": "python",
   "nbconvert_exporter": "python",
   "pygments_lexer": "ipython3",
   "version": "3.7.1"
  },
  "toc": {
   "base_numbering": 1,
   "nav_menu": {},
   "number_sections": true,
   "sideBar": true,
   "skip_h1_title": false,
   "title_cell": "Table of Contents",
   "title_sidebar": "Contents",
   "toc_cell": false,
   "toc_position": {},
   "toc_section_display": true,
   "toc_window_display": false
  },
  "varInspector": {
   "cols": {
    "lenName": 16,
    "lenType": 16,
    "lenVar": 40
   },
   "kernels_config": {
    "python": {
     "delete_cmd_postfix": "",
     "delete_cmd_prefix": "del ",
     "library": "var_list.py",
     "varRefreshCmd": "print(var_dic_list())"
    },
    "r": {
     "delete_cmd_postfix": ") ",
     "delete_cmd_prefix": "rm(",
     "library": "var_list.r",
     "varRefreshCmd": "cat(var_dic_list()) "
    }
   },
   "types_to_exclude": [
    "module",
    "function",
    "builtin_function_or_method",
    "instance",
    "_Feature"
   ],
   "window_display": false
  }
 },
 "nbformat": 4,
 "nbformat_minor": 2
}
