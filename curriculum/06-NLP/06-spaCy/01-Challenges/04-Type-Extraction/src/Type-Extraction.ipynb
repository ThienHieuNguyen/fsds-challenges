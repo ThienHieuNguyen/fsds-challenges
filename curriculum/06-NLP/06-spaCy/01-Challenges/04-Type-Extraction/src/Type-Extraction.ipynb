{
 "cells": [
  {
   "cell_type": "markdown",
   "metadata": {},
   "source": [
    "# Type Extraction\n",
    "\n",
    "![](https://miro.medium.com/max/1400/1*DED1LGhEok0s2mUUIFbv0A.jpeg)\n",
    "\n",
    "Picture from [Torwards Data Science](https://towardsdatascience.com/a-review-of-named-entity-recognition-ner-using-automatic-summarization-of-resumes-5248a75de175)"
   ]
  },
  {
   "cell_type": "markdown",
   "metadata": {},
   "source": [
    "---"
   ]
  },
  {
   "cell_type": "markdown",
   "metadata": {},
   "source": [
    "The goal of this exercise is to extract the class to which an entity belongs from Wikipedia. For example, given the Wikipedia article about Leicester:\n",
    "\n",
    "> *Leicester is a small city in England*\n",
    "\n",
    "the goal is to extract:\n",
    "\n",
    "> *Leicester  \\t   city*\n"
   ]
  },
  {
   "cell_type": "markdown",
   "metadata": {},
   "source": [
    "Complete the `extractType(content)` function below so that it extracts the type of the article entity from the content. For example, for a content of \"Leicester is a beautiful English city in the UK\", it should return \"city\".\n",
    "\n",
    "Exclude terms that are too abstract (\"member of...\", \"way of...\"), and try to extract exactly the noun(s). You can also skip articles (e.g. return None) if you are not sure or if the text does not contain any type.\n",
    "\n",
    "This exercice will be graded by a variant of the F1 score that gives higher weight to precision (with beta=0.5). You can approximate your precision by looking manually at the first 20 output triples or by comparing to the gold standard sample."
   ]
  },
  {
   "cell_type": "code",
   "execution_count": null,
   "metadata": {
    "ExecuteTime": {
     "end_time": "2019-08-06T20:19:51.751534Z",
     "start_time": "2019-08-06T20:19:51.738837Z"
    }
   },
   "outputs": [],
   "source": [
    "from helpers.parser import Parser\n",
    "import sys\n",
    "import re\n",
    "\n",
    "import spacy\n",
    "\n",
    "nlp = spacy.load('en_core_web_sm')\n",
    "\n",
    "def extractType(content):\n",
    "    # TODO\n",
    "    return "
   ]
  },
  {
   "cell_type": "markdown",
   "metadata": {},
   "source": [
    "Save your outputs in a file `output.txt` in the `output` folder:"
   ]
  },
  {
   "cell_type": "code",
   "execution_count": null,
   "metadata": {
    "ExecuteTime": {
     "end_time": "2019-08-07T09:06:51.813490Z",
     "start_time": "2019-08-07T09:06:51.041534Z"
    }
   },
   "outputs": [],
   "source": [
    "with open('../output/output.txt', 'w', encoding=\"utf-8\") as output:\n",
    "    for page in Parser('./data/wikipedia_small.txt'):\n",
    "        typ = extractType(page.content)\n",
    "        if typ:\n",
    "            output.write(page.title + \"\\t\" + typ + \"\\n\")"
   ]
  },
  {
   "cell_type": "markdown",
   "metadata": {
    "ExecuteTime": {
     "end_time": "2019-08-05T21:13:15.798635Z",
     "start_time": "2019-08-05T21:13:15.790862Z"
    }
   },
   "source": [
    "Evaluating part of output using gold standard sample:"
   ]
  },
  {
   "cell_type": "code",
   "execution_count": null,
   "metadata": {},
   "outputs": [],
   "source": [
    "!python ./helpers/evaluation.py ../input/gold-standard-sample.tsv ../output/output.txt 1"
   ]
  }
 ],
 "metadata": {
  "hide_input": false,
  "kernelspec": {
   "display_name": "Python 3",
   "language": "python",
   "name": "python3"
  },
  "language_info": {
   "codemirror_mode": {
    "name": "ipython",
    "version": 3
   },
   "file_extension": ".py",
   "mimetype": "text/x-python",
   "name": "python",
   "nbconvert_exporter": "python",
   "pygments_lexer": "ipython3",
   "version": "3.7.6"
  },
  "toc": {
   "base_numbering": 1,
   "nav_menu": {},
   "number_sections": true,
   "sideBar": true,
   "skip_h1_title": false,
   "title_cell": "Table of Contents",
   "title_sidebar": "Contents",
   "toc_cell": false,
   "toc_position": {},
   "toc_section_display": true,
   "toc_window_display": false
  },
  "varInspector": {
   "cols": {
    "lenName": 16,
    "lenType": 16,
    "lenVar": 40
   },
   "kernels_config": {
    "python": {
     "delete_cmd_postfix": "",
     "delete_cmd_prefix": "del ",
     "library": "var_list.py",
     "varRefreshCmd": "print(var_dic_list())"
    },
    "r": {
     "delete_cmd_postfix": ") ",
     "delete_cmd_prefix": "rm(",
     "library": "var_list.r",
     "varRefreshCmd": "cat(var_dic_list()) "
    }
   },
   "types_to_exclude": [
    "module",
    "function",
    "builtin_function_or_method",
    "instance",
    "_Feature"
   ],
   "window_display": false
  }
 },
 "nbformat": 4,
 "nbformat_minor": 2
}
