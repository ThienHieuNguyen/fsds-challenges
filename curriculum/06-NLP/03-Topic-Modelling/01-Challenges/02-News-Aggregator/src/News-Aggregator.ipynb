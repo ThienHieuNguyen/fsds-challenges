{
 "cells": [
  {
   "cell_type": "markdown",
   "metadata": {
    "ExecuteTime": {
     "end_time": "2019-11-19T10:41:10.371736Z",
     "start_time": "2019-11-19T10:41:10.364780Z"
    }
   },
   "source": [
    "# News Aggregator Challenge"
   ]
  },
  {
   "cell_type": "markdown",
   "metadata": {},
   "source": [
    "![](https://images.unsplash.com/photo-1504711434969-e33886168f5c?ixlib=rb-1.2.1&ixid=eyJhcHBfaWQiOjEyMDd9&auto=format&fit=crop&w=1500&q=80)"
   ]
  },
  {
   "cell_type": "markdown",
   "metadata": {},
   "source": [
    "This dataset contains headlines, URLs, and categories for 422,937 news stories collected by a web aggregator between March 10th, 2014 and August 10th, 2014.\n",
    "\n",
    "News categories included in this dataset include business; science and technology; entertainment; and health. Different news articles that refer to the same news item (e.g., several articles about recently released employment statistics) are also categorized together.\n",
    "\n",
    "Content\n",
    "The columns included in this dataset are:\n",
    "\n",
    "- ID : the numeric ID of the article\n",
    "- TITLE : the headline of the article\n",
    "- URL : the URL of the article\n",
    "- PUBLISHER : the publisher of the article\n",
    "- CATEGORY : the category of the news item; one of: \n",
    "        -- b : business \n",
    "        -- t : science and technology \n",
    "        -- e : entertainment \n",
    "        -- m : health\n",
    "- STORY : alphanumeric ID of the news story that the article discusses\n",
    "- HOSTNAME : hostname where the article was posted\n",
    "- TIMESTAMP : approximate timestamp of the article's publication, given in Unix time (seconds since midnight on Jan 1, 1970)\n",
    "\n",
    "➡️ Can we predict the category (business, entertainment, etc.) of a news article given only its headline?\n",
    "\n",
    "\n",
    "👉 Source: https://www.kaggle.com/uciml/news-aggregator-dataset/data"
   ]
  },
  {
   "cell_type": "code",
   "execution_count": 1,
   "metadata": {
    "ExecuteTime": {
     "end_time": "2019-11-19T15:11:18.074357Z",
     "start_time": "2019-11-19T15:11:17.673948Z"
    }
   },
   "outputs": [],
   "source": [
    "import pandas as pd\n",
    "import numpy as np"
   ]
  },
  {
   "cell_type": "markdown",
   "metadata": {},
   "source": [
    "<h1> Load the data"
   ]
  },
  {
   "cell_type": "code",
   "execution_count": 2,
   "metadata": {
    "ExecuteTime": {
     "end_time": "2019-11-19T15:11:18.078914Z",
     "start_time": "2019-11-19T15:11:18.076364Z"
    }
   },
   "outputs": [],
   "source": [
    "# TODO: import the data"
   ]
  },
  {
   "cell_type": "markdown",
   "metadata": {},
   "source": [
    "<h1> EDA"
   ]
  },
  {
   "cell_type": "code",
   "execution_count": 3,
   "metadata": {
    "ExecuteTime": {
     "end_time": "2019-11-19T15:11:18.091239Z",
     "start_time": "2019-11-19T15:11:18.081043Z"
    }
   },
   "outputs": [],
   "source": [
    "# TODO: data exploration"
   ]
  },
  {
   "cell_type": "code",
   "execution_count": 4,
   "metadata": {
    "ExecuteTime": {
     "end_time": "2019-11-19T15:11:18.104289Z",
     "start_time": "2019-11-19T15:11:18.097028Z"
    }
   },
   "outputs": [],
   "source": [
    "# TODO: Identify the different values of news article category "
   ]
  },
  {
   "cell_type": "markdown",
   "metadata": {},
   "source": [
    "- CATEGORY : the category of the news item; one of: \n",
    "        -- b : business \n",
    "        -- t : science and technology \n",
    "        -- e : entertainment \n",
    "        -- m : health"
   ]
  },
  {
   "cell_type": "code",
   "execution_count": 5,
   "metadata": {
    "ExecuteTime": {
     "end_time": "2019-11-19T15:11:18.114945Z",
     "start_time": "2019-11-19T15:11:18.106166Z"
    }
   },
   "outputs": [],
   "source": [
    "# TODO: sample your dataframe to 10000 lines"
   ]
  },
  {
   "cell_type": "code",
   "execution_count": 6,
   "metadata": {
    "ExecuteTime": {
     "end_time": "2019-11-19T15:11:18.125741Z",
     "start_time": "2019-11-19T15:11:18.117224Z"
    }
   },
   "outputs": [],
   "source": [
    "# TODO: check the ratio of each category in your new dataset"
   ]
  },
  {
   "cell_type": "markdown",
   "metadata": {},
   "source": [
    "<h1> Preprocessing of our news titles"
   ]
  },
  {
   "cell_type": "code",
   "execution_count": 7,
   "metadata": {
    "ExecuteTime": {
     "end_time": "2019-11-19T15:11:18.137030Z",
     "start_time": "2019-11-19T15:11:18.128882Z"
    }
   },
   "outputs": [],
   "source": [
    "# TODO: Preprocess the headlines of the news article"
   ]
  },
  {
   "cell_type": "markdown",
   "metadata": {},
   "source": [
    "<h1> Build our gensim BOW"
   ]
  },
  {
   "cell_type": "code",
   "execution_count": 8,
   "metadata": {
    "ExecuteTime": {
     "end_time": "2019-11-19T15:11:18.148318Z",
     "start_time": "2019-11-19T15:11:18.140047Z"
    }
   },
   "outputs": [],
   "source": [
    "# TODO: Create a gensim BOW of your news article headlines \n",
    "\n",
    "## Create a corpus\n",
    "\n",
    "## Compute the dictionary: this is a dictionary mapping words and their corresponding numbers for later visualisation\n",
    "\n",
    "## Create a BOW"
   ]
  },
  {
   "cell_type": "markdown",
   "metadata": {},
   "source": [
    "<h1> Latent Dirichlet Allocation"
   ]
  },
  {
   "cell_type": "code",
   "execution_count": 9,
   "metadata": {
    "ExecuteTime": {
     "end_time": "2019-11-19T15:11:18.159386Z",
     "start_time": "2019-11-19T15:11:18.152918Z"
    }
   },
   "outputs": [],
   "source": [
    "# TODO: define different topics within those news article using a LDA.\n",
    "\n",
    "## Compute the LDA\n",
    "\n",
    "## Print the main topics"
   ]
  },
  {
   "cell_type": "code",
   "execution_count": 10,
   "metadata": {
    "ExecuteTime": {
     "end_time": "2019-11-19T15:11:18.181487Z",
     "start_time": "2019-11-19T15:11:18.165204Z"
    }
   },
   "outputs": [],
   "source": [
    "# TODO: check the coherence of your model\n",
    "# Improve your preprocessing or adjust num_topics to improve your coherence"
   ]
  },
  {
   "cell_type": "code",
   "execution_count": 11,
   "metadata": {
    "ExecuteTime": {
     "end_time": "2019-11-19T15:11:18.192893Z",
     "start_time": "2019-11-19T15:11:18.190092Z"
    }
   },
   "outputs": [],
   "source": [
    "#TODO: visualize your different topics"
   ]
  },
  {
   "cell_type": "markdown",
   "metadata": {},
   "source": [
    "<h1> Compare LDA topics to our predefined categories"
   ]
  },
  {
   "cell_type": "code",
   "execution_count": 12,
   "metadata": {
    "ExecuteTime": {
     "end_time": "2019-11-19T15:11:18.208584Z",
     "start_time": "2019-11-19T15:11:18.196947Z"
    }
   },
   "outputs": [],
   "source": [
    "# TODO: Are we able to identify clearly the topics ? \n",
    "# If so, create a mapping dictionnary between your LDA topics and the article category"
   ]
  },
  {
   "cell_type": "code",
   "execution_count": 13,
   "metadata": {
    "ExecuteTime": {
     "end_time": "2019-11-19T15:11:18.230322Z",
     "start_time": "2019-11-19T15:11:18.221409Z"
    }
   },
   "outputs": [],
   "source": [
    "# TODO: Assign to each document its LDA topic using the methods get_document_topics()"
   ]
  },
  {
   "cell_type": "code",
   "execution_count": 14,
   "metadata": {
    "ExecuteTime": {
     "end_time": "2019-11-19T15:11:18.239509Z",
     "start_time": "2019-11-19T15:11:18.233843Z"
    }
   },
   "outputs": [],
   "source": [
    "# TODO: create a function get_probas(i)\n",
    "# return an array of LDA topics probability for a given index"
   ]
  },
  {
   "cell_type": "code",
   "execution_count": 15,
   "metadata": {
    "ExecuteTime": {
     "end_time": "2019-11-19T15:11:18.253876Z",
     "start_time": "2019-11-19T15:11:18.241756Z"
    }
   },
   "outputs": [],
   "source": [
    "# TODO: create a function get_category(i)\n",
    "# return the LDA topic category for a given index (you can add a minimum probability threshold)"
   ]
  },
  {
   "cell_type": "code",
   "execution_count": 16,
   "metadata": {
    "ExecuteTime": {
     "end_time": "2019-11-19T15:11:18.269816Z",
     "start_time": "2019-11-19T15:11:18.257197Z"
    }
   },
   "outputs": [],
   "source": [
    "# TODO: Check some random headlines category and compare it with LDA topic"
   ]
  },
  {
   "cell_type": "code",
   "execution_count": 17,
   "metadata": {
    "ExecuteTime": {
     "end_time": "2019-11-19T15:11:18.277586Z",
     "start_time": "2019-11-19T15:11:18.274093Z"
    }
   },
   "outputs": [],
   "source": [
    "# TODO: create your y_pred and y_test"
   ]
  },
  {
   "cell_type": "markdown",
   "metadata": {},
   "source": [
    "<h1> Plot our results"
   ]
  },
  {
   "cell_type": "code",
   "execution_count": 18,
   "metadata": {
    "ExecuteTime": {
     "end_time": "2019-11-19T15:11:18.289725Z",
     "start_time": "2019-11-19T15:11:18.280550Z"
    }
   },
   "outputs": [],
   "source": [
    "# TODO: plot your result: \n",
    "# Create a hist plot of the distribution of each LDA topic for each predefined category"
   ]
  },
  {
   "cell_type": "code",
   "execution_count": 19,
   "metadata": {
    "ExecuteTime": {
     "end_time": "2019-11-19T15:11:18.310638Z",
     "start_time": "2019-11-19T15:11:18.307632Z"
    }
   },
   "outputs": [],
   "source": [
    "#TODO: evaluate the accuracy for each category:"
   ]
  },
  {
   "cell_type": "code",
   "execution_count": 20,
   "metadata": {
    "ExecuteTime": {
     "end_time": "2019-11-19T15:11:18.354890Z",
     "start_time": "2019-11-19T15:11:18.320537Z"
    }
   },
   "outputs": [],
   "source": [
    "# TODO: add some lines to your sample to improve your result \n",
    "#(up to 100000 lines if your CPU can handle it)"
   ]
  }
 ],
 "metadata": {
  "kernelspec": {
   "display_name": "Python 3",
   "language": "python",
   "name": "python3"
  },
  "language_info": {
   "codemirror_mode": {
    "name": "ipython",
    "version": 3
   },
   "file_extension": ".py",
   "mimetype": "text/x-python",
   "name": "python",
   "nbconvert_exporter": "python",
   "pygments_lexer": "ipython3",
   "version": "3.7.1"
  },
  "toc": {
   "base_numbering": 1,
   "nav_menu": {},
   "number_sections": true,
   "sideBar": true,
   "skip_h1_title": false,
   "title_cell": "Table of Contents",
   "title_sidebar": "Contents",
   "toc_cell": false,
   "toc_position": {},
   "toc_section_display": true,
   "toc_window_display": false
  },
  "varInspector": {
   "cols": {
    "lenName": 16,
    "lenType": 16,
    "lenVar": 40
   },
   "kernels_config": {
    "python": {
     "delete_cmd_postfix": "",
     "delete_cmd_prefix": "del ",
     "library": "var_list.py",
     "varRefreshCmd": "print(var_dic_list())"
    },
    "r": {
     "delete_cmd_postfix": ") ",
     "delete_cmd_prefix": "rm(",
     "library": "var_list.r",
     "varRefreshCmd": "cat(var_dic_list()) "
    }
   },
   "types_to_exclude": [
    "module",
    "function",
    "builtin_function_or_method",
    "instance",
    "_Feature"
   ],
   "window_display": false
  }
 },
 "nbformat": 4,
 "nbformat_minor": 2
}
