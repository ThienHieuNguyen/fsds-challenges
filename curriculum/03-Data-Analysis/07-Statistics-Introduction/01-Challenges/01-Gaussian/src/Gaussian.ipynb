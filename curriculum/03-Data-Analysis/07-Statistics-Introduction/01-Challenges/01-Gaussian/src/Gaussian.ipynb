{
 "cells": [
  {
   "cell_type": "markdown",
   "metadata": {},
   "source": [
    "# Challenge - Gaussian"
   ]
  },
  {
   "cell_type": "markdown",
   "metadata": {},
   "source": [
    "Let's explore the Gaussian distribution! First, we'll plot a gaussian distribution using NumPy, then we will do it by ourself!"
   ]
  },
  {
   "cell_type": "code",
   "execution_count": null,
   "metadata": {},
   "outputs": [],
   "source": [
    "# TODO: import numpy and matplotlib"
   ]
  },
  {
   "cell_type": "code",
   "execution_count": null,
   "metadata": {},
   "outputs": [],
   "source": [
    "# TODO: use numpy to create a numpy array of 1000 values following a gaussian distribution (use no other parameter)"
   ]
  },
  {
   "cell_type": "code",
   "execution_count": null,
   "metadata": {
    "ExecuteTime": {
     "end_time": "2020-04-17T17:07:21.327891Z",
     "start_time": "2020-04-17T17:07:21.325327Z"
    }
   },
   "outputs": [],
   "source": [
    "# TODO: plot the previous distribution as a histogram"
   ]
  },
  {
   "cell_type": "code",
   "execution_count": null,
   "metadata": {
    "ExecuteTime": {
     "end_time": "2020-04-17T17:07:24.161257Z",
     "start_time": "2020-04-17T17:07:24.157832Z"
    }
   },
   "outputs": [],
   "source": [
    "# TODO: compute the mean and standard deviation of the previous distribution"
   ]
  },
  {
   "cell_type": "markdown",
   "metadata": {},
   "source": [
    "As you can see, the standard gaussian distribution has a mean value close to 0 and a standard deviation close to 1."
   ]
  },
  {
   "cell_type": "markdown",
   "metadata": {},
   "source": [
    "Now let's make our own definition of the gaussian distribution.\n",
    "\n",
    "The formula of the gaussian function is the following:\n",
    "\n",
    "$gauss(x)=e^{-{\\frac {1}{2}}\\left({\\frac {x-\\mu }{\\sigma }}\\right)^{2}}$"
   ]
  },
  {
   "cell_type": "code",
   "execution_count": null,
   "metadata": {
    "ExecuteTime": {
     "end_time": "2020-04-17T17:07:26.851388Z",
     "start_time": "2020-04-17T17:07:26.846725Z"
    }
   },
   "outputs": [],
   "source": [
    "# TODO: write a function gauss taking three parameters (x, mu, sigma) that computes and returns the gaussian function\n",
    "# Hint: Use the numpy method exp"
   ]
  },
  {
   "cell_type": "code",
   "execution_count": null,
   "metadata": {
    "ExecuteTime": {
     "end_time": "2020-04-17T17:07:30.595462Z",
     "start_time": "2020-04-17T17:07:30.592144Z"
    }
   },
   "outputs": [],
   "source": [
    "# TODO: Now using numpy create an array called x of values from -5 to 5 with a step of 0.1"
   ]
  },
  {
   "cell_type": "code",
   "execution_count": null,
   "metadata": {},
   "outputs": [],
   "source": [
    "# TODO: Compute the gaussian values of the previous array with mu = 0 and sigma = 1"
   ]
  },
  {
   "cell_type": "code",
   "execution_count": null,
   "metadata": {
    "ExecuteTime": {
     "end_time": "2020-04-17T17:07:36.979080Z",
     "start_time": "2020-04-17T17:07:36.975910Z"
    },
    "scrolled": true
   },
   "outputs": [],
   "source": [
    "# TODO: plot the values of our gaussian function"
   ]
  },
  {
   "cell_type": "markdown",
   "metadata": {},
   "source": [
    "Congratulations, we have made our own gaussian function! Feel free to play with the mean value $\\mu$ and the standard deviation $\\sigma$ and see how it changes the shape!"
   ]
  }
 ],
 "metadata": {
  "kernelspec": {
   "display_name": "Python 3",
   "language": "python",
   "name": "python3"
  },
  "language_info": {
   "codemirror_mode": {
    "name": "ipython",
    "version": 3
   },
   "file_extension": ".py",
   "mimetype": "text/x-python",
   "name": "python",
   "nbconvert_exporter": "python",
   "pygments_lexer": "ipython3",
   "version": "3.7.6"
  },
  "toc": {
   "base_numbering": 1,
   "nav_menu": {},
   "number_sections": true,
   "sideBar": true,
   "skip_h1_title": false,
   "title_cell": "Table of Contents",
   "title_sidebar": "Contents",
   "toc_cell": false,
   "toc_position": {},
   "toc_section_display": true,
   "toc_window_display": false
  },
  "varInspector": {
   "cols": {
    "lenName": 16,
    "lenType": 16,
    "lenVar": 40
   },
   "kernels_config": {
    "python": {
     "delete_cmd_postfix": "",
     "delete_cmd_prefix": "del ",
     "library": "var_list.py",
     "varRefreshCmd": "print(var_dic_list())"
    },
    "r": {
     "delete_cmd_postfix": ") ",
     "delete_cmd_prefix": "rm(",
     "library": "var_list.r",
     "varRefreshCmd": "cat(var_dic_list()) "
    }
   },
   "types_to_exclude": [
    "module",
    "function",
    "builtin_function_or_method",
    "instance",
    "_Feature"
   ],
   "window_display": false
  }
 },
 "nbformat": 4,
 "nbformat_minor": 2
}
