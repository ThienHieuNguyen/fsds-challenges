{
 "cells": [
  {
   "cell_type": "markdown",
   "metadata": {},
   "source": [
    "# Challenge - Correlation"
   ]
  },
  {
   "cell_type": "markdown",
   "metadata": {},
   "source": [
    "We will here explore our own correlations, and take this opportunity to speak about causality a bit."
   ]
  },
  {
   "cell_type": "code",
   "execution_count": 1,
   "metadata": {
    "ExecuteTime": {
     "end_time": "2020-04-17T17:08:03.149309Z",
     "start_time": "2020-04-17T17:08:03.146494Z"
    }
   },
   "outputs": [],
   "source": [
    "# TODO: import numpy and matplotlib"
   ]
  },
  {
   "cell_type": "markdown",
   "metadata": {},
   "source": [
    "We will explore the correlation between the rain and umbrella sales.\n",
    "\n",
    "Create two numpy arrays called rain and umbrella with the following values:\n"
   ]
  },
  {
   "cell_type": "markdown",
   "metadata": {},
   "source": [
    "Rain (mm): 1.42, 1.64, 1.19, 1.52, 1.85, 2.21, 1.94, 2.51, 2.34, 1.81, 2.26, 1.72\n",
    "Umbrella sales (€): 215, 325, 185, 332, 406, 522, 412, 614, 544, 421, 445, 408"
   ]
  },
  {
   "cell_type": "code",
   "execution_count": 3,
   "metadata": {},
   "outputs": [],
   "source": [
    "# TODO: Create the two numpy arrays with the given values"
   ]
  },
  {
   "cell_type": "code",
   "execution_count": 2,
   "metadata": {
    "ExecuteTime": {
     "end_time": "2020-04-17T17:08:08.209734Z",
     "start_time": "2020-04-17T17:08:08.206316Z"
    }
   },
   "outputs": [],
   "source": [
    "# TODO: Now plot one array versus the other one"
   ]
  },
  {
   "cell_type": "markdown",
   "metadata": {},
   "source": [
    "From this plot, would you say there is a correlation between rain and umbrella sales? What kind of correlation (positive, negative, weak, strong...)?\n",
    "\n",
    "Let's compute the correlation values and see if you're guess is right!\n",
    "\n",
    "The formula to compute the correlation is the following:\n",
    "\n",
    "$\\rho(x,y)=\\frac{mean((mean(x)-x)\\times(mean(y)-y)}{std(x)\\times std(y)} $"
   ]
  },
  {
   "cell_type": "code",
   "execution_count": 3,
   "metadata": {
    "ExecuteTime": {
     "end_time": "2020-04-17T17:08:11.438354Z",
     "start_time": "2020-04-17T17:08:11.435268Z"
    }
   },
   "outputs": [],
   "source": [
    "# TODO: Compute and print the correlation rho between rain and umbrella sales"
   ]
  },
  {
   "cell_type": "markdown",
   "metadata": {},
   "source": [
    "You should get a correlation value of about 0.9575. Was your interpretation of the plot correct at the light of this value?"
   ]
  },
  {
   "cell_type": "markdown",
   "metadata": {},
   "source": [
    "Now we had a couple of more rainy days and our data has been augmented. The new arrays are given below:"
   ]
  },
  {
   "cell_type": "code",
   "execution_count": 6,
   "metadata": {},
   "outputs": [],
   "source": [
    "more_rain = np.array([1.42,1.64,1.19,1.52,1.85,2.21,1.94,2.51,2.34,1.81,2.26,1.72,2.81,3.15,3.33,3.53,3.58,3.68,3.8,4.02,4.16])\n",
    "more_umbrella = np.array([215,325,185,332,406,522,412,614,544,421,445,408,583,595,403,481,408,306,302,287,213])"
   ]
  },
  {
   "cell_type": "code",
   "execution_count": 4,
   "metadata": {
    "ExecuteTime": {
     "end_time": "2020-04-17T17:08:16.201426Z",
     "start_time": "2020-04-17T17:08:16.198318Z"
    }
   },
   "outputs": [],
   "source": [
    "# TODO: Plot the rain values versus the umbrella sales of the new data"
   ]
  },
  {
   "cell_type": "markdown",
   "metadata": {},
   "source": [
    "What would you say about this data? Is there a correlation? Let's now compute the correlation value and see is you're right"
   ]
  },
  {
   "cell_type": "code",
   "execution_count": 5,
   "metadata": {
    "ExecuteTime": {
     "end_time": "2020-04-17T17:08:18.962314Z",
     "start_time": "2020-04-17T17:08:18.959703Z"
    }
   },
   "outputs": [],
   "source": [
    "# TODO: Compute and print the correlation of more_rain and more_umbrella"
   ]
  },
  {
   "cell_type": "markdown",
   "metadata": {},
   "source": [
    "You should get a correlation value of about 0.029, meaning there is a very weak correlation... What does it mean to you?"
   ]
  },
  {
   "cell_type": "markdown",
   "metadata": {},
   "source": [
    "Now let's consider back our first data of umbrella sales. Now create a new numpy array of sunglasses sales for the same days with the following data:\n",
    "\n",
    "Sunglasses sales : 305, 218, 317, 223, 173, 78, 162, 19, 78, 138, 135, 168\n",
    "\n",
    "And the plot the sunglasses sales versus the umbrella sales."
   ]
  },
  {
   "cell_type": "code",
   "execution_count": 6,
   "metadata": {
    "ExecuteTime": {
     "end_time": "2020-04-17T17:08:21.436512Z",
     "start_time": "2020-04-17T17:08:21.431747Z"
    }
   },
   "outputs": [],
   "source": [
    "# TODO: Create a numpy array sunglasses with the data in the table above and plot"
   ]
  },
  {
   "cell_type": "markdown",
   "metadata": {},
   "source": [
    "What would you say about this plot? Is there a correlation? If yes, what kind of correlation? Then let's compute it!"
   ]
  },
  {
   "cell_type": "code",
   "execution_count": 7,
   "metadata": {
    "ExecuteTime": {
     "end_time": "2020-04-17T17:08:24.230130Z",
     "start_time": "2020-04-17T17:08:24.226946Z"
    }
   },
   "outputs": [],
   "source": [
    "# TODO: compute the correlation between the umbrella and sunglasses sales"
   ]
  },
  {
   "cell_type": "markdown",
   "metadata": {},
   "source": [
    "Is this value in agreement with your interpretation of the plot?\n",
    "\n",
    "Now what does this value mean? Is there a causality between the sunglasses and umbrella sales?"
   ]
  },
  {
   "cell_type": "markdown",
   "metadata": {},
   "source": [
    "Many things can cause a correlation, not always causality!\n",
    "\n",
    "A correlation might mean that one thing cause the other. But it can be that the same thing cause the two correlated data. And sometimes, there can be a spurious correlation...\n",
    "\n",
    "A good list of spurious correlations can be found here:\n",
    "\n",
    "http://tylervigen.com/spurious-correlations"
   ]
  }
 ],
 "metadata": {
  "kernelspec": {
   "display_name": "Python 3",
   "language": "python",
   "name": "python3"
  },
  "language_info": {
   "codemirror_mode": {
    "name": "ipython",
    "version": 3
   },
   "file_extension": ".py",
   "mimetype": "text/x-python",
   "name": "python",
   "nbconvert_exporter": "python",
   "pygments_lexer": "ipython3",
   "version": "3.7.6"
  },
  "toc": {
   "base_numbering": 1,
   "nav_menu": {},
   "number_sections": true,
   "sideBar": true,
   "skip_h1_title": false,
   "title_cell": "Table of Contents",
   "title_sidebar": "Contents",
   "toc_cell": false,
   "toc_position": {},
   "toc_section_display": true,
   "toc_window_display": false
  },
  "varInspector": {
   "cols": {
    "lenName": 16,
    "lenType": 16,
    "lenVar": 40
   },
   "kernels_config": {
    "python": {
     "delete_cmd_postfix": "",
     "delete_cmd_prefix": "del ",
     "library": "var_list.py",
     "varRefreshCmd": "print(var_dic_list())"
    },
    "r": {
     "delete_cmd_postfix": ") ",
     "delete_cmd_prefix": "rm(",
     "library": "var_list.r",
     "varRefreshCmd": "cat(var_dic_list()) "
    }
   },
   "types_to_exclude": [
    "module",
    "function",
    "builtin_function_or_method",
    "instance",
    "_Feature"
   ],
   "window_display": false
  }
 },
 "nbformat": 4,
 "nbformat_minor": 2
}
