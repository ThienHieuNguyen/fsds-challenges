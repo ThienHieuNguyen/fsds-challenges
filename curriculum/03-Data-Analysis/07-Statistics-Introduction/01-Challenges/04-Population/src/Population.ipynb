{
 "cells": [
  {
   "cell_type": "markdown",
   "metadata": {},
   "source": [
    "# Challenge - Population"
   ]
  },
  {
   "cell_type": "markdown",
   "metadata": {},
   "source": [
    "Let's work on a small project with a population dataset in order to use our new statistical powers!\n",
    "\n",
    "Import numpy, matplotlib and pandas, and then open the dataset `population.csv`."
   ]
  },
  {
   "cell_type": "code",
   "execution_count": 1,
   "metadata": {
    "ExecuteTime": {
     "end_time": "2020-04-17T17:08:55.697312Z",
     "start_time": "2020-04-17T17:08:55.695006Z"
    }
   },
   "outputs": [],
   "source": [
    "# TODO: import numpy, matplotlib and pandas"
   ]
  },
  {
   "cell_type": "code",
   "execution_count": 2,
   "metadata": {
    "ExecuteTime": {
     "end_time": "2020-04-17T17:08:57.739640Z",
     "start_time": "2020-04-17T17:08:57.736609Z"
    }
   },
   "outputs": [],
   "source": [
    "# TODO: Import the dataset into the variable population"
   ]
  },
  {
   "cell_type": "markdown",
   "metadata": {},
   "source": [
    "Inspect the data by yourself, see what there is inside, if there are missing values, what are the rows, columns...\n",
    "\n",
    "Feel free to make some data visualization and reuse what you learnt about data exploration!"
   ]
  },
  {
   "cell_type": "code",
   "execution_count": null,
   "metadata": {},
   "outputs": [],
   "source": [
    "# TODO: explore the data"
   ]
  },
  {
   "cell_type": "markdown",
   "metadata": {},
   "source": [
    "Let's plot the distribution of population in countries in 2015! Feel free to use log scale to understand better the data."
   ]
  },
  {
   "cell_type": "code",
   "execution_count": 3,
   "metadata": {
    "ExecuteTime": {
     "end_time": "2020-04-17T17:09:14.266359Z",
     "start_time": "2020-04-17T17:09:14.261361Z"
    }
   },
   "outputs": [],
   "source": [
    "# TODO: Plot the distribution of populations in 2015"
   ]
  },
  {
   "cell_type": "markdown",
   "metadata": {},
   "source": [
    "Okay how could be approximate such a distribution? Maybe we could try to see how the log of this distribution looks!"
   ]
  },
  {
   "cell_type": "code",
   "execution_count": 4,
   "metadata": {
    "ExecuteTime": {
     "end_time": "2020-04-17T17:09:16.726835Z",
     "start_time": "2020-04-17T17:09:16.721467Z"
    }
   },
   "outputs": [],
   "source": [
    "# TODO: plot the log of this distribution using numpy"
   ]
  },
  {
   "cell_type": "markdown",
   "metadata": {},
   "source": [
    "Okay now we'll try to approximate that with a gaussian distribution by hands!\n",
    "\n",
    "So now you have to compute the mean and standard deviation of this log population distribution. Then compute the gaussian over the range of populations using those mean and standard deviations. \n",
    "Finally plot it over the histogram and see how it fits.\n",
    "\n",
    "Hint: you might need to make handmade adjustement for the amplitude of the gaussian."
   ]
  },
  {
   "cell_type": "code",
   "execution_count": 5,
   "metadata": {
    "ExecuteTime": {
     "end_time": "2020-04-17T17:09:22.044390Z",
     "start_time": "2020-04-17T17:09:22.041532Z"
    },
    "scrolled": true
   },
   "outputs": [],
   "source": [
    "# TODO: plot your own gaussian distribution on top of the log population distribution"
   ]
  },
  {
   "cell_type": "markdown",
   "metadata": {},
   "source": [
    "Now let's try to understand better the data and the correlations!\n",
    "Let's plot the population evolution of France vs US!"
   ]
  },
  {
   "cell_type": "code",
   "execution_count": 6,
   "metadata": {
    "ExecuteTime": {
     "end_time": "2020-04-17T17:09:25.225712Z",
     "start_time": "2020-04-17T17:09:25.220592Z"
    },
    "scrolled": false
   },
   "outputs": [],
   "source": [
    "# TODO: Plot the population evolution of France versus the one of United States"
   ]
  },
  {
   "cell_type": "code",
   "execution_count": 7,
   "metadata": {
    "ExecuteTime": {
     "end_time": "2020-04-17T17:09:28.453927Z",
     "start_time": "2020-04-17T17:09:28.450294Z"
    },
    "scrolled": true
   },
   "outputs": [],
   "source": [
    "# TODO: Compute and print the correlation of the population evolution of France and United States"
   ]
  },
  {
   "cell_type": "markdown",
   "metadata": {},
   "source": [
    "Wow! Quite a correlation, right? What do you say, is there a causality?\n",
    "\n",
    "Now let's do the same for Hungary versus China from 1980 to 2015."
   ]
  },
  {
   "cell_type": "code",
   "execution_count": 8,
   "metadata": {
    "ExecuteTime": {
     "end_time": "2020-04-17T17:09:31.154442Z",
     "start_time": "2020-04-17T17:09:31.151468Z"
    },
    "scrolled": false
   },
   "outputs": [],
   "source": [
    "# TODO: Plot the population evolution of Hungary versus the one of China from 1980 to 2015"
   ]
  },
  {
   "cell_type": "code",
   "execution_count": 9,
   "metadata": {
    "ExecuteTime": {
     "end_time": "2020-04-17T17:09:33.791407Z",
     "start_time": "2020-04-17T17:09:33.785884Z"
    },
    "scrolled": true
   },
   "outputs": [],
   "source": [
    "# TODO: Compute and print the correlation of the population evolution of Hungary and China from 1980"
   ]
  },
  {
   "cell_type": "markdown",
   "metadata": {},
   "source": [
    "So what is your interpretation of this result? Is there a causality?"
   ]
  },
  {
   "cell_type": "markdown",
   "metadata": {},
   "source": [
    "Now feel free to find other correlations and to approximate other distributions by yourself!"
   ]
  }
 ],
 "metadata": {
  "kernelspec": {
   "display_name": "Python 3",
   "language": "python",
   "name": "python3"
  },
  "language_info": {
   "codemirror_mode": {
    "name": "ipython",
    "version": 3
   },
   "file_extension": ".py",
   "mimetype": "text/x-python",
   "name": "python",
   "nbconvert_exporter": "python",
   "pygments_lexer": "ipython3",
   "version": "3.7.6"
  },
  "toc": {
   "base_numbering": 1,
   "nav_menu": {},
   "number_sections": true,
   "sideBar": true,
   "skip_h1_title": false,
   "title_cell": "Table of Contents",
   "title_sidebar": "Contents",
   "toc_cell": false,
   "toc_position": {},
   "toc_section_display": true,
   "toc_window_display": false
  },
  "varInspector": {
   "cols": {
    "lenName": 16,
    "lenType": 16,
    "lenVar": 40
   },
   "kernels_config": {
    "python": {
     "delete_cmd_postfix": "",
     "delete_cmd_prefix": "del ",
     "library": "var_list.py",
     "varRefreshCmd": "print(var_dic_list())"
    },
    "r": {
     "delete_cmd_postfix": ") ",
     "delete_cmd_prefix": "rm(",
     "library": "var_list.r",
     "varRefreshCmd": "cat(var_dic_list()) "
    }
   },
   "types_to_exclude": [
    "module",
    "function",
    "builtin_function_or_method",
    "instance",
    "_Feature"
   ],
   "window_display": false
  }
 },
 "nbformat": 4,
 "nbformat_minor": 2
}
