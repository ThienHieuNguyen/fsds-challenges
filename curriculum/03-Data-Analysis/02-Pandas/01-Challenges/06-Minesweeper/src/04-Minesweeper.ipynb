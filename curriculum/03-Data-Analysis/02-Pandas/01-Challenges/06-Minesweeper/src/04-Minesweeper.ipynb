{
 "cells": [
  {
   "cell_type": "markdown",
   "metadata": {},
   "source": [
    "# 04 - Minesweeper 💣"
   ]
  },
  {
   "cell_type": "markdown",
   "metadata": {},
   "source": [
    "---"
   ]
  },
  {
   "cell_type": "markdown",
   "metadata": {},
   "source": [
    "<img src=\"http://minesweeperonline.com/og_image.jpg\" />"
   ]
  },
  {
   "cell_type": "markdown",
   "metadata": {},
   "source": [
    "---"
   ]
  },
  {
   "cell_type": "markdown",
   "metadata": {},
   "source": [
    "## Context\n",
    "\n",
    "Remember the game Minesweeper? I'm sure you also lost lot of hours playing on an old Windows machine.\n",
    "\n",
    "If you are not familiar with the game, you can have a try now: http://minesweeperonline.com . Watch out it is super addictive.\n",
    "\n",
    "To sum up the rules, imagine a grid of squares: some of these squares hide a **mine**.\n",
    "- If you click on a mine, you lose instantly ☠️.\n",
    "- If you click on a safe square, you can breath (and live another day) - and the square reveals a number telling you *how many mines are found in the squares that are immediately adjacent*. ✅\n",
    "\n",
    "The aim of the game is to **uncover all squares in the grid that do not contain a mine**."
   ]
  },
  {
   "cell_type": "markdown",
   "metadata": {},
   "source": [
    "## Instructions\n",
    "\n",
    "In this challenge, using Python and the power of Pandas library, we will code an algorithm that randomly creates a new grid game.\n",
    "\n",
    "Let's get started!"
   ]
  },
  {
   "cell_type": "markdown",
   "metadata": {},
   "source": [
    "---"
   ]
  },
  {
   "cell_type": "markdown",
   "metadata": {},
   "source": [
    "**Q1**. Suppose we're playing Minesweeper on a 6 by 4 grid, i.e.\n",
    "\n",
    "```\n",
    "X = 6\n",
    "Y = 4\n",
    "```\n",
    "\n",
    "To begin, generate a DataFrame `df` with two columns, `x` and `y` containing every possible coordinates for this grid. That is, the DataFrame could start like this:\n",
    "\n",
    "```\n",
    "   x  y\n",
    "0  0  0\n",
    "1  1  0\n",
    "2  2  0\n",
    "```\n",
    "\n",
    "It could also start like this depending on how you construct your DataFrame:\n",
    "\n",
    "```\n",
    "   x  y\n",
    "0  0  0\n",
    "1  0  1\n",
    "2  0  2\n",
    "```"
   ]
  },
  {
   "cell_type": "code",
   "execution_count": 1,
   "metadata": {},
   "outputs": [],
   "source": [
    "# TODO: Instantiate a DataFrame with two columns `x` and `y`"
   ]
  },
  {
   "cell_type": "markdown",
   "metadata": {},
   "source": [
    "**Q2**. For this DataFrame `df`, create a new column `mine` with randomly created zeros (safe) and ones (mine). The probability of a mine occuring at each location is equal to 0.4.\n",
    "\n",
    "> 🔦 **Hint**: The content of this new column corresponds the drawing from a binomial distribution (similar to tossing a coin or rolling a dice). To this end, you can have a look at [numpy.random.binomial](https://docs.scipy.org/doc/numpy/reference/generated/numpy.random.binomial.html) function. 🎲"
   ]
  },
  {
   "cell_type": "code",
   "execution_count": 4,
   "metadata": {},
   "outputs": [],
   "source": [
    "# TODO: Populate the DataFrame with a new column `mine`"
   ]
  },
  {
   "cell_type": "markdown",
   "metadata": {},
   "source": [
    "**Q3**. Now create a new column for this DataFrame called `adjacent`. This column should contain the number of mines found on adjacent squares in the grid.\n",
    "\n",
    "For example, for the first row - which corresponds to the coordinates (0, 0) - count how many mines are found on the coordinates (0, 1), (1, 0) and (1, 1)."
   ]
  },
  {
   "cell_type": "code",
   "execution_count": 2,
   "metadata": {},
   "outputs": [],
   "source": [
    "# TODO: Create the additional colum `adjacent`"
   ]
  },
  {
   "cell_type": "markdown",
   "metadata": {},
   "source": [
    "**Q4**. For rows of the DataFrame that contain a mine, set the value in the 'adjacent' column to NaN."
   ]
  },
  {
   "cell_type": "code",
   "execution_count": 3,
   "metadata": {},
   "outputs": [],
   "source": [
    "# TODO: Replace mines by \"NaN\" values"
   ]
  },
  {
   "cell_type": "markdown",
   "metadata": {},
   "source": [
    "**Q5**. Finally, convert the DataFrame to grid of the adjacent mine counts: columns are the x coordinate, rows are the y coordinate."
   ]
  },
  {
   "cell_type": "code",
   "execution_count": 5,
   "metadata": {},
   "outputs": [],
   "source": [
    "# TODO: Transform the DataFrame into a minesweeper grid"
   ]
  },
  {
   "cell_type": "markdown",
   "metadata": {},
   "source": [
    "**Q6**. Encapsulate your code into a new function `create_minesweeper_grid` that takes three optional arguments: \n",
    "- `X` the number of columns, per default 6\n",
    "- `Y` the number of rows, per default 4\n",
    "- `p` the probability of finding a bomb originally, per default 0.4\n",
    "\n",
    "Test your newly created function"
   ]
  },
  {
   "cell_type": "code",
   "execution_count": 6,
   "metadata": {
    "code_folding": []
   },
   "outputs": [],
   "source": [
    "# TODO: Encapuslate your work into a new function `create_minesweeper_grid`"
   ]
  }
 ],
 "metadata": {
  "kernelspec": {
   "display_name": "Python 3",
   "language": "python",
   "name": "python3"
  },
  "language_info": {
   "codemirror_mode": {
    "name": "ipython",
    "version": 3
   },
   "file_extension": ".py",
   "mimetype": "text/x-python",
   "name": "python",
   "nbconvert_exporter": "python",
   "pygments_lexer": "ipython3",
   "version": "3.7.3"
  }
 },
 "nbformat": 4,
 "nbformat_minor": 2
}
