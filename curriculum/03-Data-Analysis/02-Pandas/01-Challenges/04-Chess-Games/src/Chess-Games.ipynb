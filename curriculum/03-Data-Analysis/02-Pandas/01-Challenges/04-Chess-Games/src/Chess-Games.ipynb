{
 "cells": [
  {
   "cell_type": "markdown",
   "metadata": {
    "_cell_guid": "14c68aad-0435-454b-8bc7-6556f60b034e",
    "_uuid": "58335a1bb472e68aaddc32827fdb99d9d44e4ab2"
   },
   "source": [
    "# Playing chess\n",
    "\n",
    "![](https://images.unsplash.com/photo-1536743939714-23ec5ac2dbae?ixlib=rb-1.2.1&ixid=eyJhcHBfaWQiOjEyMDd9&auto=format&fit=crop&w=837&q=80)\n",
    "\n",
    "Let's analyse some chess games using `pandas`!"
   ]
  },
  {
   "cell_type": "markdown",
   "metadata": {},
   "source": [
    "**Q1** Start by loading the file `games.csv`, located in the `input`folder, in a DataFrame.\n",
    "\n",
    "Have a quick view at the data. How many rows does the dataframe have ? How many columns ? Any missing values ?"
   ]
  },
  {
   "cell_type": "code",
   "execution_count": null,
   "metadata": {
    "ExecuteTime": {
     "end_time": "2019-10-13T19:52:04.010916Z",
     "start_time": "2019-10-13T19:52:03.849498Z"
    },
    "_cell_guid": "0559dd85-e762-4699-95d6-28840f18e910",
    "_uuid": "a4f1f60fb1c5c7d744bc9089fc58b4be8d082947"
   },
   "outputs": [],
   "source": [
    "# TODO: Import the dataset games.csv in a new DataFrame"
   ]
  },
  {
   "cell_type": "code",
   "execution_count": null,
   "metadata": {},
   "outputs": [],
   "source": [
    "# TODO: Explore the data"
   ]
  },
  {
   "cell_type": "markdown",
   "metadata": {
    "_cell_guid": "be821524-d37d-4128-9d72-105ad898cb48",
    "_uuid": "9404e800ee7ca838451d8f420fa23f828fbc06f1"
   },
   "source": [
    "**Q2**: It's well-known that in chess, white has a slight first-mover advantage against black. Can you measure this effect in this dataset? \n",
    "\n",
    "* Use the `winner` column to create a `Series` showing how often white wins, how often black wins, and how often the result is a tie, as a ratio of total games played. "
   ]
  },
  {
   "cell_type": "code",
   "execution_count": null,
   "metadata": {
    "ExecuteTime": {
     "end_time": "2019-10-13T20:38:45.349762Z",
     "start_time": "2019-10-13T20:38:45.345020Z"
    },
    "_cell_guid": "9a89d5ac-5294-4714-a02f-71aa02cb3b95",
    "_uuid": "e06e76a60dea3fb40799c213167f2dbfde052cc9"
   },
   "outputs": [],
   "source": [
    "# TODO: statistics on which color wins most often"
   ]
  },
  {
   "cell_type": "markdown",
   "metadata": {
    "_cell_guid": "9e7cc907-78c8-4771-8767-433b26a501fe",
    "_uuid": "0afa1a01f6339744f117e40bc564bb8199117fba"
   },
   "source": [
    "**Q3**: The `opening_name` field of the `chess_games` dataset provides interesting data on what the most commonly used chess openings are.  However, it gives a bit _too_ much detail, including information on the variation used for the most common opening types. For example, rather than giving `Queen's Pawn Game`, the dataset often includes `Queen's Pawn Game: Zukertort Variation`.\n",
    "\n",
    "* This makes it a bit difficult to use for categorical purposes. Create a new column that only includes the opening archetype. You should find 143 different archetypes."
   ]
  },
  {
   "cell_type": "code",
   "execution_count": null,
   "metadata": {
    "ExecuteTime": {
     "end_time": "2019-10-13T19:54:45.594370Z",
     "start_time": "2019-10-13T19:54:45.569225Z"
    }
   },
   "outputs": [],
   "source": [
    "# TODO: Create a new column that only includes the opening archetype."
   ]
  },
  {
   "cell_type": "markdown",
   "metadata": {},
   "source": [
    "**Q4.** How many unique combinations of first three moves have been played over all the games ? Which combinations are the most often used ?"
   ]
  },
  {
   "cell_type": "code",
   "execution_count": null,
   "metadata": {
    "ExecuteTime": {
     "end_time": "2019-10-13T20:20:19.959094Z",
     "start_time": "2019-10-13T20:20:19.834448Z"
    }
   },
   "outputs": [],
   "source": [
    "# TODO: How many unique combinations of first three moves have been played over all the games ?"
   ]
  },
  {
   "cell_type": "markdown",
   "metadata": {},
   "source": [
    "**Q5.** If you were to bet 1€ on the best rated player for each match, with a gain of 2€ for every game won and a gain of 0€ for every draw or lost game, how much money would you earn (or lose ?)"
   ]
  },
  {
   "cell_type": "code",
   "execution_count": null,
   "metadata": {
    "ExecuteTime": {
     "end_time": "2019-10-13T20:32:08.656775Z",
     "start_time": "2019-10-13T20:32:08.648797Z"
    }
   },
   "outputs": [],
   "source": [
    "# TODO: bet on chess games"
   ]
  }
 ],
 "metadata": {
  "kernelspec": {
   "display_name": "Python 3",
   "language": "python",
   "name": "python3"
  },
  "language_info": {
   "codemirror_mode": {
    "name": "ipython",
    "version": 3
   },
   "file_extension": ".py",
   "mimetype": "text/x-python",
   "name": "python",
   "nbconvert_exporter": "python",
   "pygments_lexer": "ipython3",
   "version": "3.7.1"
  },
  "toc": {
   "base_numbering": 1,
   "nav_menu": {},
   "number_sections": true,
   "sideBar": true,
   "skip_h1_title": false,
   "title_cell": "Table of Contents",
   "title_sidebar": "Contents",
   "toc_cell": false,
   "toc_position": {},
   "toc_section_display": true,
   "toc_window_display": false
  },
  "varInspector": {
   "cols": {
    "lenName": 16,
    "lenType": 16,
    "lenVar": 40
   },
   "kernels_config": {
    "python": {
     "delete_cmd_postfix": "",
     "delete_cmd_prefix": "del ",
     "library": "var_list.py",
     "varRefreshCmd": "print(var_dic_list())"
    },
    "r": {
     "delete_cmd_postfix": ") ",
     "delete_cmd_prefix": "rm(",
     "library": "var_list.r",
     "varRefreshCmd": "cat(var_dic_list()) "
    }
   },
   "types_to_exclude": [
    "module",
    "function",
    "builtin_function_or_method",
    "instance",
    "_Feature"
   ],
   "window_display": false
  }
 },
 "nbformat": 4,
 "nbformat_minor": 1
}
