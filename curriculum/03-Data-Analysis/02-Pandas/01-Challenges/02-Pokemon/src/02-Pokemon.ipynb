{
 "cells": [
  {
   "cell_type": "markdown",
   "metadata": {},
   "source": [
    "# 02 - Pokemon 🧢"
   ]
  },
  {
   "cell_type": "markdown",
   "metadata": {},
   "source": [
    "--- "
   ]
  },
  {
   "cell_type": "markdown",
   "metadata": {},
   "source": [
    "![](https://images.unsplash.com/photo-1471014706828-7f1b12e6d88b?ixlib=rb-1.2.1&ixid=eyJhcHBfaWQiOjEyMDd9&auto=format&fit=crop&w=1502&q=80)\n",
    "Picture by [David Grandmougin](https://unsplash.com/photos/Am1io6KusFM)"
   ]
  },
  {
   "cell_type": "markdown",
   "metadata": {},
   "source": [
    "---"
   ]
  },
  {
   "cell_type": "markdown",
   "metadata": {},
   "source": [
    "This will be an exercise about Pokemon statistics!"
   ]
  },
  {
   "cell_type": "markdown",
   "metadata": {},
   "source": [
    "**Q1**. Start by loading the dataset in `input/pokemon.csv`.\n",
    "\n",
    "Have a quick view at the data."
   ]
  },
  {
   "cell_type": "code",
   "execution_count": 2,
   "metadata": {},
   "outputs": [],
   "source": [
    "# TODO: Import the dataset pokemon.csv in a new DataFrame"
   ]
  },
  {
   "cell_type": "markdown",
   "metadata": {},
   "source": [
    "**Q2**. Find and display the Pokemon(s) name with the **lowest attack**."
   ]
  },
  {
   "cell_type": "code",
   "execution_count": 3,
   "metadata": {
    "scrolled": true
   },
   "outputs": [],
   "source": [
    "# TODO: What is the pokemon with the lowest attack?"
   ]
  },
  {
   "cell_type": "markdown",
   "metadata": {},
   "source": [
    "**Q3**. Find and display the Pokemon(s) name with the **highest HP**:"
   ]
  },
  {
   "cell_type": "code",
   "execution_count": 4,
   "metadata": {},
   "outputs": [],
   "source": [
    "# TODO: What is the pokemon with the highest HP?"
   ]
  },
  {
   "cell_type": "markdown",
   "metadata": {},
   "source": [
    "**Q4**. A Pokemon can be a mix of 2 types: `Type 1` and `Type 2`. Let's try to identify the **most frequent Pokemon type**\n",
    "\n",
    "- Count the number of Pokemon per `Type 1`\n",
    "- Count the number of Pokemon per `Type 2`\n",
    "- Find out the most frequent type (summing occurences in `Type 1` and `Type 2`)"
   ]
  },
  {
   "cell_type": "code",
   "execution_count": 5,
   "metadata": {
    "scrolled": false
   },
   "outputs": [],
   "source": [
    "# TODO: What are the frequencies of types in Type 1?"
   ]
  },
  {
   "cell_type": "markdown",
   "metadata": {},
   "source": [
    "**Q5**. Get the `Type 1` with the **highest attack on average**:"
   ]
  },
  {
   "cell_type": "code",
   "execution_count": 7,
   "metadata": {},
   "outputs": [],
   "source": [
    "# TODO: What is the Type 1 with the highest attack on average? "
   ]
  },
  {
   "cell_type": "markdown",
   "metadata": {},
   "source": [
    "**Q6**. We want to compare **legendary** vs **non legendary** pokemons 🦄\n",
    "\n",
    "- Create a new column `Total` containing the toal of points for each Pokemon.\n",
    "- Compute the mean of `Total` for legendary and for non legendary Pokemon.\n",
    "- Conclude on the strength of **legendary** pokemons."
   ]
  },
  {
   "cell_type": "code",
   "execution_count": 9,
   "metadata": {},
   "outputs": [],
   "source": [
    "# TODO: Compare legendary and non legendary pokemons"
   ]
  },
  {
   "cell_type": "markdown",
   "metadata": {},
   "source": [
    "**Q7**. Filter the DataFrame on only **mega Pokemons**: the ones that contains `mega` in the name. 🦖\n",
    "\n",
    "Drop the mega evolutions of generation 5 (it was not a good generation).\n",
    "\n",
    "How many evolutions is there left?"
   ]
  },
  {
   "cell_type": "code",
   "execution_count": 10,
   "metadata": {},
   "outputs": [],
   "source": [
    "# TODO: Extract the mega evolution pokemons only (with 'mega' in the name)"
   ]
  },
  {
   "cell_type": "code",
   "execution_count": 11,
   "metadata": {},
   "outputs": [],
   "source": [
    "# TODO: Drop the mega pokemons of generation 5"
   ]
  },
  {
   "cell_type": "code",
   "execution_count": 12,
   "metadata": {
    "code_folding": []
   },
   "outputs": [],
   "source": [
    "# TODO: print out the number of mega evolutions (without generation 5)"
   ]
  }
 ],
 "metadata": {
  "kernelspec": {
   "display_name": "Python 3",
   "language": "python",
   "name": "python3"
  },
  "language_info": {
   "codemirror_mode": {
    "name": "ipython",
    "version": 3
   },
   "file_extension": ".py",
   "mimetype": "text/x-python",
   "name": "python",
   "nbconvert_exporter": "python",
   "pygments_lexer": "ipython3",
   "version": "3.7.3"
  }
 },
 "nbformat": 4,
 "nbformat_minor": 2
}
