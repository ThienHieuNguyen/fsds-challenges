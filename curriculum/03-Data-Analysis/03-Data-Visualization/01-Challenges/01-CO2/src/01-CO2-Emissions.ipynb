{
 "cells": [
  {
   "cell_type": "markdown",
   "metadata": {},
   "source": [
    "# 01 - CO2 Emissions 🌎"
   ]
  },
  {
   "cell_type": "markdown",
   "metadata": {},
   "source": [
    "---"
   ]
  },
  {
   "cell_type": "markdown",
   "metadata": {},
   "source": [
    "<img src=\"https://static1.squarespace.com/static/55cce2c6e4b0513a93e643d0/55d637fde4b0a862eed666ae/5703efa1859fd07e226b5d19/1523291953647/YouthCamp2018BG.jpg?format=1500w\" />\n",
    "\n",
    "Photo by [Noah Silliman](https://unsplash.com/@noahsilliman)"
   ]
  },
  {
   "cell_type": "markdown",
   "metadata": {},
   "source": [
    "---"
   ]
  },
  {
   "cell_type": "markdown",
   "metadata": {},
   "source": [
    "**Q1**. Load the dataset `CO2_per_capita.csv` into a **Pandas Dataframe**. What does this dataset contain?"
   ]
  },
  {
   "cell_type": "code",
   "execution_count": 1,
   "metadata": {
    "code_folding": []
   },
   "outputs": [],
   "source": [
    "# TODO: Load and describe dataset"
   ]
  },
  {
   "cell_type": "code",
   "execution_count": 2,
   "metadata": {},
   "outputs": [],
   "source": [
    "# TODO: Load and describe dataset"
   ]
  },
  {
   "cell_type": "markdown",
   "metadata": {},
   "source": [
    "**Q2**. We are going to answer the question: **which countries have the highest CO2 emissions per capita lately?**\n",
    "- Think about how what chart could answer this question efficiently\n",
    "- Think about how the data should be transformed in order to draw this chart\n",
    "- Transform your data accordingly"
   ]
  },
  {
   "cell_type": "code",
   "execution_count": 3,
   "metadata": {},
   "outputs": [],
   "source": [
    "# TODO: Transform your data so that you can easily plot it"
   ]
  },
  {
   "cell_type": "markdown",
   "metadata": {},
   "source": [
    "**Q3**. Draw your chart with `seaborn` library and answer the original question."
   ]
  },
  {
   "cell_type": "code",
   "execution_count": 4,
   "metadata": {
    "scrolled": false
   },
   "outputs": [],
   "source": [
    "# TODO: Visualize your properly transformed dataframe"
   ]
  },
  {
   "cell_type": "markdown",
   "metadata": {},
   "source": [
    "**Q4**. Are the annual emissions per capita decreasing over time in France? in Thailand? \n",
    "\n",
    "> 🔦 **Hint**: Again, you should follow the same process as before:\n",
    "- which chart can answer my question?\n",
    "- what data do I need to draw this chart?\n",
    "- get the data and draw the chart\n",
    "\n",
    "What can your say about CO2 emissions in these countries?"
   ]
  },
  {
   "cell_type": "code",
   "execution_count": 5,
   "metadata": {
    "scrolled": false
   },
   "outputs": [],
   "source": [
    "# TODO: Evolution of annual emissions per capita"
   ]
  },
  {
   "cell_type": "code",
   "execution_count": 6,
   "metadata": {
    "code_folding": []
   },
   "outputs": [],
   "source": [
    "# TODO: Evolution of annual emissions per capita - France & Thailand"
   ]
  },
  {
   "cell_type": "markdown",
   "metadata": {},
   "source": [
    "**Q5**. What questions could be interesting to answer with the available data? Which charts would you use to answer those questions?"
   ]
  },
  {
   "cell_type": "markdown",
   "metadata": {},
   "source": [
    "TODO: answer question in Markdown"
   ]
  },
  {
   "cell_type": "markdown",
   "metadata": {},
   "source": [
    "**Q6 [bonus]**. This one is bonus, come back to this question if you finish other challenges early. 😝\n",
    "\n",
    "Have a look at `folium` library, and use it to visualize CO2 emissions per capita data on a World map.\n",
    "\n",
    "> 🔦 **Hints**:\n",
    "- You can **create a map** this way:\n",
    "    ``` python\n",
    "    import folium\n",
    "    m = folium.Map()\n",
    "    ```\n",
    "- You can **add a circle on the map** like this:\n",
    "    ``` python\n",
    "    folium.Circle(\n",
    "        location=[longitude, latitude],\n",
    "        popup=name,\n",
    "        radius=100\n",
    "    ).add_to(m)\n",
    "    ```\n",
    "- You will also need the function `get_boundingbox_country` below, that will give you the longitude and latitude of a country based on it's name (if you inspect the function, you will see it's a simple function requesting an API - you remember I hope 🔌 - to get the information)."
   ]
  },
  {
   "cell_type": "code",
   "execution_count": 16,
   "metadata": {},
   "outputs": [
    {
     "name": "stdout",
     "output_type": "stream",
     "text": [
      "Coordinates of France are long=46.603354 and lat=1.8883335\n"
     ]
    }
   ],
   "source": [
    "import requests\n",
    "\n",
    "def get_boundingbox_country(country, output_as='boundingbox'):\n",
    "    \"\"\"\n",
    "    get the bounding box of a country in EPSG4326 given a country name\n",
    "\n",
    "    Parameters\n",
    "    ----------\n",
    "    country : str\n",
    "        name of the country in english and lowercase\n",
    "    output_as : 'str\n",
    "        chose from 'boundingbox' or 'center'. \n",
    "         - 'boundingbox' for [latmin, latmax, lonmin, lonmax]\n",
    "         - 'center' for [latcenter, loncenter]\n",
    "\n",
    "    Returns\n",
    "    -------\n",
    "    output : list\n",
    "        list with coordinates as str\n",
    "    \"\"\"\n",
    "    # create url\n",
    "    url = '{0}{1}{2}'.format('http://nominatim.openstreetmap.org/search?country=',\n",
    "                             country,\n",
    "                             '&format=json&polygon=0')\n",
    "    response = requests.get(url).json()[0]\n",
    "\n",
    "    # parse response to list\n",
    "    if output_as == 'boundingbox':\n",
    "        lst = response[output_as]\n",
    "        output = [float(i) for i in lst]\n",
    "    if output_as == 'center':\n",
    "        lst = [response.get(key) for key in ['lat','lon']]\n",
    "        output = [float(i) for i in lst]\n",
    "    return output\n",
    "\n",
    "# Example\n",
    "print(\"Coordinates of France are long={} and lat={}\".format(\n",
    "            get_boundingbox_country(\"France\", output_as=\"center\")[0],\n",
    "            get_boundingbox_country(\"France\", output_as=\"center\")[1]))"
   ]
  },
  {
   "cell_type": "code",
   "execution_count": 7,
   "metadata": {
    "scrolled": true
   },
   "outputs": [],
   "source": [
    "# TODO: Visualize your data on a World map"
   ]
  },
  {
   "cell_type": "code",
   "execution_count": null,
   "metadata": {},
   "outputs": [],
   "source": []
  }
 ],
 "metadata": {
  "kernelspec": {
   "display_name": "Python 3",
   "language": "python",
   "name": "python3"
  },
  "language_info": {
   "codemirror_mode": {
    "name": "ipython",
    "version": 3
   },
   "file_extension": ".py",
   "mimetype": "text/x-python",
   "name": "python",
   "nbconvert_exporter": "python",
   "pygments_lexer": "ipython3",
   "version": "3.7.3"
  }
 },
 "nbformat": 4,
 "nbformat_minor": 2
}
