{
 "cells": [
  {
   "cell_type": "markdown",
   "metadata": {},
   "source": [
    "# 02 - Airbnb listings in Paris 🏡"
   ]
  },
  {
   "cell_type": "markdown",
   "metadata": {},
   "source": [
    "---"
   ]
  },
  {
   "cell_type": "markdown",
   "metadata": {},
   "source": [
    "<img src=\"https://fintech-mag.com/wp-content/uploads/2018/03/paul-dufour-175889-unsplash.jpg\" />\n",
    "\n",
    "Photo by [Paul Dufour](https://unsplash.com/@bill_bokeh)"
   ]
  },
  {
   "cell_type": "markdown",
   "metadata": {},
   "source": [
    "Let's go deeper in our understanding of data visualizations and in our skills at manipulating real life data.\n",
    "\n",
    "In this challenge, we will explore **Airbnb data from Paris listings**. The objective is to answer the following question:\n",
    "\n",
    "> **How does location impact listing price?**\n",
    "\n",
    "The data, that you will collect from [InsideAirbnb](http://insideairbnb.com/get-the-data.html) is a very complete dataset of Airbnb listings.\n",
    "\n",
    "Feel free to play around, and to draw visualizations in order to better understand the data.\n"
   ]
  },
  {
   "cell_type": "markdown",
   "metadata": {},
   "source": [
    "---"
   ]
  },
  {
   "cell_type": "markdown",
   "metadata": {},
   "source": [
    "**Q1**. 🇫🇷 Download and load data of **Airbnb Paris listings** from http://insideairbnb.com/. \n",
    "\n",
    "> 🔦 **Hint**: For extracting a `.gz` file using command line, run:\n",
    ">\n",
    "> `gunzip archive.gz`\n",
    "\n",
    "- How many lines and columns does it contain?\n",
    "- As it contains many columns, some do not appear with `head` method. Print the names of the different columns."
   ]
  },
  {
   "cell_type": "code",
   "execution_count": 1,
   "metadata": {},
   "outputs": [],
   "source": [
    "# TODO - Download and load dataset"
   ]
  },
  {
   "cell_type": "code",
   "execution_count": 2,
   "metadata": {},
   "outputs": [],
   "source": [
    "# TODO - Download and load dataset"
   ]
  },
  {
   "cell_type": "code",
   "execution_count": 3,
   "metadata": {
    "scrolled": false
   },
   "outputs": [],
   "source": [
    "# TODO - Get shape, print columns"
   ]
  },
  {
   "cell_type": "markdown",
   "metadata": {},
   "source": [
    "**Q2**. Let's clean a bit this dataset:\n",
    "- Does it contain only data from Paris city? If not make sure to filter only on Paris listings.\n",
    "- Also, keep only listings with location as exact (`is_location_exact` column)"
   ]
  },
  {
   "cell_type": "code",
   "execution_count": 4,
   "metadata": {},
   "outputs": [],
   "source": [
    "#TODO - Clean dataset"
   ]
  },
  {
   "cell_type": "code",
   "execution_count": 5,
   "metadata": {
    "scrolled": true
   },
   "outputs": [],
   "source": [
    "#TODO - Clean dataset"
   ]
  },
  {
   "cell_type": "markdown",
   "metadata": {},
   "source": [
    "**Q3**. Let's understand better the listings price and draw some visualization with Seaborn\n",
    "- Observe price distribution with a **box plot** - Reference: https://en.wikipedia.org/wiki/Box_plot\n",
    "- Do you think there are some outliers? If yes, remove them\n",
    "- Finally, visualize the cleaned distribution of the listings price with a **histrogram plot**\n",
    "- Comment\n",
    "\n",
    "> 🔦 **Hint**:  You might want to clean the column before starting your analysis 🙂\n",
    ">\n",
    "> In order to apply a defined function `my_func` to a column (Series), you can use `apply` method:\n",
    "> ``` python\n",
    ">  data[column_name].apply(lambda x: my_func(x))\n",
    "> ```"
   ]
  },
  {
   "cell_type": "code",
   "execution_count": 6,
   "metadata": {
    "scrolled": true
   },
   "outputs": [],
   "source": [
    "#TODO - Visualize Price Distribution"
   ]
  },
  {
   "cell_type": "code",
   "execution_count": 7,
   "metadata": {},
   "outputs": [],
   "source": [
    "#TODO - Visualize Price Distribution"
   ]
  },
  {
   "cell_type": "code",
   "execution_count": 8,
   "metadata": {},
   "outputs": [],
   "source": [
    "#TODO - Visualize Price Distribution"
   ]
  },
  {
   "cell_type": "code",
   "execution_count": 9,
   "metadata": {
    "scrolled": false
   },
   "outputs": [],
   "source": [
    "#TODO - Visualize Price Distribution"
   ]
  },
  {
   "cell_type": "code",
   "execution_count": 10,
   "metadata": {
    "code_folding": []
   },
   "outputs": [],
   "source": [
    "#TODO - Visualize Price distribution"
   ]
  },
  {
   "cell_type": "code",
   "execution_count": 11,
   "metadata": {},
   "outputs": [],
   "source": [
    "#TODO - Visualize Price Distribution"
   ]
  },
  {
   "cell_type": "markdown",
   "metadata": {},
   "source": [
    "**Q4**. Let's try to get a better understanding of price variation by visualizing geographically our data:\n",
    "- Visualize the listings categorized as \"Entire Home/apt\" on a map.\n",
    "\n",
    "> 🔦 **Hint**: No need for complex functions, `sns.scatterplot` should work perfectly!\n",
    "\n",
    "- Visualize this same map with varying color depending on the price\n",
    "- Make sure the column `neighbourhood_cleansed` is cleaned by observing the data points with varying color depending on the neighbourhood"
   ]
  },
  {
   "cell_type": "code",
   "execution_count": 12,
   "metadata": {
    "code_folding": []
   },
   "outputs": [],
   "source": [
    "#TODO - Geo Visualization"
   ]
  },
  {
   "cell_type": "code",
   "execution_count": 13,
   "metadata": {
    "code_folding": [],
    "scrolled": false
   },
   "outputs": [],
   "source": [
    "#TODO - Geo Visualization"
   ]
  },
  {
   "cell_type": "code",
   "execution_count": 14,
   "metadata": {},
   "outputs": [],
   "source": [
    "#TODO - Geo Visualization"
   ]
  },
  {
   "cell_type": "markdown",
   "metadata": {},
   "source": [
    "**Q5**. Compute **median price depending on the neighbourhood**. Which districts appear the most and the less expensive?\n",
    "\n",
    "Draw a nice visualization of these prices discrepancies (differences)."
   ]
  },
  {
   "cell_type": "code",
   "execution_count": 15,
   "metadata": {
    "code_folding": []
   },
   "outputs": [],
   "source": [
    "#TODO - Price per district"
   ]
  },
  {
   "cell_type": "code",
   "execution_count": 16,
   "metadata": {},
   "outputs": [],
   "source": [
    "#TODO - Price per district"
   ]
  },
  {
   "cell_type": "code",
   "execution_count": 17,
   "metadata": {},
   "outputs": [],
   "source": [
    "#TODO - Price per district"
   ]
  },
  {
   "cell_type": "code",
   "execution_count": 18,
   "metadata": {},
   "outputs": [],
   "source": [
    "#TODO - Price per district"
   ]
  },
  {
   "cell_type": "markdown",
   "metadata": {},
   "source": [
    "**Q6**. Play with the dataset and draw nice and impactful visualizations!"
   ]
  },
  {
   "cell_type": "code",
   "execution_count": 19,
   "metadata": {
    "code_folding": []
   },
   "outputs": [],
   "source": [
    "#TODO - More dataviz!"
   ]
  },
  {
   "cell_type": "code",
   "execution_count": null,
   "metadata": {},
   "outputs": [],
   "source": []
  }
 ],
 "metadata": {
  "kernelspec": {
   "display_name": "Python 3",
   "language": "python",
   "name": "python3"
  },
  "language_info": {
   "codemirror_mode": {
    "name": "ipython",
    "version": 3
   },
   "file_extension": ".py",
   "mimetype": "text/x-python",
   "name": "python",
   "nbconvert_exporter": "python",
   "pygments_lexer": "ipython3",
   "version": "3.7.3"
  }
 },
 "nbformat": 4,
 "nbformat_minor": 2
}
