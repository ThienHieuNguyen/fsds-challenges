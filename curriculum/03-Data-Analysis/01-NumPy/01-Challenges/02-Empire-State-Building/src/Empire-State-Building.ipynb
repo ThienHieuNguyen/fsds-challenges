{
 "cells": [
  {
   "cell_type": "markdown",
   "metadata": {},
   "source": [
    "# Challenge - Going up the Empire State Building\n",
    "\n",
    "![](https://images.unsplash.com/photo-1528449995200-88f6f5734325?ixlib=rb-1.2.1&ixid=eyJhcHBfaWQiOjEyMDd9&auto=format&fit=crop&w=1053&q=80)"
   ]
  },
  {
   "cell_type": "markdown",
   "metadata": {},
   "source": [
    "## Guidelines\n",
    "\n",
    "Simulate a random walk 500x in which you start at floor 0 of the Empire State Building and in which you throw a dice 100x to determine what you will do :\n",
    "- If the dice gives 1 or 2, go down 1 floor\n",
    "- If the dice gives 3, 4 or 5, go up 1 floor\n",
    "- If the dice gives 6, throw again and go up the number of floors that you throw\n",
    "\n",
    "Add clumsiness : a chance of 0.1% that you will fall and will have to start all over again at floor 0.\n",
    "\n",
    "**Suggestions** :\n",
    "- Define functions for : \n",
    "    - rolling the dice\n",
    "    - being clumsy\n",
    "    - moving floors\n",
    "    - doing one walk up the ESB\n",
    "    - doing n walks up the ESB\n",
    "- Use numpy arrays to keep track of success in each of the 500 walks\n",
    "- Use a **seed** of 42 in order to have reproductible results (check out the function `np.random.seed`)\n",
    "\n",
    "Please calculate :\n",
    "- The mean floor you will reach on your 500 walks after throwing the dice 100x\n",
    "- The probability of reaching at leats floor 60\n",
    "- The probability of reaching the top floor during the game (the Empire State Building has 102 floors)."
   ]
  }
 ],
 "metadata": {
  "kernelspec": {
   "display_name": "Python 3",
   "language": "python",
   "name": "python3"
  },
  "language_info": {
   "codemirror_mode": {
    "name": "ipython",
    "version": 3
   },
   "file_extension": ".py",
   "mimetype": "text/x-python",
   "name": "python",
   "nbconvert_exporter": "python",
   "pygments_lexer": "ipython3",
   "version": "3.7.6"
  }
 },
 "nbformat": 4,
 "nbformat_minor": 4
}
