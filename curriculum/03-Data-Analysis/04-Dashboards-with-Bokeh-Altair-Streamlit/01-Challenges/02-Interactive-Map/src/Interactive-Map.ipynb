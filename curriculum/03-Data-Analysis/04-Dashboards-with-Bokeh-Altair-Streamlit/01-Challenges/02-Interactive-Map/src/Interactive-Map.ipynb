{
 "cells": [
  {
   "cell_type": "markdown",
   "metadata": {},
   "source": [
    "# Challenge - Interactive map with Bokeh"
   ]
  },
  {
   "cell_type": "markdown",
   "metadata": {},
   "source": [
    "![](https://images.unsplash.com/photo-1584931423298-c576fda54bd2?ixlib=rb-1.2.1&ixid=eyJhcHBfaWQiOjEyMDd9&auto=format&fit=crop&w=1050&q=80)"
   ]
  },
  {
   "cell_type": "markdown",
   "metadata": {},
   "source": [
    "You are now a bit more familiar with Altair. It is time to explore Bokeh for interactive map visualization. Our aim will be to plot the city and coordinates of the cases in Senegal.\n",
    "\n",
    "We will work with the same dataset as in the previous challenge, from https://raw.githubusercontent.com/maelfabien/COVID-19-Senegal/master/COVID_Senegal.csv."
   ]
  },
  {
   "cell_type": "code",
   "execution_count": 16,
   "metadata": {
    "ExecuteTime": {
     "end_time": "2020-04-18T15:22:08.980552Z",
     "start_time": "2020-04-18T15:22:08.975457Z"
    }
   },
   "outputs": [],
   "source": [
    "# We made the imports for you\n",
    "import pandas as pd\n",
    "import numpy as np\n",
    "import matplotlib.pyplot as plt\n",
    "\n",
    "import geopandas as gpd\n",
    "from shapely import wkt\n",
    "from bokeh.io import output_notebook, show, output_file\n",
    "from bokeh.plotting import figure\n",
    "from bokeh.models import GeoJSONDataSource, ColumnDataSource\n",
    "import json\n",
    "from bokeh.models import HoverTool"
   ]
  },
  {
   "cell_type": "code",
   "execution_count": 1,
   "metadata": {
    "ExecuteTime": {
     "end_time": "2020-04-18T15:42:25.760168Z",
     "start_time": "2020-04-18T15:42:25.757135Z"
    }
   },
   "outputs": [],
   "source": [
    "# TODO : load data"
   ]
  },
  {
   "cell_type": "markdown",
   "metadata": {},
   "source": [
    "**Q1**: Compute the number of positive cases per city in Senegal"
   ]
  },
  {
   "cell_type": "code",
   "execution_count": null,
   "metadata": {},
   "outputs": [],
   "source": []
  },
  {
   "cell_type": "markdown",
   "metadata": {},
   "source": [
    "**Q2**: Try to enrich this information with Latitude and Longitude using the file `city_coordinates.csv`."
   ]
  },
  {
   "cell_type": "code",
   "execution_count": null,
   "metadata": {},
   "outputs": [],
   "source": []
  },
  {
   "cell_type": "markdown",
   "metadata": {},
   "source": [
    "**Q3**: Using Geopandas (and the files provided), we will now load an interactive map of Senegal. The code is provided for you for this part."
   ]
  },
  {
   "cell_type": "markdown",
   "metadata": {},
   "source": [
    "> 📚 GeoPandas is an open source project to make working with geospatial data in python easier. GeoPandas extends the datatypes used by pandas to allow spatial operations on geometric types. Geometric operations are performed by shapely. Geopandas further depends on fiona for file access and descartes and matplotlib for plotting."
   ]
  },
  {
   "cell_type": "code",
   "execution_count": 22,
   "metadata": {
    "ExecuteTime": {
     "end_time": "2020-04-18T15:22:18.882275Z",
     "start_time": "2020-04-18T15:22:18.777767Z"
    }
   },
   "outputs": [],
   "source": [
    "shapefile = 'input/ne_110m_admin_0_countries.shp'\n",
    "gdf = gpd.read_file(shapefile)[['ADMIN', 'ADM0_A3', 'geometry']]\n",
    "gdf.columns = ['country', 'country_code', 'geometry']\n",
    "gdf = gdf[gdf['country'] == \"Senegal\" ]"
   ]
  },
  {
   "cell_type": "markdown",
   "metadata": {},
   "source": [
    "You can then print the polygon corresponding to the shape of the country."
   ]
  },
  {
   "cell_type": "code",
   "execution_count": 23,
   "metadata": {
    "ExecuteTime": {
     "end_time": "2020-04-18T15:22:21.150765Z",
     "start_time": "2020-04-18T15:22:21.140397Z"
    }
   },
   "outputs": [
    {
     "data": {
      "image/svg+xml": [
       "<svg xmlns=\"http://www.w3.org/2000/svg\" xmlns:xlink=\"http://www.w3.org/1999/xlink\" width=\"100.0\" height=\"100.0\" viewBox=\"-17.871328432679146 12.085804209842571 6.6497150390891075 4.758745190448725\" preserveAspectRatio=\"xMinYMin meet\"><g transform=\"matrix(1,0,0,-1,0,28.930353610133867)\"><path fill-rule=\"evenodd\" fill=\"#66cc99\" stroke=\"#555555\" stroke-width=\"0.13299430078178215\" opacity=\"0.6\" d=\"M -16.71372880702347,13.594958604379855 L -17.126106736712615,14.373515733289224 L -17.62504269049066,14.729540513564073 L -17.18517289882223,14.919477240452862 L -16.700706346085923,15.621527411354108 L -16.463098110407884,16.13503611903846 L -16.12069007004193,16.455662543193384 L -15.623666144258692,16.369337063049812 L -15.135737270558819,16.587282416240782 L -14.577347581428981,16.59826365810281 L -14.099521450242179,16.304302273010492 L -13.435737677453062,16.03938304286619 L -12.830658331747516,15.303691514542948 L -12.170750291380301,14.616834214735505 L -12.12488745772126,13.994727484589788 L -11.927716030311615,13.422075100147396 L -11.55339779300543,13.141213690641067 L -11.467899135778524,12.754518947800975 L -11.51394283695059,12.442987575729418 L -11.658300950557932,12.386582749882836 L -12.203564825885634,12.465647691289405 L -12.27859900557344,12.354440008997287 L -12.499050665730564,12.332089952031057 L -13.217818162478238,12.575873521367967 L -13.700476040084325,12.586182969610194 L -15.54847693527401,12.628170070847347 L -15.816574266004254,12.515567124883347 L -16.147716844130585,12.547761542201187 L -16.677451951554573,12.384851589401052 L -16.841524624081273,13.15139394780256 L -15.931295945692211,13.130284125211332 L -15.691000535534995,13.270353094938457 L -15.511812506562933,13.278569647672867 L -15.141163295949468,13.509511623585238 L -14.712197231494628,13.298206691943777 L -14.277701788784555,13.280585028532244 L -13.844963344772408,13.505041612192002 L -14.046992356817482,13.79406789800045 L -14.376713833055788,13.625680243377374 L -14.687030808968487,13.630356960499784 L -15.08173539881382,13.876491807505985 L -15.39877031092446,13.86036876063092 L -15.624596320039942,13.62358734786956 L -16.71372880702347,13.594958604379855 z\" /></g></svg>"
      ],
      "text/plain": [
       "<shapely.geometry.polygon.Polygon at 0x111858910>"
      ]
     },
     "execution_count": 23,
     "metadata": {},
     "output_type": "execute_result"
    }
   ],
   "source": [
    "gdf['geometry'][51]"
   ]
  },
  {
   "cell_type": "markdown",
   "metadata": {},
   "source": [
    "We then create a JSON grid out of the coordinates and format it for Bokeh."
   ]
  },
  {
   "cell_type": "code",
   "execution_count": 10,
   "metadata": {
    "ExecuteTime": {
     "end_time": "2020-04-18T15:20:19.892285Z",
     "start_time": "2020-04-18T15:20:19.881362Z"
    }
   },
   "outputs": [],
   "source": [
    "grid_crs=gdf.crs\n",
    "gdf_json = json.loads(gdf.to_json())\n",
    "grid = json.dumps(gdf_json)\n",
    "geosource = GeoJSONDataSource(geojson = grid)"
   ]
  },
  {
   "cell_type": "markdown",
   "metadata": {},
   "source": [
    "**Q4**: Using Bokeh, plot the map of Senegal. You will need to use p.patches with geosource being the source. Make sure to render the chart in the notebook."
   ]
  },
  {
   "cell_type": "code",
   "execution_count": null,
   "metadata": {},
   "outputs": [],
   "source": []
  },
  {
   "cell_type": "markdown",
   "metadata": {},
   "source": [
    "**Q5**: Delete the background of the image and the axis."
   ]
  },
  {
   "cell_type": "code",
   "execution_count": null,
   "metadata": {},
   "outputs": [],
   "source": []
  },
  {
   "cell_type": "markdown",
   "metadata": {},
   "source": [
    "**Q6**: Now, add the information regarding the cases in Senegal contained in the dataset you previously built. Add the information of the number of cases on Hover using HoverTool. Plot the coordinates of the points using p.circle. Make the size of the dot reflect the number of positive cases."
   ]
  },
  {
   "cell_type": "code",
   "execution_count": null,
   "metadata": {},
   "outputs": [],
   "source": []
  }
 ],
 "metadata": {
  "kernelspec": {
   "display_name": "Python 3",
   "language": "python",
   "name": "python3"
  },
  "language_info": {
   "codemirror_mode": {
    "name": "ipython",
    "version": 3
   },
   "file_extension": ".py",
   "mimetype": "text/x-python",
   "name": "python",
   "nbconvert_exporter": "python",
   "pygments_lexer": "ipython3",
   "version": "3.7.6"
  },
  "toc": {
   "base_numbering": 1,
   "nav_menu": {},
   "number_sections": true,
   "sideBar": true,
   "skip_h1_title": false,
   "title_cell": "Table of Contents",
   "title_sidebar": "Contents",
   "toc_cell": false,
   "toc_position": {},
   "toc_section_display": true,
   "toc_window_display": false
  },
  "varInspector": {
   "cols": {
    "lenName": 16,
    "lenType": 16,
    "lenVar": 40
   },
   "kernels_config": {
    "python": {
     "delete_cmd_postfix": "",
     "delete_cmd_prefix": "del ",
     "library": "var_list.py",
     "varRefreshCmd": "print(var_dic_list())"
    },
    "r": {
     "delete_cmd_postfix": ") ",
     "delete_cmd_prefix": "rm(",
     "library": "var_list.r",
     "varRefreshCmd": "cat(var_dic_list()) "
    }
   },
   "types_to_exclude": [
    "module",
    "function",
    "builtin_function_or_method",
    "instance",
    "_Feature"
   ],
   "window_display": false
  }
 },
 "nbformat": 4,
 "nbformat_minor": 2
}
