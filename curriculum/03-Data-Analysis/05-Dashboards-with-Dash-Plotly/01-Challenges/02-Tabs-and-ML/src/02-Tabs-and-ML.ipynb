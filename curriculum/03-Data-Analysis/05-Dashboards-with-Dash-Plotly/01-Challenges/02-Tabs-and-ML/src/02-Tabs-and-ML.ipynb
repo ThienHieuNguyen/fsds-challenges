{
 "cells": [
  {
   "cell_type": "markdown",
   "metadata": {},
   "source": [
    "# Challenge - Adding tabs and a ML section"
   ]
  },
  {
   "cell_type": "markdown",
   "metadata": {},
   "source": [
    "![](https://images.unsplash.com/photo-1568719284247-70e91bb55586?ixlib=rb-1.2.1&auto=format&fit=crop&w=1050&q=80)\n"
   ]
  },
  {
   "cell_type": "markdown",
   "metadata": {},
   "source": [
    "In this exercise, you will be asked to improve your application, add tabs, core components and the Machine Learning part, in order to make it look like this:"
   ]
  },
  {
   "cell_type": "code",
   "execution_count": 3,
   "metadata": {
    "ExecuteTime": {
     "end_time": "2020-04-18T17:17:24.145358Z",
     "start_time": "2020-04-18T17:17:24.138036Z"
    }
   },
   "outputs": [
    {
     "data": {
      "text/html": [
       "<video width=\"950\" height=\"600\" controls>\n",
       "  <source src=\"ml.mp4\" type=\"video/mp4\">\n",
       "</video>\n"
      ],
      "text/plain": [
       "<IPython.core.display.HTML object>"
      ]
     },
     "metadata": {},
     "output_type": "display_data"
    }
   ],
   "source": [
    "%%HTML\n",
    "<video width=\"950\" height=\"600\" controls>\n",
    "  <source src=\"../ml.mp4\" type=\"video/mp4\">\n",
    "</video>"
   ]
  },
  {
   "cell_type": "markdown",
   "metadata": {},
   "source": [
    "As you can see, we added a new section with Model Prediction tab. Don't worry about the Machine Learning part, the code is given and straightforward. We are however here rather interested in showing the capabilities of Dash regarding ML and Data Exploration in just a few lines of code."
   ]
  },
  {
   "cell_type": "markdown",
   "metadata": {},
   "source": [
    "**Q1**: Add a tab structure in your previous application template. If you have not finished the previous part, you may re-use the application template provided in the folder. However, try to use your own application and if you are stuck, refer to the template which contains additional information."
   ]
  },
  {
   "cell_type": "markdown",
   "metadata": {},
   "source": [
    "You will want to use:\n",
    "    \n",
    "```python\n",
    "dcc.Tabs([\n",
    "    dcc.Tab(label=\"Tab1\", children=[]),\n",
    "    dcc.Tab(label=\"Tab2\", children=[])\n",
    "])\n",
    "```"
   ]
  },
  {
   "cell_type": "markdown",
   "metadata": {},
   "source": [
    "Now that you have 2 tabs, we will spend some time adding content in the second tab for our ML model prediction. The user should be able to choose which columns he wants to use to make the predictions on the type of species. Then, he should be able to say which part of the dataset he wants to use as a test set. The model accuracy will be automatically computed on the side, and a plot will finally display the probability of each point belonging to all of the 3 classes on a 3D plane."
   ]
  },
  {
   "cell_type": "markdown",
   "metadata": {},
   "source": [
    "**Q2**: In the video above, we let the user choose which column to predict. In our version, we will focus on predicting the column species_id. The user should be able to select the columns to use to make this prediction. Split the page in 2, and on the left, use a multi dropdown with the name of the columns that can be used."
   ]
  },
  {
   "cell_type": "markdown",
   "metadata": {},
   "source": [
    "Remember that to split the space in 2, you can use:"
   ]
  },
  {
   "cell_type": "code",
   "execution_count": null,
   "metadata": {},
   "outputs": [],
   "source": [
    "html.Div([\n",
    "    html.Div(children=[\n",
    "\n",
    "        dcc....\n",
    "\n",
    "     ], className=\"six columns\"),\n",
    "\n",
    "    html.Div(children=[\n",
    "        \n",
    "        dcc....\n",
    "        \n",
    "    ], className=\"six columns\")\n",
    "     \n",
    "], className=\"row\")"
   ]
  },
  {
   "cell_type": "markdown",
   "metadata": {},
   "source": [
    "The first element should contain a dropdown menu with all columns to possibly use:"
   ]
  },
  {
   "cell_type": "markdown",
   "metadata": {},
   "source": [
    "Follow this template to add the dropdown:"
   ]
  },
  {
   "cell_type": "code",
   "execution_count": null,
   "metadata": {},
   "outputs": [],
   "source": [
    "dcc.Dropdown(\n",
    "    id='demo-dropdown1',\n",
    "    options=[\n",
    "        {'label': 'species_id', 'value': 'species_id'},\n",
    "        {'label': 'sepal_length', 'value': 'sepal_length'},\n",
    "        ...\n",
    "    ],\n",
    "    value=['sepal_length', 'sepal_width', 'petal_length', 'petal_width'],\n",
    "    multi=True\n",
    "),"
   ]
  },
  {
   "cell_type": "markdown",
   "metadata": {},
   "source": [
    "**Q3**: You will now add a slider to allow the user to select the size of the test set. Remerber that your slider should have the following format:"
   ]
  },
  {
   "cell_type": "code",
   "execution_count": null,
   "metadata": {},
   "outputs": [],
   "source": [
    "dcc.Slider(\n",
    "    id='my_slider',\n",
    "    min=0.1,\n",
    "    ...\n",
    "    marks={\n",
    "        0.10: '0.1',\n",
    "        ...\n",
    "    },\n",
    ")"
   ]
  },
  {
   "cell_type": "markdown",
   "metadata": {},
   "source": [
    "**Q4**: On the right side of the page, we will create a DIV with an id that we will use to display the output of the model training. Add the following content, and close the HTML DIV tags you opened at the beginning (with the class=\"row\")."
   ]
  },
  {
   "cell_type": "code",
   "execution_count": null,
   "metadata": {},
   "outputs": [],
   "source": [
    "html.Div(children=[\n",
    "    html.H3('SVM Model training'),\n",
    "], className=\"six columns\", id='output-container-button')"
   ]
  },
  {
   "cell_type": "markdown",
   "metadata": {},
   "source": [
    "**Q5**: At that point, all the layout of the app is finished. You should be able to run your application (but the inputs are not used by any application). Make sure that your application runs, and debug the eventual typos."
   ]
  },
  {
   "cell_type": "markdown",
   "metadata": {},
   "source": [
    "**Q6**: All we miss is now to use the values of the dcc core components (columns to use and test size) as an input for a ML model. The code of the ML model is given. The basic steps are to split the data into a train part and a test part, train a model on the training data, and test it on the test data. We then measure how accurate this model is, and display a small graph showing if the classes are separable."
   ]
  },
  {
   "cell_type": "markdown",
   "metadata": {},
   "source": [
    "Add the following code at the bottom of your application, before the `if __name__ == '__main__':` statement. Make sure that the Ids you picked are the same, or replace them by what you chose."
   ]
  },
  {
   "cell_type": "code",
   "execution_count": null,
   "metadata": {},
   "outputs": [],
   "source": [
    "@app.callback(\n",
    "    dash.dependencies.Output('output-container-button', 'children'),\n",
    "    [dash.dependencies.Input('demo-dropdown1', 'value'), dash.dependencies.Input('test-size', 'value')])\n",
    "def train_model(value2, value3):\n",
    "\n",
    "    if len(value2) < 1:\n",
    "        return \"Please select at least 1 column\"\n",
    "    else:\n",
    "        X_train, X_test, y_train, y_test = train_test_split(df[value2], df['species'], test_size=value3)\n",
    "\n",
    "        clf = SVC(gamma='auto', probability=True)\n",
    "        clf.fit(X_train, y_train)\n",
    "        pred = clf.predict(X_test)\n",
    "        acc = np.round(accuracy_score(pred, y_test),3)\n",
    "\n",
    "        fig5 = px.scatter_3d(x=clf.predict_proba(X_test)[:,0], y=clf.predict_proba(X_test)[:,1], z=clf.predict_proba(X_test)[:,2], color=clf.predict(X_test))\n",
    "\n",
    "        return html.Div([\n",
    "            html.Br(),\n",
    "            html.H6('Model accuracy %s'%str(acc)),\n",
    "            html.Br(), \n",
    "            dcc.Graph(id='g5', figure=fig5)\n",
    "        ])\n"
   ]
  },
  {
   "cell_type": "markdown",
   "metadata": {},
   "source": [
    "**Q7**: Run the application, you should now be done! It's time to take this application online with Heroku."
   ]
  }
 ],
 "metadata": {
  "kernelspec": {
   "display_name": "Python 3",
   "language": "python",
   "name": "python3"
  },
  "language_info": {
   "codemirror_mode": {
    "name": "ipython",
    "version": 3
   },
   "file_extension": ".py",
   "mimetype": "text/x-python",
   "name": "python",
   "nbconvert_exporter": "python",
   "pygments_lexer": "ipython3",
   "version": "3.7.6"
  },
  "toc": {
   "base_numbering": 1,
   "nav_menu": {},
   "number_sections": true,
   "sideBar": true,
   "skip_h1_title": false,
   "title_cell": "Table of Contents",
   "title_sidebar": "Contents",
   "toc_cell": false,
   "toc_position": {},
   "toc_section_display": true,
   "toc_window_display": false
  },
  "varInspector": {
   "cols": {
    "lenName": 16,
    "lenType": 16,
    "lenVar": 40
   },
   "kernels_config": {
    "python": {
     "delete_cmd_postfix": "",
     "delete_cmd_prefix": "del ",
     "library": "var_list.py",
     "varRefreshCmd": "print(var_dic_list())"
    },
    "r": {
     "delete_cmd_postfix": ") ",
     "delete_cmd_prefix": "rm(",
     "library": "var_list.r",
     "varRefreshCmd": "cat(var_dic_list()) "
    }
   },
   "types_to_exclude": [
    "module",
    "function",
    "builtin_function_or_method",
    "instance",
    "_Feature"
   ],
   "window_display": false
  }
 },
 "nbformat": 4,
 "nbformat_minor": 2
}
