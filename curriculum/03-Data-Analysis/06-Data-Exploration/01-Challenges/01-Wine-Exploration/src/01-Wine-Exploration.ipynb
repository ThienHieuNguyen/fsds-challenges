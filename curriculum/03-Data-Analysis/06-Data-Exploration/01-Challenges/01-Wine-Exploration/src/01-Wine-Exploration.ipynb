{
 "cells": [
  {
   "cell_type": "markdown",
   "metadata": {},
   "source": [
    "# 01 - Wine Exploration 🍷"
   ]
  },
  {
   "cell_type": "markdown",
   "metadata": {},
   "source": [
    "---"
   ]
  },
  {
   "cell_type": "markdown",
   "metadata": {},
   "source": [
    "<img src=\"http://www.artangosteakhouse.com/wp-content/uploads/2017/11/maja-petric-8287.jpg\" />\n",
    "\n",
    "Photo by [Maja Petric](https://unsplash.com/@majapetric)"
   ]
  },
  {
   "cell_type": "markdown",
   "metadata": {},
   "source": [
    "---"
   ]
  },
  {
   "cell_type": "markdown",
   "metadata": {},
   "source": [
    "Now it is time for you to build your own data analysis!\n",
    "\n",
    "Today, you will download an open source dataset, run a deep Exploratory Data Analysis (EDA), and present your results to the classroom.\n",
    "\n",
    "The dataset to be analyzed is the following one: [Wine Reviews data](https://www.kaggle.com/zynicide/wine-reviews/data)\n",
    "\n",
    "> Wine Reviews Dataset contains **130k wine reviews** with variety, location, winery, price, and description 🍷\n",
    ">\n",
    "> If you wonder how this data was collected, it was **scraped** from [Wine Enthusiast](https://www.winemag.com/?s=&drink_type=wine).\n",
    "\n",
    "The goal of this challenge is to **explore the data**, to **run a structured analysis**, and to **present your results in a clear and concise** way.\n",
    "\n",
    "Be structured, yet creative!"
   ]
  }
 ],
 "metadata": {
  "kernelspec": {
   "display_name": "Python 3",
   "language": "python",
   "name": "python3"
  },
  "language_info": {
   "codemirror_mode": {
    "name": "ipython",
    "version": 3
   },
   "file_extension": ".py",
   "mimetype": "text/x-python",
   "name": "python",
   "nbconvert_exporter": "python",
   "pygments_lexer": "ipython3",
   "version": "3.7.3"
  }
 },
 "nbformat": 4,
 "nbformat_minor": 2
}
