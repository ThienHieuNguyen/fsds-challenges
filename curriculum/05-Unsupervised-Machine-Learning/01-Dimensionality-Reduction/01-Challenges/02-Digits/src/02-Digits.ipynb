{
 "cells": [
  {
   "cell_type": "markdown",
   "metadata": {},
   "source": [
    "# 02 - Digits ✍️"
   ]
  },
  {
   "cell_type": "markdown",
   "metadata": {},
   "source": [
    "As you already know from now, MNIST Digits dataset is one the most used kind of dataset for hands-on data science training.\n",
    "\n",
    "Back in the 90's, some great algorithms were designed on this kind dataset, like the famous LeNet-5.\n",
    "\n",
    "Today we will use it to do PCA, t-SNE as well as classification!"
   ]
  },
  {
   "cell_type": "markdown",
   "metadata": {},
   "source": [
    "---"
   ]
  },
  {
   "cell_type": "markdown",
   "metadata": {},
   "source": [
    "![](https://images.unsplash.com/photo-1471107340929-a87cd0f5b5f3?ixlib=rb-1.2.1&ixid=eyJhcHBfaWQiOjEyMDd9&w=1000&q=80)"
   ]
  },
  {
   "cell_type": "markdown",
   "metadata": {},
   "source": [
    "**Q1.** Add here all the libraries needed along the exercise."
   ]
  },
  {
   "cell_type": "code",
   "execution_count": 1,
   "metadata": {},
   "outputs": [],
   "source": [
    "# TODO: Import the needed libraries"
   ]
  },
  {
   "cell_type": "markdown",
   "metadata": {},
   "source": [
    "**Q2.** Now we will load the MNIST dataset. You can find it in scikit learn, using `datasets.load_digits()`\n",
    "\n",
    "Just as we did for the Iris dataset, split the features part in ``X`` and the target part in `y`."
   ]
  },
  {
   "cell_type": "code",
   "execution_count": 2,
   "metadata": {},
   "outputs": [],
   "source": [
    "# TODO: load the MNIST dataset and split it into X and y"
   ]
  },
  {
   "cell_type": "markdown",
   "metadata": {},
   "source": [
    "**Q3.** Play with the dataset a bit: what is the shape of the data? How many samples are there? What kind of data is this? What is the range of the feature values? How many classes are there?"
   ]
  },
  {
   "cell_type": "code",
   "execution_count": 3,
   "metadata": {},
   "outputs": [],
   "source": [
    "# TODO: play with the data and discover what is inside"
   ]
  },
  {
   "cell_type": "markdown",
   "metadata": {},
   "source": [
    "**Q4.** Display a random digit image "
   ]
  },
  {
   "cell_type": "code",
   "execution_count": 4,
   "metadata": {},
   "outputs": [],
   "source": [
    "# TODO: reshape a sample and use imshow to display the digit image"
   ]
  },
  {
   "cell_type": "markdown",
   "metadata": {},
   "source": [
    "**Q5.** Let's reduce the dimensionality of our data by applying PCA to our data.\n",
    "\n",
    "What is the initial size of the data?\n",
    "\n",
    "Apply PCA to project your data on 2 dimensions and then display the result.\n",
    "\n",
    "> ⚠️**Warning**: Make sure to scale your features before applying PCA"
   ]
  },
  {
   "cell_type": "code",
   "execution_count": 5,
   "metadata": {},
   "outputs": [],
   "source": [
    "# TODO: Perform PCA on the data with 2 retained dimensions (after mean normalization)"
   ]
  },
  {
   "cell_type": "markdown",
   "metadata": {},
   "source": [
    "**Q6.** Display the results, with different colors per label, on a 2D plot."
   ]
  },
  {
   "cell_type": "code",
   "execution_count": 6,
   "metadata": {},
   "outputs": [],
   "source": [
    "# TODO: Display the results of the PCA"
   ]
  },
  {
   "cell_type": "markdown",
   "metadata": {},
   "source": [
    "**Q6.** Quite a pretty plot, right? Inteprete it. Especially, what do you think about the 2 new dimensions created?\n",
    "\n",
    "Compute the retained variance."
   ]
  },
  {
   "cell_type": "code",
   "execution_count": 7,
   "metadata": {},
   "outputs": [],
   "source": [
    "# TODO: Interpretation and retained variance"
   ]
  },
  {
   "cell_type": "markdown",
   "metadata": {},
   "source": [
    "**Q7.** What do you think of the retained variance?\n",
    "\n",
    "How many dimensions would you choose in order that they explain at least 99% of the variance?"
   ]
  },
  {
   "cell_type": "code",
   "execution_count": 8,
   "metadata": {},
   "outputs": [],
   "source": [
    "# TODO: Get the number of dimensions to keep to have at least 90% of retained variance"
   ]
  },
  {
   "cell_type": "markdown",
   "metadata": {},
   "source": [
    "**Q8.** Let's now try to use the output of our PCA in order to solve a classification problem.\n",
    "\n",
    "Before doing anything, think carefully about what algorithms you know, and which one can be used to do such a classification task. Then how would you proceed? What steps do you need to perform?\n",
    "\n",
    "We will perform the same classification on the raw data (meaning without PCA) and on the reduced data after PCA (with 99% variance retained) - and compare results.\n",
    "\n",
    "For both raw and PCA data, split your data into 80% for training and 20% for testing. "
   ]
  },
  {
   "cell_type": "code",
   "execution_count": 9,
   "metadata": {},
   "outputs": [],
   "source": [
    "# TODO: Split the data into train and test"
   ]
  },
  {
   "cell_type": "markdown",
   "metadata": {},
   "source": [
    "**Q9.** Train a simple logistic regression separately on both data (with and without PCA).\n",
    "\n",
    "Evaluate your results and compare predictions accuracy.\n",
    "\n",
    "> 🔦 **Hint**: you can use the option `multiclass='multinomial'` of the scikit-learn logistic regression for this multiclass problem, have a look at the documentation"
   ]
  },
  {
   "cell_type": "code",
   "execution_count": 10,
   "metadata": {},
   "outputs": [],
   "source": [
    "# TODO: Perform classification using a logistic regression on data with and without PCA"
   ]
  },
  {
   "cell_type": "code",
   "execution_count": 11,
   "metadata": {},
   "outputs": [],
   "source": [
    "# TODO: Compute and compare accuracies"
   ]
  },
  {
   "cell_type": "markdown",
   "metadata": {},
   "source": [
    "**Q10.** Do you observe an improvement using the PCA?\n",
    "\n",
    "Let's try to do the same thing with t-SNE.\n",
    "\n",
    "First, perform t-SNE on the original data with only 2 kept dimensions, and display the result in a plot."
   ]
  },
  {
   "cell_type": "code",
   "execution_count": 12,
   "metadata": {},
   "outputs": [],
   "source": [
    "# TODO: Perform t-SNE on the original data and visualize the result "
   ]
  },
  {
   "cell_type": "markdown",
   "metadata": {},
   "source": [
    "**Q11.** Impressive results, right? Now train a Logisitic Regression to perform classification using a on this data and compare with previous reuslts. \n",
    "\n",
    "You know how to do, right? Scale the data, split it (train: 80%, test: 20%), and perform the classifications with same parameters as before. Finally show the accuracy."
   ]
  },
  {
   "cell_type": "code",
   "execution_count": 13,
   "metadata": {},
   "outputs": [],
   "source": [
    "# TODO: Perform the classification on the t-SNE data and display the accuracy"
   ]
  },
  {
   "cell_type": "markdown",
   "metadata": {},
   "source": [
    "**Q12**. What do you think of the accuracy? Do you have any ideas in order to improve your score? Try it!"
   ]
  },
  {
   "cell_type": "code",
   "execution_count": null,
   "metadata": {},
   "outputs": [],
   "source": []
  }
 ],
 "metadata": {
  "kernelspec": {
   "display_name": "Python 3",
   "language": "python",
   "name": "python3"
  },
  "language_info": {
   "codemirror_mode": {
    "name": "ipython",
    "version": 3
   },
   "file_extension": ".py",
   "mimetype": "text/x-python",
   "name": "python",
   "nbconvert_exporter": "python",
   "pygments_lexer": "ipython3",
   "version": "3.7.3"
  }
 },
 "nbformat": 4,
 "nbformat_minor": 2
}
