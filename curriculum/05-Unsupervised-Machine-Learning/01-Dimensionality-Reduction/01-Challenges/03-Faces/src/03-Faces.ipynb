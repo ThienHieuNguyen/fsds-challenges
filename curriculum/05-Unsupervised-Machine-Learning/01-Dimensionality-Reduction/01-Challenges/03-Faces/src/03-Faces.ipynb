{
 "cells": [
  {
   "cell_type": "markdown",
   "metadata": {},
   "source": [
    "# 03 - Faces 🎭"
   ]
  },
  {
   "cell_type": "markdown",
   "metadata": {},
   "source": [
    "Now we will play with images of faces.\n",
    "\n",
    "We will use PCA in order to generate a basis of faces, on which all faces can be generated (hypothetically)."
   ]
  },
  {
   "cell_type": "markdown",
   "metadata": {},
   "source": [
    "---"
   ]
  },
  {
   "cell_type": "markdown",
   "metadata": {},
   "source": [
    "![](https://cdn.shopify.com/s/files/1/2113/8949/products/GOT123_14x11_MAIN_SITE.jpg?v=1541202119)"
   ]
  },
  {
   "cell_type": "markdown",
   "metadata": {},
   "source": [
    "---"
   ]
  },
  {
   "cell_type": "markdown",
   "metadata": {},
   "source": [
    "**Q1.** As usual, begin with the libraries imports, be aware that we will use PCA decomposition, scikit-learn datasets, and plots among other things."
   ]
  },
  {
   "cell_type": "code",
   "execution_count": 1,
   "metadata": {},
   "outputs": [],
   "source": [
    "# TODO: Import the libraries"
   ]
  },
  {
   "cell_type": "markdown",
   "metadata": {},
   "source": [
    "**Q2.** We will now load the dataset. You can retrieve it using `fetch_olivetti_faces` from scikit-learn datasets. Keep only the data object."
   ]
  },
  {
   "cell_type": "code",
   "execution_count": 2,
   "metadata": {},
   "outputs": [],
   "source": [
    "# TODO: Load the dataset in sklearn.datasets using fetch_olivetti_faces"
   ]
  },
  {
   "cell_type": "markdown",
   "metadata": {},
   "source": [
    "**Q3.** Explore quickly the data: what is the shape of the images? how many pixels per side? what range of values? etc.\n",
    "\n",
    "Display some images, as we did for the digits."
   ]
  },
  {
   "cell_type": "code",
   "execution_count": 3,
   "metadata": {},
   "outputs": [],
   "source": [
    "# TODO: display an image (you change display several images if you want!) using imshow and reshape"
   ]
  },
  {
   "cell_type": "markdown",
   "metadata": {},
   "source": [
    "**Q4.** Compute the mean image of the dataset and display it.\n",
    "\n",
    "> 🔦 **Hint**: this image represents \"average person\" 🙂"
   ]
  },
  {
   "cell_type": "code",
   "execution_count": 4,
   "metadata": {},
   "outputs": [],
   "source": [
    "# TODO: compute the mean image and display it"
   ]
  },
  {
   "cell_type": "markdown",
   "metadata": {},
   "source": [
    "**Q5.** Substract this mean from the original dataset, and call our this dataset `centered_faces`."
   ]
  },
  {
   "cell_type": "code",
   "execution_count": 5,
   "metadata": {},
   "outputs": [],
   "source": [
    "# TODO: substract the mean face from every face in the original data "
   ]
  },
  {
   "cell_type": "markdown",
   "metadata": {},
   "source": [
    "**Q6.** Apply a PCA algorithm, keeping \"only\" 256 dimensions. Compute the retained variance."
   ]
  },
  {
   "cell_type": "code",
   "execution_count": 6,
   "metadata": {},
   "outputs": [],
   "source": [
    "# TODO: Apply a PCA with 256 dimensions kept"
   ]
  },
  {
   "cell_type": "markdown",
   "metadata": {},
   "source": [
    "**Q7.** Let's  now have a look at what is called **eigen faces**.\n",
    "\n",
    "Similarly to egein vectors, these are the primary faces on which all the faces were computed.\n",
    "\n",
    "To do that, we will display the so called eigen vectors computed during the PCA. We can get them thanks to the variable *components_* of the PCA object you used.\n",
    "\n",
    "First, check the shape of this *components_* of your PCA object, to understand what it is and how to use it. Then display some random eigen faces."
   ]
  },
  {
   "cell_type": "code",
   "execution_count": 7,
   "metadata": {},
   "outputs": [],
   "source": [
    "# TODO: display a eigen face from components_"
   ]
  },
  {
   "cell_type": "markdown",
   "metadata": {},
   "source": [
    "Feel free to display images for several of the 256 eigen faces!\n",
    "\n",
    "Based on those 256 faces, you can rebuild any face, interesting, right?"
   ]
  }
 ],
 "metadata": {
  "kernelspec": {
   "display_name": "Python 3",
   "language": "python",
   "name": "python3"
  },
  "language_info": {
   "codemirror_mode": {
    "name": "ipython",
    "version": 3
   },
   "file_extension": ".py",
   "mimetype": "text/x-python",
   "name": "python",
   "nbconvert_exporter": "python",
   "pygments_lexer": "ipython3",
   "version": "3.7.3"
  }
 },
 "nbformat": 4,
 "nbformat_minor": 2
}
