{
 "cells": [
  {
   "cell_type": "markdown",
   "metadata": {},
   "source": [
    "# Challenge - Karate club\n",
    "\n",
    "### Who belongs to the club? Hidden link and label propagation\n",
    "\n",
    "![](https://images.unsplash.com/photo-1529630218527-7df22fc2d4ee?ixlib=rb-1.2.1&ixid=eyJhcHBfaWQiOjEyMDd9&auto=format&fit=crop&w=1052&q=80)"
   ]
  },
  {
   "cell_type": "markdown",
   "metadata": {},
   "source": [
    "In this new challenge, you will dive deeper in the Karate Club network, make predictions for hidden links and node labels. \n",
    "\n",
    "Network datasets are typically quite hard to find as open-source, since most of these data are private by nature. However, if you happen to use an API for a social network or work with company data, you will encouter graphs."
   ]
  },
  {
   "cell_type": "code",
   "execution_count": null,
   "metadata": {
    "ExecuteTime": {
     "end_time": "2020-05-20T14:34:12.713926Z",
     "start_time": "2020-05-20T14:34:11.796025Z"
    }
   },
   "outputs": [],
   "source": [
    "import networkx as nx"
   ]
  },
  {
   "cell_type": "code",
   "execution_count": null,
   "metadata": {
    "ExecuteTime": {
     "end_time": "2020-05-20T14:34:12.742891Z",
     "start_time": "2020-05-20T14:34:12.732684Z"
    }
   },
   "outputs": [],
   "source": [
    "G = nx.karate_club_graph()"
   ]
  },
  {
   "cell_type": "markdown",
   "metadata": {},
   "source": [
    "This will load a networkX object that can be read later on."
   ]
  },
  {
   "cell_type": "markdown",
   "metadata": {},
   "source": [
    "**Q1**: How many nodes are in the graph?"
   ]
  },
  {
   "cell_type": "markdown",
   "metadata": {},
   "source": [
    "**Q2**: How many edges are in the graph?"
   ]
  },
  {
   "cell_type": "markdown",
   "metadata": {},
   "source": [
    "**Q3**: Plot the network "
   ]
  },
  {
   "cell_type": "markdown",
   "metadata": {},
   "source": [
    "**Q4**: Plot the network, and display the information contained in the \"club\" attribute of each node. You might have to create a list of labels in integer format rather than strings."
   ]
  },
  {
   "cell_type": "markdown",
   "metadata": {},
   "source": [
    "**Q5**: We saw previously 2 methods for missing link prediction:\n",
    "- either using metric-based link prediction methods, as implemented on NetworkX\n",
    "- or computing the similarity between the embeddings of 2 nodes\n",
    "\n",
    "We will compare both methods on the dataset. First, we take out 20% of the edges in train:"
   ]
  },
  {
   "cell_type": "code",
   "execution_count": null,
   "metadata": {
    "ExecuteTime": {
     "end_time": "2020-05-20T14:22:57.908044Z",
     "start_time": "2020-05-20T14:22:57.900521Z"
    }
   },
   "outputs": [],
   "source": [
    "edge_subset = random.sample(G.edges(), int(0.5 * G.number_of_edges()))\n",
    "\n",
    "G_train = G.copy()\n",
    "G_train.remove_edges_from(edge_subset)"
   ]
  },
  {
   "cell_type": "markdown",
   "metadata": {},
   "source": [
    "Then, on G_train, compute the list of nodes to link according to the Jaccard Coefficient."
   ]
  },
  {
   "cell_type": "code",
   "execution_count": null,
   "metadata": {
    "ExecuteTime": {
     "end_time": "2020-05-20T14:36:16.078835Z",
     "start_time": "2020-05-20T14:36:16.075605Z"
    }
   },
   "outputs": [],
   "source": [
    "# TODO : use jaccard coef to compute the list of nodes to link"
   ]
  },
  {
   "cell_type": "markdown",
   "metadata": {},
   "source": [
    "**Q6**: Compute the edge accuracy between your prediction and the edges you removed."
   ]
  },
  {
   "cell_type": "code",
   "execution_count": null,
   "metadata": {
    "ExecuteTime": {
     "end_time": "2020-05-20T14:36:31.271405Z",
     "start_time": "2020-05-20T14:36:31.268097Z"
    }
   },
   "outputs": [],
   "source": [
    "# TODO : compute edge accuracy"
   ]
  },
  {
   "cell_type": "markdown",
   "metadata": {},
   "source": [
    "**Q7**: We will now compare the output with the Node2Vec approach. Fit the Node2Vec model on the graph"
   ]
  },
  {
   "cell_type": "code",
   "execution_count": null,
   "metadata": {
    "ExecuteTime": {
     "end_time": "2020-05-20T14:36:47.175970Z",
     "start_time": "2020-05-20T14:36:47.172739Z"
    },
    "scrolled": true
   },
   "outputs": [],
   "source": [
    "# TODO : Node2Vec"
   ]
  },
  {
   "cell_type": "markdown",
   "metadata": {},
   "source": [
    "**Q8**: Plot the heatmap corresponding to the cosine distance between the nodes."
   ]
  },
  {
   "cell_type": "code",
   "execution_count": null,
   "metadata": {
    "ExecuteTime": {
     "end_time": "2020-05-20T14:36:54.437869Z",
     "start_time": "2020-05-20T14:36:54.434568Z"
    }
   },
   "outputs": [],
   "source": [
    "# TODO : Heatmap"
   ]
  },
  {
   "cell_type": "markdown",
   "metadata": {},
   "source": [
    "**Q9**: The code below helps identify in the matrix the N largest similarity scores, and returns them in a list. This will give us the predictions we make."
   ]
  },
  {
   "cell_type": "code",
   "execution_count": null,
   "metadata": {
    "ExecuteTime": {
     "end_time": "2020-05-20T14:25:20.718730Z",
     "start_time": "2020-05-20T14:25:20.680316Z"
    }
   },
   "outputs": [],
   "source": [
    "import bottleneck as bn\n",
    "\n",
    "def top_n_indexes(arr, n):\n",
    "    idx = bn.argpartition(arr, arr.size-n, axis=None)[-n:]\n",
    "    width = arr.shape[1]\n",
    "    return [divmod(i, width) for i in idx]\n",
    "\n",
    "idx = top_n_indexes(mat, len(G.edges())-len(G_train.edges()))\n",
    "idx.sort(key = lambda tup: tup[0])"
   ]
  },
  {
   "cell_type": "code",
   "execution_count": null,
   "metadata": {
    "ExecuteTime": {
     "end_time": "2020-05-20T14:25:21.967289Z",
     "start_time": "2020-05-20T14:25:21.959129Z"
    },
    "scrolled": true
   },
   "outputs": [],
   "source": [
    "idx"
   ]
  },
  {
   "cell_type": "markdown",
   "metadata": {},
   "source": [
    "Compute the accuracy score using the prediction made by Node2Vec:"
   ]
  },
  {
   "cell_type": "code",
   "execution_count": null,
   "metadata": {
    "ExecuteTime": {
     "end_time": "2020-05-20T14:37:16.140633Z",
     "start_time": "2020-05-20T14:37:16.135620Z"
    }
   },
   "outputs": [],
   "source": [
    "# TODO : accuracy"
   ]
  },
  {
   "cell_type": "markdown",
   "metadata": {},
   "source": [
    "**Q10**: So far, we focused on hidden link prediction. Let us now try to make label propagation. Use NetworkX to compute the label of each node (use as a starting point the 2 points given). Compute the accuracy score."
   ]
  },
  {
   "cell_type": "code",
   "execution_count": null,
   "metadata": {
    "ExecuteTime": {
     "end_time": "2020-05-20T14:25:36.060687Z",
     "start_time": "2020-05-20T14:25:36.057228Z"
    }
   },
   "outputs": [],
   "source": [
    "G.nodes[0]['label'] = 0\n",
    "G.nodes[32]['label'] = 1"
   ]
  },
  {
   "cell_type": "code",
   "execution_count": null,
   "metadata": {
    "ExecuteTime": {
     "end_time": "2020-05-20T14:38:27.449505Z",
     "start_time": "2020-05-20T14:38:27.445980Z"
    }
   },
   "outputs": [],
   "source": [
    "# TODO : label propagation"
   ]
  },
  {
   "cell_type": "code",
   "execution_count": null,
   "metadata": {
    "ExecuteTime": {
     "end_time": "2020-05-20T14:38:46.246461Z",
     "start_time": "2020-05-20T14:38:46.242842Z"
    }
   },
   "outputs": [],
   "source": [
    "# TODO : compute accuracy of label propagation"
   ]
  },
  {
   "cell_type": "markdown",
   "metadata": {},
   "source": [
    "**Q11**: Draw the 2 networks side by side."
   ]
  },
  {
   "cell_type": "code",
   "execution_count": null,
   "metadata": {
    "ExecuteTime": {
     "end_time": "2020-05-20T14:39:05.839212Z",
     "start_time": "2020-05-20T14:39:05.834956Z"
    }
   },
   "outputs": [],
   "source": [
    "# TODO : draw the network with the ground truth labels and the predicted labels"
   ]
  },
  {
   "cell_type": "markdown",
   "metadata": {},
   "source": [
    "As you can see, label propagation on this network seems to be an easier task than link prediction on this network."
   ]
  }
 ],
 "metadata": {
  "kernelspec": {
   "display_name": "Python 3",
   "language": "python",
   "name": "python3"
  },
  "language_info": {
   "codemirror_mode": {
    "name": "ipython",
    "version": 3
   },
   "file_extension": ".py",
   "mimetype": "text/x-python",
   "name": "python",
   "nbconvert_exporter": "python",
   "pygments_lexer": "ipython3",
   "version": "3.7.6"
  },
  "toc": {
   "base_numbering": 1,
   "nav_menu": {},
   "number_sections": false,
   "sideBar": true,
   "skip_h1_title": false,
   "title_cell": "Table of Contents",
   "title_sidebar": "Contents",
   "toc_cell": false,
   "toc_position": {},
   "toc_section_display": true,
   "toc_window_display": false
  },
  "varInspector": {
   "cols": {
    "lenName": 16,
    "lenType": 16,
    "lenVar": 40
   },
   "kernels_config": {
    "python": {
     "delete_cmd_postfix": "",
     "delete_cmd_prefix": "del ",
     "library": "var_list.py",
     "varRefreshCmd": "print(var_dic_list())"
    },
    "r": {
     "delete_cmd_postfix": ") ",
     "delete_cmd_prefix": "rm(",
     "library": "var_list.r",
     "varRefreshCmd": "cat(var_dic_list()) "
    }
   },
   "types_to_exclude": [
    "module",
    "function",
    "builtin_function_or_method",
    "instance",
    "_Feature"
   ],
   "window_display": false
  }
 },
 "nbformat": 4,
 "nbformat_minor": 2
}
