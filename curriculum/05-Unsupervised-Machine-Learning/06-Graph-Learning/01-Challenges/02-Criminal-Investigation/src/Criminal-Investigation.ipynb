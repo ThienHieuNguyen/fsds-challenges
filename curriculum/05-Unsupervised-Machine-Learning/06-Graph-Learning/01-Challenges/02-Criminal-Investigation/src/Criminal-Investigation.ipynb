{
 "cells": [
  {
   "cell_type": "markdown",
   "metadata": {},
   "source": [
    "# Challenge - Criminal investigation\n",
    "\n",
    "![](https://images.unsplash.com/photo-1560575193-c2c9e886aefe?ixlib=rb-1.2.1&ixid=eyJhcHBfaWQiOjEyMDd9&auto=format&fit=crop&w=1050&q=80)"
   ]
  },
  {
   "cell_type": "markdown",
   "metadata": {},
   "source": [
    "In this challenge, you will be dealing with a dataset automatically extracted from Crime Scene Investigation (CSI) television series (Les Experts in French). The dataset contains information about the time at which each speaker said each word.\n",
    "\n",
    "- The column \"conv\" corresponds to the id of the conversation that took place. \n",
    "- Hence, your aim will be to build a network that shows the conversations between characters, and analyse it later on."
   ]
  },
  {
   "cell_type": "code",
   "execution_count": null,
   "metadata": {},
   "outputs": [],
   "source": [
    "# TODO : imports"
   ]
  },
  {
   "cell_type": "code",
   "execution_count": null,
   "metadata": {},
   "outputs": [],
   "source": [
    "# TODO : load data"
   ]
  },
  {
   "cell_type": "code",
   "execution_count": null,
   "metadata": {},
   "outputs": [],
   "source": [
    "# TODO : select the columns we want to work with"
   ]
  },
  {
   "cell_type": "markdown",
   "metadata": {},
   "source": [
    "**Q1**: Initialize a graph and add nodes and edges between the nodes. You might want to use `itertools.combinations`"
   ]
  },
  {
   "cell_type": "code",
   "execution_count": null,
   "metadata": {},
   "outputs": [],
   "source": [
    "# TODO : Create a graph representing the conversations, where each node is a person \n",
    "# and each edge is a coneversation between 2 or more people"
   ]
  },
  {
   "cell_type": "markdown",
   "metadata": {},
   "source": [
    "**Q2**: Plot the graph and display labels"
   ]
  },
  {
   "cell_type": "code",
   "execution_count": 3,
   "metadata": {
    "ExecuteTime": {
     "end_time": "2020-05-20T13:53:04.919036Z",
     "start_time": "2020-05-20T13:53:04.916237Z"
    },
    "scrolled": false
   },
   "outputs": [],
   "source": [
    "# TODO : plot graph with labels"
   ]
  },
  {
   "cell_type": "markdown",
   "metadata": {},
   "source": [
    "**Q3**: Plot the degree distribution. What do you notice? What can you expect?"
   ]
  },
  {
   "cell_type": "code",
   "execution_count": 4,
   "metadata": {
    "ExecuteTime": {
     "end_time": "2020-05-20T13:53:16.500534Z",
     "start_time": "2020-05-20T13:53:16.497053Z"
    }
   },
   "outputs": [],
   "source": [
    "# TODO : plot degree distribution"
   ]
  },
  {
   "cell_type": "markdown",
   "metadata": {},
   "source": [
    "**Q4**: Describe the node degrees with the mean, median, min and max, as well as the number of nodes"
   ]
  },
  {
   "cell_type": "code",
   "execution_count": 5,
   "metadata": {
    "ExecuteTime": {
     "end_time": "2020-05-20T13:53:27.967579Z",
     "start_time": "2020-05-20T13:53:27.963976Z"
    }
   },
   "outputs": [],
   "source": [
    "# TODO : node degree analysis"
   ]
  },
  {
   "cell_type": "markdown",
   "metadata": {},
   "source": [
    "**Q5**: Run a community detection algorithm, and plot the network again, with the colors reflecting the community"
   ]
  },
  {
   "cell_type": "code",
   "execution_count": 6,
   "metadata": {
    "ExecuteTime": {
     "end_time": "2020-05-20T13:53:41.632281Z",
     "start_time": "2020-05-20T13:53:41.629605Z"
    }
   },
   "outputs": [],
   "source": [
    "# TODO : community detection algorithm"
   ]
  },
  {
   "cell_type": "code",
   "execution_count": 7,
   "metadata": {
    "ExecuteTime": {
     "end_time": "2020-05-20T13:54:02.224791Z",
     "start_time": "2020-05-20T13:54:02.222022Z"
    },
    "scrolled": true
   },
   "outputs": [],
   "source": [
    "# TODO : plot the graph with colors for each community predicted"
   ]
  },
  {
   "cell_type": "markdown",
   "metadata": {},
   "source": [
    "**Q6**: Identify the central characters and plot them. Who is the most central character?"
   ]
  },
  {
   "cell_type": "code",
   "execution_count": 10,
   "metadata": {
    "ExecuteTime": {
     "end_time": "2020-05-20T13:54:34.931158Z",
     "start_time": "2020-05-20T13:54:34.926094Z"
    },
    "scrolled": true
   },
   "outputs": [],
   "source": [
    "# TODO : identity the central characters"
   ]
  },
  {
   "cell_type": "code",
   "execution_count": 9,
   "metadata": {
    "ExecuteTime": {
     "end_time": "2020-05-20T13:54:28.943277Z",
     "start_time": "2020-05-20T13:54:28.937764Z"
    }
   },
   "outputs": [],
   "source": [
    "# TODO : Plot the central characters"
   ]
  },
  {
   "cell_type": "markdown",
   "metadata": {},
   "source": [
    "**Q7**: The roles of the characters in the series are actually given in the columns \"killer_gold\", \"suspect_gold\" and \"other_gold\". In the next section, we will extract the list of killers and suspects and your aim will be to run a label propagation algorithm to compute how accurate the output is."
   ]
  },
  {
   "cell_type": "code",
   "execution_count": 11,
   "metadata": {
    "ExecuteTime": {
     "end_time": "2020-05-20T13:56:38.671088Z",
     "start_time": "2020-05-20T13:56:38.657651Z"
    }
   },
   "outputs": [
    {
     "data": {
      "text/plain": [
       "['oliver']"
      ]
     },
     "execution_count": 11,
     "metadata": {},
     "output_type": "execute_result"
    }
   ],
   "source": [
    "small = df[['speaker', 'word', 'suspect_gold']]\n",
    "is_suspect = small[small['suspect_gold'] == 'Y']\n",
    "list_suspect = list(set(is_suspect['word']) & set(is_suspect['speaker']))\n",
    "list_suspect"
   ]
  },
  {
   "cell_type": "code",
   "execution_count": 12,
   "metadata": {
    "ExecuteTime": {
     "end_time": "2020-05-20T13:56:38.942226Z",
     "start_time": "2020-05-20T13:56:38.930103Z"
    }
   },
   "outputs": [
    {
     "data": {
      "text/plain": [
       "['tinacollins', 'jesseoverton']"
      ]
     },
     "execution_count": 12,
     "metadata": {},
     "output_type": "execute_result"
    }
   ],
   "source": [
    "small2 = df[['speaker', 'word', 'killer_gold']]\n",
    "is_killer = small2[small2['killer_gold'] == 'Y']\n",
    "list_killers = list(set(is_killer['word']) & set(is_killer['speaker']))\n",
    "list_killers"
   ]
  },
  {
   "cell_type": "code",
   "execution_count": null,
   "metadata": {
    "ExecuteTime": {
     "end_time": "2020-05-20T13:56:44.991068Z",
     "start_time": "2020-05-20T13:56:44.753858Z"
    }
   },
   "outputs": [],
   "source": [
    "# Other\n",
    "G.nodes['warrick']['label'] = 0\n",
    "# Suspect\n",
    "G.nodes['oliver']['label'] = 1\n",
    "# Killer\n",
    "G.nodes['tinacollins']['label'] = 2"
   ]
  },
  {
   "cell_type": "markdown",
   "metadata": {},
   "source": [
    "Using the code available above, compute the ground truth roles of the speakers, and the node classification you can derive from the labels provided above. Plot both the ground truth and the predicted roles on the graphs."
   ]
  },
  {
   "cell_type": "code",
   "execution_count": 14,
   "metadata": {
    "ExecuteTime": {
     "end_time": "2020-05-20T13:43:55.384580Z",
     "start_time": "2020-05-20T13:43:55.376109Z"
    }
   },
   "outputs": [],
   "source": [
    "# TODO : compute the ground truth roles of the speakers (= what they actually are according to the dataset)"
   ]
  },
  {
   "cell_type": "code",
   "execution_count": 14,
   "metadata": {
    "ExecuteTime": {
     "end_time": "2020-05-20T14:07:06.633779Z",
     "start_time": "2020-05-20T14:07:06.631240Z"
    }
   },
   "outputs": [],
   "source": [
    "# TODO : plot the ground truth roles of the speakers on the graph"
   ]
  },
  {
   "cell_type": "code",
   "execution_count": 15,
   "metadata": {
    "ExecuteTime": {
     "end_time": "2020-05-20T14:08:02.666615Z",
     "start_time": "2020-05-20T14:08:02.661743Z"
    }
   },
   "outputs": [],
   "source": [
    "# TODO : node classification from the labels provided above"
   ]
  },
  {
   "cell_type": "code",
   "execution_count": 16,
   "metadata": {
    "ExecuteTime": {
     "end_time": "2020-05-20T14:08:09.617527Z",
     "start_time": "2020-05-20T14:08:09.614716Z"
    }
   },
   "outputs": [],
   "source": [
    "# TODO : plot the results of the node classification"
   ]
  },
  {
   "cell_type": "markdown",
   "metadata": {},
   "source": [
    "**Q8**: Compute the accuracy of the predicted labels"
   ]
  },
  {
   "cell_type": "code",
   "execution_count": 17,
   "metadata": {
    "ExecuteTime": {
     "end_time": "2020-05-20T14:08:18.001235Z",
     "start_time": "2020-05-20T14:08:17.998109Z"
    }
   },
   "outputs": [],
   "source": [
    "# TODO : accuracy"
   ]
  },
  {
   "cell_type": "markdown",
   "metadata": {},
   "source": [
    "**Q9**: In criminal investigations, predicting links is important. Compute the 5 pair of nodes to connect according to the metric of your choice."
   ]
  },
  {
   "cell_type": "code",
   "execution_count": null,
   "metadata": {},
   "outputs": [],
   "source": [
    "# TODO : Compute the 5 pair of nodes to connect according to the metric of your choice"
   ]
  },
  {
   "cell_type": "markdown",
   "metadata": {},
   "source": [
    "**Q10**: Let us now tackle the part of the work on which investigators focus: which nodes should be removed? Identify the 3 nodes with the highest centrality, remove them and plot both networks."
   ]
  },
  {
   "cell_type": "code",
   "execution_count": 18,
   "metadata": {
    "ExecuteTime": {
     "end_time": "2020-05-20T14:11:18.811936Z",
     "start_time": "2020-05-20T14:11:18.806431Z"
    }
   },
   "outputs": [],
   "source": [
    "# TODO : Identify the 3 nodes with the highest centrality"
   ]
  },
  {
   "cell_type": "code",
   "execution_count": 19,
   "metadata": {
    "ExecuteTime": {
     "end_time": "2020-05-20T14:11:25.850802Z",
     "start_time": "2020-05-20T14:11:25.847452Z"
    }
   },
   "outputs": [],
   "source": [
    "# TODO : remove the top 3 nodes"
   ]
  },
  {
   "cell_type": "code",
   "execution_count": 20,
   "metadata": {
    "ExecuteTime": {
     "end_time": "2020-05-20T14:11:40.360587Z",
     "start_time": "2020-05-20T14:11:40.355048Z"
    }
   },
   "outputs": [],
   "source": [
    "# TODO : plot the graph before and after node removal"
   ]
  },
  {
   "cell_type": "markdown",
   "metadata": {},
   "source": [
    "**Q11**: Compute the percentage of edges still present in the network (Edge accuracy)"
   ]
  },
  {
   "cell_type": "code",
   "execution_count": 21,
   "metadata": {
    "ExecuteTime": {
     "end_time": "2020-05-20T14:11:58.095613Z",
     "start_time": "2020-05-20T14:11:58.092944Z"
    }
   },
   "outputs": [],
   "source": [
    "# TODO : compute the % of edges still present in the network"
   ]
  }
 ],
 "metadata": {
  "kernelspec": {
   "display_name": "Python 3",
   "language": "python",
   "name": "python3"
  },
  "language_info": {
   "codemirror_mode": {
    "name": "ipython",
    "version": 3
   },
   "file_extension": ".py",
   "mimetype": "text/x-python",
   "name": "python",
   "nbconvert_exporter": "python",
   "pygments_lexer": "ipython3",
   "version": "3.7.6"
  },
  "toc": {
   "base_numbering": 1,
   "nav_menu": {},
   "number_sections": false,
   "sideBar": true,
   "skip_h1_title": false,
   "title_cell": "Table of Contents",
   "title_sidebar": "Contents",
   "toc_cell": false,
   "toc_position": {},
   "toc_section_display": true,
   "toc_window_display": false
  },
  "varInspector": {
   "cols": {
    "lenName": 16,
    "lenType": 16,
    "lenVar": 40
   },
   "kernels_config": {
    "python": {
     "delete_cmd_postfix": "",
     "delete_cmd_prefix": "del ",
     "library": "var_list.py",
     "varRefreshCmd": "print(var_dic_list())"
    },
    "r": {
     "delete_cmd_postfix": ") ",
     "delete_cmd_prefix": "rm(",
     "library": "var_list.r",
     "varRefreshCmd": "cat(var_dic_list()) "
    }
   },
   "types_to_exclude": [
    "module",
    "function",
    "builtin_function_or_method",
    "instance",
    "_Feature"
   ],
   "window_display": false
  }
 },
 "nbformat": 4,
 "nbformat_minor": 2
}
