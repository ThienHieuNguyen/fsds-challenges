{
 "cells": [
  {
   "cell_type": "markdown",
   "metadata": {},
   "source": [
    "# Challenge - Silhouette"
   ]
  },
  {
   "cell_type": "markdown",
   "metadata": {},
   "source": [
    "![](https://images.unsplash.com/photo-1511367461989-f85a21fda167?ixlib=rb-1.2.1&ixid=eyJhcHBfaWQiOjEyMDd9&auto=format&fit=crop&w=1189&q=80)"
   ]
  },
  {
   "cell_type": "markdown",
   "metadata": {},
   "source": [
    "We will code by ourself the silhouette_sample function."
   ]
  },
  {
   "cell_type": "markdown",
   "metadata": {},
   "source": [
    "### 1. Random data generation"
   ]
  },
  {
   "cell_type": "markdown",
   "metadata": {},
   "source": [
    "The following snippet of code will let you generate some random data."
   ]
  },
  {
   "cell_type": "code",
   "execution_count": null,
   "metadata": {},
   "outputs": [],
   "source": [
    "# Random data generation\n",
    "x = np.transpose(np.random.rand(2, 1000) * 20 - 8)"
   ]
  },
  {
   "cell_type": "markdown",
   "metadata": {},
   "source": [
    "Plot the dataset"
   ]
  },
  {
   "cell_type": "code",
   "execution_count": 1,
   "metadata": {
    "ExecuteTime": {
     "end_time": "2020-07-27T16:16:06.615525Z",
     "start_time": "2020-07-27T16:16:06.611357Z"
    }
   },
   "outputs": [],
   "source": [
    "# TODO : plot data"
   ]
  },
  {
   "cell_type": "markdown",
   "metadata": {},
   "source": [
    "### 2. Clustering\n",
    "- Use a `KMeans` algorithm to make clusters. Let's consider K = 4 clusters."
   ]
  },
  {
   "cell_type": "code",
   "execution_count": null,
   "metadata": {},
   "outputs": [],
   "source": [
    "# TODO : Apply KMeans algorithm"
   ]
  },
  {
   "cell_type": "code",
   "execution_count": 2,
   "metadata": {
    "ExecuteTime": {
     "end_time": "2020-07-27T16:16:24.996536Z",
     "start_time": "2020-07-27T16:16:24.992346Z"
    }
   },
   "outputs": [],
   "source": [
    "# TODO : Get the labels"
   ]
  },
  {
   "cell_type": "markdown",
   "metadata": {},
   "source": [
    "- Plot the clusters"
   ]
  },
  {
   "cell_type": "code",
   "execution_count": 3,
   "metadata": {
    "ExecuteTime": {
     "end_time": "2020-07-27T16:16:41.054607Z",
     "start_time": "2020-07-27T16:16:41.049219Z"
    }
   },
   "outputs": [],
   "source": [
    "# TODO : plot the data with different colors for the different clusters"
   ]
  },
  {
   "cell_type": "markdown",
   "metadata": {},
   "source": [
    "### 3. Silhouette"
   ]
  },
  {
   "cell_type": "markdown",
   "metadata": {},
   "source": [
    "##### Reminder\n",
    "\n",
    "The Silhouette Coefficient is calculated using the mean intra-cluster distance (a) and the mean nearest-cluster distance (b) for each sample.\n",
    "\n",
    "The Silhouette Coefficient for a sample is $(b - a) / max(a, b)$\n",
    "\n",
    "> https://scikit-learn.org/stable/modules/generated/sklearn.metrics.silhouette_samples.html"
   ]
  },
  {
   "cell_type": "markdown",
   "metadata": {},
   "source": [
    "##### 3.1 Useful fonctions from previous Challenge\n",
    "- the `compute_center` function implemented in th previous exercise will be necessary\n",
    "- the `dist` function implemented in th previous exercise will be necessary\n",
    "\n",
    "> (Just copy/paste them from the previous Challenge)"
   ]
  },
  {
   "cell_type": "code",
   "execution_count": null,
   "metadata": {},
   "outputs": [],
   "source": [
    "# TODO: implement the function compute_center(x)\n",
    "\n",
    "\n",
    "# TODO: implement the function dist(x, center)\n"
   ]
  },
  {
   "cell_type": "markdown",
   "metadata": {},
   "source": [
    "###### 3.2 Create the function `get_centers` that returns the cluster center coordinates without using the KMeans attribute.\n",
    "- args : `x` and `labels`\n",
    "\n",
    "- will return the cluster center cooridates"
   ]
  },
  {
   "cell_type": "code",
   "execution_count": 4,
   "metadata": {
    "ExecuteTime": {
     "end_time": "2020-07-27T16:17:57.210389Z",
     "start_time": "2020-07-27T16:17:57.205927Z"
    }
   },
   "outputs": [],
   "source": [
    "# TODOD : Create function get_centers\n"
   ]
  },
  {
   "cell_type": "markdown",
   "metadata": {},
   "source": [
    "###### 3.3 For a given dataset x, create the functions `cluster` and `nearest_cluster`.\n",
    "- args for `cluster`: `x`, `labels`, `i`\n",
    "\n",
    "- `cluster` will return the coordinates of the cluster of the i_th point of the dataset.\n",
    "\n",
    "- args for `nearest_cluster`: `x`, `labels`, `i`, `centers`\n",
    "\n",
    "- `nearest_cluster` the coordinates of the nearest cluster of the i_th point of the dataset."
   ]
  },
  {
   "cell_type": "code",
   "execution_count": null,
   "metadata": {},
   "outputs": [],
   "source": [
    "# TODO : Create function cluster\n"
   ]
  },
  {
   "cell_type": "code",
   "execution_count": 5,
   "metadata": {
    "ExecuteTime": {
     "end_time": "2020-07-27T16:18:22.780831Z",
     "start_time": "2020-07-27T16:18:22.776259Z"
    }
   },
   "outputs": [],
   "source": [
    "# TODO : Create function nearest_cluster\n"
   ]
  },
  {
   "cell_type": "markdown",
   "metadata": {},
   "source": [
    "###### 3.4 For a given point ($point=(x_1,x_2)$) , create the functions `a_coef` and `b_coef`:\n",
    "- args for `a_coef`: `cluster`, `point`\n",
    "\n",
    "- `a_coef` will return the *a* value\n",
    "\n",
    "- args for `b_coef`: `nearest_cluster`, `point`\n",
    "\n",
    "- `b_coef` will return the *b* value"
   ]
  },
  {
   "cell_type": "code",
   "execution_count": null,
   "metadata": {},
   "outputs": [],
   "source": [
    "# TODO : Create function a_coef\n"
   ]
  },
  {
   "cell_type": "code",
   "execution_count": 6,
   "metadata": {
    "ExecuteTime": {
     "end_time": "2020-07-27T16:18:46.663302Z",
     "start_time": "2020-07-27T16:18:46.658094Z"
    }
   },
   "outputs": [],
   "source": [
    "# TODO : Create function b_coef\n"
   ]
  },
  {
   "cell_type": "markdown",
   "metadata": {},
   "source": [
    "###### 3.5 Build the `silhouette_values` function:\n",
    "- arg : `x` and `labels`\n",
    "\n",
    "- will return an array of silhouette coefficients"
   ]
  },
  {
   "cell_type": "code",
   "execution_count": null,
   "metadata": {},
   "outputs": [],
   "source": [
    "# TODO : Build silhouette_values function\n"
   ]
  },
  {
   "cell_type": "markdown",
   "metadata": {},
   "source": [
    "###### 4.6 Get the silhouette values for the clustering you made in question 3 and plot it"
   ]
  },
  {
   "cell_type": "code",
   "execution_count": null,
   "metadata": {},
   "outputs": [],
   "source": [
    "# TODO : Use your silhouette function\n"
   ]
  },
  {
   "cell_type": "code",
   "execution_count": null,
   "metadata": {},
   "outputs": [],
   "source": [
    "# TODO : Plot the silhouette graph\n"
   ]
  }
 ],
 "metadata": {
  "kernelspec": {
   "display_name": "Python 3",
   "language": "python",
   "name": "python3"
  },
  "language_info": {
   "codemirror_mode": {
    "name": "ipython",
    "version": 3
   },
   "file_extension": ".py",
   "mimetype": "text/x-python",
   "name": "python",
   "nbconvert_exporter": "python",
   "pygments_lexer": "ipython3",
   "version": "3.7.6"
  },
  "toc": {
   "base_numbering": 1,
   "nav_menu": {},
   "number_sections": false,
   "sideBar": true,
   "skip_h1_title": false,
   "title_cell": "Table of Contents",
   "title_sidebar": "Contents",
   "toc_cell": false,
   "toc_position": {},
   "toc_section_display": true,
   "toc_window_display": false
  }
 },
 "nbformat": 4,
 "nbformat_minor": 4
}
