{
 "cells": [
  {
   "cell_type": "markdown",
   "metadata": {},
   "source": [
    "# 04 - K-Means Implementation"
   ]
  },
  {
   "cell_type": "markdown",
   "metadata": {},
   "source": [
    "Today we will code by ourself a K-Means clustering algorithm."
   ]
  },
  {
   "cell_type": "markdown",
   "metadata": {},
   "source": [
    "---"
   ]
  },
  {
   "cell_type": "markdown",
   "metadata": {},
   "source": [
    "![](https://www.staleystire.com/Portals/118/xBlog/uploads/2018/11/8/sam-loyd-1066267-unsplash.jpg)"
   ]
  },
  {
   "cell_type": "markdown",
   "metadata": {},
   "source": [
    "---"
   ]
  },
  {
   "cell_type": "markdown",
   "metadata": {},
   "source": [
    "We will begin by generating a sample data for testing purposes."
   ]
  },
  {
   "cell_type": "code",
   "execution_count": 2,
   "metadata": {
    "scrolled": false
   },
   "outputs": [
    {
     "data": {
      "text/plain": [
       "array([[ 2.97627008,  6.30378733,  4.05526752,  2.89766366,  0.47309599,\n",
       "         4.91788226,  0.75174423,  9.83546002, 11.27325521, -0.33116962,\n",
       "         7.83450076,  2.5778984 ,  3.36089122, 10.51193277, -6.57927884,\n",
       "        -6.25741401, -7.59563205,  8.65239691,  7.56313502,  9.40024296],\n",
       "       [11.57236684,  7.98317128,  1.22958725,  7.61058353, -5.63451148,\n",
       "         4.79842043, -5.13293425, 10.89337834,  2.43696644,  0.2932388 ,\n",
       "        -2.70888776,  7.48467379,  1.12300664,  3.36867898, -7.62420399,\n",
       "         4.35270994,  4.24191445,  4.33867994, 10.87496157,  5.63640598]])"
      ]
     },
     "execution_count": 2,
     "metadata": {},
     "output_type": "execute_result"
    }
   ],
   "source": [
    "import numpy as np\n",
    "np.random.seed(0)\n",
    "x = np.random.rand(2, 20)*20-8\n",
    "x"
   ]
  },
  {
   "cell_type": "markdown",
   "metadata": {},
   "source": [
    "### 1. Compute the center"
   ]
  },
  {
   "cell_type": "markdown",
   "metadata": {},
   "source": [
    "Let's start by implementing a function that compute the center of a cluster: the function `compute_center(x)` that returns a 1D numpy array.\n",
    "\n",
    "Here we assume that x is a 2D numpy array of shape (2, number of samples).\n",
    "\n",
    "So basically, given an array of points, you have to compute the gravity center of this array (the mean value). Then test the result."
   ]
  },
  {
   "cell_type": "code",
   "execution_count": 1,
   "metadata": {},
   "outputs": [],
   "source": [
    "# TODO: implement the function compute_center(x)"
   ]
  },
  {
   "cell_type": "markdown",
   "metadata": {},
   "source": [
    "### 2. Euclidian distance"
   ]
  },
  {
   "cell_type": "markdown",
   "metadata": {},
   "source": [
    "Let's now compute the distance between a cluster center and a bunch of points.\n",
    "Implement yourself the method `dist(x, center)` that returns the euclidian distance between x and the center.\n",
    "\n",
    "`x` is a 2D numpy arrays of shape *(2, number of samples)*."
   ]
  },
  {
   "cell_type": "code",
   "execution_count": 2,
   "metadata": {},
   "outputs": [],
   "source": [
    "# TODO: implement the function dist(x, center)"
   ]
  },
  {
   "cell_type": "markdown",
   "metadata": {},
   "source": [
    "### 3. Find closest center"
   ]
  },
  {
   "cell_type": "markdown",
   "metadata": {},
   "source": [
    "Code the function `find_closest(sample, centers)` that finds the closest center and returns its index.\n",
    "\n",
    "This functions takes as input a value `sample` of shape (2) for the coordinates, and `centers` of shape (2, K). \n",
    "\n",
    "It returns the index (between 0 and K-1) of the closest center."
   ]
  },
  {
   "cell_type": "code",
   "execution_count": 3,
   "metadata": {},
   "outputs": [],
   "source": [
    "# TODO: implement the function find_closest(x, centers)"
   ]
  },
  {
   "cell_type": "markdown",
   "metadata": {},
   "source": [
    "### 4. Initialization"
   ]
  },
  {
   "cell_type": "markdown",
   "metadata": {},
   "source": [
    "Now let's make the `initialization(K)` function. This function takes as input `K`: the number of clusters.\n",
    "\n",
    "It returns a 2D numpy array of shape (2, K): K centers of 2 values (the coordinates), between -10 and 10 for this exercise.\n",
    "\n",
    "> 🔦**Hint**: use the function *np.random.rand()* and multiply/add values to it in order to reach values between -10 and 10"
   ]
  },
  {
   "cell_type": "code",
   "execution_count": 4,
   "metadata": {},
   "outputs": [],
   "source": [
    "# TODO: implement initialization(K)"
   ]
  },
  {
   "cell_type": "markdown",
   "metadata": {},
   "source": [
    "### 5. Assignment"
   ]
  },
  {
   "cell_type": "markdown",
   "metadata": {},
   "source": [
    "Now let's make the `assigment(x, centers)` function!\n",
    "This function takes as input a 2D numpy array of values `x` (shape (2, number of samples)), and a 2D numpy array of centers `centers` (shape (2, K)). This function should return a 1D array of indices (shape (number of samples): for each `x` it returns the index of the closest center in `centers`."
   ]
  },
  {
   "cell_type": "code",
   "execution_count": 5,
   "metadata": {},
   "outputs": [],
   "source": [
    "# TODO: implement the method assignment(x, centers)"
   ]
  },
  {
   "cell_type": "markdown",
   "metadata": {},
   "source": [
    "### 6. Update"
   ]
  },
  {
   "cell_type": "markdown",
   "metadata": {},
   "source": [
    "Now we will implement the function `update(x, closest, K)`  that will update the centers' coordinate.\n",
    "\n",
    "This function takes as input the data `x` of shape (2, number of samples), the closest clusters of each sample in `closest` of shape (number of sample) and `K` the number of clusters.\n",
    "\n",
    "It will return new centers of shape (2, K).\n",
    "\n",
    "This function will use the function *compute_center*."
   ]
  },
  {
   "cell_type": "code",
   "execution_count": 6,
   "metadata": {},
   "outputs": [],
   "source": [
    "# TODO: implement the function update(x, closest)"
   ]
  },
  {
   "cell_type": "markdown",
   "metadata": {},
   "source": [
    "### 7. Final algorithm"
   ]
  },
  {
   "cell_type": "markdown",
   "metadata": {},
   "source": [
    "Finally let's make the complete algorithm! We will begin with an easier algorithm, just making one iteration. Meaning a function doing only initialization, assignment and then update.\n",
    "\n",
    "You will define a function called `kmeans_noiter(x, K)`, that reuses initialization, assignment and update functions implemented previously."
   ]
  },
  {
   "cell_type": "code",
   "execution_count": 7,
   "metadata": {},
   "outputs": [],
   "source": [
    "# TODO: implement the function kmeans_noiter(x, K)"
   ]
  },
  {
   "cell_type": "markdown",
   "metadata": {},
   "source": [
    "### 8. Iterations improvement"
   ]
  },
  {
   "cell_type": "markdown",
   "metadata": {},
   "source": [
    "Then to make it really good, we have to make a slight change. A loop has to be added around the assignment and update parts.\n",
    "\n",
    "In this loop you have to take the mean value of the difference between the old and the new centers. While the absolute value of this difference is above a small value, e.g. 0.01, keep looping.\n",
    "\n",
    "You will defined the function `kmeans(x, K)` doing so."
   ]
  },
  {
   "cell_type": "code",
   "execution_count": 8,
   "metadata": {},
   "outputs": [],
   "source": [
    "# TODO: implement the function kmeans(x, K)"
   ]
  },
  {
   "cell_type": "markdown",
   "metadata": {},
   "source": [
    "### 9. Visualization"
   ]
  },
  {
   "cell_type": "markdown",
   "metadata": {},
   "source": [
    "Now plot the clustered data, with three differents colors and clusters centers with stars."
   ]
  },
  {
   "cell_type": "code",
   "execution_count": 9,
   "metadata": {
    "scrolled": true
   },
   "outputs": [],
   "source": [
    "# TODO: plot a scatter plot of the data clusters and cluster centers"
   ]
  },
  {
   "cell_type": "code",
   "execution_count": null,
   "metadata": {},
   "outputs": [],
   "source": []
  }
 ],
 "metadata": {
  "kernelspec": {
   "display_name": "Python 3",
   "language": "python",
   "name": "python3"
  },
  "language_info": {
   "codemirror_mode": {
    "name": "ipython",
    "version": 3
   },
   "file_extension": ".py",
   "mimetype": "text/x-python",
   "name": "python",
   "nbconvert_exporter": "python",
   "pygments_lexer": "ipython3",
   "version": "3.7.3"
  }
 },
 "nbformat": 4,
 "nbformat_minor": 2
}
